{
 "cells": [
  {
   "cell_type": "code",
   "execution_count": 24,
   "metadata": {},
   "outputs": [],
   "source": [
    "import pandas as pd\n",
    "import numpy as np\n",
    "import pickle\n",
    "import csv"
   ]
  },
  {
   "cell_type": "code",
   "execution_count": 15,
   "metadata": {},
   "outputs": [],
   "source": [
    "# Got an error when trying to unpickle the dict pickle below made on AWS.\n",
    "# Solution source: https://github.com/pandas-dev/pandas/issues/16474#issuecomment-305566022 \n",
    "\n",
    "import sys\n",
    "# 1\n",
    "import pandas.core.indexes \n",
    "sys.modules['pandas.indexes'] = pandas.core.indexes"
   ]
  },
  {
   "cell_type": "code",
   "execution_count": 2,
   "metadata": {},
   "outputs": [],
   "source": [
    "pickles_path = \"../../../pickles/\""
   ]
  },
  {
   "cell_type": "code",
   "execution_count": 6,
   "metadata": {},
   "outputs": [],
   "source": [
    "cypher_path = \"../../../cypher_scripts/\""
   ]
  },
  {
   "cell_type": "markdown",
   "metadata": {},
   "source": [
    "### 1. Make edge files for graph viz"
   ]
  },
  {
   "cell_type": "markdown",
   "metadata": {},
   "source": [
    "#### LINK_TO edges"
   ]
  },
  {
   "cell_type": "code",
   "execution_count": 7,
   "metadata": {},
   "outputs": [
    {
     "name": "stdout",
     "output_type": "stream",
     "text": [
      "5467\n"
     ]
    },
    {
     "data": {
      "text/html": [
       "<div>\n",
       "<style scoped>\n",
       "    .dataframe tbody tr th:only-of-type {\n",
       "        vertical-align: middle;\n",
       "    }\n",
       "\n",
       "    .dataframe tbody tr th {\n",
       "        vertical-align: top;\n",
       "    }\n",
       "\n",
       "    .dataframe thead th {\n",
       "        text-align: right;\n",
       "    }\n",
       "</style>\n",
       "<table border=\"1\" class=\"dataframe\">\n",
       "  <thead>\n",
       "    <tr style=\"text-align: right;\">\n",
       "      <th></th>\n",
       "      <th>from_lc_id</th>\n",
       "      <th>to_lc_id</th>\n",
       "      <th>link_edges_count</th>\n",
       "      <th>link_traffic</th>\n",
       "    </tr>\n",
       "  </thead>\n",
       "  <tbody>\n",
       "    <tr>\n",
       "      <th>0</th>\n",
       "      <td>8</td>\n",
       "      <td>1</td>\n",
       "      <td>21717</td>\n",
       "      <td>1067594</td>\n",
       "    </tr>\n",
       "    <tr>\n",
       "      <th>1</th>\n",
       "      <td>3</td>\n",
       "      <td>1</td>\n",
       "      <td>62506</td>\n",
       "      <td>3543666</td>\n",
       "    </tr>\n",
       "    <tr>\n",
       "      <th>2</th>\n",
       "      <td>7</td>\n",
       "      <td>1</td>\n",
       "      <td>55577</td>\n",
       "      <td>3014753</td>\n",
       "    </tr>\n",
       "    <tr>\n",
       "      <th>3</th>\n",
       "      <td>7</td>\n",
       "      <td>2</td>\n",
       "      <td>51982</td>\n",
       "      <td>3602338</td>\n",
       "    </tr>\n",
       "    <tr>\n",
       "      <th>4</th>\n",
       "      <td>10</td>\n",
       "      <td>2</td>\n",
       "      <td>28916</td>\n",
       "      <td>2237781</td>\n",
       "    </tr>\n",
       "  </tbody>\n",
       "</table>\n",
       "</div>"
      ],
      "text/plain": [
       "   from_lc_id  to_lc_id  link_edges_count  link_traffic\n",
       "0           8         1             21717       1067594\n",
       "1           3         1             62506       3543666\n",
       "2           7         1             55577       3014753\n",
       "3           7         2             51982       3602338\n",
       "4          10         2             28916       2237781"
      ]
     },
     "execution_count": 7,
     "metadata": {},
     "output_type": "execute_result"
    }
   ],
   "source": [
    "inter_community_link_edges = pd.read_csv(cypher_path + \"inter_community_link_edges.out\")\n",
    "print(len(inter_community_link_edges))\n",
    "inter_community_link_edges.head()"
   ]
  },
  {
   "cell_type": "code",
   "execution_count": 108,
   "metadata": {},
   "outputs": [],
   "source": [
    "# write to csv\n",
    "inter_community_link_edges[[\"from_lc_id\", \"to_lc_id\", \"link_traffic\"]].to_csv(\"community_link_edges.csv\", \n",
    "                                                                                  index=False)"
   ]
  },
  {
   "cell_type": "code",
   "execution_count": 109,
   "metadata": {},
   "outputs": [
    {
     "name": "stdout",
     "output_type": "stream",
     "text": [
      "from_lc_id,to_lc_id,link_traffic\r\n",
      "8,1,1067594\r\n",
      "3,1,3543666\r\n",
      "7,1,3014753\r\n",
      "7,2,3602338\r\n",
      "10,2,2237781\r\n",
      "4,2,7302780\r\n",
      "5,4,9931781\r\n",
      "7,4,5441323\r\n",
      "1,4,1557671\r\n"
     ]
    }
   ],
   "source": [
    "!head community_link_edges.csv"
   ]
  },
  {
   "cell_type": "markdown",
   "metadata": {},
   "source": [
    "#### SEARCH_FOR edges"
   ]
  },
  {
   "cell_type": "code",
   "execution_count": 110,
   "metadata": {},
   "outputs": [
    {
     "name": "stdout",
     "output_type": "stream",
     "text": [
      "976\n"
     ]
    },
    {
     "data": {
      "text/html": [
       "<div>\n",
       "<style scoped>\n",
       "    .dataframe tbody tr th:only-of-type {\n",
       "        vertical-align: middle;\n",
       "    }\n",
       "\n",
       "    .dataframe tbody tr th {\n",
       "        vertical-align: top;\n",
       "    }\n",
       "\n",
       "    .dataframe thead th {\n",
       "        text-align: right;\n",
       "    }\n",
       "</style>\n",
       "<table border=\"1\" class=\"dataframe\">\n",
       "  <thead>\n",
       "    <tr style=\"text-align: right;\">\n",
       "      <th></th>\n",
       "      <th>from_lc_id</th>\n",
       "      <th>to_lc_id</th>\n",
       "      <th>search_edges_count</th>\n",
       "      <th>search_traffic</th>\n",
       "    </tr>\n",
       "  </thead>\n",
       "  <tbody>\n",
       "    <tr>\n",
       "      <th>0</th>\n",
       "      <td>7</td>\n",
       "      <td>3</td>\n",
       "      <td>3596</td>\n",
       "      <td>86630</td>\n",
       "    </tr>\n",
       "    <tr>\n",
       "      <th>1</th>\n",
       "      <td>22</td>\n",
       "      <td>4</td>\n",
       "      <td>144</td>\n",
       "      <td>2745</td>\n",
       "    </tr>\n",
       "    <tr>\n",
       "      <th>2</th>\n",
       "      <td>2</td>\n",
       "      <td>4</td>\n",
       "      <td>1044</td>\n",
       "      <td>32692</td>\n",
       "    </tr>\n",
       "    <tr>\n",
       "      <th>3</th>\n",
       "      <td>14</td>\n",
       "      <td>7</td>\n",
       "      <td>10</td>\n",
       "      <td>190</td>\n",
       "    </tr>\n",
       "    <tr>\n",
       "      <th>4</th>\n",
       "      <td>10</td>\n",
       "      <td>7</td>\n",
       "      <td>701</td>\n",
       "      <td>21548</td>\n",
       "    </tr>\n",
       "  </tbody>\n",
       "</table>\n",
       "</div>"
      ],
      "text/plain": [
       "   from_lc_id  to_lc_id  search_edges_count  search_traffic\n",
       "0           7         3                3596           86630\n",
       "1          22         4                 144            2745\n",
       "2           2         4                1044           32692\n",
       "3          14         7                  10             190\n",
       "4          10         7                 701           21548"
      ]
     },
     "execution_count": 110,
     "metadata": {},
     "output_type": "execute_result"
    }
   ],
   "source": [
    "inter_community_search_edges = pd.read_csv(cypher_path + \"inter_community_search_edges.out\")\n",
    "print(len(inter_community_search_edges))\n",
    "inter_community_search_edges.head()"
   ]
  },
  {
   "cell_type": "code",
   "execution_count": 111,
   "metadata": {},
   "outputs": [],
   "source": [
    "# write to csv\n",
    "inter_community_search_edges[[\"from_lc_id\", \"to_lc_id\", \"search_traffic\"]].to_csv(\"community_search_edges.csv\", \n",
    "                                                                                  index=False)"
   ]
  },
  {
   "cell_type": "code",
   "execution_count": 112,
   "metadata": {},
   "outputs": [
    {
     "name": "stdout",
     "output_type": "stream",
     "text": [
      "from_lc_id,to_lc_id,search_traffic\r\n",
      "7,3,86630\r\n",
      "22,4,2745\r\n",
      "2,4,32692\r\n",
      "14,7,190\r\n",
      "10,7,21548\r\n",
      "4,7,141982\r\n",
      "15,24,592\r\n",
      "25,11,445\r\n",
      "15,10,1868\r\n"
     ]
    }
   ],
   "source": [
    "!head community_search_edges.csv"
   ]
  },
  {
   "cell_type": "markdown",
   "metadata": {},
   "source": [
    "### 2. Make a node file for graph viz"
   ]
  },
  {
   "cell_type": "markdown",
   "metadata": {},
   "source": [
    "#### 2.1 Get community node ids and stats"
   ]
  },
  {
   "cell_type": "code",
   "execution_count": 47,
   "metadata": {},
   "outputs": [
    {
     "data": {
      "text/html": [
       "<div>\n",
       "<style scoped>\n",
       "    .dataframe tbody tr th:only-of-type {\n",
       "        vertical-align: middle;\n",
       "    }\n",
       "\n",
       "    .dataframe tbody tr th {\n",
       "        vertical-align: top;\n",
       "    }\n",
       "\n",
       "    .dataframe thead th {\n",
       "        text-align: right;\n",
       "    }\n",
       "</style>\n",
       "<table border=\"1\" class=\"dataframe\">\n",
       "  <thead>\n",
       "    <tr style=\"text-align: right;\">\n",
       "      <th></th>\n",
       "      <th>articles_count</th>\n",
       "      <th>external_search_traffic</th>\n",
       "      <th>link_in_edges_count</th>\n",
       "      <th>link_in_traffic</th>\n",
       "      <th>louvain_community</th>\n",
       "      <th>search_in_edges_count</th>\n",
       "      <th>search_in_traffic</th>\n",
       "      <th>total_visits</th>\n",
       "      <th>link_edges_count</th>\n",
       "      <th>link_traffic</th>\n",
       "      <th>...</th>\n",
       "      <th>avg_external_search_traffic</th>\n",
       "      <th>avg_overall_link_in_degree</th>\n",
       "      <th>avg_community_link_in_degree</th>\n",
       "      <th>avg_link_in_traffic_per_edge</th>\n",
       "      <th>avg_link_traffic_per_edge</th>\n",
       "      <th>avg_visits_per_article</th>\n",
       "      <th>link_network_density</th>\n",
       "      <th>link_network_density_delta</th>\n",
       "      <th>network_density</th>\n",
       "      <th>network_density_delta</th>\n",
       "    </tr>\n",
       "  </thead>\n",
       "  <tbody>\n",
       "    <tr>\n",
       "      <th>0</th>\n",
       "      <td>507642</td>\n",
       "      <td>535227964</td>\n",
       "      <td>3385462</td>\n",
       "      <td>329625267</td>\n",
       "      <td>3</td>\n",
       "      <td>102124</td>\n",
       "      <td>4188154</td>\n",
       "      <td>1124655652</td>\n",
       "      <td>2740230</td>\n",
       "      <td>279916754</td>\n",
       "      <td>...</td>\n",
       "      <td>1054.341374</td>\n",
       "      <td>6.668995</td>\n",
       "      <td>5.397958</td>\n",
       "      <td>97.364929</td>\n",
       "      <td>102.150825</td>\n",
       "      <td>2215.450361</td>\n",
       "      <td>0.000011</td>\n",
       "      <td>4.397968</td>\n",
       "      <td>0.000011</td>\n",
       "      <td>4.563288</td>\n",
       "    </tr>\n",
       "    <tr>\n",
       "      <th>1</th>\n",
       "      <td>302120</td>\n",
       "      <td>288453340</td>\n",
       "      <td>2037310</td>\n",
       "      <td>140416238</td>\n",
       "      <td>7</td>\n",
       "      <td>41383</td>\n",
       "      <td>1257742</td>\n",
       "      <td>592415339</td>\n",
       "      <td>1472052</td>\n",
       "      <td>100658886</td>\n",
       "      <td>...</td>\n",
       "      <td>954.764133</td>\n",
       "      <td>6.743380</td>\n",
       "      <td>4.872408</td>\n",
       "      <td>68.922372</td>\n",
       "      <td>68.379980</td>\n",
       "      <td>1960.861045</td>\n",
       "      <td>0.000016</td>\n",
       "      <td>3.872424</td>\n",
       "      <td>0.000016</td>\n",
       "      <td>3.964435</td>\n",
       "    </tr>\n",
       "    <tr>\n",
       "      <th>2</th>\n",
       "      <td>267541</td>\n",
       "      <td>626988532</td>\n",
       "      <td>2540296</td>\n",
       "      <td>461475849</td>\n",
       "      <td>4</td>\n",
       "      <td>98857</td>\n",
       "      <td>3938984</td>\n",
       "      <td>1350876078</td>\n",
       "      <td>2182385</td>\n",
       "      <td>423779216</td>\n",
       "      <td>...</td>\n",
       "      <td>2343.523168</td>\n",
       "      <td>9.494978</td>\n",
       "      <td>8.157198</td>\n",
       "      <td>181.662235</td>\n",
       "      <td>194.181694</td>\n",
       "      <td>5049.230129</td>\n",
       "      <td>0.000030</td>\n",
       "      <td>7.157229</td>\n",
       "      <td>0.000032</td>\n",
       "      <td>7.467672</td>\n",
       "    </tr>\n",
       "    <tr>\n",
       "      <th>3</th>\n",
       "      <td>233396</td>\n",
       "      <td>150495954</td>\n",
       "      <td>1209989</td>\n",
       "      <td>84128861</td>\n",
       "      <td>10</td>\n",
       "      <td>25894</td>\n",
       "      <td>932688</td>\n",
       "      <td>322074785</td>\n",
       "      <td>839295</td>\n",
       "      <td>54133551</td>\n",
       "      <td>...</td>\n",
       "      <td>644.809483</td>\n",
       "      <td>5.184275</td>\n",
       "      <td>3.596013</td>\n",
       "      <td>69.528616</td>\n",
       "      <td>64.498837</td>\n",
       "      <td>1379.949892</td>\n",
       "      <td>0.000015</td>\n",
       "      <td>2.596028</td>\n",
       "      <td>0.000016</td>\n",
       "      <td>2.671767</td>\n",
       "    </tr>\n",
       "    <tr>\n",
       "      <th>4</th>\n",
       "      <td>223864</td>\n",
       "      <td>219874886</td>\n",
       "      <td>1327054</td>\n",
       "      <td>151652674</td>\n",
       "      <td>5</td>\n",
       "      <td>32332</td>\n",
       "      <td>930331</td>\n",
       "      <td>468611692</td>\n",
       "      <td>1141537</td>\n",
       "      <td>132364916</td>\n",
       "      <td>...</td>\n",
       "      <td>982.180636</td>\n",
       "      <td>5.927947</td>\n",
       "      <td>5.099243</td>\n",
       "      <td>114.277696</td>\n",
       "      <td>115.953242</td>\n",
       "      <td>2093.287407</td>\n",
       "      <td>0.000023</td>\n",
       "      <td>4.099266</td>\n",
       "      <td>0.000023</td>\n",
       "      <td>4.206005</td>\n",
       "    </tr>\n",
       "  </tbody>\n",
       "</table>\n",
       "<p>5 rows × 22 columns</p>\n",
       "</div>"
      ],
      "text/plain": [
       "   articles_count  external_search_traffic  link_in_edges_count  \\\n",
       "0          507642                535227964              3385462   \n",
       "1          302120                288453340              2037310   \n",
       "2          267541                626988532              2540296   \n",
       "3          233396                150495954              1209989   \n",
       "4          223864                219874886              1327054   \n",
       "\n",
       "   link_in_traffic  louvain_community  search_in_edges_count  \\\n",
       "0        329625267                  3                 102124   \n",
       "1        140416238                  7                  41383   \n",
       "2        461475849                  4                  98857   \n",
       "3         84128861                 10                  25894   \n",
       "4        151652674                  5                  32332   \n",
       "\n",
       "   search_in_traffic  total_visits  link_edges_count  link_traffic  ...  \\\n",
       "0            4188154    1124655652           2740230     279916754  ...   \n",
       "1            1257742     592415339           1472052     100658886  ...   \n",
       "2            3938984    1350876078           2182385     423779216  ...   \n",
       "3             932688     322074785            839295      54133551  ...   \n",
       "4             930331     468611692           1141537     132364916  ...   \n",
       "\n",
       "   avg_external_search_traffic  avg_overall_link_in_degree  \\\n",
       "0                  1054.341374                    6.668995   \n",
       "1                   954.764133                    6.743380   \n",
       "2                  2343.523168                    9.494978   \n",
       "3                   644.809483                    5.184275   \n",
       "4                   982.180636                    5.927947   \n",
       "\n",
       "   avg_community_link_in_degree  avg_link_in_traffic_per_edge  \\\n",
       "0                      5.397958                     97.364929   \n",
       "1                      4.872408                     68.922372   \n",
       "2                      8.157198                    181.662235   \n",
       "3                      3.596013                     69.528616   \n",
       "4                      5.099243                    114.277696   \n",
       "\n",
       "   avg_link_traffic_per_edge  avg_visits_per_article  link_network_density  \\\n",
       "0                 102.150825             2215.450361              0.000011   \n",
       "1                  68.379980             1960.861045              0.000016   \n",
       "2                 194.181694             5049.230129              0.000030   \n",
       "3                  64.498837             1379.949892              0.000015   \n",
       "4                 115.953242             2093.287407              0.000023   \n",
       "\n",
       "   link_network_density_delta  network_density  network_density_delta  \n",
       "0                    4.397968         0.000011               4.563288  \n",
       "1                    3.872424         0.000016               3.964435  \n",
       "2                    7.157229         0.000032               7.467672  \n",
       "3                    2.596028         0.000016               2.671767  \n",
       "4                    4.099266         0.000023               4.206005  \n",
       "\n",
       "[5 rows x 22 columns]"
      ]
     },
     "execution_count": 47,
     "metadata": {},
     "output_type": "execute_result"
    }
   ],
   "source": [
    "# unpickle\n",
    "with open(pickles_path + \"en_1218_louvain_communities.pkl\", 'rb') as picklefile: \n",
    "    louvain_communities = pickle.load(picklefile)\n",
    "\n",
    "louvain_communities.head()"
   ]
  },
  {
   "cell_type": "code",
   "execution_count": 286,
   "metadata": {},
   "outputs": [
    {
     "data": {
      "text/plain": [
       "Index(['articles_count', 'external_search_traffic', 'link_in_edges_count',\n",
       "       'link_in_traffic', 'louvain_community', 'search_in_edges_count',\n",
       "       'search_in_traffic', 'total_visits', 'link_edges_count', 'link_traffic',\n",
       "       'search_edges_count', 'search_traffic', 'avg_external_search_traffic',\n",
       "       'avg_overall_link_in_degree', 'avg_community_link_in_degree',\n",
       "       'avg_link_in_traffic_per_edge', 'avg_link_traffic_per_edge',\n",
       "       'avg_visits_per_article', 'link_network_density',\n",
       "       'link_network_density_delta', 'network_density',\n",
       "       'network_density_delta'],\n",
       "      dtype='object')"
      ]
     },
     "execution_count": 286,
     "metadata": {},
     "output_type": "execute_result"
    }
   ],
   "source": [
    "louvain_communities.columns"
   ]
  },
  {
   "cell_type": "markdown",
   "metadata": {},
   "source": [
    "**Notes:**  \n",
    "\n",
    "- `link_traffic` and `search_traffic` are internal traffic values within the specified community, while `link_in_traffic` and `search_in_traffic` are the sums of those values aggregated at nodes, and are not limited to the specified community (they include the traffic from other communities)"
   ]
  },
  {
   "cell_type": "code",
   "execution_count": 297,
   "metadata": {},
   "outputs": [],
   "source": [
    "nodes_with_stats = louvain_communities[[\"louvain_community\", \"articles_count\", \"external_search_traffic\",\n",
    "                                        \"link_traffic\", \"search_traffic\",\n",
    "                                        \"link_in_traffic\", \"search_in_traffic\",\n",
    "                                        \"total_visits\", \"network_density_delta\"]].copy()"
   ]
  },
  {
   "cell_type": "code",
   "execution_count": 298,
   "metadata": {},
   "outputs": [
    {
     "data": {
      "text/html": [
       "<div>\n",
       "<style scoped>\n",
       "    .dataframe tbody tr th:only-of-type {\n",
       "        vertical-align: middle;\n",
       "    }\n",
       "\n",
       "    .dataframe tbody tr th {\n",
       "        vertical-align: top;\n",
       "    }\n",
       "\n",
       "    .dataframe thead th {\n",
       "        text-align: right;\n",
       "    }\n",
       "</style>\n",
       "<table border=\"1\" class=\"dataframe\">\n",
       "  <thead>\n",
       "    <tr style=\"text-align: right;\">\n",
       "      <th></th>\n",
       "      <th>louvain_community</th>\n",
       "      <th>articles_count</th>\n",
       "      <th>external_search_traffic</th>\n",
       "      <th>link_traffic</th>\n",
       "      <th>search_traffic</th>\n",
       "      <th>link_in_traffic</th>\n",
       "      <th>search_in_traffic</th>\n",
       "      <th>total_visits</th>\n",
       "      <th>network_density_delta</th>\n",
       "    </tr>\n",
       "  </thead>\n",
       "  <tbody>\n",
       "    <tr>\n",
       "      <th>0</th>\n",
       "      <td>3</td>\n",
       "      <td>507642</td>\n",
       "      <td>535227964</td>\n",
       "      <td>279916754</td>\n",
       "      <td>3506684.0</td>\n",
       "      <td>329625267</td>\n",
       "      <td>4188154</td>\n",
       "      <td>1124655652</td>\n",
       "      <td>4.563288</td>\n",
       "    </tr>\n",
       "    <tr>\n",
       "      <th>1</th>\n",
       "      <td>7</td>\n",
       "      <td>302120</td>\n",
       "      <td>288453340</td>\n",
       "      <td>100658886</td>\n",
       "      <td>769867.0</td>\n",
       "      <td>140416238</td>\n",
       "      <td>1257742</td>\n",
       "      <td>592415339</td>\n",
       "      <td>3.964435</td>\n",
       "    </tr>\n",
       "    <tr>\n",
       "      <th>2</th>\n",
       "      <td>4</td>\n",
       "      <td>267541</td>\n",
       "      <td>626988532</td>\n",
       "      <td>423779216</td>\n",
       "      <td>3428064.0</td>\n",
       "      <td>461475849</td>\n",
       "      <td>3938984</td>\n",
       "      <td>1350876078</td>\n",
       "      <td>7.467672</td>\n",
       "    </tr>\n",
       "    <tr>\n",
       "      <th>3</th>\n",
       "      <td>10</td>\n",
       "      <td>233396</td>\n",
       "      <td>150495954</td>\n",
       "      <td>54133551</td>\n",
       "      <td>581906.0</td>\n",
       "      <td>84128861</td>\n",
       "      <td>932688</td>\n",
       "      <td>322074785</td>\n",
       "      <td>2.671767</td>\n",
       "    </tr>\n",
       "    <tr>\n",
       "      <th>4</th>\n",
       "      <td>5</td>\n",
       "      <td>223864</td>\n",
       "      <td>219874886</td>\n",
       "      <td>132364916</td>\n",
       "      <td>663439.0</td>\n",
       "      <td>151652674</td>\n",
       "      <td>930331</td>\n",
       "      <td>468611692</td>\n",
       "      <td>4.206005</td>\n",
       "    </tr>\n",
       "  </tbody>\n",
       "</table>\n",
       "</div>"
      ],
      "text/plain": [
       "   louvain_community  articles_count  external_search_traffic  link_traffic  \\\n",
       "0                  3          507642                535227964     279916754   \n",
       "1                  7          302120                288453340     100658886   \n",
       "2                  4          267541                626988532     423779216   \n",
       "3                 10          233396                150495954      54133551   \n",
       "4                  5          223864                219874886     132364916   \n",
       "\n",
       "   search_traffic  link_in_traffic  search_in_traffic  total_visits  \\\n",
       "0       3506684.0        329625267            4188154    1124655652   \n",
       "1        769867.0        140416238            1257742     592415339   \n",
       "2       3428064.0        461475849            3938984    1350876078   \n",
       "3        581906.0         84128861             932688     322074785   \n",
       "4        663439.0        151652674             930331     468611692   \n",
       "\n",
       "   network_density_delta  \n",
       "0               4.563288  \n",
       "1               3.964435  \n",
       "2               7.467672  \n",
       "3               2.671767  \n",
       "4               4.206005  "
      ]
     },
     "execution_count": 298,
     "metadata": {},
     "output_type": "execute_result"
    }
   ],
   "source": [
    "nodes_with_stats.head()"
   ]
  },
  {
   "cell_type": "markdown",
   "metadata": {},
   "source": [
    "#### 2.2 Add community topic info on nodes"
   ]
  },
  {
   "cell_type": "code",
   "execution_count": 19,
   "metadata": {},
   "outputs": [],
   "source": [
    "# unpickle\n",
    "with open(pickles_path + \"en_1218_louvain_community_topics_dict.pkl\", 'rb') as picklefile: \n",
    "    community_topics_dict = pickle.load(picklefile)\n",
    "\n",
    "# community_topics_dict[22]"
   ]
  },
  {
   "cell_type": "code",
   "execution_count": 301,
   "metadata": {},
   "outputs": [],
   "source": [
    "# testing\n",
    "# community_topics_dict[22][\"topic_ner\"]"
   ]
  },
  {
   "cell_type": "code",
   "execution_count": 53,
   "metadata": {},
   "outputs": [
    {
     "data": {
      "text/plain": [
       "'grand prix championship seri engin'"
      ]
     },
     "execution_count": 53,
     "metadata": {},
     "output_type": "execute_result"
    }
   ],
   "source": [
    "# testing\n",
    "\" \".join(community_topics_dict[22][\"topic_words\"][:5])"
   ]
  },
  {
   "cell_type": "code",
   "execution_count": 302,
   "metadata": {},
   "outputs": [],
   "source": [
    "# Filters out uninformative words\n",
    "def filter_words(words):\n",
    "    words_to_filter_out = ['list', 'disambigu', 'th']\n",
    "    filtered_words = []\n",
    "    for word in words:\n",
    "        if not (word in words_to_filter_out):\n",
    "            filtered_words.append(word)\n",
    "    return filtered_words"
   ]
  },
  {
   "cell_type": "code",
   "execution_count": 303,
   "metadata": {},
   "outputs": [],
   "source": [
    "# Add on the top 10 lemmatized topic words as a snapshot of the article community topic\n",
    "nodes_with_stats[\"topic_snapshot\"] = \\\n",
    "    [\" \".join(filter_words(community_topics_dict[comm][\"topic_words\"])[:10]) \n",
    "     for comm in nodes_with_stats['louvain_community']]"
   ]
  },
  {
   "cell_type": "code",
   "execution_count": 304,
   "metadata": {},
   "outputs": [],
   "source": [
    "# Add on the top 5 NERs\n",
    "# SpaCy reference for NER types: https://spacy.io/api/annotation#named-entities\n",
    "nodes_with_stats[\"topic_top_ner\"] = \\\n",
    "    [\" \".join(community_topics_dict[comm][\"topic_ner\"][:5]) for comm in nodes_with_stats['louvain_community']]"
   ]
  },
  {
   "cell_type": "code",
   "execution_count": 305,
   "metadata": {},
   "outputs": [
    {
     "data": {
      "text/html": [
       "<div>\n",
       "<style scoped>\n",
       "    .dataframe tbody tr th:only-of-type {\n",
       "        vertical-align: middle;\n",
       "    }\n",
       "\n",
       "    .dataframe tbody tr th {\n",
       "        vertical-align: top;\n",
       "    }\n",
       "\n",
       "    .dataframe thead th {\n",
       "        text-align: right;\n",
       "    }\n",
       "</style>\n",
       "<table border=\"1\" class=\"dataframe\">\n",
       "  <thead>\n",
       "    <tr style=\"text-align: right;\">\n",
       "      <th></th>\n",
       "      <th>louvain_community</th>\n",
       "      <th>articles_count</th>\n",
       "      <th>external_search_traffic</th>\n",
       "      <th>link_traffic</th>\n",
       "      <th>search_traffic</th>\n",
       "      <th>link_in_traffic</th>\n",
       "      <th>search_in_traffic</th>\n",
       "      <th>total_visits</th>\n",
       "      <th>network_density_delta</th>\n",
       "      <th>topic_snapshot</th>\n",
       "      <th>topic_top_ner</th>\n",
       "    </tr>\n",
       "  </thead>\n",
       "  <tbody>\n",
       "    <tr>\n",
       "      <th>0</th>\n",
       "      <td>3</td>\n",
       "      <td>507642</td>\n",
       "      <td>535227964</td>\n",
       "      <td>279916754</td>\n",
       "      <td>3506684.0</td>\n",
       "      <td>329625267</td>\n",
       "      <td>4188154</td>\n",
       "      <td>1124655652</td>\n",
       "      <td>4.563288</td>\n",
       "      <td>unit state footbal elect nation constitu parti...</td>\n",
       "      <td>PERSON ORG GPE DATE NORP</td>\n",
       "    </tr>\n",
       "    <tr>\n",
       "      <th>1</th>\n",
       "      <td>7</td>\n",
       "      <td>302120</td>\n",
       "      <td>288453340</td>\n",
       "      <td>100658886</td>\n",
       "      <td>769867.0</td>\n",
       "      <td>140416238</td>\n",
       "      <td>1257742</td>\n",
       "      <td>592415339</td>\n",
       "      <td>3.964435</td>\n",
       "      <td>church al john novel saint languag histori st ...</td>\n",
       "      <td>PERSON ORG GPE NORP DATE</td>\n",
       "    </tr>\n",
       "    <tr>\n",
       "      <th>2</th>\n",
       "      <td>4</td>\n",
       "      <td>267541</td>\n",
       "      <td>626988532</td>\n",
       "      <td>423779216</td>\n",
       "      <td>3428064.0</td>\n",
       "      <td>461475849</td>\n",
       "      <td>3938984</td>\n",
       "      <td>1350876078</td>\n",
       "      <td>7.467672</td>\n",
       "      <td>film seri tv actor comic season award episod s...</td>\n",
       "      <td>PERSON ORG DATE GPE CARDINAL</td>\n",
       "    </tr>\n",
       "    <tr>\n",
       "      <th>3</th>\n",
       "      <td>10</td>\n",
       "      <td>233396</td>\n",
       "      <td>150495954</td>\n",
       "      <td>54133551</td>\n",
       "      <td>581906.0</td>\n",
       "      <td>84128861</td>\n",
       "      <td>932688</td>\n",
       "      <td>322074785</td>\n",
       "      <td>2.671767</td>\n",
       "      <td>state new counti school unit california york s...</td>\n",
       "      <td>PERSON GPE ORG DATE LOC</td>\n",
       "    </tr>\n",
       "    <tr>\n",
       "      <th>4</th>\n",
       "      <td>5</td>\n",
       "      <td>223864</td>\n",
       "      <td>219874886</td>\n",
       "      <td>132364916</td>\n",
       "      <td>663439.0</td>\n",
       "      <td>151652674</td>\n",
       "      <td>930331</td>\n",
       "      <td>468611692</td>\n",
       "      <td>4.206005</td>\n",
       "      <td>album song band discographi love music live mu...</td>\n",
       "      <td>PERSON ORG GPE DATE CARDINAL</td>\n",
       "    </tr>\n",
       "  </tbody>\n",
       "</table>\n",
       "</div>"
      ],
      "text/plain": [
       "   louvain_community  articles_count  external_search_traffic  link_traffic  \\\n",
       "0                  3          507642                535227964     279916754   \n",
       "1                  7          302120                288453340     100658886   \n",
       "2                  4          267541                626988532     423779216   \n",
       "3                 10          233396                150495954      54133551   \n",
       "4                  5          223864                219874886     132364916   \n",
       "\n",
       "   search_traffic  link_in_traffic  search_in_traffic  total_visits  \\\n",
       "0       3506684.0        329625267            4188154    1124655652   \n",
       "1        769867.0        140416238            1257742     592415339   \n",
       "2       3428064.0        461475849            3938984    1350876078   \n",
       "3        581906.0         84128861             932688     322074785   \n",
       "4        663439.0        151652674             930331     468611692   \n",
       "\n",
       "   network_density_delta                                     topic_snapshot  \\\n",
       "0               4.563288  unit state footbal elect nation constitu parti...   \n",
       "1               3.964435  church al john novel saint languag histori st ...   \n",
       "2               7.467672  film seri tv actor comic season award episod s...   \n",
       "3               2.671767  state new counti school unit california york s...   \n",
       "4               4.206005  album song band discographi love music live mu...   \n",
       "\n",
       "                  topic_top_ner  \n",
       "0      PERSON ORG GPE DATE NORP  \n",
       "1      PERSON ORG GPE NORP DATE  \n",
       "2  PERSON ORG DATE GPE CARDINAL  \n",
       "3       PERSON GPE ORG DATE LOC  \n",
       "4  PERSON ORG GPE DATE CARDINAL  "
      ]
     },
     "execution_count": 305,
     "metadata": {},
     "output_type": "execute_result"
    }
   ],
   "source": [
    "nodes_with_stats.head()"
   ]
  },
  {
   "cell_type": "markdown",
   "metadata": {},
   "source": [
    "#### 2.3 Add on node coordinates"
   ]
  },
  {
   "cell_type": "markdown",
   "metadata": {},
   "source": [
    "The article communities network is much smaller than the articles network and can be rendered whole in a browser using vis.js, but it takes a long time for javascript to calculate the network's layout, and with each change while inspecting the visualization in the browser, the visualization will freeze up while javascript recalculates the node and edge positions for the network.  \n",
    "To keep things fast and simple, we can avoid these rendering times and recalculations by rendering our graph once in vis.js (which can take a while), exporting the resulting node coordinates, and turning off physics in vis.js.  \n"
   ]
  },
  {
   "cell_type": "markdown",
   "metadata": {},
   "source": [
    "The `node_locations_raw.txt` file contains the node coordinates exported from a graph rendered in vis.js.  \n",
    "It was created by:\n",
    "- running the vis.js rendering of the network in browser, where the vis network is stored in variable `network`  \n",
    "- then running `network.stabilize();` in js console  \n",
    "- then running `network.getPositions();` in js console  \n",
    "- copying and pasting the js console output into a text editor  "
   ]
  },
  {
   "cell_type": "markdown",
   "metadata": {},
   "source": [
    "The code below reads in the exported node coordinates and attaches them to the nodes dataset."
   ]
  },
  {
   "cell_type": "code",
   "execution_count": 176,
   "metadata": {},
   "outputs": [],
   "source": [
    "import re\n",
    "from ast import literal_eval"
   ]
  },
  {
   "cell_type": "code",
   "execution_count": 227,
   "metadata": {},
   "outputs": [],
   "source": [
    "# Read in the raw node locations file\n",
    "with open (\"node_locations_raw.txt\", \"r\") as myfile:\n",
    "    node_locations_raw=myfile.readlines()"
   ]
  },
  {
   "cell_type": "code",
   "execution_count": 229,
   "metadata": {
    "scrolled": false
   },
   "outputs": [
    {
     "name": "stdout",
     "output_type": "stream",
     "text": [
      "0: {x: -205, y: 926}\n",
      "{\"x\": -205, \"y\": 926}\n",
      "1: {x: -264, y: 503}\n",
      "{\"x\": -264, \"y\": 503}\n",
      "2: {x: -611, y: 470}\n",
      "{\"x\": -611, \"y\": 470}\n",
      "3: {x: 729, y: -94}\n",
      "{\"x\": 729, \"y\": -94}\n",
      "4: {x: -804, y: -452}\n",
      "{\"x\": -804, \"y\": -452}\n"
     ]
    }
   ],
   "source": [
    "# Node coordinates are ordered by community node id \n",
    "node_coords_ordered_list = []\n",
    "\n",
    "# regex to put the dict keys inside quotes\n",
    "to_replace = r'((?<={)|(?<=(, )))(\\w+)(?=:)'\n",
    "replace_with = r'\"\\3\"'\n",
    "\n",
    "i = 0\n",
    "for line in node_locations_raw:\n",
    "    coord = line.strip()\n",
    "    coord = coord[(coord.find(\":\") + 1):]\n",
    "    coord = re.sub(to_replace, replace_with, coord).strip()\n",
    "    node_coords_ordered_list.append(literal_eval(coord))\n",
    "\n",
    "    if i < 5:\n",
    "        print(line.strip())\n",
    "        print(coord)\n",
    "    i += 1"
   ]
  },
  {
   "cell_type": "code",
   "execution_count": 306,
   "metadata": {},
   "outputs": [],
   "source": [
    "nodes_with_stats[\"x\"] = \\\n",
    "    [node_coords_ordered_list[comm][\"x\"] for comm in nodes_with_stats['louvain_community']]\n",
    "nodes_with_stats[\"y\"] = \\\n",
    "    [node_coords_ordered_list[comm][\"y\"] for comm in nodes_with_stats['louvain_community']]"
   ]
  },
  {
   "cell_type": "code",
   "execution_count": 307,
   "metadata": {},
   "outputs": [
    {
     "data": {
      "text/html": [
       "<div>\n",
       "<style scoped>\n",
       "    .dataframe tbody tr th:only-of-type {\n",
       "        vertical-align: middle;\n",
       "    }\n",
       "\n",
       "    .dataframe tbody tr th {\n",
       "        vertical-align: top;\n",
       "    }\n",
       "\n",
       "    .dataframe thead th {\n",
       "        text-align: right;\n",
       "    }\n",
       "</style>\n",
       "<table border=\"1\" class=\"dataframe\">\n",
       "  <thead>\n",
       "    <tr style=\"text-align: right;\">\n",
       "      <th></th>\n",
       "      <th>louvain_community</th>\n",
       "      <th>articles_count</th>\n",
       "      <th>external_search_traffic</th>\n",
       "      <th>link_traffic</th>\n",
       "      <th>search_traffic</th>\n",
       "      <th>link_in_traffic</th>\n",
       "      <th>search_in_traffic</th>\n",
       "      <th>total_visits</th>\n",
       "      <th>network_density_delta</th>\n",
       "      <th>topic_snapshot</th>\n",
       "      <th>topic_top_ner</th>\n",
       "      <th>x</th>\n",
       "      <th>y</th>\n",
       "    </tr>\n",
       "  </thead>\n",
       "  <tbody>\n",
       "    <tr>\n",
       "      <th>0</th>\n",
       "      <td>3</td>\n",
       "      <td>507642</td>\n",
       "      <td>535227964</td>\n",
       "      <td>279916754</td>\n",
       "      <td>3506684.0</td>\n",
       "      <td>329625267</td>\n",
       "      <td>4188154</td>\n",
       "      <td>1124655652</td>\n",
       "      <td>4.563288</td>\n",
       "      <td>unit state footbal elect nation constitu parti...</td>\n",
       "      <td>PERSON ORG GPE DATE NORP</td>\n",
       "      <td>729</td>\n",
       "      <td>-94</td>\n",
       "    </tr>\n",
       "    <tr>\n",
       "      <th>1</th>\n",
       "      <td>7</td>\n",
       "      <td>302120</td>\n",
       "      <td>288453340</td>\n",
       "      <td>100658886</td>\n",
       "      <td>769867.0</td>\n",
       "      <td>140416238</td>\n",
       "      <td>1257742</td>\n",
       "      <td>592415339</td>\n",
       "      <td>3.964435</td>\n",
       "      <td>church al john novel saint languag histori st ...</td>\n",
       "      <td>PERSON ORG GPE NORP DATE</td>\n",
       "      <td>-132</td>\n",
       "      <td>-464</td>\n",
       "    </tr>\n",
       "    <tr>\n",
       "      <th>2</th>\n",
       "      <td>4</td>\n",
       "      <td>267541</td>\n",
       "      <td>626988532</td>\n",
       "      <td>423779216</td>\n",
       "      <td>3428064.0</td>\n",
       "      <td>461475849</td>\n",
       "      <td>3938984</td>\n",
       "      <td>1350876078</td>\n",
       "      <td>7.467672</td>\n",
       "      <td>film seri tv actor comic season award episod s...</td>\n",
       "      <td>PERSON ORG DATE GPE CARDINAL</td>\n",
       "      <td>-804</td>\n",
       "      <td>-452</td>\n",
       "    </tr>\n",
       "    <tr>\n",
       "      <th>3</th>\n",
       "      <td>10</td>\n",
       "      <td>233396</td>\n",
       "      <td>150495954</td>\n",
       "      <td>54133551</td>\n",
       "      <td>581906.0</td>\n",
       "      <td>84128861</td>\n",
       "      <td>932688</td>\n",
       "      <td>322074785</td>\n",
       "      <td>2.671767</td>\n",
       "      <td>state new counti school unit california york s...</td>\n",
       "      <td>PERSON GPE ORG DATE LOC</td>\n",
       "      <td>-628</td>\n",
       "      <td>511</td>\n",
       "    </tr>\n",
       "    <tr>\n",
       "      <th>4</th>\n",
       "      <td>5</td>\n",
       "      <td>223864</td>\n",
       "      <td>219874886</td>\n",
       "      <td>132364916</td>\n",
       "      <td>663439.0</td>\n",
       "      <td>151652674</td>\n",
       "      <td>930331</td>\n",
       "      <td>468611692</td>\n",
       "      <td>4.206005</td>\n",
       "      <td>album song band discographi love music live mu...</td>\n",
       "      <td>PERSON ORG GPE DATE CARDINAL</td>\n",
       "      <td>-1031</td>\n",
       "      <td>204</td>\n",
       "    </tr>\n",
       "  </tbody>\n",
       "</table>\n",
       "</div>"
      ],
      "text/plain": [
       "   louvain_community  articles_count  external_search_traffic  link_traffic  \\\n",
       "0                  3          507642                535227964     279916754   \n",
       "1                  7          302120                288453340     100658886   \n",
       "2                  4          267541                626988532     423779216   \n",
       "3                 10          233396                150495954      54133551   \n",
       "4                  5          223864                219874886     132364916   \n",
       "\n",
       "   search_traffic  link_in_traffic  search_in_traffic  total_visits  \\\n",
       "0       3506684.0        329625267            4188154    1124655652   \n",
       "1        769867.0        140416238            1257742     592415339   \n",
       "2       3428064.0        461475849            3938984    1350876078   \n",
       "3        581906.0         84128861             932688     322074785   \n",
       "4        663439.0        151652674             930331     468611692   \n",
       "\n",
       "   network_density_delta                                     topic_snapshot  \\\n",
       "0               4.563288  unit state footbal elect nation constitu parti...   \n",
       "1               3.964435  church al john novel saint languag histori st ...   \n",
       "2               7.467672  film seri tv actor comic season award episod s...   \n",
       "3               2.671767  state new counti school unit california york s...   \n",
       "4               4.206005  album song band discographi love music live mu...   \n",
       "\n",
       "                  topic_top_ner     x    y  \n",
       "0      PERSON ORG GPE DATE NORP   729  -94  \n",
       "1      PERSON ORG GPE NORP DATE  -132 -464  \n",
       "2  PERSON ORG DATE GPE CARDINAL  -804 -452  \n",
       "3       PERSON GPE ORG DATE LOC  -628  511  \n",
       "4  PERSON ORG GPE DATE CARDINAL -1031  204  "
      ]
     },
     "execution_count": 307,
     "metadata": {},
     "output_type": "execute_result"
    }
   ],
   "source": [
    "nodes_with_stats.head()"
   ]
  },
  {
   "cell_type": "markdown",
   "metadata": {},
   "source": [
    "#### 2.4 Other  "
   ]
  },
  {
   "cell_type": "markdown",
   "metadata": {},
   "source": [
    "##### Calculations for node shading based on network density delta"
   ]
  },
  {
   "cell_type": "code",
   "execution_count": 241,
   "metadata": {},
   "outputs": [
    {
     "name": "stdout",
     "output_type": "stream",
     "text": [
      "Max: 9.068592057761734\n",
      "Min: -0.07692307692307684\n"
     ]
    }
   ],
   "source": [
    "delta_max = nodes_with_stats.network_density_delta.max()\n",
    "delta_min = nodes_with_stats.network_density_delta.min()\n",
    "print(\"Max:\", delta_max)\n",
    "print(\"Min:\", delta_min)"
   ]
  },
  {
   "cell_type": "code",
   "execution_count": 240,
   "metadata": {},
   "outputs": [
    {
     "data": {
      "text/plain": [
       "9.14551513468481"
      ]
     },
     "execution_count": 240,
     "metadata": {},
     "output_type": "execute_result"
    }
   ],
   "source": [
    "delta_range = delta_max - delta_min\n",
    "delta_range"
   ]
  },
  {
   "cell_type": "code",
   "execution_count": 262,
   "metadata": {},
   "outputs": [
    {
     "data": {
      "text/plain": [
       "138"
      ]
     },
     "execution_count": 262,
     "metadata": {},
     "output_type": "execute_result"
    }
   ],
   "source": [
    "round((10-(4))/10 * 230)"
   ]
  },
  {
   "cell_type": "code",
   "execution_count": null,
   "metadata": {},
   "outputs": [],
   "source": []
  },
  {
   "cell_type": "markdown",
   "metadata": {},
   "source": [
    "#### 2.5 Export the nodes dataset to csv"
   ]
  },
  {
   "cell_type": "code",
   "execution_count": 308,
   "metadata": {},
   "outputs": [],
   "source": [
    "nodes_with_stats.to_csv(\"community_nodes.csv\", index=False)"
   ]
  },
  {
   "cell_type": "code",
   "execution_count": 309,
   "metadata": {},
   "outputs": [
    {
     "name": "stdout",
     "output_type": "stream",
     "text": [
      "louvain_community,articles_count,external_search_traffic,link_traffic,search_traffic,link_in_traffic,search_in_traffic,total_visits,network_density_delta,topic_snapshot,topic_top_ner,x,y\r\n",
      "3,507642,535227964,279916754,3506684.0,329625267,4188154,1124655652,4.563287835300931,unit state footbal elect nation constitu parti battl john film,PERSON ORG GPE DATE NORP,729,-94\r\n",
      "7,302120,288453340,100658886,769867.0,140416238,1257742,592415339,3.9644345440041837,church al john novel saint languag histori st film battl,PERSON ORG GPE NORP DATE,-132,-464\r\n",
      "4,267541,626988532,423779216,3428064.0,461475849,3938984,1350876078,7.467672123794573,film seri tv actor comic season award episod school john,PERSON ORG DATE GPE CARDINAL,-804,-452\r\n",
      "10,233396,150495954,54133551,581906.0,84128861,932688,322074785,2.6717667473596265,state new counti school unit california york station park district,PERSON GPE ORG DATE LOC,-628,511\r\n",
      "5,223864,219874886,132364916,663439.0,151652674,930331,468611692,4.206005458695721,album song band discographi love music live musician record tour,PERSON ORG GPE DATE CARDINAL,-1031,204\r\n",
      "1,218001,279571288,75310865,740682.0,95420595,1056534,1095599823,4.791155963302752,softwar power station number engin space unit program network model,ORG PERSON GPE CARDINAL DATE,-264,503\r\n",
      "2,209065,259036837,71288863,1198089.0,96546076,1568306,503087845,4.226882677074963,syndrom nation park diseas food black acid hospit state red,ORG PERSON GPE NORP CARDINAL,-611,470\r\n",
      "11,110397,117206803,50132716,902258.0,56716133,972333,220630202,4.706601688466974,footbal team season school basketbal high american basebal state leagu,PERSON ORG DATE GPE NORP,-717,861\r\n",
      "6,81807,72472648,14668331,193041.0,28116882,320477,139408430,1.9528885411827985,univers school colleg bank institut compani state intern educ group,ORG PERSON GPE NORP DATE,-214,746\r\n"
     ]
    }
   ],
   "source": [
    "! head community_nodes.csv"
   ]
  },
  {
   "cell_type": "code",
   "execution_count": null,
   "metadata": {},
   "outputs": [],
   "source": []
  }
 ],
 "metadata": {
  "kernelspec": {
   "display_name": "Python 3",
   "language": "python",
   "name": "python3"
  },
  "language_info": {
   "codemirror_mode": {
    "name": "ipython",
    "version": 3
   },
   "file_extension": ".py",
   "mimetype": "text/x-python",
   "name": "python",
   "nbconvert_exporter": "python",
   "pygments_lexer": "ipython3",
   "version": "3.7.2"
  }
 },
 "nbformat": 4,
 "nbformat_minor": 2
}
