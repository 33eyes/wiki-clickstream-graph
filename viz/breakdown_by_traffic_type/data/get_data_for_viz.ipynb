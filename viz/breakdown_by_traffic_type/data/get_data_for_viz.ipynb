{
 "cells": [
  {
   "cell_type": "code",
   "execution_count": 8,
   "metadata": {},
   "outputs": [],
   "source": [
    "import pandas as pd\n",
    "import numpy as np\n",
    "import pickle"
   ]
  },
  {
   "cell_type": "code",
   "execution_count": 6,
   "metadata": {},
   "outputs": [],
   "source": [
    "pickles_path = \"../../../pickles/\""
   ]
  },
  {
   "cell_type": "code",
   "execution_count": 7,
   "metadata": {},
   "outputs": [
    {
     "data": {
      "text/html": [
       "<div>\n",
       "<style scoped>\n",
       "    .dataframe tbody tr th:only-of-type {\n",
       "        vertical-align: middle;\n",
       "    }\n",
       "\n",
       "    .dataframe tbody tr th {\n",
       "        vertical-align: top;\n",
       "    }\n",
       "\n",
       "    .dataframe thead th {\n",
       "        text-align: right;\n",
       "    }\n",
       "</style>\n",
       "<table border=\"1\" class=\"dataframe\">\n",
       "  <thead>\n",
       "    <tr style=\"text-align: right;\">\n",
       "      <th></th>\n",
       "      <th>edges_count</th>\n",
       "      <th>traffic_volume</th>\n",
       "      <th>edges_count_pct</th>\n",
       "      <th>traffic_volume_pct</th>\n",
       "      <th>traffic_avg</th>\n",
       "    </tr>\n",
       "    <tr>\n",
       "      <th>type</th>\n",
       "      <th></th>\n",
       "      <th></th>\n",
       "      <th></th>\n",
       "      <th></th>\n",
       "      <th></th>\n",
       "    </tr>\n",
       "  </thead>\n",
       "  <tbody>\n",
       "    <tr>\n",
       "      <th>external</th>\n",
       "      <td>10990982</td>\n",
       "      <td>5100299091</td>\n",
       "      <td>0.368235</td>\n",
       "      <td>0.741460</td>\n",
       "      <td>464.043985</td>\n",
       "    </tr>\n",
       "    <tr>\n",
       "      <th>link</th>\n",
       "      <td>17851574</td>\n",
       "      <td>1718399222</td>\n",
       "      <td>0.598088</td>\n",
       "      <td>0.249814</td>\n",
       "      <td>96.260376</td>\n",
       "    </tr>\n",
       "    <tr>\n",
       "      <th>other</th>\n",
       "      <td>1005180</td>\n",
       "      <td>60022438</td>\n",
       "      <td>0.033677</td>\n",
       "      <td>0.008726</td>\n",
       "      <td>59.713124</td>\n",
       "    </tr>\n",
       "  </tbody>\n",
       "</table>\n",
       "</div>"
      ],
      "text/plain": [
       "          edges_count  traffic_volume  edges_count_pct  traffic_volume_pct  \\\n",
       "type                                                                         \n",
       "external     10990982      5100299091         0.368235            0.741460   \n",
       "link         17851574      1718399222         0.598088            0.249814   \n",
       "other         1005180        60022438         0.033677            0.008726   \n",
       "\n",
       "          traffic_avg  \n",
       "type                   \n",
       "external   464.043985  \n",
       "link        96.260376  \n",
       "other       59.713124  "
      ]
     },
     "execution_count": 7,
     "metadata": {},
     "output_type": "execute_result"
    }
   ],
   "source": [
    "# unpickle\n",
    "with open(pickles_path + \"en_1218_traffic_summary_by_type.pkl\", 'rb') as picklefile: \n",
    "    traffic_summary_by_type = pickle.load(picklefile)\n",
    "\n",
    "traffic_summary_by_type"
   ]
  },
  {
   "cell_type": "code",
   "execution_count": 9,
   "metadata": {},
   "outputs": [
    {
     "data": {
      "text/html": [
       "<div>\n",
       "<style scoped>\n",
       "    .dataframe tbody tr th:only-of-type {\n",
       "        vertical-align: middle;\n",
       "    }\n",
       "\n",
       "    .dataframe tbody tr th {\n",
       "        vertical-align: top;\n",
       "    }\n",
       "\n",
       "    .dataframe thead th {\n",
       "        text-align: right;\n",
       "    }\n",
       "</style>\n",
       "<table border=\"1\" class=\"dataframe\">\n",
       "  <thead>\n",
       "    <tr style=\"text-align: right;\">\n",
       "      <th></th>\n",
       "      <th>edges_count</th>\n",
       "      <th>traffic_volume</th>\n",
       "      <th>edges_count_pct</th>\n",
       "      <th>traffic_volume_pct</th>\n",
       "      <th>traffic_avg</th>\n",
       "    </tr>\n",
       "    <tr>\n",
       "      <th>prev</th>\n",
       "      <th></th>\n",
       "      <th></th>\n",
       "      <th></th>\n",
       "      <th></th>\n",
       "      <th></th>\n",
       "    </tr>\n",
       "  </thead>\n",
       "  <tbody>\n",
       "    <tr>\n",
       "      <th>other-empty</th>\n",
       "      <td>5093433</td>\n",
       "      <td>1779965188</td>\n",
       "      <td>0.463419</td>\n",
       "      <td>0.348992</td>\n",
       "      <td>349.462767</td>\n",
       "    </tr>\n",
       "    <tr>\n",
       "      <th>other-external</th>\n",
       "      <td>787311</td>\n",
       "      <td>116732857</td>\n",
       "      <td>0.071632</td>\n",
       "      <td>0.022887</td>\n",
       "      <td>148.267784</td>\n",
       "    </tr>\n",
       "    <tr>\n",
       "      <th>other-internal</th>\n",
       "      <td>1348892</td>\n",
       "      <td>132349844</td>\n",
       "      <td>0.122727</td>\n",
       "      <td>0.025949</td>\n",
       "      <td>98.117450</td>\n",
       "    </tr>\n",
       "    <tr>\n",
       "      <th>other-other</th>\n",
       "      <td>374921</td>\n",
       "      <td>36972380</td>\n",
       "      <td>0.034112</td>\n",
       "      <td>0.007249</td>\n",
       "      <td>98.613788</td>\n",
       "    </tr>\n",
       "    <tr>\n",
       "      <th>other-search</th>\n",
       "      <td>3386425</td>\n",
       "      <td>3034278822</td>\n",
       "      <td>0.308109</td>\n",
       "      <td>0.594922</td>\n",
       "      <td>896.012409</td>\n",
       "    </tr>\n",
       "  </tbody>\n",
       "</table>\n",
       "</div>"
      ],
      "text/plain": [
       "                edges_count  traffic_volume  edges_count_pct  \\\n",
       "prev                                                           \n",
       "other-empty         5093433      1779965188         0.463419   \n",
       "other-external       787311       116732857         0.071632   \n",
       "other-internal      1348892       132349844         0.122727   \n",
       "other-other          374921        36972380         0.034112   \n",
       "other-search        3386425      3034278822         0.308109   \n",
       "\n",
       "                traffic_volume_pct  traffic_avg  \n",
       "prev                                             \n",
       "other-empty               0.348992   349.462767  \n",
       "other-external            0.022887   148.267784  \n",
       "other-internal            0.025949    98.117450  \n",
       "other-other               0.007249    98.613788  \n",
       "other-search              0.594922   896.012409  "
      ]
     },
     "execution_count": 9,
     "metadata": {},
     "output_type": "execute_result"
    }
   ],
   "source": [
    "# unpickle\n",
    "with open(pickles_path + \"en_1218_external_traffic_summary_by_cat.pkl\", 'rb') as picklefile: \n",
    "    external_traffic_summary_by_cat = pickle.load(picklefile)\n",
    "\n",
    "external_traffic_summary_by_cat"
   ]
  },
  {
   "cell_type": "markdown",
   "metadata": {},
   "source": [
    "From the [EDA notebook](English_Wikipedia_EDA.ipynb#Distribution-of-traffic-volume-and-edge-counts-across-the-3-reference-types):  \n",
    "\n",
    "number of terminal nodes in link edges = 2598302  \n",
    "number of terminal nodes in internal search edges = 414847"
   ]
  },
  {
   "cell_type": "markdown",
   "metadata": {},
   "source": [
    "### Data for the pie/donut chart segments  "
   ]
  },
  {
   "cell_type": "code",
   "execution_count": 61,
   "metadata": {},
   "outputs": [
    {
     "data": {
      "text/html": [
       "<div>\n",
       "<style scoped>\n",
       "    .dataframe tbody tr th:only-of-type {\n",
       "        vertical-align: middle;\n",
       "    }\n",
       "\n",
       "    .dataframe tbody tr th {\n",
       "        vertical-align: top;\n",
       "    }\n",
       "\n",
       "    .dataframe thead th {\n",
       "        text-align: right;\n",
       "    }\n",
       "</style>\n",
       "<table border=\"1\" class=\"dataframe\">\n",
       "  <thead>\n",
       "    <tr style=\"text-align: right;\">\n",
       "      <th></th>\n",
       "      <th>traffic</th>\n",
       "      <th>terminal_articles_count</th>\n",
       "    </tr>\n",
       "    <tr>\n",
       "      <th>traffic_type</th>\n",
       "      <th></th>\n",
       "      <th></th>\n",
       "    </tr>\n",
       "  </thead>\n",
       "  <tbody>\n",
       "    <tr>\n",
       "      <th>other-search</th>\n",
       "      <td>3034278822</td>\n",
       "      <td>3386425</td>\n",
       "    </tr>\n",
       "    <tr>\n",
       "      <th>other-empty</th>\n",
       "      <td>1779965188</td>\n",
       "      <td>5093433</td>\n",
       "    </tr>\n",
       "    <tr>\n",
       "      <th>other-internal</th>\n",
       "      <td>132349844</td>\n",
       "      <td>1348892</td>\n",
       "    </tr>\n",
       "    <tr>\n",
       "      <th>other-external</th>\n",
       "      <td>116732857</td>\n",
       "      <td>787311</td>\n",
       "    </tr>\n",
       "    <tr>\n",
       "      <th>other-other</th>\n",
       "      <td>36972380</td>\n",
       "      <td>374921</td>\n",
       "    </tr>\n",
       "    <tr>\n",
       "      <th>link</th>\n",
       "      <td>1718399222</td>\n",
       "      <td>2598302</td>\n",
       "    </tr>\n",
       "    <tr>\n",
       "      <th>other</th>\n",
       "      <td>60022438</td>\n",
       "      <td>414847</td>\n",
       "    </tr>\n",
       "  </tbody>\n",
       "</table>\n",
       "</div>"
      ],
      "text/plain": [
       "                   traffic  terminal_articles_count\n",
       "traffic_type                                       \n",
       "other-search    3034278822                  3386425\n",
       "other-empty     1779965188                  5093433\n",
       "other-internal   132349844                  1348892\n",
       "other-external   116732857                   787311\n",
       "other-other       36972380                   374921\n",
       "link            1718399222                  2598302\n",
       "other             60022438                   414847"
      ]
     },
     "execution_count": 61,
     "metadata": {},
     "output_type": "execute_result"
    }
   ],
   "source": [
    "traffic_by_type = external_traffic_summary_by_cat[[\"traffic_volume\", \"edges_count\"]].copy()\n",
    "traffic_by_type.sort_values(\"traffic_volume\", ascending=False, inplace=True)\n",
    "\n",
    "temp = traffic_summary_by_type[[\"traffic_volume\", \"edges_count\"]][traffic_summary_by_type.index != \"external\"].copy()\n",
    "\n",
    "traffic_by_type = traffic_by_type.append(temp)\n",
    "traffic_by_type.columns = [\"traffic\", \"terminal_articles_count\"]\n",
    "traffic_by_type.index.name = \"traffic_type\"\n",
    "\n",
    "traffic_by_type.loc[\"link\", \"terminal_articles_count\"] = 2598302\n",
    "traffic_by_type.loc[\"other\", \"terminal_articles_count\"] = 414847\n",
    "\n",
    "traffic_by_type"
   ]
  },
  {
   "cell_type": "code",
   "execution_count": 62,
   "metadata": {},
   "outputs": [
    {
     "data": {
      "text/plain": [
       "6878720751"
      ]
     },
     "execution_count": 62,
     "metadata": {},
     "output_type": "execute_result"
    }
   ],
   "source": [
    "total_traffic = traffic_by_type.traffic.sum()\n",
    "total_traffic"
   ]
  },
  {
   "cell_type": "code",
   "execution_count": 63,
   "metadata": {},
   "outputs": [
    {
     "data": {
      "text/html": [
       "<div>\n",
       "<style scoped>\n",
       "    .dataframe tbody tr th:only-of-type {\n",
       "        vertical-align: middle;\n",
       "    }\n",
       "\n",
       "    .dataframe tbody tr th {\n",
       "        vertical-align: top;\n",
       "    }\n",
       "\n",
       "    .dataframe thead th {\n",
       "        text-align: right;\n",
       "    }\n",
       "</style>\n",
       "<table border=\"1\" class=\"dataframe\">\n",
       "  <thead>\n",
       "    <tr style=\"text-align: right;\">\n",
       "      <th></th>\n",
       "      <th>traffic</th>\n",
       "      <th>terminal_articles_count</th>\n",
       "      <th>traffic_pct</th>\n",
       "    </tr>\n",
       "    <tr>\n",
       "      <th>traffic_type</th>\n",
       "      <th></th>\n",
       "      <th></th>\n",
       "      <th></th>\n",
       "    </tr>\n",
       "  </thead>\n",
       "  <tbody>\n",
       "    <tr>\n",
       "      <th>other-search</th>\n",
       "      <td>3034278822</td>\n",
       "      <td>3386425</td>\n",
       "      <td>44.11</td>\n",
       "    </tr>\n",
       "    <tr>\n",
       "      <th>other-empty</th>\n",
       "      <td>1779965188</td>\n",
       "      <td>5093433</td>\n",
       "      <td>25.88</td>\n",
       "    </tr>\n",
       "    <tr>\n",
       "      <th>other-internal</th>\n",
       "      <td>132349844</td>\n",
       "      <td>1348892</td>\n",
       "      <td>1.92</td>\n",
       "    </tr>\n",
       "    <tr>\n",
       "      <th>other-external</th>\n",
       "      <td>116732857</td>\n",
       "      <td>787311</td>\n",
       "      <td>1.70</td>\n",
       "    </tr>\n",
       "    <tr>\n",
       "      <th>other-other</th>\n",
       "      <td>36972380</td>\n",
       "      <td>374921</td>\n",
       "      <td>0.54</td>\n",
       "    </tr>\n",
       "    <tr>\n",
       "      <th>link</th>\n",
       "      <td>1718399222</td>\n",
       "      <td>2598302</td>\n",
       "      <td>24.98</td>\n",
       "    </tr>\n",
       "    <tr>\n",
       "      <th>other</th>\n",
       "      <td>60022438</td>\n",
       "      <td>414847</td>\n",
       "      <td>0.87</td>\n",
       "    </tr>\n",
       "  </tbody>\n",
       "</table>\n",
       "</div>"
      ],
      "text/plain": [
       "                   traffic  terminal_articles_count  traffic_pct\n",
       "traffic_type                                                    \n",
       "other-search    3034278822                  3386425        44.11\n",
       "other-empty     1779965188                  5093433        25.88\n",
       "other-internal   132349844                  1348892         1.92\n",
       "other-external   116732857                   787311         1.70\n",
       "other-other       36972380                   374921         0.54\n",
       "link            1718399222                  2598302        24.98\n",
       "other             60022438                   414847         0.87"
      ]
     },
     "execution_count": 63,
     "metadata": {},
     "output_type": "execute_result"
    }
   ],
   "source": [
    "traffic_by_type[\"traffic_pct\"] = round(traffic_by_type.traffic / total_traffic * 100, 2)\n",
    "traffic_by_type"
   ]
  },
  {
   "cell_type": "markdown",
   "metadata": {},
   "source": [
    "From the [EDA notebook](English_Wikipedia_EDA.ipynb#How-many-articles-are-there-in-the-dataset?):  \n",
    "\n",
    "total number of articles in the dataset = 5185699"
   ]
  },
  {
   "cell_type": "code",
   "execution_count": 64,
   "metadata": {},
   "outputs": [],
   "source": [
    "total_articles_count = 5185699"
   ]
  },
  {
   "cell_type": "code",
   "execution_count": 65,
   "metadata": {},
   "outputs": [],
   "source": [
    "traffic_by_type[\"terminal_articles_pct\"] = round(traffic_by_type.terminal_articles_count \n",
    "                                                 / total_articles_count * 100, 2)"
   ]
  },
  {
   "cell_type": "code",
   "execution_count": 66,
   "metadata": {},
   "outputs": [],
   "source": [
    "# add display labels for viz\n",
    "\n",
    "traffic_by_type.loc[\"other-empty\", \"label\"] = \"empty referer\"\n",
    "traffic_by_type.loc[\"other-external\", \"label\"] = \"external websites\"\n",
    "traffic_by_type.loc[\"other-internal\", \"label\"] = \"other Wikimedia\"\n",
    "traffic_by_type.loc[\"other-other\", \"label\"] = \"unknown\"\n",
    "traffic_by_type.loc[\"other-search\", \"label\"] = \"search engines\"\n",
    "traffic_by_type.loc[\"link\", \"label\"] = \"links\"\n",
    "traffic_by_type.loc[\"other\", \"label\"] = \"internal search\""
   ]
  },
  {
   "cell_type": "code",
   "execution_count": 67,
   "metadata": {},
   "outputs": [
    {
     "data": {
      "text/html": [
       "<div>\n",
       "<style scoped>\n",
       "    .dataframe tbody tr th:only-of-type {\n",
       "        vertical-align: middle;\n",
       "    }\n",
       "\n",
       "    .dataframe tbody tr th {\n",
       "        vertical-align: top;\n",
       "    }\n",
       "\n",
       "    .dataframe thead th {\n",
       "        text-align: right;\n",
       "    }\n",
       "</style>\n",
       "<table border=\"1\" class=\"dataframe\">\n",
       "  <thead>\n",
       "    <tr style=\"text-align: right;\">\n",
       "      <th></th>\n",
       "      <th>traffic</th>\n",
       "      <th>terminal_articles_count</th>\n",
       "      <th>traffic_pct</th>\n",
       "      <th>terminal_articles_pct</th>\n",
       "      <th>label</th>\n",
       "    </tr>\n",
       "    <tr>\n",
       "      <th>traffic_type</th>\n",
       "      <th></th>\n",
       "      <th></th>\n",
       "      <th></th>\n",
       "      <th></th>\n",
       "      <th></th>\n",
       "    </tr>\n",
       "  </thead>\n",
       "  <tbody>\n",
       "    <tr>\n",
       "      <th>other-search</th>\n",
       "      <td>3034278822</td>\n",
       "      <td>3386425</td>\n",
       "      <td>44.11</td>\n",
       "      <td>65.30</td>\n",
       "      <td>search engines</td>\n",
       "    </tr>\n",
       "    <tr>\n",
       "      <th>other-empty</th>\n",
       "      <td>1779965188</td>\n",
       "      <td>5093433</td>\n",
       "      <td>25.88</td>\n",
       "      <td>98.22</td>\n",
       "      <td>empty referer</td>\n",
       "    </tr>\n",
       "    <tr>\n",
       "      <th>other-internal</th>\n",
       "      <td>132349844</td>\n",
       "      <td>1348892</td>\n",
       "      <td>1.92</td>\n",
       "      <td>26.01</td>\n",
       "      <td>other Wikimedia</td>\n",
       "    </tr>\n",
       "    <tr>\n",
       "      <th>other-external</th>\n",
       "      <td>116732857</td>\n",
       "      <td>787311</td>\n",
       "      <td>1.70</td>\n",
       "      <td>15.18</td>\n",
       "      <td>external websites</td>\n",
       "    </tr>\n",
       "    <tr>\n",
       "      <th>other-other</th>\n",
       "      <td>36972380</td>\n",
       "      <td>374921</td>\n",
       "      <td>0.54</td>\n",
       "      <td>7.23</td>\n",
       "      <td>unknown</td>\n",
       "    </tr>\n",
       "    <tr>\n",
       "      <th>link</th>\n",
       "      <td>1718399222</td>\n",
       "      <td>2598302</td>\n",
       "      <td>24.98</td>\n",
       "      <td>50.11</td>\n",
       "      <td>links</td>\n",
       "    </tr>\n",
       "    <tr>\n",
       "      <th>other</th>\n",
       "      <td>60022438</td>\n",
       "      <td>414847</td>\n",
       "      <td>0.87</td>\n",
       "      <td>8.00</td>\n",
       "      <td>internal search</td>\n",
       "    </tr>\n",
       "  </tbody>\n",
       "</table>\n",
       "</div>"
      ],
      "text/plain": [
       "                   traffic  terminal_articles_count  traffic_pct  \\\n",
       "traffic_type                                                       \n",
       "other-search    3034278822                  3386425        44.11   \n",
       "other-empty     1779965188                  5093433        25.88   \n",
       "other-internal   132349844                  1348892         1.92   \n",
       "other-external   116732857                   787311         1.70   \n",
       "other-other       36972380                   374921         0.54   \n",
       "link            1718399222                  2598302        24.98   \n",
       "other             60022438                   414847         0.87   \n",
       "\n",
       "                terminal_articles_pct              label  \n",
       "traffic_type                                              \n",
       "other-search                    65.30     search engines  \n",
       "other-empty                     98.22      empty referer  \n",
       "other-internal                  26.01    other Wikimedia  \n",
       "other-external                  15.18  external websites  \n",
       "other-other                      7.23            unknown  \n",
       "link                            50.11              links  \n",
       "other                            8.00    internal search  "
      ]
     },
     "execution_count": 67,
     "metadata": {},
     "output_type": "execute_result"
    }
   ],
   "source": [
    "traffic_by_type"
   ]
  },
  {
   "cell_type": "code",
   "execution_count": 68,
   "metadata": {},
   "outputs": [
    {
     "data": {
      "text/plain": [
       "7"
      ]
     },
     "execution_count": 68,
     "metadata": {},
     "output_type": "execute_result"
    }
   ],
   "source": [
    "len(traffic_by_type)"
   ]
  },
  {
   "cell_type": "code",
   "execution_count": 69,
   "metadata": {},
   "outputs": [],
   "source": [
    "traffic_by_type.to_csv(\"traffic_by_type.csv\")"
   ]
  },
  {
   "cell_type": "code",
   "execution_count": 70,
   "metadata": {},
   "outputs": [
    {
     "name": "stdout",
     "output_type": "stream",
     "text": [
      "traffic_type,traffic,terminal_articles_count,traffic_pct,terminal_articles_pct,label\r\n",
      "other-search,3034278822,3386425,44.11,65.3,search engines\r\n",
      "other-empty,1779965188,5093433,25.88,98.22,empty referer\r\n",
      "other-internal,132349844,1348892,1.92,26.01,other Wikimedia\r\n",
      "other-external,116732857,787311,1.7,15.18,external websites\r\n",
      "other-other,36972380,374921,0.54,7.23,unknown\r\n",
      "link,1718399222,2598302,24.98,50.11,links\r\n",
      "other,60022438,414847,0.87,8.0,internal search\r\n"
     ]
    }
   ],
   "source": [
    "!head traffic_by_type.csv"
   ]
  },
  {
   "cell_type": "code",
   "execution_count": null,
   "metadata": {},
   "outputs": [],
   "source": []
  }
 ],
 "metadata": {
  "kernelspec": {
   "display_name": "Python 3",
   "language": "python",
   "name": "python3"
  },
  "language_info": {
   "codemirror_mode": {
    "name": "ipython",
    "version": 3
   },
   "file_extension": ".py",
   "mimetype": "text/x-python",
   "name": "python",
   "nbconvert_exporter": "python",
   "pygments_lexer": "ipython3",
   "version": "3.7.2"
  }
 },
 "nbformat": 4,
 "nbformat_minor": 2
}
