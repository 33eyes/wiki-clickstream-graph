{
 "cells": [
  {
   "cell_type": "code",
   "execution_count": 1,
   "metadata": {
    "collapsed": true
   },
   "outputs": [],
   "source": [
    "import pandas as pd\n",
    "import numpy as np\n",
    "\n",
    "import os\n",
    "\n",
    "import  csv\n",
    "\n",
    "from time import sleep\n",
    "from timeit import default_timer as timer\n",
    "\n",
    "# custom general helper functions for this project\n",
    "import custom_utils as cu\n",
    "import importlib"
   ]
  },
  {
   "cell_type": "code",
   "execution_count": 2,
   "metadata": {
    "collapsed": false
   },
   "outputs": [],
   "source": [
    "# reload imports as needed\n",
    "importlib.reload(cu);"
   ]
  },
  {
   "cell_type": "code",
   "execution_count": 3,
   "metadata": {
    "collapsed": true
   },
   "outputs": [],
   "source": [
    "# set up Pandas options\n",
    "pd.set_option('display.max_columns', 25)\n",
    "pd.set_option('display.max_rows', 100)\n",
    "pd.set_option('display.precision', 3)\n",
    "pd.options.display.float_format = '{:.2f}'.format"
   ]
  },
  {
   "cell_type": "code",
   "execution_count": null,
   "metadata": {
    "collapsed": true
   },
   "outputs": [],
   "source": []
  },
  {
   "cell_type": "code",
   "execution_count": null,
   "metadata": {
    "collapsed": true
   },
   "outputs": [],
   "source": []
  },
  {
   "cell_type": "code",
   "execution_count": 4,
   "metadata": {
    "collapsed": true
   },
   "outputs": [],
   "source": [
    "from py2neo import authenticate, Graph, Node, Relationship"
   ]
  },
  {
   "cell_type": "code",
   "execution_count": 5,
   "metadata": {
    "collapsed": true
   },
   "outputs": [],
   "source": [
    "# To avoid typing neo4j password into the notebook each time,\n",
    "# I'm saving it in a separate file and reading it in with the helper function below.\n",
    "def read_n4jpass():\n",
    "    \"\"\"Reads neo4j connection credentials from .n4jpass file in current folder.\n",
    "    Expects one value per line, ignores comments, e.g.:\n",
    "    # comments here\n",
    "    user=neo4j\n",
    "    password=secretStuff123\n",
    "    \"\"\"\n",
    "    \n",
    "    cur_folder = os.getcwd()\n",
    "    \n",
    "    with open(cur_folder + '/.n4jpass', 'r') as f:\n",
    "        lines = f.readlines()\n",
    "\n",
    "    d = {}\n",
    "    for l in lines:\n",
    "        if l.strip() and (l[0] != '#'):\n",
    "            k, v = l.strip().split('=')\n",
    "            d[k] = v\n",
    "\n",
    "    return d"
   ]
  },
  {
   "cell_type": "code",
   "execution_count": 6,
   "metadata": {
    "collapsed": true
   },
   "outputs": [],
   "source": [
    "n4j_cred = read_n4jpass()"
   ]
  },
  {
   "cell_type": "code",
   "execution_count": 7,
   "metadata": {
    "collapsed": true
   },
   "outputs": [],
   "source": [
    "# set up authentication parameters\n",
    "authenticate(\"localhost:7474\", n4j_cred[\"user\"], n4j_cred[\"password\"])"
   ]
  },
  {
   "cell_type": "code",
   "execution_count": 8,
   "metadata": {
    "collapsed": false
   },
   "outputs": [],
   "source": [
    "# connect to authenticated graph database\n",
    "graph = Graph(\"http://localhost:7474/db/data/\")"
   ]
  },
  {
   "cell_type": "code",
   "execution_count": 9,
   "metadata": {
    "collapsed": false
   },
   "outputs": [
    {
     "data": {
      "text/html": [
       "<div>\n",
       "<table border=\"1\" class=\"dataframe\">\n",
       "  <thead>\n",
       "    <tr style=\"text-align: right;\">\n",
       "      <th></th>\n",
       "      <th>description</th>\n",
       "      <th>failureMessage</th>\n",
       "      <th>id</th>\n",
       "      <th>indexName</th>\n",
       "      <th>progress</th>\n",
       "      <th>properties</th>\n",
       "      <th>provider</th>\n",
       "      <th>state</th>\n",
       "      <th>tokenNames</th>\n",
       "      <th>type</th>\n",
       "    </tr>\n",
       "  </thead>\n",
       "  <tbody>\n",
       "    <tr>\n",
       "      <th>0</th>\n",
       "      <td>INDEX ON :Article(title)</td>\n",
       "      <td></td>\n",
       "      <td>1</td>\n",
       "      <td>index_1</td>\n",
       "      <td>100.00</td>\n",
       "      <td>[title]</td>\n",
       "      <td>{'key': 'native-btree', 'version': '1.0'}</td>\n",
       "      <td>ONLINE</td>\n",
       "      <td>[Article]</td>\n",
       "      <td>node_unique_property</td>\n",
       "    </tr>\n",
       "  </tbody>\n",
       "</table>\n",
       "</div>"
      ],
      "text/plain": [
       "                description failureMessage  id indexName  progress properties  \\\n",
       "0  INDEX ON :Article(title)                  1   index_1    100.00    [title]   \n",
       "\n",
       "                                    provider   state tokenNames  \\\n",
       "0  {'key': 'native-btree', 'version': '1.0'}  ONLINE  [Article]   \n",
       "\n",
       "                   type  \n",
       "0  node_unique_property  "
      ]
     },
     "execution_count": 9,
     "metadata": {},
     "output_type": "execute_result"
    }
   ],
   "source": [
    "# test query\n",
    "r = graph.data('CALL db.indexes;')\n",
    "pd.DataFrame(r)"
   ]
  },
  {
   "cell_type": "code",
   "execution_count": null,
   "metadata": {
    "collapsed": true
   },
   "outputs": [],
   "source": []
  },
  {
   "cell_type": "code",
   "execution_count": null,
   "metadata": {
    "collapsed": true
   },
   "outputs": [],
   "source": []
  },
  {
   "cell_type": "code",
   "execution_count": null,
   "metadata": {
    "collapsed": true
   },
   "outputs": [],
   "source": []
  },
  {
   "cell_type": "markdown",
   "metadata": {},
   "source": [
    "### Network descriptive statistics"
   ]
  },
  {
   "cell_type": "code",
   "execution_count": null,
   "metadata": {
    "collapsed": true
   },
   "outputs": [],
   "source": [
    "# number of nodes (cypher query)\n",
    "match (a:Article)\n",
    " return count(a)\n",
    "# output: 5185699"
   ]
  },
  {
   "cell_type": "code",
   "execution_count": 10,
   "metadata": {
    "collapsed": false
   },
   "outputs": [
    {
     "data": {
      "text/html": [
       "<div>\n",
       "<table border=\"1\" class=\"dataframe\">\n",
       "  <thead>\n",
       "    <tr style=\"text-align: right;\">\n",
       "      <th></th>\n",
       "      <th>count(a)</th>\n",
       "    </tr>\n",
       "  </thead>\n",
       "  <tbody>\n",
       "    <tr>\n",
       "      <th>0</th>\n",
       "      <td>5185699</td>\n",
       "    </tr>\n",
       "  </tbody>\n",
       "</table>\n",
       "</div>"
      ],
      "text/plain": [
       "   count(a)\n",
       "0   5185699"
      ]
     },
     "execution_count": 10,
     "metadata": {},
     "output_type": "execute_result"
    }
   ],
   "source": [
    "q = \"\"\"\n",
    "    match (a:Article)\n",
    "    return count(a);\n",
    " \"\"\"\n",
    "r = graph.data(q)\n",
    "pd.DataFrame(r)"
   ]
  },
  {
   "cell_type": "code",
   "execution_count": 12,
   "metadata": {
    "collapsed": false
   },
   "outputs": [
    {
     "data": {
      "text/html": [
       "<div>\n",
       "<table border=\"1\" class=\"dataframe\">\n",
       "  <thead>\n",
       "    <tr style=\"text-align: right;\">\n",
       "      <th></th>\n",
       "      <th>count(r)</th>\n",
       "    </tr>\n",
       "  </thead>\n",
       "  <tbody>\n",
       "    <tr>\n",
       "      <th>0</th>\n",
       "      <td>18361180</td>\n",
       "    </tr>\n",
       "  </tbody>\n",
       "</table>\n",
       "</div>"
      ],
      "text/plain": [
       "   count(r)\n",
       "0  18361180"
      ]
     },
     "execution_count": 12,
     "metadata": {},
     "output_type": "execute_result"
    }
   ],
   "source": [
    "# number of directional edges\n",
    "q = \"\"\"\n",
    "    match ()-[r]->()\n",
    "    return count(r);\n",
    " \"\"\"\n",
    "r = graph.data(q)\n",
    "pd.DataFrame(r)"
   ]
  },
  {
   "cell_type": "code",
   "execution_count": 18,
   "metadata": {
    "collapsed": false
   },
   "outputs": [
    {
     "data": {
      "text/html": [
       "<div>\n",
       "<table border=\"1\" class=\"dataframe\">\n",
       "  <thead>\n",
       "    <tr style=\"text-align: right;\">\n",
       "      <th></th>\n",
       "      <th>sum(r.traffic)</th>\n",
       "    </tr>\n",
       "  </thead>\n",
       "  <tbody>\n",
       "    <tr>\n",
       "      <th>0</th>\n",
       "      <td>1737027807</td>\n",
       "    </tr>\n",
       "  </tbody>\n",
       "</table>\n",
       "</div>"
      ],
      "text/plain": [
       "   sum(r.traffic)\n",
       "0      1737027807"
      ]
     },
     "execution_count": 18,
     "metadata": {},
     "output_type": "execute_result"
    }
   ],
   "source": [
    "# total traffic volume in the graph\n",
    "q = \"\"\"\n",
    "    match ()-[r]->()\n",
    "    return sum(r.traffic);\n",
    " \"\"\"\n",
    "r = graph.data(q)\n",
    "pd.DataFrame(r)"
   ]
  },
  {
   "cell_type": "code",
   "execution_count": 13,
   "metadata": {
    "collapsed": false
   },
   "outputs": [
    {
     "data": {
      "text/html": [
       "<div>\n",
       "<table border=\"1\" class=\"dataframe\">\n",
       "  <thead>\n",
       "    <tr style=\"text-align: right;\">\n",
       "      <th></th>\n",
       "      <th>count(r)</th>\n",
       "    </tr>\n",
       "  </thead>\n",
       "  <tbody>\n",
       "    <tr>\n",
       "      <th>0</th>\n",
       "      <td>17851501</td>\n",
       "    </tr>\n",
       "  </tbody>\n",
       "</table>\n",
       "</div>"
      ],
      "text/plain": [
       "   count(r)\n",
       "0  17851501"
      ]
     },
     "execution_count": 13,
     "metadata": {},
     "output_type": "execute_result"
    }
   ],
   "source": [
    "# number of directional LINK_TO edges\n",
    "q = \"\"\"\n",
    "    match ()-[r:LINK_TO]->()\n",
    "    return count(r);\n",
    " \"\"\"\n",
    "r = graph.data(q)\n",
    "pd.DataFrame(r)"
   ]
  },
  {
   "cell_type": "code",
   "execution_count": 19,
   "metadata": {
    "collapsed": false
   },
   "outputs": [
    {
     "data": {
      "text/html": [
       "<div>\n",
       "<table border=\"1\" class=\"dataframe\">\n",
       "  <thead>\n",
       "    <tr style=\"text-align: right;\">\n",
       "      <th></th>\n",
       "      <th>sum(r.traffic)</th>\n",
       "    </tr>\n",
       "  </thead>\n",
       "  <tbody>\n",
       "    <tr>\n",
       "      <th>0</th>\n",
       "      <td>1718277936</td>\n",
       "    </tr>\n",
       "  </tbody>\n",
       "</table>\n",
       "</div>"
      ],
      "text/plain": [
       "   sum(r.traffic)\n",
       "0      1718277936"
      ]
     },
     "execution_count": 19,
     "metadata": {},
     "output_type": "execute_result"
    }
   ],
   "source": [
    "# link traffic volume in the graph\n",
    "q = \"\"\"\n",
    "    match ()-[r:LINK_TO]->()\n",
    "    return sum(r.traffic);\n",
    " \"\"\"\n",
    "r = graph.data(q)\n",
    "pd.DataFrame(r)"
   ]
  },
  {
   "cell_type": "code",
   "execution_count": 14,
   "metadata": {
    "collapsed": false
   },
   "outputs": [
    {
     "data": {
      "text/html": [
       "<div>\n",
       "<table border=\"1\" class=\"dataframe\">\n",
       "  <thead>\n",
       "    <tr style=\"text-align: right;\">\n",
       "      <th></th>\n",
       "      <th>count(r)</th>\n",
       "    </tr>\n",
       "  </thead>\n",
       "  <tbody>\n",
       "    <tr>\n",
       "      <th>0</th>\n",
       "      <td>509679</td>\n",
       "    </tr>\n",
       "  </tbody>\n",
       "</table>\n",
       "</div>"
      ],
      "text/plain": [
       "   count(r)\n",
       "0    509679"
      ]
     },
     "execution_count": 14,
     "metadata": {},
     "output_type": "execute_result"
    }
   ],
   "source": [
    "# number of directional SEARCH_FOR edges\n",
    "q = \"\"\"\n",
    "    match ()-[r:SEARCH_FOR]->()\n",
    "    return count(r);\n",
    " \"\"\"\n",
    "r = graph.data(q)\n",
    "pd.DataFrame(r)"
   ]
  },
  {
   "cell_type": "code",
   "execution_count": 20,
   "metadata": {
    "collapsed": false
   },
   "outputs": [
    {
     "data": {
      "text/html": [
       "<div>\n",
       "<table border=\"1\" class=\"dataframe\">\n",
       "  <thead>\n",
       "    <tr style=\"text-align: right;\">\n",
       "      <th></th>\n",
       "      <th>sum(r.traffic)</th>\n",
       "    </tr>\n",
       "  </thead>\n",
       "  <tbody>\n",
       "    <tr>\n",
       "      <th>0</th>\n",
       "      <td>18749871</td>\n",
       "    </tr>\n",
       "  </tbody>\n",
       "</table>\n",
       "</div>"
      ],
      "text/plain": [
       "   sum(r.traffic)\n",
       "0        18749871"
      ]
     },
     "execution_count": 20,
     "metadata": {},
     "output_type": "execute_result"
    }
   ],
   "source": [
    "# search traffic volume in the graph\n",
    "q = \"\"\"\n",
    "    match ()-[r:SEARCH_FOR]->()\n",
    "    return sum(r.traffic);\n",
    " \"\"\"\n",
    "r = graph.data(q)\n",
    "pd.DataFrame(r)"
   ]
  },
  {
   "cell_type": "code",
   "execution_count": 16,
   "metadata": {
    "collapsed": false
   },
   "outputs": [
    {
     "data": {
      "text/html": [
       "<div>\n",
       "<table border=\"1\" class=\"dataframe\">\n",
       "  <thead>\n",
       "    <tr style=\"text-align: right;\">\n",
       "      <th></th>\n",
       "      <th>count(p)</th>\n",
       "    </tr>\n",
       "  </thead>\n",
       "  <tbody>\n",
       "    <tr>\n",
       "      <th>0</th>\n",
       "      <td>85226</td>\n",
       "    </tr>\n",
       "  </tbody>\n",
       "</table>\n",
       "</div>"
      ],
      "text/plain": [
       "   count(p)\n",
       "0     85226"
      ]
     },
     "execution_count": 16,
     "metadata": {},
     "output_type": "execute_result"
    }
   ],
   "source": [
    "# number of reciprocal LINK_TO/SEARCH_FOR relationships\n",
    "q = \"\"\"\n",
    "    match p=(a)-[:LINK_TO]->(b)-[:SEARCH_FOR]->(a)\n",
    "    return count(p);\n",
    " \"\"\"\n",
    "r = graph.data(q)\n",
    "pd.DataFrame(r)\n"
   ]
  },
  {
   "cell_type": "code",
   "execution_count": 21,
   "metadata": {
    "collapsed": false
   },
   "outputs": [
    {
     "data": {
      "text/html": [
       "<div>\n",
       "<table border=\"1\" class=\"dataframe\">\n",
       "  <thead>\n",
       "    <tr style=\"text-align: right;\">\n",
       "      <th></th>\n",
       "      <th>count(p)/2</th>\n",
       "    </tr>\n",
       "  </thead>\n",
       "  <tbody>\n",
       "    <tr>\n",
       "      <th>0</th>\n",
       "      <td>2959959</td>\n",
       "    </tr>\n",
       "  </tbody>\n",
       "</table>\n",
       "</div>"
      ],
      "text/plain": [
       "   count(p)/2\n",
       "0     2959959"
      ]
     },
     "execution_count": 21,
     "metadata": {},
     "output_type": "execute_result"
    }
   ],
   "source": [
    "# number of reciprocal LINK_TO relationships\n",
    "q = \"\"\"\n",
    "    match p=(a)-[r1:LINK_TO]->(b)-[r2:LINK_TO]->(a)\n",
    "    return count(p)/2;\n",
    " \"\"\"\n",
    "r = graph.data(q)\n",
    "pd.DataFrame(r)"
   ]
  },
  {
   "cell_type": "code",
   "execution_count": 22,
   "metadata": {
    "collapsed": false
   },
   "outputs": [
    {
     "data": {
      "text/html": [
       "<div>\n",
       "<table border=\"1\" class=\"dataframe\">\n",
       "  <thead>\n",
       "    <tr style=\"text-align: right;\">\n",
       "      <th></th>\n",
       "      <th>count(p)/2</th>\n",
       "    </tr>\n",
       "  </thead>\n",
       "  <tbody>\n",
       "    <tr>\n",
       "      <th>0</th>\n",
       "      <td>33236</td>\n",
       "    </tr>\n",
       "  </tbody>\n",
       "</table>\n",
       "</div>"
      ],
      "text/plain": [
       "   count(p)/2\n",
       "0       33236"
      ]
     },
     "execution_count": 22,
     "metadata": {},
     "output_type": "execute_result"
    }
   ],
   "source": [
    "# number of reciprocal SEARCH_FOR relationships\n",
    "q = \"\"\"\n",
    "    match p=(a)-[r1:SEARCH_FOR]->(b)-[r2:SEARCH_FOR]->(a)\n",
    "    return count(p)/2;\n",
    " \"\"\"\n",
    "r = graph.data(q)\n",
    "pd.DataFrame(r)"
   ]
  },
  {
   "cell_type": "markdown",
   "metadata": {},
   "source": [
    "### Calculate degrees"
   ]
  },
  {
   "cell_type": "code",
   "execution_count": null,
   "metadata": {
    "collapsed": true
   },
   "outputs": [],
   "source": [
    "# cypher-shell query to calculate degrees and save them on nodes\n",
    "MATCH (a:Article)\n",
    "SET a.search_in_degree = size((a)<-[:SEARCH_FOR]-()),\n",
    "    a.search_out_degree = size((a)-[:SEARCH_FOR]->()),\n",
    "    a.link_in_degree = size((a)<-[:LINK_TO]-()),\n",
    "    a.link_out_degree = size((a)-[:LINK_TO]->())\n",
    ";\n",
    "# 0 rows available after 75292 ms, consumed after another 0 ms\n",
    "# Set 20742796 properties\n"
   ]
  },
  {
   "cell_type": "code",
   "execution_count": null,
   "metadata": {
    "collapsed": true
   },
   "outputs": [],
   "source": [
    "# cypher-shell queries to calculate traffic volumes per node and save them on nodes\n",
    "\n",
    "# in-search traffic\n",
    "MATCH (a:Article)<-[si:SEARCH_FOR]-()\n",
    "WITH a, SUM(si.traffic) AS s\n",
    "SET a.search_in_traffic = s\n",
    ";\n",
    "# 0 rows available after 12231 ms, consumed after another 0 ms\n",
    "# Set 249765 properties\n",
    "\n",
    "\n",
    "# out-search traffic\n",
    "MATCH (a:Article)-[so:SEARCH_FOR]->()\n",
    "WITH a, SUM(so.traffic) AS s\n",
    "SET a.search_out_traffic = s\n",
    ";\n",
    "# 0 rows available after 9980 ms, consumed after another 0 ms\n",
    "# Set 237126 properties\n",
    "\n",
    "\n",
    "# in-link traffic\n",
    "MATCH (a:Article)<-[li:LINK_TO]-()\n",
    "WITH a, SUM(li.traffic) AS s\n",
    "SET a.link_in_traffic = s\n",
    ";\n",
    "# 0 rows available after 61065 ms, consumed after another 0 ms\n",
    "# Set 2598301 properties\n",
    "\n",
    "\n",
    "\n",
    "# out-link traffic\n",
    "MATCH (a:Article)-[lo:LINK_TO]->()\n",
    "WITH a, SUM(lo.traffic) AS s\n",
    "SET a.link_out_traffic = s\n",
    ";\n",
    "# 0 rows available after 59575 ms, consumed after another 0 ms\n",
    "# Set 1703704 properties\n",
    "\n"
   ]
  },
  {
   "cell_type": "markdown",
   "metadata": {
    "collapsed": true
   },
   "source": [
    "#### Install Apoc procedures  \n",
    "Instructions: https://neo4j-contrib.github.io/neo4j-apoc-procedures/#_installation_in_neo4j_server_docker  \n",
    "**Note:** Currently, those instructions link to Apoc 3.4.x, which is not compatible with the latest neo4j version, which is 3.5.x. Instead, check the compatibility matrix [here](https://github.com/neo4j-contrib/neo4j-apoc-procedures#version-compatibility-matrix) and download the appropriate Apoc version, or go to https://github.com/neo4j-contrib/neo4j-apoc-procedures/releases/ to get the latest Apoc release at the top."
   ]
  },
  {
   "cell_type": "markdown",
   "metadata": {
    "collapsed": true
   },
   "source": [
    "#### Install Algo procedures  \n",
    "Instructions: https://neo4j.com/docs/graph-algorithms/current/introduction/#_installation "
   ]
  },
  {
   "cell_type": "code",
   "execution_count": 11,
   "metadata": {
    "collapsed": false
   },
   "outputs": [],
   "source": [
    "# get a listing of all labels and properties\n",
    "q = \"\"\"call apoc.meta.data();\"\"\"\n",
    "r = graph.data(q)\n",
    "graph_metadata = pd.DataFrame(r)"
   ]
  },
  {
   "cell_type": "code",
   "execution_count": 12,
   "metadata": {
    "collapsed": false
   },
   "outputs": [],
   "source": [
    "graph_metadata = graph_metadata[[\"label\", \"elementType\", \"index\", \"property\", \"type\", \"unique\"]]"
   ]
  },
  {
   "cell_type": "code",
   "execution_count": 13,
   "metadata": {
    "collapsed": false
   },
   "outputs": [
    {
     "data": {
      "text/html": [
       "<div>\n",
       "<table border=\"1\" class=\"dataframe\">\n",
       "  <thead>\n",
       "    <tr style=\"text-align: right;\">\n",
       "      <th></th>\n",
       "      <th>label</th>\n",
       "      <th>elementType</th>\n",
       "      <th>index</th>\n",
       "      <th>property</th>\n",
       "      <th>type</th>\n",
       "      <th>unique</th>\n",
       "    </tr>\n",
       "  </thead>\n",
       "  <tbody>\n",
       "    <tr>\n",
       "      <th>0</th>\n",
       "      <td>LINK_TO</td>\n",
       "      <td>relationship</td>\n",
       "      <td>False</td>\n",
       "      <td>Article</td>\n",
       "      <td>RELATIONSHIP</td>\n",
       "      <td>False</td>\n",
       "    </tr>\n",
       "    <tr>\n",
       "      <th>1</th>\n",
       "      <td>LINK_TO</td>\n",
       "      <td>relationship</td>\n",
       "      <td>False</td>\n",
       "      <td>traffic</td>\n",
       "      <td>INTEGER</td>\n",
       "      <td>False</td>\n",
       "    </tr>\n",
       "    <tr>\n",
       "      <th>2</th>\n",
       "      <td>SEARCH_FOR</td>\n",
       "      <td>relationship</td>\n",
       "      <td>False</td>\n",
       "      <td>Article</td>\n",
       "      <td>RELATIONSHIP</td>\n",
       "      <td>False</td>\n",
       "    </tr>\n",
       "    <tr>\n",
       "      <th>3</th>\n",
       "      <td>SEARCH_FOR</td>\n",
       "      <td>relationship</td>\n",
       "      <td>False</td>\n",
       "      <td>traffic</td>\n",
       "      <td>INTEGER</td>\n",
       "      <td>False</td>\n",
       "    </tr>\n",
       "    <tr>\n",
       "      <th>4</th>\n",
       "      <td>Article</td>\n",
       "      <td>node</td>\n",
       "      <td>False</td>\n",
       "      <td>LINK_TO</td>\n",
       "      <td>RELATIONSHIP</td>\n",
       "      <td>False</td>\n",
       "    </tr>\n",
       "    <tr>\n",
       "      <th>5</th>\n",
       "      <td>Article</td>\n",
       "      <td>node</td>\n",
       "      <td>False</td>\n",
       "      <td>search_traffic_to_hyphen_minus</td>\n",
       "      <td>INTEGER</td>\n",
       "      <td>False</td>\n",
       "    </tr>\n",
       "    <tr>\n",
       "      <th>6</th>\n",
       "      <td>Article</td>\n",
       "      <td>node</td>\n",
       "      <td>False</td>\n",
       "      <td>search_traffic_to_main_page</td>\n",
       "      <td>INTEGER</td>\n",
       "      <td>False</td>\n",
       "    </tr>\n",
       "    <tr>\n",
       "      <th>7</th>\n",
       "      <td>Article</td>\n",
       "      <td>node</td>\n",
       "      <td>False</td>\n",
       "      <td>external_website_traffic</td>\n",
       "      <td>INTEGER</td>\n",
       "      <td>False</td>\n",
       "    </tr>\n",
       "    <tr>\n",
       "      <th>8</th>\n",
       "      <td>Article</td>\n",
       "      <td>node</td>\n",
       "      <td>False</td>\n",
       "      <td>search_in_traffic</td>\n",
       "      <td>INTEGER</td>\n",
       "      <td>False</td>\n",
       "    </tr>\n",
       "    <tr>\n",
       "      <th>9</th>\n",
       "      <td>Article</td>\n",
       "      <td>node</td>\n",
       "      <td>False</td>\n",
       "      <td>search_out_traffic</td>\n",
       "      <td>INTEGER</td>\n",
       "      <td>False</td>\n",
       "    </tr>\n",
       "    <tr>\n",
       "      <th>10</th>\n",
       "      <td>Article</td>\n",
       "      <td>node</td>\n",
       "      <td>False</td>\n",
       "      <td>search_traffic_from_main_page</td>\n",
       "      <td>INTEGER</td>\n",
       "      <td>False</td>\n",
       "    </tr>\n",
       "    <tr>\n",
       "      <th>11</th>\n",
       "      <td>Article</td>\n",
       "      <td>node</td>\n",
       "      <td>False</td>\n",
       "      <td>link_out_degree</td>\n",
       "      <td>INTEGER</td>\n",
       "      <td>False</td>\n",
       "    </tr>\n",
       "    <tr>\n",
       "      <th>12</th>\n",
       "      <td>Article</td>\n",
       "      <td>node</td>\n",
       "      <td>False</td>\n",
       "      <td>link_in_traffic</td>\n",
       "      <td>INTEGER</td>\n",
       "      <td>False</td>\n",
       "    </tr>\n",
       "    <tr>\n",
       "      <th>13</th>\n",
       "      <td>Article</td>\n",
       "      <td>node</td>\n",
       "      <td>False</td>\n",
       "      <td>link_out_traffic</td>\n",
       "      <td>INTEGER</td>\n",
       "      <td>False</td>\n",
       "    </tr>\n",
       "    <tr>\n",
       "      <th>14</th>\n",
       "      <td>Article</td>\n",
       "      <td>node</td>\n",
       "      <td>False</td>\n",
       "      <td>unknown_external_traffic</td>\n",
       "      <td>INTEGER</td>\n",
       "      <td>False</td>\n",
       "    </tr>\n",
       "    <tr>\n",
       "      <th>15</th>\n",
       "      <td>Article</td>\n",
       "      <td>node</td>\n",
       "      <td>False</td>\n",
       "      <td>external_search_traffic</td>\n",
       "      <td>INTEGER</td>\n",
       "      <td>False</td>\n",
       "    </tr>\n",
       "    <tr>\n",
       "      <th>16</th>\n",
       "      <td>Article</td>\n",
       "      <td>node</td>\n",
       "      <td>False</td>\n",
       "      <td>search_in_degree</td>\n",
       "      <td>INTEGER</td>\n",
       "      <td>False</td>\n",
       "    </tr>\n",
       "    <tr>\n",
       "      <th>17</th>\n",
       "      <td>Article</td>\n",
       "      <td>node</td>\n",
       "      <td>False</td>\n",
       "      <td>search_out_degree</td>\n",
       "      <td>INTEGER</td>\n",
       "      <td>False</td>\n",
       "    </tr>\n",
       "    <tr>\n",
       "      <th>18</th>\n",
       "      <td>Article</td>\n",
       "      <td>node</td>\n",
       "      <td>False</td>\n",
       "      <td>link_in_degree</td>\n",
       "      <td>INTEGER</td>\n",
       "      <td>False</td>\n",
       "    </tr>\n",
       "    <tr>\n",
       "      <th>19</th>\n",
       "      <td>Article</td>\n",
       "      <td>node</td>\n",
       "      <td>True</td>\n",
       "      <td>title</td>\n",
       "      <td>STRING</td>\n",
       "      <td>True</td>\n",
       "    </tr>\n",
       "    <tr>\n",
       "      <th>20</th>\n",
       "      <td>Article</td>\n",
       "      <td>node</td>\n",
       "      <td>False</td>\n",
       "      <td>empty_referer_traffic</td>\n",
       "      <td>INTEGER</td>\n",
       "      <td>False</td>\n",
       "    </tr>\n",
       "    <tr>\n",
       "      <th>21</th>\n",
       "      <td>Article</td>\n",
       "      <td>node</td>\n",
       "      <td>False</td>\n",
       "      <td>other_wikimedia_traffic</td>\n",
       "      <td>INTEGER</td>\n",
       "      <td>False</td>\n",
       "    </tr>\n",
       "    <tr>\n",
       "      <th>22</th>\n",
       "      <td>Article</td>\n",
       "      <td>node</td>\n",
       "      <td>False</td>\n",
       "      <td>SEARCH_FOR</td>\n",
       "      <td>RELATIONSHIP</td>\n",
       "      <td>False</td>\n",
       "    </tr>\n",
       "  </tbody>\n",
       "</table>\n",
       "</div>"
      ],
      "text/plain": [
       "         label   elementType  index                        property  \\\n",
       "0      LINK_TO  relationship  False                         Article   \n",
       "1      LINK_TO  relationship  False                         traffic   \n",
       "2   SEARCH_FOR  relationship  False                         Article   \n",
       "3   SEARCH_FOR  relationship  False                         traffic   \n",
       "4      Article          node  False                         LINK_TO   \n",
       "5      Article          node  False  search_traffic_to_hyphen_minus   \n",
       "6      Article          node  False     search_traffic_to_main_page   \n",
       "7      Article          node  False        external_website_traffic   \n",
       "8      Article          node  False               search_in_traffic   \n",
       "9      Article          node  False              search_out_traffic   \n",
       "10     Article          node  False   search_traffic_from_main_page   \n",
       "11     Article          node  False                 link_out_degree   \n",
       "12     Article          node  False                 link_in_traffic   \n",
       "13     Article          node  False                link_out_traffic   \n",
       "14     Article          node  False        unknown_external_traffic   \n",
       "15     Article          node  False         external_search_traffic   \n",
       "16     Article          node  False                search_in_degree   \n",
       "17     Article          node  False               search_out_degree   \n",
       "18     Article          node  False                  link_in_degree   \n",
       "19     Article          node   True                           title   \n",
       "20     Article          node  False           empty_referer_traffic   \n",
       "21     Article          node  False         other_wikimedia_traffic   \n",
       "22     Article          node  False                      SEARCH_FOR   \n",
       "\n",
       "            type unique  \n",
       "0   RELATIONSHIP  False  \n",
       "1        INTEGER  False  \n",
       "2   RELATIONSHIP  False  \n",
       "3        INTEGER  False  \n",
       "4   RELATIONSHIP  False  \n",
       "5        INTEGER  False  \n",
       "6        INTEGER  False  \n",
       "7        INTEGER  False  \n",
       "8        INTEGER  False  \n",
       "9        INTEGER  False  \n",
       "10       INTEGER  False  \n",
       "11       INTEGER  False  \n",
       "12       INTEGER  False  \n",
       "13       INTEGER  False  \n",
       "14       INTEGER  False  \n",
       "15       INTEGER  False  \n",
       "16       INTEGER  False  \n",
       "17       INTEGER  False  \n",
       "18       INTEGER  False  \n",
       "19        STRING   True  \n",
       "20       INTEGER  False  \n",
       "21       INTEGER  False  \n",
       "22  RELATIONSHIP  False  "
      ]
     },
     "execution_count": 13,
     "metadata": {},
     "output_type": "execute_result"
    }
   ],
   "source": [
    "graph_metadata"
   ]
  },
  {
   "cell_type": "markdown",
   "metadata": {},
   "source": [
    "Many of the calculated and imported numerical properties on the nodes are either null or positive. The null values would not be counted in aggregate stats, so let's replace them with 0s."
   ]
  },
  {
   "cell_type": "code",
   "execution_count": 32,
   "metadata": {
    "collapsed": false
   },
   "outputs": [
    {
     "data": {
      "text/plain": [
       "array(['search_traffic_to_hyphen_minus', 'search_traffic_to_main_page',\n",
       "       'external_website_traffic', 'search_in_traffic',\n",
       "       'search_out_traffic', 'search_traffic_from_main_page',\n",
       "       'link_in_traffic', 'link_out_traffic', 'unknown_external_traffic',\n",
       "       'external_search_traffic', 'empty_referer_traffic',\n",
       "       'other_wikimedia_traffic'], dtype=object)"
      ]
     },
     "execution_count": 32,
     "metadata": {},
     "output_type": "execute_result"
    }
   ],
   "source": [
    "article_properties_to_update = graph_metadata[(graph_metadata.label == \"Article\") \\\n",
    "                                              & (graph_metadata[\"type\"] == \"INTEGER\") \\\n",
    "                                              & (graph_metadata[\"property\"].str[-6:] != \"degree\")\n",
    "                                             ][\"property\"].values\n",
    "\n",
    "article_properties_to_update"
   ]
  },
  {
   "cell_type": "code",
   "execution_count": 53,
   "metadata": {
    "collapsed": false
   },
   "outputs": [
    {
     "name": "stdout",
     "output_type": "stream",
     "text": [
      "Ran query: \n",
      "    MATCH (a:Article) \n",
      "    WHERE a.link_in_traffic is null\n",
      "    SET a.link_in_traffic = 0;\n",
      "    \n",
      "Elapsed time: 0.9 min\n",
      "\n",
      "Ran query: \n",
      "    MATCH (a:Article) \n",
      "    WHERE a.link_out_traffic is null\n",
      "    SET a.link_out_traffic = 0;\n",
      "    \n",
      "Elapsed time: 1.95 min\n",
      "\n",
      "Ran query: \n",
      "    MATCH (a:Article) \n",
      "    WHERE a.external_search_traffic is null\n",
      "    SET a.external_search_traffic = 0;\n",
      "    \n",
      "Elapsed time: 2.56 min\n",
      "\n",
      "Ran query: \n",
      "    MATCH (a:Article) \n",
      "    WHERE a.empty_referer_traffic is null\n",
      "    SET a.empty_referer_traffic = 0;\n",
      "    \n",
      "Elapsed time: 2.66 min\n",
      "\n",
      "Ran query: \n",
      "    MATCH (a:Article) \n",
      "    WHERE a.other_wikimedia_traffic is null\n",
      "    SET a.other_wikimedia_traffic = 0;\n",
      "    \n",
      "Elapsed time: 3.82 min\n",
      "\n",
      "Ran query: \n",
      "    MATCH (a:Article) \n",
      "    WHERE a.unknown_external_traffic is null\n",
      "    SET a.unknown_external_traffic = 0;\n",
      "    \n",
      "Elapsed time: 5.4 min\n",
      "\n",
      "Ran query: \n",
      "    MATCH (a:Article) \n",
      "    WHERE a.external_website_traffic is null\n",
      "    SET a.external_website_traffic = 0;\n",
      "    \n",
      "Elapsed time: 6.84 min\n",
      "\n",
      "Ran query: \n",
      "    MATCH (a:Article) \n",
      "    WHERE a.search_in_traffic is null\n",
      "    SET a.search_in_traffic = 0;\n",
      "    \n",
      "Elapsed time: 8.34 min\n",
      "\n",
      "Ran query: \n",
      "    MATCH (a:Article) \n",
      "    WHERE a.search_out_traffic is null\n",
      "    SET a.search_out_traffic = 0;\n",
      "    \n",
      "Elapsed time: 10.18 min\n",
      "\n",
      "Ran query: \n",
      "    MATCH (a:Article) \n",
      "    WHERE a.search_traffic_from_main_page is null\n",
      "    SET a.search_traffic_from_main_page = 0;\n",
      "    \n",
      "Elapsed time: 12.17 min\n",
      "\n",
      "Ran query: \n",
      "    MATCH (a:Article) \n",
      "    WHERE a.search_traffic_to_hyphen_minus is null\n",
      "    SET a.search_traffic_to_hyphen_minus = 0;\n",
      "    \n",
      "Elapsed time: 14.16 min\n",
      "\n",
      "Ran query: \n",
      "    MATCH (a:Article) \n",
      "    WHERE a.search_traffic_to_main_page is null\n",
      "    SET a.search_traffic_to_main_page = 0;\n",
      "    \n",
      "Elapsed time: 16.01 min\n",
      "\n"
     ]
    },
    {
     "data": {
      "text/html": [
       "\n",
       "                <audio controls=\"controls\" autoplay=\"autoplay\">\n",
       "                    <source src=\"data:audio/wav;base64,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\" type=\"audio/wav\" />\n",
       "                    Your browser does not support the audio element.\n",
       "                </audio>\n",
       "              "
      ],
      "text/plain": [
       "<IPython.lib.display.Audio object>"
      ]
     },
     "metadata": {},
     "output_type": "display_data"
    },
    {
     "name": "stdout",
     "output_type": "stream",
     "text": [
      "Runtime: 16.01 min\n",
      "\n"
     ]
    }
   ],
   "source": [
    "start_time = timer()\n",
    "for p in article_properties_to_update:\n",
    "    q = \"\"\"\n",
    "    MATCH (a:Article) \n",
    "    WHERE a.%s is null\n",
    "    SET a.%s = 0;\n",
    "    \"\"\" %(p,p)\n",
    "    \n",
    "    r = graph.run(q)\n",
    "    \n",
    "    print(\"Ran query:\", q)\n",
    "    print(\"Elapsed time:\", round((timer() - start_time)/60, 2), \"min\\n\")\n",
    "    \n",
    "\n",
    "cu.printRunTime(start_time)"
   ]
  },
  {
   "cell_type": "code",
   "execution_count": 33,
   "metadata": {
    "collapsed": false
   },
   "outputs": [
    {
     "name": "stdout",
     "output_type": "stream",
     "text": [
      "Ran query: \n",
      "    MATCH (a:Article) \n",
      "    WHERE a.search_traffic_to_hyphen_minus = 0\n",
      "    REMOVE a.search_traffic_to_hyphen_minus;\n",
      "    \n",
      "Elapsed time: 1.47 min\n",
      "\n",
      "Ran query: \n",
      "    MATCH (a:Article) \n",
      "    WHERE a.search_traffic_to_main_page = 0\n",
      "    REMOVE a.search_traffic_to_main_page;\n",
      "    \n",
      "Elapsed time: 3.74 min\n",
      "\n",
      "Ran query: \n",
      "    MATCH (a:Article) \n",
      "    WHERE a.external_website_traffic = 0\n",
      "    REMOVE a.external_website_traffic;\n",
      "    \n",
      "Elapsed time: 5.44 min\n",
      "\n",
      "Ran query: \n",
      "    MATCH (a:Article) \n",
      "    WHERE a.search_in_traffic = 0\n",
      "    REMOVE a.search_in_traffic;\n",
      "    \n",
      "Elapsed time: 6.83 min\n",
      "\n",
      "Ran query: \n",
      "    MATCH (a:Article) \n",
      "    WHERE a.search_out_traffic = 0\n",
      "    REMOVE a.search_out_traffic;\n",
      "    \n",
      "Elapsed time: 8.65 min\n",
      "\n",
      "Ran query: \n",
      "    MATCH (a:Article) \n",
      "    WHERE a.search_traffic_from_main_page = 0\n",
      "    REMOVE a.search_traffic_from_main_page;\n",
      "    \n",
      "Elapsed time: 10.71 min\n",
      "\n",
      "Ran query: \n",
      "    MATCH (a:Article) \n",
      "    WHERE a.link_in_traffic = 0\n",
      "    REMOVE a.link_in_traffic;\n",
      "    \n",
      "Elapsed time: 11.47 min\n",
      "\n",
      "Ran query: \n",
      "    MATCH (a:Article) \n",
      "    WHERE a.link_out_traffic = 0\n",
      "    REMOVE a.link_out_traffic;\n",
      "    \n",
      "Elapsed time: 12.41 min\n",
      "\n",
      "Ran query: \n",
      "    MATCH (a:Article) \n",
      "    WHERE a.unknown_external_traffic = 0\n",
      "    REMOVE a.unknown_external_traffic;\n",
      "    \n",
      "Elapsed time: 14.02 min\n",
      "\n",
      "Ran query: \n",
      "    MATCH (a:Article) \n",
      "    WHERE a.external_search_traffic = 0\n",
      "    REMOVE a.external_search_traffic;\n",
      "    \n",
      "Elapsed time: 14.69 min\n",
      "\n",
      "Ran query: \n",
      "    MATCH (a:Article) \n",
      "    WHERE a.empty_referer_traffic = 0\n",
      "    REMOVE a.empty_referer_traffic;\n",
      "    \n",
      "Elapsed time: 14.79 min\n",
      "\n",
      "Ran query: \n",
      "    MATCH (a:Article) \n",
      "    WHERE a.other_wikimedia_traffic = 0\n",
      "    REMOVE a.other_wikimedia_traffic;\n",
      "    \n",
      "Elapsed time: 16.15 min\n",
      "\n"
     ]
    },
    {
     "data": {
      "text/html": [
       "\n",
       "                <audio controls=\"controls\" autoplay=\"autoplay\">\n",
       "                    <source src=\"data:audio/wav;base64,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\" type=\"audio/wav\" />\n",
       "                    Your browser does not support the audio element.\n",
       "                </audio>\n",
       "              "
      ],
      "text/plain": [
       "<IPython.lib.display.Audio object>"
      ]
     },
     "metadata": {},
     "output_type": "display_data"
    },
    {
     "name": "stdout",
     "output_type": "stream",
     "text": [
      "Runtime: 16.15 min\n",
      "\n"
     ]
    }
   ],
   "source": [
    "# undo the above \n",
    "start_time = timer()\n",
    "for p in article_properties_to_update:\n",
    "    q = \"\"\"\n",
    "    MATCH (a:Article) \n",
    "    WHERE a.%s = 0\n",
    "    REMOVE a.%s;\n",
    "    \"\"\" %(p,p)\n",
    "    \n",
    "    r = graph.run(q)\n",
    "    \n",
    "    print(\"Ran query:\", q)\n",
    "    print(\"Elapsed time:\", round((timer() - start_time)/60, 2), \"min\\n\")\n",
    "    \n",
    "\n",
    "cu.printRunTime(start_time)"
   ]
  },
  {
   "cell_type": "code",
   "execution_count": null,
   "metadata": {
    "collapsed": true
   },
   "outputs": [],
   "source": []
  },
  {
   "cell_type": "code",
   "execution_count": 39,
   "metadata": {
    "collapsed": false
   },
   "outputs": [
    {
     "data": {
      "text/plain": [
       "sys.version_info(major=3, minor=5, micro=2, releaselevel='final', serial=0)"
      ]
     },
     "execution_count": 39,
     "metadata": {},
     "output_type": "execute_result"
    }
   ],
   "source": [
    "import sys\n",
    "sys.version_info"
   ]
  },
  {
   "cell_type": "markdown",
   "metadata": {},
   "source": [
    "#### Calculate descriptive stats for numeric node properties"
   ]
  },
  {
   "cell_type": "code",
   "execution_count": 14,
   "metadata": {
    "collapsed": false
   },
   "outputs": [
    {
     "data": {
      "text/plain": [
       "array(['search_traffic_to_hyphen_minus', 'search_traffic_to_main_page',\n",
       "       'external_website_traffic', 'search_in_traffic',\n",
       "       'search_out_traffic', 'search_traffic_from_main_page',\n",
       "       'link_out_degree', 'link_in_traffic', 'link_out_traffic',\n",
       "       'unknown_external_traffic', 'external_search_traffic',\n",
       "       'search_in_degree', 'search_out_degree', 'link_in_degree',\n",
       "       'empty_referer_traffic', 'other_wikimedia_traffic'], dtype=object)"
      ]
     },
     "execution_count": 14,
     "metadata": {},
     "output_type": "execute_result"
    }
   ],
   "source": [
    "article_num_properties = graph_metadata[(graph_metadata.label == \"Article\") \\\n",
    "                                              & (graph_metadata[\"type\"] == \"INTEGER\")\n",
    "                                             ][\"property\"].values\n",
    "\n",
    "article_num_properties"
   ]
  },
  {
   "cell_type": "code",
   "execution_count": 34,
   "metadata": {
    "collapsed": false,
    "scrolled": false
   },
   "outputs": [
    {
     "name": "stdout",
     "output_type": "stream",
     "text": [
      "Ran query: \n",
      "    MATCH (a:Article) \n",
      "    RETURN \n",
      "        count(a.search_traffic_to_hyphen_minus) as count,\n",
      "        avg(a.search_traffic_to_hyphen_minus) as avg,\n",
      "        min(a.search_traffic_to_hyphen_minus) as min,\n",
      "        percentileDisc(a.search_traffic_to_hyphen_minus, 0.25) as quartile_1,\n",
      "        percentileDisc(a.search_traffic_to_hyphen_minus, 0.5) as median,\n",
      "        percentileDisc(a.search_traffic_to_hyphen_minus, 0.75) as quartile_3,\n",
      "        max(a.search_traffic_to_hyphen_minus) as max,\n",
      "        sum(a.search_traffic_to_hyphen_minus) as sum\n",
      "        ;\n",
      "    \n",
      "Elapsed time: 0.49 min\n",
      "\n",
      "Ran query: \n",
      "    MATCH (a:Article) \n",
      "    RETURN \n",
      "        count(a.search_traffic_to_main_page) as count,\n",
      "        avg(a.search_traffic_to_main_page) as avg,\n",
      "        min(a.search_traffic_to_main_page) as min,\n",
      "        percentileDisc(a.search_traffic_to_main_page, 0.25) as quartile_1,\n",
      "        percentileDisc(a.search_traffic_to_main_page, 0.5) as median,\n",
      "        percentileDisc(a.search_traffic_to_main_page, 0.75) as quartile_3,\n",
      "        max(a.search_traffic_to_main_page) as max,\n",
      "        sum(a.search_traffic_to_main_page) as sum\n",
      "        ;\n",
      "    \n",
      "Elapsed time: 0.97 min\n",
      "\n",
      "Ran query: \n",
      "    MATCH (a:Article) \n",
      "    RETURN \n",
      "        count(a.external_website_traffic) as count,\n",
      "        avg(a.external_website_traffic) as avg,\n",
      "        min(a.external_website_traffic) as min,\n",
      "        percentileDisc(a.external_website_traffic, 0.25) as quartile_1,\n",
      "        percentileDisc(a.external_website_traffic, 0.5) as median,\n",
      "        percentileDisc(a.external_website_traffic, 0.75) as quartile_3,\n",
      "        max(a.external_website_traffic) as max,\n",
      "        sum(a.external_website_traffic) as sum\n",
      "        ;\n",
      "    \n",
      "Elapsed time: 1.49 min\n",
      "\n",
      "Ran query: \n",
      "    MATCH (a:Article) \n",
      "    RETURN \n",
      "        count(a.search_in_traffic) as count,\n",
      "        avg(a.search_in_traffic) as avg,\n",
      "        min(a.search_in_traffic) as min,\n",
      "        percentileDisc(a.search_in_traffic, 0.25) as quartile_1,\n",
      "        percentileDisc(a.search_in_traffic, 0.5) as median,\n",
      "        percentileDisc(a.search_in_traffic, 0.75) as quartile_3,\n",
      "        max(a.search_in_traffic) as max,\n",
      "        sum(a.search_in_traffic) as sum\n",
      "        ;\n",
      "    \n",
      "Elapsed time: 1.98 min\n",
      "\n",
      "Ran query: \n",
      "    MATCH (a:Article) \n",
      "    RETURN \n",
      "        count(a.search_out_traffic) as count,\n",
      "        avg(a.search_out_traffic) as avg,\n",
      "        min(a.search_out_traffic) as min,\n",
      "        percentileDisc(a.search_out_traffic, 0.25) as quartile_1,\n",
      "        percentileDisc(a.search_out_traffic, 0.5) as median,\n",
      "        percentileDisc(a.search_out_traffic, 0.75) as quartile_3,\n",
      "        max(a.search_out_traffic) as max,\n",
      "        sum(a.search_out_traffic) as sum\n",
      "        ;\n",
      "    \n",
      "Elapsed time: 2.47 min\n",
      "\n",
      "Ran query: \n",
      "    MATCH (a:Article) \n",
      "    RETURN \n",
      "        count(a.search_traffic_from_main_page) as count,\n",
      "        avg(a.search_traffic_from_main_page) as avg,\n",
      "        min(a.search_traffic_from_main_page) as min,\n",
      "        percentileDisc(a.search_traffic_from_main_page, 0.25) as quartile_1,\n",
      "        percentileDisc(a.search_traffic_from_main_page, 0.5) as median,\n",
      "        percentileDisc(a.search_traffic_from_main_page, 0.75) as quartile_3,\n",
      "        max(a.search_traffic_from_main_page) as max,\n",
      "        sum(a.search_traffic_from_main_page) as sum\n",
      "        ;\n",
      "    \n",
      "Elapsed time: 2.96 min\n",
      "\n",
      "Ran query: \n",
      "    MATCH (a:Article) \n",
      "    RETURN \n",
      "        count(a.link_out_degree) as count,\n",
      "        avg(a.link_out_degree) as avg,\n",
      "        min(a.link_out_degree) as min,\n",
      "        percentileDisc(a.link_out_degree, 0.25) as quartile_1,\n",
      "        percentileDisc(a.link_out_degree, 0.5) as median,\n",
      "        percentileDisc(a.link_out_degree, 0.75) as quartile_3,\n",
      "        max(a.link_out_degree) as max,\n",
      "        sum(a.link_out_degree) as sum\n",
      "        ;\n",
      "    \n",
      "Elapsed time: 3.53 min\n",
      "\n",
      "Ran query: \n",
      "    MATCH (a:Article) \n",
      "    RETURN \n",
      "        count(a.link_in_traffic) as count,\n",
      "        avg(a.link_in_traffic) as avg,\n",
      "        min(a.link_in_traffic) as min,\n",
      "        percentileDisc(a.link_in_traffic, 0.25) as quartile_1,\n",
      "        percentileDisc(a.link_in_traffic, 0.5) as median,\n",
      "        percentileDisc(a.link_in_traffic, 0.75) as quartile_3,\n",
      "        max(a.link_in_traffic) as max,\n",
      "        sum(a.link_in_traffic) as sum\n",
      "        ;\n",
      "    \n",
      "Elapsed time: 4.09 min\n",
      "\n",
      "Ran query: \n",
      "    MATCH (a:Article) \n",
      "    RETURN \n",
      "        count(a.link_out_traffic) as count,\n",
      "        avg(a.link_out_traffic) as avg,\n",
      "        min(a.link_out_traffic) as min,\n",
      "        percentileDisc(a.link_out_traffic, 0.25) as quartile_1,\n",
      "        percentileDisc(a.link_out_traffic, 0.5) as median,\n",
      "        percentileDisc(a.link_out_traffic, 0.75) as quartile_3,\n",
      "        max(a.link_out_traffic) as max,\n",
      "        sum(a.link_out_traffic) as sum\n",
      "        ;\n",
      "    \n",
      "Elapsed time: 4.63 min\n",
      "\n",
      "Ran query: \n",
      "    MATCH (a:Article) \n",
      "    RETURN \n",
      "        count(a.unknown_external_traffic) as count,\n",
      "        avg(a.unknown_external_traffic) as avg,\n",
      "        min(a.unknown_external_traffic) as min,\n",
      "        percentileDisc(a.unknown_external_traffic, 0.25) as quartile_1,\n",
      "        percentileDisc(a.unknown_external_traffic, 0.5) as median,\n",
      "        percentileDisc(a.unknown_external_traffic, 0.75) as quartile_3,\n",
      "        max(a.unknown_external_traffic) as max,\n",
      "        sum(a.unknown_external_traffic) as sum\n",
      "        ;\n",
      "    \n",
      "Elapsed time: 5.13 min\n",
      "\n",
      "Ran query: \n",
      "    MATCH (a:Article) \n",
      "    RETURN \n",
      "        count(a.external_search_traffic) as count,\n",
      "        avg(a.external_search_traffic) as avg,\n",
      "        min(a.external_search_traffic) as min,\n",
      "        percentileDisc(a.external_search_traffic, 0.25) as quartile_1,\n",
      "        percentileDisc(a.external_search_traffic, 0.5) as median,\n",
      "        percentileDisc(a.external_search_traffic, 0.75) as quartile_3,\n",
      "        max(a.external_search_traffic) as max,\n",
      "        sum(a.external_search_traffic) as sum\n",
      "        ;\n",
      "    \n",
      "Elapsed time: 5.82 min\n",
      "\n",
      "Ran query: \n",
      "    MATCH (a:Article) \n",
      "    RETURN \n",
      "        count(a.search_in_degree) as count,\n",
      "        avg(a.search_in_degree) as avg,\n",
      "        min(a.search_in_degree) as min,\n",
      "        percentileDisc(a.search_in_degree, 0.25) as quartile_1,\n",
      "        percentileDisc(a.search_in_degree, 0.5) as median,\n",
      "        percentileDisc(a.search_in_degree, 0.75) as quartile_3,\n",
      "        max(a.search_in_degree) as max,\n",
      "        sum(a.search_in_degree) as sum\n",
      "        ;\n",
      "    \n",
      "Elapsed time: 6.43 min\n",
      "\n",
      "Ran query: \n",
      "    MATCH (a:Article) \n",
      "    RETURN \n",
      "        count(a.search_out_degree) as count,\n",
      "        avg(a.search_out_degree) as avg,\n",
      "        min(a.search_out_degree) as min,\n",
      "        percentileDisc(a.search_out_degree, 0.25) as quartile_1,\n",
      "        percentileDisc(a.search_out_degree, 0.5) as median,\n",
      "        percentileDisc(a.search_out_degree, 0.75) as quartile_3,\n",
      "        max(a.search_out_degree) as max,\n",
      "        sum(a.search_out_degree) as sum\n",
      "        ;\n",
      "    \n",
      "Elapsed time: 7.04 min\n",
      "\n",
      "Ran query: \n",
      "    MATCH (a:Article) \n",
      "    RETURN \n",
      "        count(a.link_in_degree) as count,\n",
      "        avg(a.link_in_degree) as avg,\n",
      "        min(a.link_in_degree) as min,\n",
      "        percentileDisc(a.link_in_degree, 0.25) as quartile_1,\n",
      "        percentileDisc(a.link_in_degree, 0.5) as median,\n",
      "        percentileDisc(a.link_in_degree, 0.75) as quartile_3,\n",
      "        max(a.link_in_degree) as max,\n",
      "        sum(a.link_in_degree) as sum\n",
      "        ;\n",
      "    \n",
      "Elapsed time: 7.67 min\n",
      "\n",
      "Ran query: \n",
      "    MATCH (a:Article) \n",
      "    RETURN \n",
      "        count(a.empty_referer_traffic) as count,\n",
      "        avg(a.empty_referer_traffic) as avg,\n",
      "        min(a.empty_referer_traffic) as min,\n",
      "        percentileDisc(a.empty_referer_traffic, 0.25) as quartile_1,\n",
      "        percentileDisc(a.empty_referer_traffic, 0.5) as median,\n",
      "        percentileDisc(a.empty_referer_traffic, 0.75) as quartile_3,\n",
      "        max(a.empty_referer_traffic) as max,\n",
      "        sum(a.empty_referer_traffic) as sum\n",
      "        ;\n",
      "    \n",
      "Elapsed time: 8.48 min\n",
      "\n",
      "Ran query: \n",
      "    MATCH (a:Article) \n",
      "    RETURN \n",
      "        count(a.other_wikimedia_traffic) as count,\n",
      "        avg(a.other_wikimedia_traffic) as avg,\n",
      "        min(a.other_wikimedia_traffic) as min,\n",
      "        percentileDisc(a.other_wikimedia_traffic, 0.25) as quartile_1,\n",
      "        percentileDisc(a.other_wikimedia_traffic, 0.5) as median,\n",
      "        percentileDisc(a.other_wikimedia_traffic, 0.75) as quartile_3,\n",
      "        max(a.other_wikimedia_traffic) as max,\n",
      "        sum(a.other_wikimedia_traffic) as sum\n",
      "        ;\n",
      "    \n",
      "Elapsed time: 9.03 min\n",
      "\n"
     ]
    },
    {
     "data": {
      "text/html": [
       "\n",
       "                <audio controls=\"controls\" autoplay=\"autoplay\">\n",
       "                    <source src=\"data:audio/wav;base64,UklGRpgiAABXQVZFZm10IBAAAAABAAEARKwAAIhYAQACABAAZGF0YXQiAAAAAF8QeSALMNI+kkwPWRZkeG0Odbd6XH7uf2Z/xnwZeHRx8Wi1XupSw0V3N0EoYhgcCLX3cOeT11/IFrryrCyh9JZ3jteHMIOWgBOAq4FWhQWLoJIHnBOnlLNXwSHQtN/Q7y4AjRCmIDYw+z63TDFZM2SQbSB1xHpkfu9/YX+8fAl4XnHWaJVex1KcRUw3FCg0GO0Hh/dD52fXNcjvuc+sDaHalmGOxoclg5GAFYCzgWSFGIu5kiScNKe5s3/BTNDi3/7vXQC7ENMgYTAjP9xMUllQZKhtM3XRemt+8X9df7F8+XdIcbtodl6jUnVFIjfoJwYYvwdY9xXnOtcLyMi5q6ztoL+WTI62hxuDjYAXgLqBcYUri9GSQpxWp9+zqMF30A/gLPCMAOkQACGMMEw/Ak1zWW1kwG1Gdd56cn7yf1h/pnzpdzNxoGhWXn9STUX4Nrwn2BeQByr35+YO1+HHobmIrM6gpZY2jqeHEYOJgBiAwoF/hT+L6ZJfnHenBLTRwaPQPOBb8LoAGBEtIbcwdT8nTZVZimTYbVl163p5fvN/U3+cfNh3HXGFaDdeXFImRc42jyeqF2IH+/a55uLWt8d6uWSsr6CKliGOl4cHg4SAGoDKgYyFUosCk3ycmacqtPrBztBp4Inw6QBGEVoh4zCdP0xNtlmnZPBta3X4eoF+9X9Pf5F8yHcHcWpoF144Uv9EpDZjJ3wXMwfM9ozmttaNx1O5QayQoHCWDI6Hh/2CgIAcgNKBmoVlixqTmpy7p1C0I8L60Jbgt/AYAXQRiCEOMcY/cU3XWcRkCG5+dQV7iH72f0p/hny3d/FwT2j3XRRS2ER6NjYnThcEB572XuaJ1mTHLLkerHGgVZb2jXeH84J8gB6A2oGohXiLM5O3nN2ndbRLwiXRxODm8EYBoxG1ITkx7j+XTflZ4GQgbpB1EnuPfvd/RX98fKd323A0aNhd8FGwRE82CicgF9YGb/Yw5l3WOscFufurUqA7luGNZ4fpgniAIIDhgbWFjItLk9Wc/6ebtHTCUdHx4BTxdQHREeIhZDEXQLxNGlr9ZDhuo3Ufe5Z++H9Af3F8lnfFcBlouF3MUYlEJTbdJvMWpwZB9gLmMdYQx96416szoCGWzI1Yh9+CdIAigOmBw4Wfi2ST8pwhqMG0ncJ80R7hQ/GkAf8RDyKPMT9A4U07WhplT261dSx7nH75fzt/ZnyGd69w/meYXahRYUT7NbEmxRZ4BhL21eUF1ubGt7i0qxSgB5a3jUiH1YJwgCSA8oHRhbKLfZMQnUOo57TGwqjRTOFx8dIBLRI8IroxZ0AGTlxaNmVnbsd1OHujfvp/Nn9bfHV3mXDjZ3hdhFE6RNA1hCaXFkoG5PWn5dnVvMaQuJGr9Z/slaKNOYfLgm2AJoD6gd+FxouWky2dZagMte/C09F54Z/xAQJbEmki5TGQQCtOfVpTZX9u2nVFe6p++n8wf1B8ZHeCcMdnWF1gURJEpjVYJmkWGwa19XnlrdWTxmq4bqvWn9KVjY0ph8KCaYApgAKC7YXai6+TS52HqDK1GMP/0abhzvEwAooSliIQMrhAUE6eWm9llm7sdVJ7sX77fyt/RHxTd2xwrGc4XTxR60N7NSsmOxbtBYf1S+WB1WnGQ7hLq7efuJV4jRqHuIJlgCuACoL7he2Lx5NpnamoWLVBwyrS1OH88V8CuBLDIjsy4EB1Tr9ajGWubv51Xnu3fvx/Jn85fEJ3VnCRZxhdGFHDQ1E1/yUNFr4FWPUe5VXVP8YcuCirmJ+elWSNC4evgmKALYASggmGAYzgk4edy6h+tWvDVtIB4ivyjQLmEu8iZjIJQZpO4FqoZcVuEHZqe75+/H8gfy58MXc/cHVn+Fz0UJtDJzXSJd8VjwUp9fDkKdUWxva3Bat6n4SVT437hqWCXoAwgBuCF4YVjPmTpJ3tqKS1lMOB0i/iWfK8AhQTHCORMjFBvk4BW8Vl3G4idnd7xH79fxt/I3wgdylwWmfYXNBQdEP8NKYlsRVhBfv0w+T91OzFz7fiqlufapU6jeyGnIJbgDKAI4ImhiiMEpTCnQ+pyrW9w63SXOKH8usCQhNJI7wyWUHjTiJb4WX0bjR2g3vLfv1/FX8XfA93EnA+Z7hcrFBMQ9I0eSWDFTIFzPSV5NHUwsWpt7+qPZ9RlSWN3YaSgleANYAsgjSGPIwslOCdMqnwtebD2dKJ4rbyGQNxE3Yj5zKBQQhPQlv9ZQtvRnaPe9F+/n8Qfwx8/nb8byJnmFyHUCRDpzRMJVUVAwWe9GfkpdSZxYK3naoenzeVEY3OhomCVIA3gDSCQoZQjEWU/p1UqRa2D8QF07fi5PJIA58ToyMRM6lBLU9jWxlmIm9Ydpt7137+fwp/AHztduVvB2d3XGNQ/UJ8NCAlJxXVBG/0OuR51G/FXLd6qv+eHZX8jL+GgIJRgDqAPYJRhmSMXpQcnnapPLY5xDDT5OIT83cDzRPQIzwz0UFRT4RbNmY5b2l2qHvefv5/BH/1e9t2zm/rZldcP1DVQlI08yT5FKYEQfQM5E3URsU1t1eq4Z4DleiMsIZ3gk2APYBGgl+GeIx3lDuemaljtmLEXNMS40HzpQP7E/0jZzP5QXZPpFtSZlBve3a0e+R+/n//ful7yna4b89mN1waUK1CJzTGJMoUdwQS9N/jIdQcxQ+3NKrDnuqU04yhhm6CSoBAgE6CboaNjJGUWZ67qYm2i8SI0z/jcPPUAykUKiSSMyFCm0/FW25mZ2+NdsB76n7+f/l+3Xu5dqFvs2YWXPZPhUL9M5kknBRJBOTzseP10/PE6bYSqqSe0JS/jJOGZYJHgEOAV4J9hqGMqpR3nt6pr7a1xLTTbeOe8wMEVxRWJL0zSUK/T+ZbimZ+b552y3vwfv9/837Re6d2im+YZvZb0U9dQtIzbSRuFBoEtfOE48nTycTCtu+php63lKuMhIZcgkSARoBggouGtYzElJWeAKrVtt7E39Oa483zMQSFFIMk5zNxQuRPBlymZpVvsHbXe/Z+/n/tfsV7lnZzb3xm1VutTzVCpzNAJEAU6wOH81bjntOgxJy2zalonp2Ul4x1hlOCQYBJgGmCmobJjN2Us54jqvy2B8UL1Mjj+/NgBLMUsCQSNJlCCFAmXMFmrG/BduN7/H7+f+d+unuEdlxvYGa1W4hPDUJ8MxMkEhS9A1jzKeNy03fEdraqqUqehJSCjGeGSoI+gEyAcoKpht6M95TSnkaqIrcxxTfU9eMq9I8E4RTdJD00wUIsUEdc3WbDb9N273sCf/5/4X6ue3J2RW9EZpRbZE/lQVIz5iPkE44DKvP74kbTTcRQtoipK55rlG6MWIZBgjuAT4B7griG8owQlfCeaKpJt1rFY9Qj5Fj0vQQQFQklZzTpQlFQZ1z5Ztpv5Hb6ewd//n/bfqF7YXYubydmc1s/T71BJzO5I7YTXwP88s7iGtMkxCm2ZakNnlGUWoxKhjmCOYBSgIWCx4YHjSqVD5+Lqm+3hMWP1FHkh/TsBD4VNiWSNBBDdVCHXBVn8G/1dgZ8DX/+f9R+lXtPdhdvC2ZTWxpPlUH8Mo0jiBMxA83yoOLv0vvDA7ZDqe+dOJRGjDuGMII2gFWAjoLWhhuNRJUtn66qlbetxbvUfuS19BsFbBVjJbw0OEOZUKhcMGcHcAZ3EXwTf/1/zn6Jez12/27vZTJb9k5tQdEyYCNaEwIDn/Jz4sPS0sPdtSGp0Z0flDKMLYYngjOAWYCXguWGMI1elUyf0aq8t9fF59Ss5OT0SQWaFY8l5zRgQ75QyFxMZx5wGHcdfBh//X/Ifn17K3bobtNlEVvRTkVBpjIzIysT0wJw8kXil9Kow7e1/qiznQaUH4wehh+CMYBcgKCC9IZEjXeVap/0quO3AcYT1dnkEvV4BcgVvCURNYhD4lDoXGdnNHApdyh8Hn/9f8F+cXsZdtFutmXwWqxOHUF7MgYj/RKlAkLyGOJs0n/DkbXcqJad7ZMLjBCGF4IugGCAqoIDh1mNkZWJnxerCbgqxj/VB+VB9acF9hXoJTw1r0MGUQhdg2dKcDp3NHwjf/x/u35kewd2uW6aZdBah070QFEy2SLPEnYCE/Lq4UDSVsNrtbqoeJ3Uk/eLAoYOgiyAY4CzghKHbo2rlaifOqswuFTGa9U15W/11QUkFhUmZjXXQypRKF2eZ2FwS3c/fCh/+3+0flh79XWibn5lr1piTsxAJjKsIqESRwLl8b3hFNItw0W1mKhanbuT44v0hQaCKoBngL2CIoeDjcWVx59dq1a4fsaX1WLlnvUEBlIWQiaRNf5DTlFIXbpnd3Bcd0p8Ln/7f61+S3vjdYpuYWWOWj1OpED7MX8icxIYArfxkOHp0QTDH7V2qDydopPQi+aF/oEngGuAx4Ixh5iN35Xln4CrfbinxsPVkOXM9TMGgBZuJrs1JkRyUWhd1WeNcGx3VXwzf/p/p34/e9F1c25FZW1aGE58QNAxUiJEEuoBiPFi4b3R28L5tFSoH52Jk7yL2IX2gSWAboDQgkGHrY35lQSgo6ukuNHG79W+5fv1YQauFpsm5TVORJZRiF3wZ6RwfXdgfDh/+X+gfjJ7vnVbbihlTFrzTVNApTElIhYSuwFa8TXhktGywtS0MqgBnXGTqYvKhe2BI4BygNqCUIfCjRSWI6DGq8u4+8Yb1uvlKfaQBtwWxyYQNnVEulGoXQxounCOd2t8PX/4f5l+JXusdURuC2UqWs5NK0B6Mfgh6BGMASvxCOFm0YnCrrQQqOOcWJOVi7yF5YEhgHaA5IJgh9eNLpZCoOmr8bglx0fWGeZY9r4GChf0Jjo2nETeUchdJ2jQcJ93dnxCf/d/kn4Ze5l1LG7vZAlaqU0CQE4xyyG6EV4B/fDa4DvRYMKItO6nxpw/k4KLroXdgR+AeoDugm+H7I1IlmGgDKwYuU/Hc9ZH5of27QY3FyAnZDbERAJS511CaOZwr3eBfEd/9n+Lfgx7h3UUbtJk6FmETdo/IzGeIYsRLwHP8K3gD9E3wmK0zKeonCeTb4uhhdaBHYB+gPiCf4cBjmOWgKAvrD+5eceg1nXmtfYcB2UXTSePNutEJlIHXl1o/HDAd4x8TH/1f4R+/3p1dfxttWTHWV9NsT/4MHEhXREAAaDwgODk0A7CPbSqp4ucDpNbi5OFzoEbgIKAAoOPhxaOfZafoFOsZrmix8zWoubk9koHkxd5J7k2E0VKUideeGgScdB3lnxRf/R/fX7yemJ15G2YZKVZOk2JP80wRCEvEdIAcvBT4LjQ5cEXtIinbpz2kkiLhYXGgRmAh4AMg5+HLI6Xlr6gdqyNuczH+NbQ5hL3eQfBF6Un4zY6RW1SRl6TaChx4HehfFZ/8392fuV6T3XMbXtkhFkUTWA/ojAXIQERowBE8CXgjdC8wfKzZ6dQnN2SNYt4hb6BGICLgBaDr4dBjrKW3qCarLS59sck1/7mQfeoB+8X0icNN2FFkVJmXq5oPXHxd6x8Wn/yf29+2Ho9dbRtX2RjWe9MOD93MOog0hB0ABXw+N9i0JTBzLNFpzOcxZIii2uFt4EWgI+AIIO+h1aOzZb9oL2s27kgyFDXLOdv99YHHRj+Jzc3iEW1UoVeyWhTcQF4tnxff/B/Z37Leip1nG1CZEFZykwPP0swvSCkEEYA5+/L3zbQa8GnsyOnFpyskg+LXYWvgRSAk4Aqg86HbI7nlhyh4KwCukrIfdda5573BQhLGCsoYTevRdhSpV7jaGlxEXjBfGR/739gfr56F3WEbSRkIFmkTOc+IDCPIHYQFwC5757fC9BCwYGzAqf5m5SS/IpQhaiBE4CYgDWD34eCjgKXPKEErSm6dMip14fnzfczCHkYVyiMN9dF/FLEXv5ofnEheMt8aH/tf1h+sHoEdWxtB2T+WH9Mvj71L2IgRxDp/4rvcd/gzxnBXLPgptybfJLpikKFoIERgJyAP4Pvh5eOHZdboSitUbqfyNXXtef792IIphiDKLY3/kUgU+ReGWmUcTJ41nxtf+x/UX6jevF0VG3qY91YWUyVPsovNSAZELr/XO9D37XP8cA2s7+mvptkktaKNYWZgRCAoYBKg/+HrY43l3uhS614usnIAtjj5yr4kQjUGLAo4DclRkNTA18zaapxQnjgfHF/6n9JfpV63nQ7bc1ju1g0TGw+ni8IIOsPjP8u7xbfic/IwBGznaahm0ySw4oohZGBDoCmgFSDD4jDjlKXmqFvrZ+688gu2BHoWPi/CAIZ3CgKOExGZlMiX05pv3FReOp8dX/of0J+iHrLdCNtsGOZWA5MRD5zL9sfvA9d///u6d5ez6DA7LJ8poWbNJKxihuFioENgKqAX4MgiNiObZe6oZOtxrodyVvYP+iH+O4IMBkIKTQ4c0aKU0JfaWnUcWF49Hx5f+d/On57erh0Cm2SY3hY6UsbPkgvrR+ODy7/0e683jPPd8DGslumaJsckp6KDoWDgQyAr4BqgzCI7o6Il9mhtq3tukfJh9ht6Lb4HAleGTQpXjiaRq1TYV+DaepxcXj+fH5/5X8yfm16pXTybHVjVljDS/I9HC+AH2APAP+j7o/eCM9PwKGyOaZLmwSSi4oBhXyBC4C0gHSDQIgEj6OX+aHarRW7ccmz2Jvo5PhLCYsZYCmHOMFG0VOAX51p/3GBeAh9gn/jfyp+X3qRdNlsWGM0WJ5LyT3xLlMfMQ/R/nXuYt7dzibAfLIYpi6b7JF5ivSEdYEKgLmAf4NRiBqPvpcZov6tPLucyeDYyegT+XkJuRmNKbE46Eb0U59fuGkUcpF4En2Gf+F/I35Sen50wWw6YxJYeEugPcUuJh8DD6L+Ru413rLO/r9XsvelEZvUkWeK54RugQmAvoCKg2GIMI/ZlziiIq5ku8bJDNn26EL5qAnnGbkp2zgPRxdUvl/SaSlyoHgcfYp/338bfkR6a3SobB1j8FdSS3c9mi74HtUOdP4Y7gjehs7VvzKy1qX1mryRVIrbhGeBCIDDgJWDcohGj/SXWKJGrou78Mk52STpcPnXCRUa5SkFOTVHOlTdX+xpPnKweCZ9jn/dfxN+NnpXdI9s/2LOVyxLTj1uLssepg5F/urt291bzq2/DbK0pdiapZFCis6EYIEHgMiAoIODiFyPEJh4omqusrsbymXZUumf+QUKQhoRKi85XEddVPxfB2pTcr94MH2Sf9t/Cn4oekR0d2zhYqxXB0slPUMunh54Dhb+vO2u3TDOhL/osZOlu5qNkS+KwYRZgQaAzYCrg5SIc48rmJiijq7au0XKktmA6c35NApwGj0qWTmDR4BUG2Ahamhyz3g5fZV/2X8Cfhp6MHRebMRiilfhSvw8Fy5wHkkO6P2N7YHdBc5cv8OxcqWfmnaRHYq1hFOBBYDSgLaDpIiJj0aYuKKyrgK8b8q+2a7p/PliCp4aaSqCOapHo1Q5YDtqfXLeeEN9mX/Wf/p9DHoddEVspmJoV7tK0zzsLUMeGw65/V/tVN3azTS/nrFRpYKaXpELiqiETIEFgNiAwYO1iJ+PYpjYotauKbyayuvZ3Okr+pEKyxqVKqw50EfGVFhgVWqScu54TX2df9R/8n3+eQl0LGyIYkZXlUqqPMAtFh7tDYr9Me0n3a/NDL95sTClZppHkfmJnIRFgQSA3YDMg8aIto99mPii+q5RvMTKGNoK6ln6vwr5GsEq1jn3R+lUd2Bvaqdy/XhWfaB/0n/pffB59XMTbGpiJFdvSoE8lC3oHb4NW/0D7frchc3jvlSxEKVKmi+R54mPhD+BA4DigNiD14jMj5mYGKMer3i878pE2jjqiPruCicb7Sr/OR1IDFWWYIlqvHIMeWB9pH/Pf+F94nnhc/prTWICV0lKWDxpLbsdkA0t/dXszdxazbu+L7HvpC2aGJHViYOEOIEDgOiA44PoiOKPtJg4o0KvoLwZy3HaZuq3+hwLVBsZKyk6REgvVbRgomrQcht5aX2nf81/2X3Tec5z4WsvYt9WI0ouPD0tjR1hDf78puyg3C/Nk74Ksc6kEZoBkcOJd4QygQOA7YDvg/qI+Y/QmFijZ6/IvETLndqU6uX6SwuCG0UrUzprSFJV02C8auVyKnlyfat/yn/QfcV5unPIaxFivVb9SQU8ES1gHTMNz/x47HPcBM1rvuawraT1memQsYlrhCyBAoDzgPqDC4kQkOuYeaOLr/C8bsvK2sLqFPt5C68bcSt8OpFIdVXxYNZq+XI5eXt9rn/Hf8d9tnmmc69r82GbVtdJ3DvmLDIdBA2h/ErsR9zZzEO+wbCNpNmZ0pCfiV+EJYECgPmABoQciSaQB5mZo6+vF72Zy/fa8OpD+6gL3RudK6Y6t0iYVRBh8GoOc0h5hX2xf8V/v32oeZJzlWvVYXhWsEmzO7osBR3WDHL8HOwa3K7MG76csGykvJm7kI6JUoQfgQKA/oARhC2JPZAjmbmj1K8/vcPLI9sf63H71gsLHMkrzzreSLpVLmEJayJzV3mOfbR/wn+2fZl5fnN8a7ZhVlaKSYk7jizXHKgMQ/zu6+3bhMzzvXiwS6SgmaSQfIlGhBmBAoAEgR2EP4lUkD+Z2qP4r2e97stQ203roPsFDDgc9Sv5OgRJ3VVNYSNrN3NmeZd9t3+/f619i3lpc2NrmGEzVmRJYDtiLKoceQwV/MDrwNtZzMu9U7ArpISZjZBqiTuEE4ECgAqBKYRQiWuQWpn6oxywj70ZzH3be+vP+zMMZhwhLCI7K0kAVmthPGtLc3V5oH26f7x/pH18eVVzSWt6YRFWPkk3OzcsfBxLDOb7kuuT2y7Mo70vsAqkaJl2kFmJL4QNgQGAEIE1hGKJgpB2mRqkQbC3vUPMqtup6/37YgyTHEwsSztRSSJWiWFWa19zg3mpfb1/uX+bfW15QXMwa1xh7lUXSQ07CyxPHBwMt/tk62fbA8x7vQqw6qNNmV+QR4kjhAeBAoAWgUCEc4mZkJKZO6RlsN+9bszW29frLPyQDMEceCx1O3dJRVanYW9rc3OSebJ9wH+2f5J9X3ktcxZrPWHMVfFI5DrfKyEc7guJ+zbrOtvZy1O95q/JozGZSJA2iReEAYECgByBTISFibCQrplcpIqwB76ZzAPcBexb/L8M7hykLJ47nUlnVsVhiWuIc6F5un3Df7N/iX1QeRhz/WofYalVy0i6OrMr9Bu/C1r7B+sN267LK73Br6mjFZkykCWJC4T8gAKAIoFYhJeJx5DKmXykr7AvvsTMMNwz7In87QwcHdAsxzvESYpW5GGia5xzr3nDfcZ/r3+AfUF5BHPjagFhhlWkSJE6hyvGG5ELK/vZ6uDahMsDvZ2viaP5mBuQE4kAhPaAAoApgWWEqInekOeZnaTTsFe+78xd3GHsuPwcDUkd+yzxO+pJrFYCYrtrsHO+ecx9yX+sf3d9Mnnvcslq4mBjVX5IZzpbK5kbYgv9+qvqtNpZy9y8ea9oo96YBJACifSD8IACgC+BcYS6ifWQA5q+pPiwf74ZzYrcj+zn/EoNdx0nLRo8EErOViBi1GvEc8x51H3Lf6l/bn0jedtyr2rDYEFVV0g+Oi8raxs0C876feqH2i7LtLxUr0ijwpjuj/GI6YPrgAOANYF9hMyJDJEfmt6kHbGnvkTNt9y+7BX9eQ2kHVMtQzw2SvFWPmLua9hz2nndfc5/pX9kfRR5xnKWaqVgHlUxSBQ6Ays9GwULn/pP6lraBMuMvDCvKKOmmNeP4Ijdg+WAA4A8gYmE3okkkTua/6RCsc++b83k3OzsRP2nDdEdfy1sPFxKE1dcYgds63PpeeV90H+if1t9BXmxcnxqhmD7VApI6jnXKhAb1wpx+iHqLtrZymW8DK8Io4uYwY/PiNKD4IAEgEKBloTwiTuRWJogpWax976azRHdGu1z/dUN/x2qLZU8gko1V3liIGz/c/d57n3Tf55/UX31eJxyYmpoYNhU5EfBOasq4hqoCkL68+kB2q/KPbzoruiib5iqj76Ix4PagASASYGihAKKUpF0mkGli7Egv8XNPd1I7aH9BA4sHtYtvzyoSldXl2I5bBN0BXr2fdV/m39IfeZ4iHJIaklgtVS9R5c5fyq1GnkKE/rF6dXZhcoVvMSuyKJUmJSPrYi8g9WABYBPga6EFIpqkZGaYqWwsUi/8M1q3Xbt0P0yDloeAS7oPM5KeVe1YlFsJnQTev5913+Xfz5913hzci5qKmCSVJZHbTlTKocaSwrl+ZfpqNlayu67oK6oojmYfo+ciLCD0IAGgFaBu4QmioGRrZqDpdWxcL8bzpfdpe3//WEOhx4tLhE99EqbV9Niamw6dCF6Bn7af5N/NX3HeF5yFGoLYG9UcEdEOScqWRocCrb5ael82TDKxrt8roiiHZhnj4uIpYPKgAaAXYHIhDmKmZHKmqSl+rGZv0bOxN3T7S7+jw60HlguOj0ZS71X8GKDbE50L3oOftx/kH8rfbh4SXL5aexfTFRJRxo5+ykrGu4JiPk76U/ZBcqfu1iuaKICmFGPeoiag8WAB4BkgdSES4qxkeaaxaUfssG/cc7x3QHuXP69DuIehC5jPT9L31cOY5xsYXQ9ehd+3n+MfyF9qHg0ct9pzV8pVCJH8DjPKf4ZvwlZ+Q3pI9nbyXe7NK5IoueXO49qiI+DwIAIgGqB4YRdisiRA5vmpUSy6b+czh7eL+6L/uwODx+vLow9ZUsBWCtjtWx0dEt6H37gf4h/F32ZeB9yxWmuXwVU+0bGOKMp0BmRCSr54Oj22LHJULsQriiizJclj1mIhIO7gAmAcYHuhHCK4JEgmwemabISwMfOS95d7rr+Gg88H9sutT2LSyNYSWPNbIh0WHomfuJ/hH8NfYl4CnKraY9f4lPURpw4dymiGWIJ/Piy6MrYhskou+ytCaKxlw+PSYh6g7aACoB4gfuEgor4kTybKaaPsjrA8s543ozu6P5JD2ofBi/dPbBLRVhmY+Zsm3Rmei5+5H+AfwN9eXj0cZBpcF+/U61GczhKKXQZNAnN+ITondhcyQG7yK3poZaX+Y44iG+DsYALgH+BCIWVihCSWZtKprSyY8Adz6beuu4X/3cPlx8yLwY+1ktnWIRj/myudHR6Nn7mf3x/+XxpeN9xdmlRX5xThkZJOB4pRxkFCZ74Vuhx2DLJ2rqkrcmhe5fjjiiIZIOtgA2Ah4EVhaeKKJJ2m2um2bKLwEnP097o7kb/pQ/EH10vLz78S4lYoWMXbcF0gXo+fuh/d3/vfFl4ynFbaTJfeFNfRh848igZGdYIcPgo6ETYCMmzuoGtqqFgl82OF4hag6iADoCOgSKFuopAkpObjab+srTAdM8A3xfvdP/UD/EfiS9YPiFMqli+Yy9t1XSPekZ+6X9zf+V8Sni0cUFpE19VUzhG9TfGKOsYqAhB+PrnGNjeyIu6Xa2KoUWXuI4HiE+Do4APgJWBL4XNiliSsJuupiSz3cCfzy3fRe+j/wIQHiC0L4E+R0zMWNxjR23odJx6TX7rf29/23w6eJ9xJmnzXjFTEUbLN5kovRh5CBP4zOfs17TIZLo5rWuhKpeijveHRIOfgBGAnIE8heCKcJLNm8+mSbMFwcrPWt9z79L/MBBMIN8vqT5sTO1Y+WNgbft0qnpVfu1/an/QfCl4iXEMadReDlPqRaE3bSiQGEsI5Pee57/Xicg9uhatS6EPl4yO54c6g5qAEoCkgUmF8oqIkuqb8aZusy7B9c+H36HvAAA=\" type=\"audio/wav\" />\n",
       "                    Your browser does not support the audio element.\n",
       "                </audio>\n",
       "              "
      ],
      "text/plain": [
       "<IPython.lib.display.Audio object>"
      ]
     },
     "metadata": {},
     "output_type": "display_data"
    },
    {
     "name": "stdout",
     "output_type": "stream",
     "text": [
      "Runtime: 9.03 min\n",
      "\n"
     ]
    },
    {
     "data": {
      "text/html": [
       "<div>\n",
       "<table border=\"1\" class=\"dataframe\">\n",
       "  <thead>\n",
       "    <tr style=\"text-align: right;\">\n",
       "      <th></th>\n",
       "      <th>avg</th>\n",
       "      <th>count</th>\n",
       "      <th>max</th>\n",
       "      <th>median</th>\n",
       "      <th>min</th>\n",
       "      <th>quartile_1</th>\n",
       "      <th>quartile_3</th>\n",
       "      <th>sum</th>\n",
       "    </tr>\n",
       "    <tr>\n",
       "      <th>article_property</th>\n",
       "      <th></th>\n",
       "      <th></th>\n",
       "      <th></th>\n",
       "      <th></th>\n",
       "      <th></th>\n",
       "      <th></th>\n",
       "      <th></th>\n",
       "      <th></th>\n",
       "    </tr>\n",
       "  </thead>\n",
       "  <tbody>\n",
       "    <tr>\n",
       "      <th>search_traffic_to_hyphen_minus</th>\n",
       "      <td>37.03</td>\n",
       "      <td>127457</td>\n",
       "      <td>29570</td>\n",
       "      <td>19</td>\n",
       "      <td>10</td>\n",
       "      <td>13</td>\n",
       "      <td>34</td>\n",
       "      <td>4719628</td>\n",
       "    </tr>\n",
       "    <tr>\n",
       "      <th>search_traffic_to_main_page</th>\n",
       "      <td>36.49</td>\n",
       "      <td>110009</td>\n",
       "      <td>40893</td>\n",
       "      <td>18</td>\n",
       "      <td>10</td>\n",
       "      <td>12</td>\n",
       "      <td>32</td>\n",
       "      <td>4013760</td>\n",
       "    </tr>\n",
       "    <tr>\n",
       "      <th>external_website_traffic</th>\n",
       "      <td>148.27</td>\n",
       "      <td>787311</td>\n",
       "      <td>17676430</td>\n",
       "      <td>27</td>\n",
       "      <td>10</td>\n",
       "      <td>15</td>\n",
       "      <td>66</td>\n",
       "      <td>116732857</td>\n",
       "    </tr>\n",
       "    <tr>\n",
       "      <th>search_in_traffic</th>\n",
       "      <td>75.07</td>\n",
       "      <td>249765</td>\n",
       "      <td>79452</td>\n",
       "      <td>24</td>\n",
       "      <td>10</td>\n",
       "      <td>13</td>\n",
       "      <td>53</td>\n",
       "      <td>18749871</td>\n",
       "    </tr>\n",
       "    <tr>\n",
       "      <th>search_out_traffic</th>\n",
       "      <td>79.07</td>\n",
       "      <td>237126</td>\n",
       "      <td>83036</td>\n",
       "      <td>23</td>\n",
       "      <td>10</td>\n",
       "      <td>13</td>\n",
       "      <td>53</td>\n",
       "      <td>18749871</td>\n",
       "    </tr>\n",
       "    <tr>\n",
       "      <th>search_traffic_from_main_page</th>\n",
       "      <td>125.98</td>\n",
       "      <td>257794</td>\n",
       "      <td>2838090</td>\n",
       "      <td>24</td>\n",
       "      <td>10</td>\n",
       "      <td>14</td>\n",
       "      <td>56</td>\n",
       "      <td>32475706</td>\n",
       "    </tr>\n",
       "    <tr>\n",
       "      <th>link_out_degree</th>\n",
       "      <td>3.44</td>\n",
       "      <td>5185699</td>\n",
       "      <td>2224</td>\n",
       "      <td>0</td>\n",
       "      <td>0</td>\n",
       "      <td>0</td>\n",
       "      <td>1</td>\n",
       "      <td>17851501</td>\n",
       "    </tr>\n",
       "    <tr>\n",
       "      <th>link_in_traffic</th>\n",
       "      <td>661.31</td>\n",
       "      <td>2598301</td>\n",
       "      <td>1217004</td>\n",
       "      <td>79</td>\n",
       "      <td>10</td>\n",
       "      <td>26</td>\n",
       "      <td>302</td>\n",
       "      <td>1718277936</td>\n",
       "    </tr>\n",
       "    <tr>\n",
       "      <th>link_out_traffic</th>\n",
       "      <td>1008.55</td>\n",
       "      <td>1703704</td>\n",
       "      <td>4466936</td>\n",
       "      <td>86</td>\n",
       "      <td>10</td>\n",
       "      <td>26</td>\n",
       "      <td>359</td>\n",
       "      <td>1718277936</td>\n",
       "    </tr>\n",
       "    <tr>\n",
       "      <th>unknown_external_traffic</th>\n",
       "      <td>98.61</td>\n",
       "      <td>374921</td>\n",
       "      <td>182358</td>\n",
       "      <td>27</td>\n",
       "      <td>10</td>\n",
       "      <td>15</td>\n",
       "      <td>66</td>\n",
       "      <td>36972380</td>\n",
       "    </tr>\n",
       "    <tr>\n",
       "      <th>external_search_traffic</th>\n",
       "      <td>896.01</td>\n",
       "      <td>3386425</td>\n",
       "      <td>4576854</td>\n",
       "      <td>67</td>\n",
       "      <td>10</td>\n",
       "      <td>24</td>\n",
       "      <td>269</td>\n",
       "      <td>3034278822</td>\n",
       "    </tr>\n",
       "    <tr>\n",
       "      <th>search_in_degree</th>\n",
       "      <td>0.10</td>\n",
       "      <td>5185699</td>\n",
       "      <td>710</td>\n",
       "      <td>0</td>\n",
       "      <td>0</td>\n",
       "      <td>0</td>\n",
       "      <td>0</td>\n",
       "      <td>509679</td>\n",
       "    </tr>\n",
       "    <tr>\n",
       "      <th>search_out_degree</th>\n",
       "      <td>0.10</td>\n",
       "      <td>5185699</td>\n",
       "      <td>3775</td>\n",
       "      <td>0</td>\n",
       "      <td>0</td>\n",
       "      <td>0</td>\n",
       "      <td>0</td>\n",
       "      <td>509679</td>\n",
       "    </tr>\n",
       "    <tr>\n",
       "      <th>link_in_degree</th>\n",
       "      <td>3.44</td>\n",
       "      <td>5185699</td>\n",
       "      <td>6368</td>\n",
       "      <td>1</td>\n",
       "      <td>0</td>\n",
       "      <td>0</td>\n",
       "      <td>2</td>\n",
       "      <td>17851501</td>\n",
       "    </tr>\n",
       "    <tr>\n",
       "      <th>empty_referer_traffic</th>\n",
       "      <td>349.46</td>\n",
       "      <td>5093433</td>\n",
       "      <td>492341152</td>\n",
       "      <td>35</td>\n",
       "      <td>10</td>\n",
       "      <td>18</td>\n",
       "      <td>100</td>\n",
       "      <td>1779965188</td>\n",
       "    </tr>\n",
       "    <tr>\n",
       "      <th>other_wikimedia_traffic</th>\n",
       "      <td>98.12</td>\n",
       "      <td>1348892</td>\n",
       "      <td>8826536</td>\n",
       "      <td>24</td>\n",
       "      <td>10</td>\n",
       "      <td>14</td>\n",
       "      <td>57</td>\n",
       "      <td>132349844</td>\n",
       "    </tr>\n",
       "  </tbody>\n",
       "</table>\n",
       "</div>"
      ],
      "text/plain": [
       "                                   avg    count        max  median  min  \\\n",
       "article_property                                                          \n",
       "search_traffic_to_hyphen_minus   37.03   127457      29570      19   10   \n",
       "search_traffic_to_main_page      36.49   110009      40893      18   10   \n",
       "external_website_traffic        148.27   787311   17676430      27   10   \n",
       "search_in_traffic                75.07   249765      79452      24   10   \n",
       "search_out_traffic               79.07   237126      83036      23   10   \n",
       "search_traffic_from_main_page   125.98   257794    2838090      24   10   \n",
       "link_out_degree                   3.44  5185699       2224       0    0   \n",
       "link_in_traffic                 661.31  2598301    1217004      79   10   \n",
       "link_out_traffic               1008.55  1703704    4466936      86   10   \n",
       "unknown_external_traffic         98.61   374921     182358      27   10   \n",
       "external_search_traffic         896.01  3386425    4576854      67   10   \n",
       "search_in_degree                  0.10  5185699        710       0    0   \n",
       "search_out_degree                 0.10  5185699       3775       0    0   \n",
       "link_in_degree                    3.44  5185699       6368       1    0   \n",
       "empty_referer_traffic           349.46  5093433  492341152      35   10   \n",
       "other_wikimedia_traffic          98.12  1348892    8826536      24   10   \n",
       "\n",
       "                                quartile_1  quartile_3         sum  \n",
       "article_property                                                    \n",
       "search_traffic_to_hyphen_minus          13          34     4719628  \n",
       "search_traffic_to_main_page             12          32     4013760  \n",
       "external_website_traffic                15          66   116732857  \n",
       "search_in_traffic                       13          53    18749871  \n",
       "search_out_traffic                      13          53    18749871  \n",
       "search_traffic_from_main_page           14          56    32475706  \n",
       "link_out_degree                          0           1    17851501  \n",
       "link_in_traffic                         26         302  1718277936  \n",
       "link_out_traffic                        26         359  1718277936  \n",
       "unknown_external_traffic                15          66    36972380  \n",
       "external_search_traffic                 24         269  3034278822  \n",
       "search_in_degree                         0           0      509679  \n",
       "search_out_degree                        0           0      509679  \n",
       "link_in_degree                           0           2    17851501  \n",
       "empty_referer_traffic                   18         100  1779965188  \n",
       "other_wikimedia_traffic                 14          57   132349844  "
      ]
     },
     "execution_count": 34,
     "metadata": {},
     "output_type": "execute_result"
    }
   ],
   "source": [
    "start_time = timer()\n",
    "for i, p in enumerate(article_num_properties):\n",
    "    q = \"\"\"\n",
    "    MATCH (a:Article) \n",
    "    RETURN \n",
    "        count(a.{param}) as count,\n",
    "        avg(a.{param}) as avg,\n",
    "        min(a.{param}) as min,\n",
    "        percentileDisc(a.{param}, 0.25) as quartile_1,\n",
    "        percentileDisc(a.{param}, 0.5) as median,\n",
    "        percentileDisc(a.{param}, 0.75) as quartile_3,\n",
    "        max(a.{param}) as max,\n",
    "        sum(a.{param}) as sum\n",
    "        ;\n",
    "    \"\"\".format(param=p)\n",
    "    \n",
    "    r = graph.data(q)\n",
    "    row_df = pd.DataFrame(r)\n",
    "    row_df[\"article_property\"] = p\n",
    "    row_df.set_index(\"article_property\", inplace=True)\n",
    "    \n",
    "    if i==0:\n",
    "        article_prop_descriptive_stats = row_df\n",
    "    else:\n",
    "        article_prop_descriptive_stats = pd.concat([article_prop_descriptive_stats, row_df])\n",
    "    \n",
    "    \n",
    "    print(\"Ran query:\", q)\n",
    "    print(\"Elapsed time:\", round((timer() - start_time)/60, 2), \"min\\n\")\n",
    "    \n",
    "\n",
    "cu.printRunTime(start_time)\n",
    "\n",
    "article_prop_descriptive_stats"
   ]
  },
  {
   "cell_type": "code",
   "execution_count": 38,
   "metadata": {
    "collapsed": false
   },
   "outputs": [
    {
     "data": {
      "text/plain": [
       "['link_out_degree', 'search_in_degree', 'search_out_degree', 'link_in_degree']"
      ]
     },
     "execution_count": 38,
     "metadata": {},
     "output_type": "execute_result"
    }
   ],
   "source": [
    "article_degree_properties = [s for s in article_num_properties if s[-6:] == \"degree\" ]\n",
    "\n",
    "# [s for s in list if sub in s]\n",
    "\n",
    "article_degree_properties"
   ]
  },
  {
   "cell_type": "code",
   "execution_count": 39,
   "metadata": {
    "collapsed": false,
    "scrolled": false
   },
   "outputs": [
    {
     "name": "stdout",
     "output_type": "stream",
     "text": [
      "Ran query: \n",
      "    MATCH (a:Article) \n",
      "    WHERE a.link_out_degree > 0\n",
      "    RETURN \n",
      "        count(a.link_out_degree) as count_pos,\n",
      "        avg(a.link_out_degree) as avg_pos,\n",
      "        min(a.link_out_degree) as min_pos,\n",
      "        percentileDisc(a.link_out_degree, 0.25) as quartile_1_pos,\n",
      "        percentileDisc(a.link_out_degree, 0.5) as median_pos,\n",
      "        percentileDisc(a.link_out_degree, 0.75) as quartile_3_pos,\n",
      "        max(a.link_out_degree) as max_pos,\n",
      "        sum(a.link_out_degree) as sum_pos\n",
      "        ;\n",
      "    \n",
      "Elapsed time: 0.26 min\n",
      "\n",
      "Ran query: \n",
      "    MATCH (a:Article) \n",
      "    WHERE a.search_in_degree > 0\n",
      "    RETURN \n",
      "        count(a.search_in_degree) as count_pos,\n",
      "        avg(a.search_in_degree) as avg_pos,\n",
      "        min(a.search_in_degree) as min_pos,\n",
      "        percentileDisc(a.search_in_degree, 0.25) as quartile_1_pos,\n",
      "        percentileDisc(a.search_in_degree, 0.5) as median_pos,\n",
      "        percentileDisc(a.search_in_degree, 0.75) as quartile_3_pos,\n",
      "        max(a.search_in_degree) as max_pos,\n",
      "        sum(a.search_in_degree) as sum_pos\n",
      "        ;\n",
      "    \n",
      "Elapsed time: 0.35 min\n",
      "\n",
      "Ran query: \n",
      "    MATCH (a:Article) \n",
      "    WHERE a.search_out_degree > 0\n",
      "    RETURN \n",
      "        count(a.search_out_degree) as count_pos,\n",
      "        avg(a.search_out_degree) as avg_pos,\n",
      "        min(a.search_out_degree) as min_pos,\n",
      "        percentileDisc(a.search_out_degree, 0.25) as quartile_1_pos,\n",
      "        percentileDisc(a.search_out_degree, 0.5) as median_pos,\n",
      "        percentileDisc(a.search_out_degree, 0.75) as quartile_3_pos,\n",
      "        max(a.search_out_degree) as max_pos,\n",
      "        sum(a.search_out_degree) as sum_pos\n",
      "        ;\n",
      "    \n",
      "Elapsed time: 0.44 min\n",
      "\n",
      "Ran query: \n",
      "    MATCH (a:Article) \n",
      "    WHERE a.link_in_degree > 0\n",
      "    RETURN \n",
      "        count(a.link_in_degree) as count_pos,\n",
      "        avg(a.link_in_degree) as avg_pos,\n",
      "        min(a.link_in_degree) as min_pos,\n",
      "        percentileDisc(a.link_in_degree, 0.25) as quartile_1_pos,\n",
      "        percentileDisc(a.link_in_degree, 0.5) as median_pos,\n",
      "        percentileDisc(a.link_in_degree, 0.75) as quartile_3_pos,\n",
      "        max(a.link_in_degree) as max_pos,\n",
      "        sum(a.link_in_degree) as sum_pos\n",
      "        ;\n",
      "    \n",
      "Elapsed time: 0.8 min\n",
      "\n"
     ]
    },
    {
     "data": {
      "text/html": [
       "\n",
       "                <audio controls=\"controls\" autoplay=\"autoplay\">\n",
       "                    <source src=\"data:audio/wav;base64,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\" type=\"audio/wav\" />\n",
       "                    Your browser does not support the audio element.\n",
       "                </audio>\n",
       "              "
      ],
      "text/plain": [
       "<IPython.lib.display.Audio object>"
      ]
     },
     "metadata": {},
     "output_type": "display_data"
    },
    {
     "name": "stdout",
     "output_type": "stream",
     "text": [
      "Runtime: 0.8 min\n",
      "\n"
     ]
    },
    {
     "data": {
      "text/html": [
       "<div>\n",
       "<table border=\"1\" class=\"dataframe\">\n",
       "  <thead>\n",
       "    <tr style=\"text-align: right;\">\n",
       "      <th></th>\n",
       "      <th>avg_pos</th>\n",
       "      <th>count_pos</th>\n",
       "      <th>max_pos</th>\n",
       "      <th>median_pos</th>\n",
       "      <th>min_pos</th>\n",
       "      <th>quartile_1_pos</th>\n",
       "      <th>quartile_3_pos</th>\n",
       "      <th>sum_pos</th>\n",
       "    </tr>\n",
       "    <tr>\n",
       "      <th>article_property</th>\n",
       "      <th></th>\n",
       "      <th></th>\n",
       "      <th></th>\n",
       "      <th></th>\n",
       "      <th></th>\n",
       "      <th></th>\n",
       "      <th></th>\n",
       "      <th></th>\n",
       "    </tr>\n",
       "  </thead>\n",
       "  <tbody>\n",
       "    <tr>\n",
       "      <th>link_out_degree</th>\n",
       "      <td>10.48</td>\n",
       "      <td>1703704</td>\n",
       "      <td>2224</td>\n",
       "      <td>3</td>\n",
       "      <td>1</td>\n",
       "      <td>1</td>\n",
       "      <td>9</td>\n",
       "      <td>17851501</td>\n",
       "    </tr>\n",
       "    <tr>\n",
       "      <th>search_in_degree</th>\n",
       "      <td>2.04</td>\n",
       "      <td>249765</td>\n",
       "      <td>710</td>\n",
       "      <td>1</td>\n",
       "      <td>1</td>\n",
       "      <td>1</td>\n",
       "      <td>2</td>\n",
       "      <td>509679</td>\n",
       "    </tr>\n",
       "    <tr>\n",
       "      <th>search_out_degree</th>\n",
       "      <td>2.15</td>\n",
       "      <td>237126</td>\n",
       "      <td>3775</td>\n",
       "      <td>1</td>\n",
       "      <td>1</td>\n",
       "      <td>1</td>\n",
       "      <td>2</td>\n",
       "      <td>509679</td>\n",
       "    </tr>\n",
       "    <tr>\n",
       "      <th>link_in_degree</th>\n",
       "      <td>6.87</td>\n",
       "      <td>2598301</td>\n",
       "      <td>6368</td>\n",
       "      <td>2</td>\n",
       "      <td>1</td>\n",
       "      <td>1</td>\n",
       "      <td>6</td>\n",
       "      <td>17851501</td>\n",
       "    </tr>\n",
       "  </tbody>\n",
       "</table>\n",
       "</div>"
      ],
      "text/plain": [
       "                   avg_pos  count_pos  max_pos  median_pos  min_pos  \\\n",
       "article_property                                                      \n",
       "link_out_degree      10.48    1703704     2224           3        1   \n",
       "search_in_degree      2.04     249765      710           1        1   \n",
       "search_out_degree     2.15     237126     3775           1        1   \n",
       "link_in_degree        6.87    2598301     6368           2        1   \n",
       "\n",
       "                   quartile_1_pos  quartile_3_pos   sum_pos  \n",
       "article_property                                             \n",
       "link_out_degree                 1               9  17851501  \n",
       "search_in_degree                1               2    509679  \n",
       "search_out_degree               1               2    509679  \n",
       "link_in_degree                  1               6  17851501  "
      ]
     },
     "execution_count": 39,
     "metadata": {},
     "output_type": "execute_result"
    }
   ],
   "source": [
    "# same stats for non-zero article node degree values \n",
    "\n",
    "article_degree_properties = [s for s in article_num_properties if s[-6:] == \"degree\" ]\n",
    "\n",
    "start_time = timer()\n",
    "for i, p in enumerate(article_degree_properties):\n",
    "    q = \"\"\"\n",
    "    MATCH (a:Article) \n",
    "    WHERE a.{param} > 0\n",
    "    RETURN \n",
    "        count(a.{param}) as count_pos,\n",
    "        avg(a.{param}) as avg_pos,\n",
    "        min(a.{param}) as min_pos,\n",
    "        percentileDisc(a.{param}, 0.25) as quartile_1_pos,\n",
    "        percentileDisc(a.{param}, 0.5) as median_pos,\n",
    "        percentileDisc(a.{param}, 0.75) as quartile_3_pos,\n",
    "        max(a.{param}) as max_pos,\n",
    "        sum(a.{param}) as sum_pos\n",
    "        ;\n",
    "    \"\"\".format(param=p)\n",
    "    \n",
    "    r = graph.data(q)\n",
    "    row_df = pd.DataFrame(r)\n",
    "    row_df[\"article_property\"] = p\n",
    "    row_df.set_index(\"article_property\", inplace=True)\n",
    "    \n",
    "    if i==0:\n",
    "        descriptive_stats_nonzero_degree_props = row_df\n",
    "    else:\n",
    "        descriptive_stats_nonzero_degree_props = pd.concat([descriptive_stats_nonzero_degree_props, row_df])\n",
    "    \n",
    "    \n",
    "    print(\"Ran query:\", q)\n",
    "    print(\"Elapsed time:\", round((timer() - start_time)/60, 2), \"min\\n\")\n",
    "    \n",
    "\n",
    "cu.printRunTime(start_time)\n",
    "\n",
    "descriptive_stats_nonzero_degree_props"
   ]
  },
  {
   "cell_type": "code",
   "execution_count": null,
   "metadata": {
    "collapsed": true
   },
   "outputs": [],
   "source": []
  },
  {
   "cell_type": "markdown",
   "metadata": {},
   "source": [
    "### Connected Components / Union Find"
   ]
  },
  {
   "cell_type": "code",
   "execution_count": 41,
   "metadata": {
    "collapsed": false
   },
   "outputs": [
    {
     "name": "stdout",
     "output_type": "stream",
     "text": [
      "/home/arinai/Wikipedia_clickstream_project\r\n"
     ]
    }
   ],
   "source": [
    "!pwd"
   ]
  },
  {
   "cell_type": "code",
   "execution_count": 58,
   "metadata": {
    "collapsed": false
   },
   "outputs": [],
   "source": [
    "s = \"\"\"CALL algo.unionFind(\n",
    "    'MATCH (a:Article) RETURN id(a) as id', \n",
    "    'MATCH (a1:Article)-->(a2:Article) RETURN id(a1) as source, id(a2) as target', \n",
    "    {partitionProperty: 'cc_partition', graph: 'cypher'})\n",
    "YIELD loadMillis, computeMillis, writeMillis, nodes, communityCount, p1, p5, p10, p25, p50, p75, p90, p95, p99, p100;\n",
    "\"\"\"\n",
    "\n",
    "with open(\"cc.cypher\", \"w\") as f:\n",
    "    f.write(s)"
   ]
  },
  {
   "cell_type": "code",
   "execution_count": 62,
   "metadata": {
    "collapsed": false
   },
   "outputs": [],
   "source": [
    "# run in terminal with nohup\n",
    "passwd=$(bash get_n4j_pass.sh)\n",
    "nohup cat cc.cypher | cypher-shell -u neo4j -p $passwd --format plain &> cc.out\n",
    "# runtime: 2.5 min\n"
   ]
  },
  {
   "cell_type": "code",
   "execution_count": 65,
   "metadata": {
    "collapsed": false
   },
   "outputs": [
    {
     "name": "stdout",
     "output_type": "stream",
     "text": [
      "loadMillis, computeMillis, writeMillis, nodes, communityCount, p1, p5, p10, p25, p50, p75, p90, p95, p99, p100\r\n",
      "94000, 619, 58132, 5185699, 2432266, 1, 1, 1, 1, 1, 1, 1, 1, 1, 2736127\r\n"
     ]
    }
   ],
   "source": [
    "!head cc.out"
   ]
  },
  {
   "cell_type": "code",
   "execution_count": null,
   "metadata": {
    "collapsed": true
   },
   "outputs": [],
   "source": [
    "MATCH (a:Article)\n",
    "RETURN count(distinct a.cc_partition);\n",
    "# 2432266"
   ]
  },
  {
   "cell_type": "code",
   "execution_count": null,
   "metadata": {
    "collapsed": true
   },
   "outputs": [],
   "source": [
    "MATCH (a:Article)\n",
    "RETURN a.cc_partition, count(a) as count\n",
    "ORDER BY count desc;"
   ]
  },
  {
   "cell_type": "code",
   "execution_count": null,
   "metadata": {
    "collapsed": true
   },
   "outputs": [],
   "source": []
  },
  {
   "cell_type": "code",
   "execution_count": null,
   "metadata": {
    "collapsed": false
   },
   "outputs": [],
   "source": []
  },
  {
   "cell_type": "markdown",
   "metadata": {},
   "source": [
    "### Strongly connected components"
   ]
  },
  {
   "cell_type": "code",
   "execution_count": null,
   "metadata": {
    "collapsed": true
   },
   "outputs": [],
   "source": [
    "# run in cypher-shell\n",
    "CALL algo.scc('Article', 'LINK_TO', {partitionProperty:'link_scc_partition'})\n",
    "YIELD loadMillis, computeMillis, writeMillis, setCount, maxSetSize, minSetSize;\n",
    "# \n",
    "+-------------------------------------------------------------------------------+\n",
    "| loadMillis | computeMillis | writeMillis | setCount | maxSetSize | minSetSize |\n",
    "+-------------------------------------------------------------------------------+\n",
    "| 21938      | 1300387       | 676         | 3759767  | 1409023    | 1          |\n",
    "+-------------------------------------------------------------------------------+\n",
    "\n",
    "# 1 row available after 1380941 ms, consumed after another 0 ms"
   ]
  },
  {
   "cell_type": "code",
   "execution_count": null,
   "metadata": {
    "collapsed": true
   },
   "outputs": [],
   "source": [
    "MATCH (a:Article)\n",
    "RETURN a.link_scc_partition, count(a) as count\n",
    "ORDER BY count desc\n",
    "LIMIT 20;\n",
    "\n",
    "\n",
    "match (a:Article)\n",
    "where a.link_scc_partition = 1882533\n",
    "return a;"
   ]
  },
  {
   "cell_type": "code",
   "execution_count": null,
   "metadata": {
    "collapsed": true
   },
   "outputs": [],
   "source": [
    "MATCH (a:Article)\n",
    "RETURN \n",
    "    a.link_scc_partition, \n",
    "    count(a) as articles_count,\n",
    "    sum(a.external_website_traffic) \n",
    "        + sum(a.search_in_traffic) \n",
    "        + sum(a.search_traffic_from_main_page) \n",
    "        + sum(a.link_in_traffic) \n",
    "        + sum(a.unknown_external_traffic)\n",
    "        + sum(a.external_search_traffic)\n",
    "        + sum(a.empty_referer_traffic)\n",
    "        + sum(a.other_wikimedia_traffic)\n",
    "        as total_visits,\n",
    "    sum(a.link_in_degree) as link_edges_count,\n",
    "    sum(a.link_in_traffic) as link_traffic,\n",
    "    sum(a.search_in_degree) as search_edges_count,\n",
    "    sum(a.search_in_traffic) as search_traffic\n",
    "ORDER BY articles_count desc\n",
    "LIMIT 20;"
   ]
  },
  {
   "cell_type": "code",
   "execution_count": null,
   "metadata": {
    "collapsed": false
   },
   "outputs": [],
   "source": [
    "'external_website_traffic', 'search_in_traffic',\n",
    "'search_traffic_from_main_page',\n",
    "'link_in_traffic',\n",
    "'unknown_external_traffic', 'external_search_traffic',\n",
    "'empty_referer_traffic', 'other_wikimedia_traffic'"
   ]
  },
  {
   "cell_type": "code",
   "execution_count": null,
   "metadata": {
    "collapsed": true
   },
   "outputs": [],
   "source": []
  },
  {
   "cell_type": "code",
   "execution_count": null,
   "metadata": {
    "collapsed": true
   },
   "outputs": [],
   "source": []
  },
  {
   "cell_type": "code",
   "execution_count": 1,
   "metadata": {
    "collapsed": false
   },
   "outputs": [
    {
     "name": "stdout",
     "output_type": "stream",
     "text": [
      "/home/arinai/Wikipedia_clickstream_project\r\n"
     ]
    }
   ],
   "source": [
    "!pwd"
   ]
  },
  {
   "cell_type": "code",
   "execution_count": 12,
   "metadata": {
    "collapsed": false
   },
   "outputs": [
    {
     "data": {
      "text/plain": [
       "283"
      ]
     },
     "execution_count": 12,
     "metadata": {},
     "output_type": "execute_result"
    }
   ],
   "source": [
    "s = \"\"\"CALL algo.scc(\n",
    "    'MATCH (a:Article) RETURN id(a) as id', \n",
    "    'MATCH (a1:Article)-->(a2:Article) RETURN id(a1) as source, id(a2) as target', \n",
    "    {partitionProperty: 'scc_partition', graph: 'cypher'})\n",
    "YIELD loadMillis, computeMillis, writeMillis, setCount, maxSetSize, minSetSize;\n",
    "\"\"\"\n",
    "\n",
    "f = open(\"scc.cypher\", \"w\")\n",
    "f.write(s)"
   ]
  },
  {
   "cell_type": "code",
   "execution_count": 13,
   "metadata": {
    "collapsed": false
   },
   "outputs": [
    {
     "name": "stdout",
     "output_type": "stream",
     "text": [
      "\r\n",
      "CALL algo.scc(\r\n",
      "    'MATCH (a:Article) RETURN id(a) as id', \r\n",
      "    'MATCH (a1:Article)-->(a2:Article) RETURN id(a1) as source, id(a2) as target', \r\n",
      "    {partitionProperty: 'scc_partition', graph: 'cypher'})\r\n",
      "YIELD loadMillis, computeMillis, writeMillis, setCount, maxSetSize, minSetSize;\r\n"
     ]
    }
   ],
   "source": [
    "!head scc.cypher"
   ]
  },
  {
   "cell_type": "code",
   "execution_count": null,
   "metadata": {
    "collapsed": true
   },
   "outputs": [],
   "source": [
    "# run in terminal with nohup\n",
    "passwd=$(bash get_n4j_pass.sh)\n",
    "nohup cat scc.cypher | cypher-shell -u neo4j -p $passwd --format plain &> scc.out\n",
    "# runtime: about 32 min"
   ]
  },
  {
   "cell_type": "code",
   "execution_count": 39,
   "metadata": {
    "collapsed": false
   },
   "outputs": [],
   "source": [
    "! nohup echo \"test2\" >> test.out 2>&1"
   ]
  },
  {
   "cell_type": "code",
   "execution_count": 40,
   "metadata": {
    "collapsed": false
   },
   "outputs": [
    {
     "name": "stdout",
     "output_type": "stream",
     "text": [
      "test2\r\n",
      "test2\r\n",
      "nohup: ignoring input\r\n",
      "test2\r\n",
      "nohup: ignoring input\r\n",
      "test2\r\n"
     ]
    }
   ],
   "source": [
    "!head test.out"
   ]
  },
  {
   "cell_type": "code",
   "execution_count": null,
   "metadata": {
    "collapsed": true
   },
   "outputs": [],
   "source": []
  },
  {
   "cell_type": "markdown",
   "metadata": {},
   "source": [
    "### Centrality"
   ]
  },
  {
   "cell_type": "code",
   "execution_count": null,
   "metadata": {
    "collapsed": true
   },
   "outputs": [],
   "source": [
    "# Running these in cypher-shell, since they might take a while\n",
    "\n",
    "\n",
    "# PageRank\n",
    "\n",
    "CALL algo.pageRank('Article', 'LINK_TO', {writeProperty:\"link_pagerank\", weightProperty: \"traffic\"});\n",
    "# 1 row available after 147133 ms, consumed after another 0 ms\n",
    "\n",
    "\n",
    "CALL algo.pageRank('Article', 'SEARCH_FOR', {writeProperty:\"search_pagerank\", weightProperty: \"traffic\"});\n",
    "# 1 row available after 68307 ms, consumed after another 0 ms\n",
    "\n",
    "\n",
    "CALL algo.pageRank(\n",
    "  'MATCH (a:Article) RETURN id(a) as id',\n",
    "  'MATCH (a1:Article)-->(a2:Article) RETURN id(a1) as source, id(a2) as target',\n",
    "  {graph:'cypher', writeProperty:\"pagerank\", weightProperty: \"traffic\"}\n",
    ");\n",
    "# 1 row available after 283603 ms, consumed after another 0 ms\n",
    "\n",
    "\n",
    "\n",
    "\n",
    "\n",
    "\n",
    "# ArticleRank\n",
    "\n",
    "CALL algo.articleRank('Article', 'LINK_TO', {writeProperty:\"link_artrank\", weightProperty: \"traffic\"});\n",
    "# 1 row available after 75048 ms, consumed after another 0 ms\n",
    "\n",
    "\n",
    "CALL algo.articleRank('Article', 'SEARCH_FOR', {writeProperty:\"search_artrank\", weightProperty: \"traffic\"});\n",
    "# 1 row available after 71285 ms, consumed after another 0 ms\n",
    "\n",
    "\n",
    "CALL algo.articleRank(\n",
    "  'MATCH (a:Article) RETURN id(a) as id',\n",
    "  'MATCH (a1:Article)-->(a2:Article) RETURN id(a1) as source, id(a2) as target',\n",
    "  {graph:'cypher', writeProperty:\"artrank\", weightProperty: \"traffic\"}\n",
    ");\n",
    "# 1 row available after 134921 ms, consumed after another 1 ms\n",
    "\n",
    "\n",
    "\n",
    "# Betweenness: RA-Brandes algo\n",
    "\n",
    "\n",
    "# the below took too long to run\n",
    "CALL algo.betweenness.sampled('Article', 'LINK_TO',\n",
    "  {direction:'out', strategy:'degree', writeProperty:'link_out_betweenness'})\n",
    "YIELD nodes, minCentrality, maxCentrality, sumCentrality, loadMillis, computeMillis, writeMillis;\n",
    "\n",
    "\n",
    "# the unsampled betweenness below took too long to run\n",
    "\n",
    "CALL algo.betweenness('Article', 'LINK_TO',\n",
    "  {direction:'out', writeProperty:'link_out_betweenness'})\n",
    "YIELD nodes, minCentrality, maxCentrality, sumCentrality, loadMillis, computeMillis, writeMillis;\n",
    "\n",
    "\n",
    "CALL algo.betweenness('Article', 'LINK_TO',\n",
    "  {direction:'in', writeProperty:'link_in_betweenness'})\n",
    "YIELD nodes, minCentrality, maxCentrality, sumCentrality, loadMillis, computeMillis, writeMillis;\n",
    "\n",
    "\n",
    "CALL algo.betweenness('Article', 'LINK_TO',\n",
    "  {direction:'both', writeProperty:'link_betweenness'})\n",
    "YIELD nodes, minCentrality, maxCentrality, sumCentrality, loadMillis, computeMillis, writeMillis;\n",
    "\n",
    "\n",
    "\n",
    "\n",
    "\n",
    "# Harmonic centrality (variant of closeness)\n",
    "\n",
    "CALL algo.closeness.harmonic('Article', 'LINK_TO', {writeProperty:'link_harmonic_centrality'})\n",
    "YIELD nodes, loadMillis, computeMillis, writeMillis;\n",
    "\n",
    "\n",
    "\n",
    "\n",
    "\n",
    "\n"
   ]
  },
  {
   "cell_type": "code",
   "execution_count": null,
   "metadata": {
    "collapsed": true
   },
   "outputs": [],
   "source": []
  },
  {
   "cell_type": "markdown",
   "metadata": {},
   "source": [
    "### Top node listings"
   ]
  },
  {
   "cell_type": "code",
   "execution_count": null,
   "metadata": {
    "collapsed": true
   },
   "outputs": [],
   "source": []
  },
  {
   "cell_type": "code",
   "execution_count": null,
   "metadata": {
    "collapsed": true
   },
   "outputs": [],
   "source": []
  },
  {
   "cell_type": "code",
   "execution_count": null,
   "metadata": {
    "collapsed": true
   },
   "outputs": [],
   "source": []
  },
  {
   "cell_type": "code",
   "execution_count": null,
   "metadata": {
    "collapsed": true
   },
   "outputs": [],
   "source": []
  },
  {
   "cell_type": "code",
   "execution_count": null,
   "metadata": {
    "collapsed": true
   },
   "outputs": [],
   "source": []
  },
  {
   "cell_type": "markdown",
   "metadata": {},
   "source": [
    "### Community detection"
   ]
  },
  {
   "cell_type": "code",
   "execution_count": null,
   "metadata": {
    "collapsed": true
   },
   "outputs": [],
   "source": []
  },
  {
   "cell_type": "code",
   "execution_count": null,
   "metadata": {
    "collapsed": true
   },
   "outputs": [],
   "source": []
  },
  {
   "cell_type": "code",
   "execution_count": null,
   "metadata": {
    "collapsed": true
   },
   "outputs": [],
   "source": []
  },
  {
   "cell_type": "code",
   "execution_count": null,
   "metadata": {
    "collapsed": true
   },
   "outputs": [],
   "source": []
  },
  {
   "cell_type": "code",
   "execution_count": null,
   "metadata": {
    "collapsed": true
   },
   "outputs": [],
   "source": []
  },
  {
   "cell_type": "code",
   "execution_count": null,
   "metadata": {
    "collapsed": true
   },
   "outputs": [],
   "source": []
  },
  {
   "cell_type": "code",
   "execution_count": null,
   "metadata": {
    "collapsed": true
   },
   "outputs": [],
   "source": []
  }
 ],
 "metadata": {
  "anaconda-cloud": {},
  "kernelspec": {
   "display_name": "Python [default]",
   "language": "python",
   "name": "python3"
  },
  "language_info": {
   "codemirror_mode": {
    "name": "ipython",
    "version": 3
   },
   "file_extension": ".py",
   "mimetype": "text/x-python",
   "name": "python",
   "nbconvert_exporter": "python",
   "pygments_lexer": "ipython3",
   "version": "3.5.2"
  }
 },
 "nbformat": 4,
 "nbformat_minor": 1
}
