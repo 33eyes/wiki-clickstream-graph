{
 "cells": [
  {
   "cell_type": "code",
   "execution_count": 1,
   "metadata": {
    "collapsed": true
   },
   "outputs": [],
   "source": [
    "import pandas as pd\n",
    "import numpy as np\n",
    "import os \n",
    "\n",
    "from py2neo import authenticate, Graph"
   ]
  },
  {
   "cell_type": "code",
   "execution_count": 2,
   "metadata": {
    "collapsed": true
   },
   "outputs": [],
   "source": [
    "# To avoid typing neo4j password into the notebook each time,\n",
    "# I'm saving it in a separate file and reading it in with the helper function below.\n",
    "def read_n4jpass():\n",
    "    \"\"\"Reads neo4j connection credentials from .n4jpass file in current folder.\n",
    "    Expects one value per line, ignores comments, e.g.:\n",
    "    # comments here\n",
    "    user=neo4j\n",
    "    password=secretStuff123\n",
    "    \"\"\"\n",
    "    \n",
    "    cur_folder = os.getcwd()\n",
    "    \n",
    "    with open(cur_folder + '/.n4jpass', 'r') as f:\n",
    "        lines = f.readlines()\n",
    "\n",
    "    d = {}\n",
    "    for l in lines:\n",
    "        if l.strip() and (l[0] != '#'):\n",
    "            k, v = l.strip().split('=')\n",
    "            d[k] = v\n",
    "\n",
    "    return d"
   ]
  },
  {
   "cell_type": "code",
   "execution_count": 3,
   "metadata": {
    "collapsed": true
   },
   "outputs": [],
   "source": [
    "n4j_cred = read_n4jpass()"
   ]
  },
  {
   "cell_type": "code",
   "execution_count": 4,
   "metadata": {
    "collapsed": true
   },
   "outputs": [],
   "source": [
    "# set up authentication parameters\n",
    "authenticate(\"localhost:7474\", n4j_cred[\"user\"], n4j_cred[\"password\"])"
   ]
  },
  {
   "cell_type": "code",
   "execution_count": 5,
   "metadata": {
    "collapsed": true
   },
   "outputs": [],
   "source": [
    "# connect to authenticated graph database\n",
    "graph = Graph(\"http://localhost:7474/db/data/\")"
   ]
  },
  {
   "cell_type": "code",
   "execution_count": 6,
   "metadata": {
    "collapsed": false
   },
   "outputs": [
    {
     "data": {
      "text/html": [
       "<div>\n",
       "<table border=\"1\" class=\"dataframe\">\n",
       "  <thead>\n",
       "    <tr style=\"text-align: right;\">\n",
       "      <th></th>\n",
       "      <th>nodes</th>\n",
       "      <th>relationships</th>\n",
       "    </tr>\n",
       "  </thead>\n",
       "  <tbody>\n",
       "    <tr>\n",
       "      <th>0</th>\n",
       "      <td>[{'name': 'Article', 'indexes': [], 'constrain...</td>\n",
       "      <td>[]</td>\n",
       "    </tr>\n",
       "  </tbody>\n",
       "</table>\n",
       "</div>"
      ],
      "text/plain": [
       "                                               nodes relationships\n",
       "0  [{'name': 'Article', 'indexes': [], 'constrain...            []"
      ]
     },
     "execution_count": 6,
     "metadata": {},
     "output_type": "execute_result"
    }
   ],
   "source": [
    "# run a test query\n",
    "test = graph.data(\"call db.schema()\")\n",
    "pd.DataFrame(test)"
   ]
  },
  {
   "cell_type": "code",
   "execution_count": 7,
   "metadata": {
    "collapsed": true
   },
   "outputs": [],
   "source": [
    "# set up Pandas options\n",
    "pd.set_option('display.max_columns', 25)\n",
    "pd.set_option('display.max_rows', 100)\n",
    "pd.set_option('display.precision', 3)\n",
    "pd.options.display.float_format = '{:.2f}'.format"
   ]
  },
  {
   "cell_type": "code",
   "execution_count": 8,
   "metadata": {
    "collapsed": false
   },
   "outputs": [
    {
     "data": {
      "text/html": [
       "<div>\n",
       "<table border=\"1\" class=\"dataframe\">\n",
       "  <thead>\n",
       "    <tr style=\"text-align: right;\">\n",
       "      <th></th>\n",
       "      <th>description</th>\n",
       "      <th>failureMessage</th>\n",
       "      <th>id</th>\n",
       "      <th>indexName</th>\n",
       "      <th>progress</th>\n",
       "      <th>properties</th>\n",
       "      <th>provider</th>\n",
       "      <th>state</th>\n",
       "      <th>tokenNames</th>\n",
       "      <th>type</th>\n",
       "    </tr>\n",
       "  </thead>\n",
       "  <tbody>\n",
       "    <tr>\n",
       "      <th>0</th>\n",
       "      <td>INDEX ON :Article(title)</td>\n",
       "      <td></td>\n",
       "      <td>1</td>\n",
       "      <td>index_1</td>\n",
       "      <td>100.00</td>\n",
       "      <td>[title]</td>\n",
       "      <td>{'key': 'native-btree', 'version': '1.0'}</td>\n",
       "      <td>ONLINE</td>\n",
       "      <td>[Article]</td>\n",
       "      <td>node_unique_property</td>\n",
       "    </tr>\n",
       "  </tbody>\n",
       "</table>\n",
       "</div>"
      ],
      "text/plain": [
       "                description failureMessage  id indexName  progress properties  \\\n",
       "0  INDEX ON :Article(title)                  1   index_1    100.00    [title]   \n",
       "\n",
       "                                    provider   state tokenNames  \\\n",
       "0  {'key': 'native-btree', 'version': '1.0'}  ONLINE  [Article]   \n",
       "\n",
       "                   type  \n",
       "0  node_unique_property  "
      ]
     },
     "execution_count": 8,
     "metadata": {},
     "output_type": "execute_result"
    }
   ],
   "source": [
    "r = graph.data('CALL db.indexes;')\n",
    "pd.DataFrame(r)"
   ]
  },
  {
   "cell_type": "code",
   "execution_count": 9,
   "metadata": {
    "collapsed": false
   },
   "outputs": [
    {
     "data": {
      "text/html": [
       "<div>\n",
       "<table border=\"1\" class=\"dataframe\">\n",
       "  <thead>\n",
       "    <tr style=\"text-align: right;\">\n",
       "      <th></th>\n",
       "      <th>count(n)</th>\n",
       "    </tr>\n",
       "  </thead>\n",
       "  <tbody>\n",
       "    <tr>\n",
       "      <th>0</th>\n",
       "      <td>2704149</td>\n",
       "    </tr>\n",
       "  </tbody>\n",
       "</table>\n",
       "</div>"
      ],
      "text/plain": [
       "   count(n)\n",
       "0   2704149"
      ]
     },
     "execution_count": 9,
     "metadata": {},
     "output_type": "execute_result"
    }
   ],
   "source": [
    "check = graph.data(\"MATCH (n:Article) RETURN count(n)\")\n",
    "pd.DataFrame(check)"
   ]
  },
  {
   "cell_type": "code",
   "execution_count": 14,
   "metadata": {
    "collapsed": false
   },
   "outputs": [
    {
     "data": {
      "text/html": [
       "<div>\n",
       "<table border=\"1\" class=\"dataframe\">\n",
       "  <thead>\n",
       "    <tr style=\"text-align: right;\">\n",
       "      <th></th>\n",
       "      <th>count(n)</th>\n",
       "    </tr>\n",
       "  </thead>\n",
       "  <tbody>\n",
       "    <tr>\n",
       "      <th>0</th>\n",
       "      <td>2704238</td>\n",
       "    </tr>\n",
       "  </tbody>\n",
       "</table>\n",
       "</div>"
      ],
      "text/plain": [
       "   count(n)\n",
       "0   2704238"
      ]
     },
     "execution_count": 14,
     "metadata": {},
     "output_type": "execute_result"
    }
   ],
   "source": [
    "check = graph.data(\"MATCH (n:Article) RETURN count(n)\")\n",
    "pd.DataFrame(check)"
   ]
  },
  {
   "cell_type": "code",
   "execution_count": 16,
   "metadata": {
    "collapsed": false
   },
   "outputs": [
    {
     "data": {
      "text/html": [
       "<div>\n",
       "<table border=\"1\" class=\"dataframe\">\n",
       "  <thead>\n",
       "    <tr style=\"text-align: right;\">\n",
       "      <th></th>\n",
       "      <th>count(n)</th>\n",
       "    </tr>\n",
       "  </thead>\n",
       "  <tbody>\n",
       "    <tr>\n",
       "      <th>0</th>\n",
       "      <td>2704294</td>\n",
       "    </tr>\n",
       "  </tbody>\n",
       "</table>\n",
       "</div>"
      ],
      "text/plain": [
       "   count(n)\n",
       "0   2704294"
      ]
     },
     "execution_count": 16,
     "metadata": {},
     "output_type": "execute_result"
    }
   ],
   "source": [
    "check = graph.data(\"MATCH (n:Article) RETURN count(n)\")\n",
    "pd.DataFrame(check)"
   ]
  },
  {
   "cell_type": "code",
   "execution_count": 11,
   "metadata": {
    "collapsed": false
   },
   "outputs": [
    {
     "data": {
      "text/html": [
       "<div>\n",
       "<table border=\"1\" class=\"dataframe\">\n",
       "  <thead>\n",
       "    <tr style=\"text-align: right;\">\n",
       "      <th></th>\n",
       "      <th>n</th>\n",
       "    </tr>\n",
       "  </thead>\n",
       "  <tbody>\n",
       "    <tr>\n",
       "      <th>0</th>\n",
       "      <td>{'title': 'First_Families_of_Pakistan'}</td>\n",
       "    </tr>\n",
       "    <tr>\n",
       "      <th>1</th>\n",
       "      <td>{'title': 'Jehangir_Wadia'}</td>\n",
       "    </tr>\n",
       "    <tr>\n",
       "      <th>2</th>\n",
       "      <td>{'title': 'The_Lawrence_School,_Sanawar'}</td>\n",
       "    </tr>\n",
       "    <tr>\n",
       "      <th>3</th>\n",
       "      <td>{'title': 'Wadia_family'}</td>\n",
       "    </tr>\n",
       "    <tr>\n",
       "      <th>4</th>\n",
       "      <td>{'title': 'Ness_Wadia'}</td>\n",
       "    </tr>\n",
       "    <tr>\n",
       "      <th>5</th>\n",
       "      <td>{'title': 'GoAir'}</td>\n",
       "    </tr>\n",
       "    <tr>\n",
       "      <th>6</th>\n",
       "      <td>{'title': 'Lovji_Nusserwanjee_Wadia'}</td>\n",
       "    </tr>\n",
       "    <tr>\n",
       "      <th>7</th>\n",
       "      <td>{'title': 'Sangh_Parivar'}</td>\n",
       "    </tr>\n",
       "    <tr>\n",
       "      <th>8</th>\n",
       "      <td>{'title': 'Parsi'}</td>\n",
       "    </tr>\n",
       "    <tr>\n",
       "      <th>9</th>\n",
       "      <td>{'title': 'Bombay_Dyeing'}</td>\n",
       "    </tr>\n",
       "  </tbody>\n",
       "</table>\n",
       "</div>"
      ],
      "text/plain": [
       "                                           n\n",
       "0    {'title': 'First_Families_of_Pakistan'}\n",
       "1                {'title': 'Jehangir_Wadia'}\n",
       "2  {'title': 'The_Lawrence_School,_Sanawar'}\n",
       "3                  {'title': 'Wadia_family'}\n",
       "4                    {'title': 'Ness_Wadia'}\n",
       "5                         {'title': 'GoAir'}\n",
       "6      {'title': 'Lovji_Nusserwanjee_Wadia'}\n",
       "7                 {'title': 'Sangh_Parivar'}\n",
       "8                         {'title': 'Parsi'}\n",
       "9                 {'title': 'Bombay_Dyeing'}"
      ]
     },
     "execution_count": 11,
     "metadata": {},
     "output_type": "execute_result"
    }
   ],
   "source": [
    "check2 = graph.data(\"MATCH (n:Article) RETURN n LIMIT 10\")\n",
    "pd.DataFrame(check2)"
   ]
  },
  {
   "cell_type": "code",
   "execution_count": 15,
   "metadata": {
    "collapsed": false
   },
   "outputs": [
    {
     "data": {
      "text/html": [
       "<div>\n",
       "<table border=\"1\" class=\"dataframe\">\n",
       "  <thead>\n",
       "    <tr style=\"text-align: right;\">\n",
       "      <th></th>\n",
       "      <th>n</th>\n",
       "    </tr>\n",
       "  </thead>\n",
       "  <tbody>\n",
       "    <tr>\n",
       "      <th>0</th>\n",
       "      <td>{'title': 'First_Families_of_Pakistan'}</td>\n",
       "    </tr>\n",
       "    <tr>\n",
       "      <th>1</th>\n",
       "      <td>{'title': 'Jehangir_Wadia'}</td>\n",
       "    </tr>\n",
       "    <tr>\n",
       "      <th>2</th>\n",
       "      <td>{'title': 'The_Lawrence_School,_Sanawar'}</td>\n",
       "    </tr>\n",
       "    <tr>\n",
       "      <th>3</th>\n",
       "      <td>{'title': 'Wadia_family'}</td>\n",
       "    </tr>\n",
       "    <tr>\n",
       "      <th>4</th>\n",
       "      <td>{'title': 'Ness_Wadia'}</td>\n",
       "    </tr>\n",
       "    <tr>\n",
       "      <th>5</th>\n",
       "      <td>{'title': 'GoAir'}</td>\n",
       "    </tr>\n",
       "    <tr>\n",
       "      <th>6</th>\n",
       "      <td>{'title': 'Lovji_Nusserwanjee_Wadia'}</td>\n",
       "    </tr>\n",
       "    <tr>\n",
       "      <th>7</th>\n",
       "      <td>{'title': 'Sangh_Parivar'}</td>\n",
       "    </tr>\n",
       "    <tr>\n",
       "      <th>8</th>\n",
       "      <td>{'title': 'Parsi'}</td>\n",
       "    </tr>\n",
       "    <tr>\n",
       "      <th>9</th>\n",
       "      <td>{'title': 'Bombay_Dyeing'}</td>\n",
       "    </tr>\n",
       "  </tbody>\n",
       "</table>\n",
       "</div>"
      ],
      "text/plain": [
       "                                           n\n",
       "0    {'title': 'First_Families_of_Pakistan'}\n",
       "1                {'title': 'Jehangir_Wadia'}\n",
       "2  {'title': 'The_Lawrence_School,_Sanawar'}\n",
       "3                  {'title': 'Wadia_family'}\n",
       "4                    {'title': 'Ness_Wadia'}\n",
       "5                         {'title': 'GoAir'}\n",
       "6      {'title': 'Lovji_Nusserwanjee_Wadia'}\n",
       "7                 {'title': 'Sangh_Parivar'}\n",
       "8                         {'title': 'Parsi'}\n",
       "9                 {'title': 'Bombay_Dyeing'}"
      ]
     },
     "execution_count": 15,
     "metadata": {},
     "output_type": "execute_result"
    }
   ],
   "source": [
    "check2 = graph.data(\"MATCH (n:Article) RETURN n LIMIT 10\")\n",
    "pd.DataFrame(check2)"
   ]
  },
  {
   "cell_type": "code",
   "execution_count": null,
   "metadata": {
    "collapsed": true
   },
   "outputs": [],
   "source": []
  }
 ],
 "metadata": {
  "anaconda-cloud": {},
  "kernelspec": {
   "display_name": "Python [default]",
   "language": "python",
   "name": "python3"
  },
  "language_info": {
   "codemirror_mode": {
    "name": "ipython",
    "version": 3
   },
   "file_extension": ".py",
   "mimetype": "text/x-python",
   "name": "python",
   "nbconvert_exporter": "python",
   "pygments_lexer": "ipython3",
   "version": "3.5.2"
  }
 },
 "nbformat": 4,
 "nbformat_minor": 1
}
