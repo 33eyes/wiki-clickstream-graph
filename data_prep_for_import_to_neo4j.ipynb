{
 "cells": [
  {
   "cell_type": "markdown",
   "metadata": {},
   "source": [
    "### 2. Notebook setup"
   ]
  },
  {
   "cell_type": "markdown",
   "metadata": {},
   "source": [
    "#### Imports"
   ]
  },
  {
   "cell_type": "code",
   "execution_count": 95,
   "metadata": {},
   "outputs": [],
   "source": [
    "import pandas as pd\n",
    "import numpy as np\n",
    "\n",
    "import  csv\n",
    "\n",
    "from time import sleep\n",
    "from timeit import default_timer as timer\n",
    "\n",
    "# custom general helper functions for this project\n",
    "import custom_utils as cu\n",
    "import importlib"
   ]
  },
  {
   "cell_type": "code",
   "execution_count": 102,
   "metadata": {},
   "outputs": [],
   "source": [
    "# reload imports as needed\n",
    "importlib.reload(cu);"
   ]
  },
  {
   "cell_type": "markdown",
   "metadata": {},
   "source": [
    "#### Settings"
   ]
  },
  {
   "cell_type": "code",
   "execution_count": 2,
   "metadata": {},
   "outputs": [],
   "source": [
    "# set up Pandas options\n",
    "pd.set_option('display.max_columns', 25)\n",
    "pd.set_option('display.max_rows', 100)\n",
    "pd.set_option('display.precision', 3)\n",
    "pd.options.display.float_format = '{:.2f}'.format"
   ]
  },
  {
   "cell_type": "markdown",
   "metadata": {},
   "source": [
    "#### Read in, check and clean the data"
   ]
  },
  {
   "cell_type": "code",
   "execution_count": 3,
   "metadata": {},
   "outputs": [],
   "source": [
    "# Read the cleaned up EN clickstream tsv file into pandas\n",
    "filepath = \"../data/clickstream-enwiki-2018-12_clean.tsv\"\n",
    "df = pd.read_csv(filepath, sep='\\t', names=['prev', 'curr', 'type', 'n'])"
   ]
  },
  {
   "cell_type": "code",
   "execution_count": 4,
   "metadata": {},
   "outputs": [],
   "source": [
    "# Replace the false missing value NaNs with string \"NaN\"s\n",
    "df['prev'] = df['prev'].fillna('NaN')\n",
    "df['curr'] = df['curr'].fillna('NaN')"
   ]
  },
  {
   "cell_type": "markdown",
   "metadata": {},
   "source": [
    "### 3. Data prep"
   ]
  },
  {
   "cell_type": "markdown",
   "metadata": {},
   "source": [
    "#### Nodes"
   ]
  },
  {
   "cell_type": "code",
   "execution_count": 26,
   "metadata": {},
   "outputs": [],
   "source": [
    "external_edges = df[df.type == \"external\"]\n",
    "internal_edges = df[df.type != \"external\"]"
   ]
  },
  {
   "cell_type": "markdown",
   "metadata": {},
   "source": [
    "##### Nodes with external traffic going to them"
   ]
  },
  {
   "cell_type": "code",
   "execution_count": 27,
   "metadata": {
    "scrolled": true
   },
   "outputs": [
    {
     "data": {
      "text/html": [
       "<div>\n",
       "<style scoped>\n",
       "    .dataframe tbody tr th:only-of-type {\n",
       "        vertical-align: middle;\n",
       "    }\n",
       "\n",
       "    .dataframe tbody tr th {\n",
       "        vertical-align: top;\n",
       "    }\n",
       "\n",
       "    .dataframe thead th {\n",
       "        text-align: right;\n",
       "    }\n",
       "</style>\n",
       "<table border=\"1\" class=\"dataframe\">\n",
       "  <thead>\n",
       "    <tr style=\"text-align: right;\">\n",
       "      <th></th>\n",
       "      <th>prev</th>\n",
       "      <th>curr</th>\n",
       "      <th>type</th>\n",
       "      <th>n</th>\n",
       "    </tr>\n",
       "  </thead>\n",
       "  <tbody>\n",
       "    <tr>\n",
       "      <th>0</th>\n",
       "      <td>other-empty</td>\n",
       "      <td>2019_Horizon_League_Baseball_Tournament</td>\n",
       "      <td>external</td>\n",
       "      <td>16</td>\n",
       "    </tr>\n",
       "    <tr>\n",
       "      <th>1</th>\n",
       "      <td>other-search</td>\n",
       "      <td>ForeverAtLast</td>\n",
       "      <td>external</td>\n",
       "      <td>40</td>\n",
       "    </tr>\n",
       "    <tr>\n",
       "      <th>2</th>\n",
       "      <td>other-empty</td>\n",
       "      <td>ForeverAtLast</td>\n",
       "      <td>external</td>\n",
       "      <td>85</td>\n",
       "    </tr>\n",
       "    <tr>\n",
       "      <th>6</th>\n",
       "      <td>other-search</td>\n",
       "      <td>Jehangir_Wadia</td>\n",
       "      <td>external</td>\n",
       "      <td>967</td>\n",
       "    </tr>\n",
       "    <tr>\n",
       "      <th>8</th>\n",
       "      <td>other-empty</td>\n",
       "      <td>Jehangir_Wadia</td>\n",
       "      <td>external</td>\n",
       "      <td>638</td>\n",
       "    </tr>\n",
       "  </tbody>\n",
       "</table>\n",
       "</div>"
      ],
      "text/plain": [
       "           prev                                     curr      type    n\n",
       "0   other-empty  2019_Horizon_League_Baseball_Tournament  external   16\n",
       "1  other-search                            ForeverAtLast  external   40\n",
       "2   other-empty                            ForeverAtLast  external   85\n",
       "6  other-search                           Jehangir_Wadia  external  967\n",
       "8   other-empty                           Jehangir_Wadia  external  638"
      ]
     },
     "execution_count": 27,
     "metadata": {},
     "output_type": "execute_result"
    }
   ],
   "source": [
    "external_edges.head()"
   ]
  },
  {
   "cell_type": "code",
   "execution_count": 28,
   "metadata": {},
   "outputs": [],
   "source": [
    "ext_nodes = set(external_edges[\"curr\"])"
   ]
  },
  {
   "cell_type": "code",
   "execution_count": 29,
   "metadata": {},
   "outputs": [
    {
     "data": {
      "text/plain": [
       "5163109"
      ]
     },
     "execution_count": 29,
     "metadata": {},
     "output_type": "execute_result"
    }
   ],
   "source": [
    "len(ext_nodes)"
   ]
  },
  {
   "cell_type": "code",
   "execution_count": 30,
   "metadata": {},
   "outputs": [
    {
     "data": {
      "text/plain": [
       "['Martial_arts_therapy',\n",
       " 'Arrondissement_of_Beauvais',\n",
       " 'Hibiscadelphus_bombycinus',\n",
       " '2009_European_Touring_Car_Cup',\n",
       " 'Leopold_Cassella',\n",
       " 'Hugh_Wilson_(Northern_Ireland_politician)',\n",
       " 'Conchylodes_gammaphora',\n",
       " 'Hemin_Desai',\n",
       " 'Gokcha_barbel',\n",
       " 'Marduk_(band)']"
      ]
     },
     "execution_count": 30,
     "metadata": {},
     "output_type": "execute_result"
    }
   ],
   "source": [
    "list(ext_nodes)[:10]"
   ]
  },
  {
   "cell_type": "code",
   "execution_count": 72,
   "metadata": {},
   "outputs": [],
   "source": [
    "def external_traffic(df, article, external_traffic_type):\n",
    "    traffic = df.loc[(df.curr == article) & (df.prev == external_traffic_type), 'n'].values\n",
    "    if len(traffic):\n",
    "        return traffic[0]\n",
    "    else:\n",
    "        return ''"
   ]
  },
  {
   "cell_type": "code",
   "execution_count": 103,
   "metadata": {},
   "outputs": [],
   "source": [
    "ext_nodes_list = list(ext_nodes)"
   ]
  },
  {
   "cell_type": "code",
   "execution_count": null,
   "metadata": {},
   "outputs": [],
   "source": [
    "start_time = timer()\n",
    "with open(\"../data/external_nodes.tsv\",\"w\") as tsvfile:\n",
    "    wr = csv.writer(tsvfile, delimiter='\\t')\n",
    "    \n",
    "    # header\n",
    "    wr.writerow([\"title\", \n",
    "                 \"external_website_traffic\", \n",
    "                 \"other_wikimedia_traffic\", \n",
    "                 \"external_search_traffic\", \n",
    "                 \"empty_referer_traffic\", \n",
    "                 \"unknown_external_traffic\"])\n",
    "    #rows\n",
    "    for article in ext_nodes_list:\n",
    "        wr.writerow([article, \n",
    "                     external_traffic(external_edges, article, \"other-external\"), \n",
    "                     external_traffic(external_edges, article, \"other-internal\"), \n",
    "                     external_traffic(external_edges, article, \"other-search\"), \n",
    "                     external_traffic(external_edges, article, \"other-empty\"), \n",
    "                     external_traffic(external_edges, article, \"other-other\")])\n",
    "        \n",
    "\n",
    "cu.printRunTime(start_time)"
   ]
  },
  {
   "cell_type": "code",
   "execution_count": null,
   "metadata": {},
   "outputs": [],
   "source": [
    "!head ../data/external_nodes.tsv"
   ]
  },
  {
   "cell_type": "code",
   "execution_count": null,
   "metadata": {},
   "outputs": [],
   "source": [
    "# check the number of lines in the file\n",
    "!wc -l ../data/external_nodes.tsv"
   ]
  },
  {
   "cell_type": "markdown",
   "metadata": {},
   "source": [
    "##### Nodes without external traffic going to them"
   ]
  },
  {
   "cell_type": "code",
   "execution_count": null,
   "metadata": {},
   "outputs": [],
   "source": [
    "prev_nodes = set(internal_edges[\"prev\"])\n",
    "curr_nodes = set(internal_edges[\"curr\"])"
   ]
  },
  {
   "cell_type": "code",
   "execution_count": 7,
   "metadata": {},
   "outputs": [],
   "source": [
    "int_nodes = prev_nodes.union(curr_nodes)"
   ]
  },
  {
   "cell_type": "code",
   "execution_count": 8,
   "metadata": {},
   "outputs": [
    {
     "data": {
      "text/plain": [
       "5185699"
      ]
     },
     "execution_count": 8,
     "metadata": {},
     "output_type": "execute_result"
    }
   ],
   "source": [
    "len(int_nodes)"
   ]
  },
  {
   "cell_type": "code",
   "execution_count": null,
   "metadata": {},
   "outputs": [],
   "source": [
    "internal_only_nodes = int_nodes.difference(ext_nodes)"
   ]
  },
  {
   "cell_type": "code",
   "execution_count": null,
   "metadata": {},
   "outputs": [],
   "source": [
    "len(internal_only_nodes)"
   ]
  },
  {
   "cell_type": "code",
   "execution_count": 9,
   "metadata": {},
   "outputs": [
    {
     "data": {
      "text/plain": [
       "['Martial_arts_therapy',\n",
       " 'Arrondissement_of_Beauvais',\n",
       " 'Hibiscadelphus_bombycinus',\n",
       " '2009_European_Touring_Car_Cup',\n",
       " 'Leopold_Cassella',\n",
       " 'Hugh_Wilson_(Northern_Ireland_politician)',\n",
       " 'Conchylodes_gammaphora',\n",
       " 'Hemin_Desai',\n",
       " 'Gokcha_barbel',\n",
       " 'Marduk_(band)']"
      ]
     },
     "execution_count": 9,
     "metadata": {},
     "output_type": "execute_result"
    }
   ],
   "source": [
    "list(internal_only_nodes)[:10]"
   ]
  },
  {
   "cell_type": "code",
   "execution_count": 17,
   "metadata": {},
   "outputs": [
    {
     "name": "stdout",
     "output_type": "stream",
     "text": [
      "clickstream-enwiki-2018-12.tsv       clickstream-enwiki-2018-12_clean.tsv\r\n"
     ]
    }
   ],
   "source": [
    "!ls ../data"
   ]
  },
  {
   "cell_type": "code",
   "execution_count": 18,
   "metadata": {},
   "outputs": [],
   "source": [
    "all_nodes_list = list(all_nodes)\n",
    "\n",
    "with open(\"../data/all_nodes.tsv\",\"w\") as f:\n",
    "    wr = csv.writer(f,delimiter=\"\\n\")\n",
    "    wr.writerow(all_nodes_list)"
   ]
  },
  {
   "cell_type": "code",
   "execution_count": 23,
   "metadata": {},
   "outputs": [
    {
     "name": "stdout",
     "output_type": "stream",
     "text": [
      "head: ../data/all_nodes.tsv: No such file or directory\r\n"
     ]
    }
   ],
   "source": [
    "!head ../data/all_nodes.tsv"
   ]
  },
  {
   "cell_type": "code",
   "execution_count": 21,
   "metadata": {},
   "outputs": [
    {
     "data": {
      "text/html": [
       "<div>\n",
       "<style scoped>\n",
       "    .dataframe tbody tr th:only-of-type {\n",
       "        vertical-align: middle;\n",
       "    }\n",
       "\n",
       "    .dataframe tbody tr th {\n",
       "        vertical-align: top;\n",
       "    }\n",
       "\n",
       "    .dataframe thead th {\n",
       "        text-align: right;\n",
       "    }\n",
       "</style>\n",
       "<table border=\"1\" class=\"dataframe\">\n",
       "  <thead>\n",
       "    <tr style=\"text-align: right;\">\n",
       "      <th></th>\n",
       "      <th>prev</th>\n",
       "      <th>curr</th>\n",
       "      <th>type</th>\n",
       "      <th>n</th>\n",
       "    </tr>\n",
       "  </thead>\n",
       "  <tbody>\n",
       "    <tr>\n",
       "      <th>0</th>\n",
       "      <td>other-empty</td>\n",
       "      <td>2019_Horizon_League_Baseball_Tournament</td>\n",
       "      <td>external</td>\n",
       "      <td>16</td>\n",
       "    </tr>\n",
       "    <tr>\n",
       "      <th>1</th>\n",
       "      <td>other-search</td>\n",
       "      <td>ForeverAtLast</td>\n",
       "      <td>external</td>\n",
       "      <td>40</td>\n",
       "    </tr>\n",
       "    <tr>\n",
       "      <th>2</th>\n",
       "      <td>other-empty</td>\n",
       "      <td>ForeverAtLast</td>\n",
       "      <td>external</td>\n",
       "      <td>85</td>\n",
       "    </tr>\n",
       "    <tr>\n",
       "      <th>3</th>\n",
       "      <td>First_Families_of_Pakistan</td>\n",
       "      <td>Jehangir_Wadia</td>\n",
       "      <td>link</td>\n",
       "      <td>19</td>\n",
       "    </tr>\n",
       "    <tr>\n",
       "      <th>4</th>\n",
       "      <td>The_Lawrence_School,_Sanawar</td>\n",
       "      <td>Jehangir_Wadia</td>\n",
       "      <td>link</td>\n",
       "      <td>36</td>\n",
       "    </tr>\n",
       "    <tr>\n",
       "      <th>5</th>\n",
       "      <td>Wadia_family</td>\n",
       "      <td>Jehangir_Wadia</td>\n",
       "      <td>link</td>\n",
       "      <td>715</td>\n",
       "    </tr>\n",
       "    <tr>\n",
       "      <th>6</th>\n",
       "      <td>other-search</td>\n",
       "      <td>Jehangir_Wadia</td>\n",
       "      <td>external</td>\n",
       "      <td>967</td>\n",
       "    </tr>\n",
       "    <tr>\n",
       "      <th>7</th>\n",
       "      <td>Ness_Wadia</td>\n",
       "      <td>Jehangir_Wadia</td>\n",
       "      <td>link</td>\n",
       "      <td>494</td>\n",
       "    </tr>\n",
       "    <tr>\n",
       "      <th>8</th>\n",
       "      <td>other-empty</td>\n",
       "      <td>Jehangir_Wadia</td>\n",
       "      <td>external</td>\n",
       "      <td>638</td>\n",
       "    </tr>\n",
       "    <tr>\n",
       "      <th>9</th>\n",
       "      <td>GoAir</td>\n",
       "      <td>Jehangir_Wadia</td>\n",
       "      <td>link</td>\n",
       "      <td>1191</td>\n",
       "    </tr>\n",
       "  </tbody>\n",
       "</table>\n",
       "</div>"
      ],
      "text/plain": [
       "                           prev                                     curr  \\\n",
       "0                   other-empty  2019_Horizon_League_Baseball_Tournament   \n",
       "1                  other-search                            ForeverAtLast   \n",
       "2                   other-empty                            ForeverAtLast   \n",
       "3    First_Families_of_Pakistan                           Jehangir_Wadia   \n",
       "4  The_Lawrence_School,_Sanawar                           Jehangir_Wadia   \n",
       "5                  Wadia_family                           Jehangir_Wadia   \n",
       "6                  other-search                           Jehangir_Wadia   \n",
       "7                    Ness_Wadia                           Jehangir_Wadia   \n",
       "8                   other-empty                           Jehangir_Wadia   \n",
       "9                         GoAir                           Jehangir_Wadia   \n",
       "\n",
       "       type     n  \n",
       "0  external    16  \n",
       "1  external    40  \n",
       "2  external    85  \n",
       "3      link    19  \n",
       "4      link    36  \n",
       "5      link   715  \n",
       "6  external   967  \n",
       "7      link   494  \n",
       "8  external   638  \n",
       "9      link  1191  "
      ]
     },
     "execution_count": 21,
     "metadata": {},
     "output_type": "execute_result"
    }
   ],
   "source": [
    "df.head(10)"
   ]
  },
  {
   "cell_type": "code",
   "execution_count": null,
   "metadata": {},
   "outputs": [],
   "source": []
  }
 ],
 "metadata": {
  "kernelspec": {
   "display_name": "Python 3",
   "language": "python",
   "name": "python3"
  },
  "language_info": {
   "codemirror_mode": {
    "name": "ipython",
    "version": 3
   },
   "file_extension": ".py",
   "mimetype": "text/x-python",
   "name": "python",
   "nbconvert_exporter": "python",
   "pygments_lexer": "ipython3",
   "version": "3.7.2"
  }
 },
 "nbformat": 4,
 "nbformat_minor": 2
}
