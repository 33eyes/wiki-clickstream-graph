{
 "cells": [
  {
   "cell_type": "code",
   "execution_count": 1,
   "metadata": {
    "collapsed": true
   },
   "outputs": [],
   "source": [
    "import pandas as pd\n",
    "import numpy as np\n",
    "\n",
    "\n",
    "\n",
    "from py2neo import authenticate, Graph, Node, Relationship\n",
    "\n",
    "\n",
    "import os\n",
    "import csv\n",
    "import pickle\n",
    "\n",
    "from time import sleep\n",
    "from timeit import default_timer as timer\n",
    "from datetime import datetime\n",
    "\n",
    "from IPython.display import display, HTML\n",
    "\n",
    "# custom general helper functions for this project\n",
    "import custom_utils as cu\n",
    "import importlib\n"
   ]
  },
  {
   "cell_type": "code",
   "execution_count": 2,
   "metadata": {
    "collapsed": true
   },
   "outputs": [],
   "source": [
    "# reload imports as needed\n",
    "importlib.reload(cu);"
   ]
  },
  {
   "cell_type": "code",
   "execution_count": 3,
   "metadata": {
    "collapsed": true
   },
   "outputs": [],
   "source": [
    "# set up Pandas options\n",
    "pd.set_option('display.max_columns', 25)\n",
    "pd.set_option('display.max_rows', 100)\n",
    "pd.set_option('display.precision', 3)\n",
    "pd.options.display.float_format = '{:.2f}'.format"
   ]
  },
  {
   "cell_type": "code",
   "execution_count": 5,
   "metadata": {
    "collapsed": true
   },
   "outputs": [],
   "source": [
    "pd.options.display.max_colwidth = 100"
   ]
  },
  {
   "cell_type": "code",
   "execution_count": null,
   "metadata": {
    "collapsed": true
   },
   "outputs": [],
   "source": []
  },
  {
   "cell_type": "code",
   "execution_count": 9,
   "metadata": {
    "collapsed": false
   },
   "outputs": [
    {
     "data": {
      "text/html": [
       "<div>\n",
       "<table border=\"1\" class=\"dataframe\">\n",
       "  <thead>\n",
       "    <tr style=\"text-align: right;\">\n",
       "      <th></th>\n",
       "      <th>external_search_traffic</th>\n",
       "      <th>link_in_traffic</th>\n",
       "      <th>louvain_community</th>\n",
       "      <th>search_in_traffic</th>\n",
       "      <th>title</th>\n",
       "    </tr>\n",
       "  </thead>\n",
       "  <tbody>\n",
       "    <tr>\n",
       "      <th>0</th>\n",
       "      <td>4576854.00</td>\n",
       "      <td>1108189.00</td>\n",
       "      <td>3</td>\n",
       "      <td>5630.00</td>\n",
       "      <td>George_H._W._Bush</td>\n",
       "    </tr>\n",
       "    <tr>\n",
       "      <th>1</th>\n",
       "      <td>3538068.00</td>\n",
       "      <td>639353.00</td>\n",
       "      <td>4</td>\n",
       "      <td>6451.00</td>\n",
       "      <td>Jason_Momoa</td>\n",
       "    </tr>\n",
       "    <tr>\n",
       "      <th>2</th>\n",
       "      <td>3475113.00</td>\n",
       "      <td>223635.00</td>\n",
       "      <td>9</td>\n",
       "      <td>23563.00</td>\n",
       "      <td>2.0_(film)</td>\n",
       "    </tr>\n",
       "    <tr>\n",
       "      <th>3</th>\n",
       "      <td>3251996.00</td>\n",
       "      <td>682992.00</td>\n",
       "      <td>4</td>\n",
       "      <td>10416.00</td>\n",
       "      <td>Bird_Box_(film)</td>\n",
       "    </tr>\n",
       "    <tr>\n",
       "      <th>4</th>\n",
       "      <td>3020671.00</td>\n",
       "      <td>31170.00</td>\n",
       "      <td>1</td>\n",
       "      <td>nan</td>\n",
       "      <td>Main_Page</td>\n",
       "    </tr>\n",
       "    <tr>\n",
       "      <th>5</th>\n",
       "      <td>2634665.00</td>\n",
       "      <td>408421.00</td>\n",
       "      <td>4</td>\n",
       "      <td>34309.00</td>\n",
       "      <td>Aquaman_(film)</td>\n",
       "    </tr>\n",
       "    <tr>\n",
       "      <th>6</th>\n",
       "      <td>2328884.00</td>\n",
       "      <td>200893.00</td>\n",
       "      <td>4</td>\n",
       "      <td>192.00</td>\n",
       "      <td>Bird_Box</td>\n",
       "    </tr>\n",
       "    <tr>\n",
       "      <th>7</th>\n",
       "      <td>2231176.00</td>\n",
       "      <td>575481.00</td>\n",
       "      <td>3</td>\n",
       "      <td>3945.00</td>\n",
       "      <td>Priyanka_Chopra</td>\n",
       "    </tr>\n",
       "    <tr>\n",
       "      <th>8</th>\n",
       "      <td>2226602.00</td>\n",
       "      <td>117115.00</td>\n",
       "      <td>5</td>\n",
       "      <td>958.00</td>\n",
       "      <td>List_of_most-disliked_YouTube_videos</td>\n",
       "    </tr>\n",
       "    <tr>\n",
       "      <th>9</th>\n",
       "      <td>2050628.00</td>\n",
       "      <td>336621.00</td>\n",
       "      <td>5</td>\n",
       "      <td>4161.00</td>\n",
       "      <td>Freddie_Mercury</td>\n",
       "    </tr>\n",
       "    <tr>\n",
       "      <th>10</th>\n",
       "      <td>1923035.00</td>\n",
       "      <td>109379.00</td>\n",
       "      <td>3</td>\n",
       "      <td>12636.00</td>\n",
       "      <td>Zero_(2018_film)</td>\n",
       "    </tr>\n",
       "    <tr>\n",
       "      <th>11</th>\n",
       "      <td>1674952.00</td>\n",
       "      <td>907853.00</td>\n",
       "      <td>3</td>\n",
       "      <td>1273.00</td>\n",
       "      <td>George_W._Bush</td>\n",
       "    </tr>\n",
       "    <tr>\n",
       "      <th>12</th>\n",
       "      <td>1645911.00</td>\n",
       "      <td>137326.00</td>\n",
       "      <td>9</td>\n",
       "      <td>6821.00</td>\n",
       "      <td>K.G.F:_Chapter_1</td>\n",
       "    </tr>\n",
       "    <tr>\n",
       "      <th>13</th>\n",
       "      <td>1568511.00</td>\n",
       "      <td>776311.00</td>\n",
       "      <td>5</td>\n",
       "      <td>1457.00</td>\n",
       "      <td>Nick_Jonas</td>\n",
       "    </tr>\n",
       "    <tr>\n",
       "      <th>14</th>\n",
       "      <td>1553836.00</td>\n",
       "      <td>260062.00</td>\n",
       "      <td>4</td>\n",
       "      <td>26665.00</td>\n",
       "      <td>Spider-Man:_Into_the_Spider-Verse</td>\n",
       "    </tr>\n",
       "    <tr>\n",
       "      <th>15</th>\n",
       "      <td>1457685.00</td>\n",
       "      <td>98173.00</td>\n",
       "      <td>4</td>\n",
       "      <td>3488.00</td>\n",
       "      <td>Penny_Marshall</td>\n",
       "    </tr>\n",
       "    <tr>\n",
       "      <th>16</th>\n",
       "      <td>1370107.00</td>\n",
       "      <td>442623.00</td>\n",
       "      <td>3</td>\n",
       "      <td>3236.00</td>\n",
       "      <td>Jimmy_Carter</td>\n",
       "    </tr>\n",
       "    <tr>\n",
       "      <th>17</th>\n",
       "      <td>1237938.00</td>\n",
       "      <td>277013.00</td>\n",
       "      <td>4</td>\n",
       "      <td>3417.00</td>\n",
       "      <td>Macaulay_Culkin</td>\n",
       "    </tr>\n",
       "    <tr>\n",
       "      <th>18</th>\n",
       "      <td>1198082.00</td>\n",
       "      <td>381422.00</td>\n",
       "      <td>3</td>\n",
       "      <td>941.00</td>\n",
       "      <td>List_of_highest-grossing_Indian_films</td>\n",
       "    </tr>\n",
       "    <tr>\n",
       "      <th>19</th>\n",
       "      <td>1175878.00</td>\n",
       "      <td>186277.00</td>\n",
       "      <td>3</td>\n",
       "      <td>2082.00</td>\n",
       "      <td>Mary,_Queen_of_Scots</td>\n",
       "    </tr>\n",
       "  </tbody>\n",
       "</table>\n",
       "</div>"
      ],
      "text/plain": [
       "    external_search_traffic  link_in_traffic  louvain_community  \\\n",
       "0                4576854.00       1108189.00                  3   \n",
       "1                3538068.00        639353.00                  4   \n",
       "2                3475113.00        223635.00                  9   \n",
       "3                3251996.00        682992.00                  4   \n",
       "4                3020671.00         31170.00                  1   \n",
       "5                2634665.00        408421.00                  4   \n",
       "6                2328884.00        200893.00                  4   \n",
       "7                2231176.00        575481.00                  3   \n",
       "8                2226602.00        117115.00                  5   \n",
       "9                2050628.00        336621.00                  5   \n",
       "10               1923035.00        109379.00                  3   \n",
       "11               1674952.00        907853.00                  3   \n",
       "12               1645911.00        137326.00                  9   \n",
       "13               1568511.00        776311.00                  5   \n",
       "14               1553836.00        260062.00                  4   \n",
       "15               1457685.00         98173.00                  4   \n",
       "16               1370107.00        442623.00                  3   \n",
       "17               1237938.00        277013.00                  4   \n",
       "18               1198082.00        381422.00                  3   \n",
       "19               1175878.00        186277.00                  3   \n",
       "\n",
       "    search_in_traffic                                  title  \n",
       "0             5630.00                      George_H._W._Bush  \n",
       "1             6451.00                            Jason_Momoa  \n",
       "2            23563.00                             2.0_(film)  \n",
       "3            10416.00                        Bird_Box_(film)  \n",
       "4                 nan                              Main_Page  \n",
       "5            34309.00                         Aquaman_(film)  \n",
       "6              192.00                               Bird_Box  \n",
       "7             3945.00                        Priyanka_Chopra  \n",
       "8              958.00   List_of_most-disliked_YouTube_videos  \n",
       "9             4161.00                        Freddie_Mercury  \n",
       "10           12636.00                       Zero_(2018_film)  \n",
       "11            1273.00                         George_W._Bush  \n",
       "12            6821.00                       K.G.F:_Chapter_1  \n",
       "13            1457.00                             Nick_Jonas  \n",
       "14           26665.00      Spider-Man:_Into_the_Spider-Verse  \n",
       "15            3488.00                         Penny_Marshall  \n",
       "16            3236.00                           Jimmy_Carter  \n",
       "17            3417.00                        Macaulay_Culkin  \n",
       "18             941.00  List_of_highest-grossing_Indian_films  \n",
       "19            2082.00                   Mary,_Queen_of_Scots  "
      ]
     },
     "execution_count": 9,
     "metadata": {},
     "output_type": "execute_result"
    }
   ],
   "source": [
    "# unpickle\n",
    "with open(\"pickles/en_1218_louvain_communities_for_NLP.pkl\", 'rb') as picklefile: \n",
    "    louvain_communities_for_NLP = pickle.load(picklefile)\n",
    "\n",
    "louvain_communities_for_NLP.head(20)"
   ]
  },
  {
   "cell_type": "markdown",
   "metadata": {},
   "source": [
    "##### Pre-process article titles"
   ]
  },
  {
   "cell_type": "code",
   "execution_count": 10,
   "metadata": {
    "collapsed": false
   },
   "outputs": [
    {
     "data": {
      "text/html": [
       "<div>\n",
       "<table border=\"1\" class=\"dataframe\">\n",
       "  <thead>\n",
       "    <tr style=\"text-align: right;\">\n",
       "      <th></th>\n",
       "      <th>external_search_traffic</th>\n",
       "      <th>link_in_traffic</th>\n",
       "      <th>louvain_community</th>\n",
       "      <th>search_in_traffic</th>\n",
       "      <th>title_raw</th>\n",
       "    </tr>\n",
       "  </thead>\n",
       "  <tbody>\n",
       "    <tr>\n",
       "      <th>0</th>\n",
       "      <td>4576854.00</td>\n",
       "      <td>1108189.00</td>\n",
       "      <td>3</td>\n",
       "      <td>5630.00</td>\n",
       "      <td>George_H._W._Bush</td>\n",
       "    </tr>\n",
       "    <tr>\n",
       "      <th>1</th>\n",
       "      <td>3538068.00</td>\n",
       "      <td>639353.00</td>\n",
       "      <td>4</td>\n",
       "      <td>6451.00</td>\n",
       "      <td>Jason_Momoa</td>\n",
       "    </tr>\n",
       "    <tr>\n",
       "      <th>2</th>\n",
       "      <td>3475113.00</td>\n",
       "      <td>223635.00</td>\n",
       "      <td>9</td>\n",
       "      <td>23563.00</td>\n",
       "      <td>2.0_(film)</td>\n",
       "    </tr>\n",
       "    <tr>\n",
       "      <th>3</th>\n",
       "      <td>3251996.00</td>\n",
       "      <td>682992.00</td>\n",
       "      <td>4</td>\n",
       "      <td>10416.00</td>\n",
       "      <td>Bird_Box_(film)</td>\n",
       "    </tr>\n",
       "    <tr>\n",
       "      <th>4</th>\n",
       "      <td>3020671.00</td>\n",
       "      <td>31170.00</td>\n",
       "      <td>1</td>\n",
       "      <td>nan</td>\n",
       "      <td>Main_Page</td>\n",
       "    </tr>\n",
       "  </tbody>\n",
       "</table>\n",
       "</div>"
      ],
      "text/plain": [
       "   external_search_traffic  link_in_traffic  louvain_community  \\\n",
       "0               4576854.00       1108189.00                  3   \n",
       "1               3538068.00        639353.00                  4   \n",
       "2               3475113.00        223635.00                  9   \n",
       "3               3251996.00        682992.00                  4   \n",
       "4               3020671.00         31170.00                  1   \n",
       "\n",
       "   search_in_traffic          title_raw  \n",
       "0            5630.00  George_H._W._Bush  \n",
       "1            6451.00        Jason_Momoa  \n",
       "2           23563.00         2.0_(film)  \n",
       "3           10416.00    Bird_Box_(film)  \n",
       "4                nan          Main_Page  "
      ]
     },
     "execution_count": 10,
     "metadata": {},
     "output_type": "execute_result"
    }
   ],
   "source": [
    "louvain_communities_for_NLP_proc =louvain_communities_for_NLP.copy()\n",
    "louvain_communities_for_NLP_proc.rename(index=str,columns={'title':'title_raw'}, inplace=True)\n",
    "louvain_communities_for_NLP_proc.head(5)"
   ]
  },
  {
   "cell_type": "code",
   "execution_count": 12,
   "metadata": {
    "collapsed": false
   },
   "outputs": [],
   "source": [
    "# the importance of words will be weighted by search and link traffic\n",
    "louvain_communities_for_NLP_proc[\"weight\"] = louvain_communities_for_NLP_proc[[\n",
    "        \"external_search_traffic\", \"link_in_traffic\", \"search_in_traffic\"]].sum(axis=1).astype('int64').fillna(0)\n",
    "\n",
    "louvain_communities_for_NLP_proc.drop([\"external_search_traffic\", \"link_in_traffic\", \"search_in_traffic\"], \n",
    "                                      axis = 1,\n",
    "                                      inplace=True)"
   ]
  },
  {
   "cell_type": "code",
   "execution_count": 13,
   "metadata": {
    "collapsed": false
   },
   "outputs": [
    {
     "data": {
      "text/html": [
       "<div>\n",
       "<table border=\"1\" class=\"dataframe\">\n",
       "  <thead>\n",
       "    <tr style=\"text-align: right;\">\n",
       "      <th></th>\n",
       "      <th>louvain_community</th>\n",
       "      <th>title_raw</th>\n",
       "      <th>weight</th>\n",
       "    </tr>\n",
       "  </thead>\n",
       "  <tbody>\n",
       "    <tr>\n",
       "      <th>0</th>\n",
       "      <td>3</td>\n",
       "      <td>George_H._W._Bush</td>\n",
       "      <td>5690673</td>\n",
       "    </tr>\n",
       "    <tr>\n",
       "      <th>1</th>\n",
       "      <td>4</td>\n",
       "      <td>Jason_Momoa</td>\n",
       "      <td>4183872</td>\n",
       "    </tr>\n",
       "    <tr>\n",
       "      <th>2</th>\n",
       "      <td>9</td>\n",
       "      <td>2.0_(film)</td>\n",
       "      <td>3722311</td>\n",
       "    </tr>\n",
       "    <tr>\n",
       "      <th>3</th>\n",
       "      <td>4</td>\n",
       "      <td>Bird_Box_(film)</td>\n",
       "      <td>3945404</td>\n",
       "    </tr>\n",
       "    <tr>\n",
       "      <th>4</th>\n",
       "      <td>1</td>\n",
       "      <td>Main_Page</td>\n",
       "      <td>3051841</td>\n",
       "    </tr>\n",
       "  </tbody>\n",
       "</table>\n",
       "</div>"
      ],
      "text/plain": [
       "   louvain_community          title_raw   weight\n",
       "0                  3  George_H._W._Bush  5690673\n",
       "1                  4        Jason_Momoa  4183872\n",
       "2                  9         2.0_(film)  3722311\n",
       "3                  4    Bird_Box_(film)  3945404\n",
       "4                  1          Main_Page  3051841"
      ]
     },
     "execution_count": 13,
     "metadata": {},
     "output_type": "execute_result"
    }
   ],
   "source": [
    "louvain_communities_for_NLP_proc.head(5)"
   ]
  },
  {
   "cell_type": "code",
   "execution_count": 14,
   "metadata": {
    "collapsed": false
   },
   "outputs": [
    {
     "data": {
      "text/html": [
       "<div>\n",
       "<table border=\"1\" class=\"dataframe\">\n",
       "  <thead>\n",
       "    <tr style=\"text-align: right;\">\n",
       "      <th></th>\n",
       "      <th>louvain_community</th>\n",
       "      <th>title_raw</th>\n",
       "      <th>weight</th>\n",
       "      <th>title</th>\n",
       "    </tr>\n",
       "  </thead>\n",
       "  <tbody>\n",
       "    <tr>\n",
       "      <th>0</th>\n",
       "      <td>3</td>\n",
       "      <td>George_H._W._Bush</td>\n",
       "      <td>5690673</td>\n",
       "      <td>George H. W. Bush</td>\n",
       "    </tr>\n",
       "    <tr>\n",
       "      <th>1</th>\n",
       "      <td>4</td>\n",
       "      <td>Jason_Momoa</td>\n",
       "      <td>4183872</td>\n",
       "      <td>Jason Momoa</td>\n",
       "    </tr>\n",
       "    <tr>\n",
       "      <th>2</th>\n",
       "      <td>9</td>\n",
       "      <td>2.0_(film)</td>\n",
       "      <td>3722311</td>\n",
       "      <td>2.0 (film)</td>\n",
       "    </tr>\n",
       "    <tr>\n",
       "      <th>3</th>\n",
       "      <td>4</td>\n",
       "      <td>Bird_Box_(film)</td>\n",
       "      <td>3945404</td>\n",
       "      <td>Bird Box (film)</td>\n",
       "    </tr>\n",
       "    <tr>\n",
       "      <th>4</th>\n",
       "      <td>1</td>\n",
       "      <td>Main_Page</td>\n",
       "      <td>3051841</td>\n",
       "      <td>Main Page</td>\n",
       "    </tr>\n",
       "  </tbody>\n",
       "</table>\n",
       "</div>"
      ],
      "text/plain": [
       "   louvain_community          title_raw   weight              title\n",
       "0                  3  George_H._W._Bush  5690673  George H. W. Bush\n",
       "1                  4        Jason_Momoa  4183872        Jason Momoa\n",
       "2                  9         2.0_(film)  3722311         2.0 (film)\n",
       "3                  4    Bird_Box_(film)  3945404    Bird Box (film)\n",
       "4                  1          Main_Page  3051841          Main Page"
      ]
     },
     "execution_count": 14,
     "metadata": {},
     "output_type": "execute_result"
    }
   ],
   "source": [
    "# clean up the title\n",
    "louvain_communities_for_NLP_proc[\"title\"] = \\\n",
    "    louvain_communities_for_NLP_proc.title_raw.str.replace('_', ' ')\n",
    "    \n",
    "louvain_communities_for_NLP_proc.head(5)"
   ]
  },
  {
   "cell_type": "code",
   "execution_count": 15,
   "metadata": {
    "collapsed": true
   },
   "outputs": [],
   "source": [
    "# Use spaCy to get Named Entities\n",
    "\n",
    "# installation instructions: https://spacy.io/usage/\n",
    "\n",
    "import spacy\n",
    "nlp = spacy.load('en')"
   ]
  },
  {
   "cell_type": "code",
   "execution_count": null,
   "metadata": {
    "collapsed": false
   },
   "outputs": [
    {
     "name": "stdout",
     "output_type": "stream",
     "text": [
      "Started running at 2019-03-01 04:48:40.767486 UTC\n",
      "George H. W. Bush 0 17 PERSON\n",
      "Rows processed: 0.0 %\n",
      "Elapsed time: 0.04 min\n",
      "\n",
      "Jason Momoa 0 11 PERSON\n",
      "2.0 0 3 CARDINAL\n",
      "Bird Box 0 8 PERSON\n",
      "Main Page 0 9 PERSON\n",
      "Bird Box 0 8 PERSON\n",
      "Priyanka Chopra 0 15 PERSON\n",
      "YouTube 22 29 ORG\n",
      "Freddie Mercury 0 15 ORG\n"
     ]
    }
   ],
   "source": [
    "print(\"Started running at\", datetime.now(), \"UTC\")\n",
    "\n",
    "start_time = timer()\n",
    "\n",
    "for i in range(len(louvain_communities_for_NLP_proc)):\n",
    "    txt = louvain_communities_for_NLP_proc.iloc[i].title\n",
    "\n",
    "    doc = nlp(txt)\n",
    "\n",
    "    ents_arr = []\n",
    "    for ent in doc.ents:\n",
    "        ents_arr.append(ent.label_)\n",
    "        \n",
    "        # print a sample\n",
    "        if i < 10:\n",
    "            print(ent.text, ent.start_char, ent.end_char, ent.label_)\n",
    "    \n",
    "    louvain_communities_for_NLP_proc.at[i, \"named_entities\"] = \" \".join(ents_arr)\n",
    "    \n",
    "    \n",
    "    if i % 100000 == 0:\n",
    "        print(\"Rows processed:\", round(i * 100/len(louvain_communities_for_NLP_proc), 2), \"%\" )\n",
    "        print(\"Elapsed time:\", round((timer() - start_time)/60, 2), \"min\\n\")\n",
    "    \n",
    "\n",
    "cu.printRunTime(start_time)"
   ]
  },
  {
   "cell_type": "code",
   "execution_count": null,
   "metadata": {
    "collapsed": false
   },
   "outputs": [],
   "source": [
    "louvain_communities_for_NLP_proc.head(20)"
   ]
  },
  {
   "cell_type": "code",
   "execution_count": null,
   "metadata": {
    "collapsed": true
   },
   "outputs": [],
   "source": []
  }
 ],
 "metadata": {
  "anaconda-cloud": {},
  "kernelspec": {
   "display_name": "Python [default]",
   "language": "python",
   "name": "python3"
  },
  "language_info": {
   "codemirror_mode": {
    "name": "ipython",
    "version": 3
   },
   "file_extension": ".py",
   "mimetype": "text/x-python",
   "name": "python",
   "nbconvert_exporter": "python",
   "pygments_lexer": "ipython3",
   "version": "3.5.2"
  }
 },
 "nbformat": 4,
 "nbformat_minor": 1
}
