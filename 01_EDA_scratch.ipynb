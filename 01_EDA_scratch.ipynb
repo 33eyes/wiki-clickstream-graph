{
 "cells": [
  {
   "cell_type": "code",
   "execution_count": null,
   "metadata": {
    "collapsed": true
   },
   "outputs": [],
   "source": []
  },
  {
   "cell_type": "code",
   "execution_count": null,
   "metadata": {
    "collapsed": true
   },
   "outputs": [],
   "source": []
  },
  {
   "cell_type": "code",
   "execution_count": null,
   "metadata": {
    "collapsed": true
   },
   "outputs": [],
   "source": [
    "wiki_graph_usage_df = w2a_graph_sizes_df[['language', 'language_code', 'articles_count', 'external_sources_count', \\\n",
    "       'edges_count']]\n",
    "\n",
    "w2a_graph_density_df['density'] = w2a_graph_density_df['edges_count'] * \\\n",
    "    1.0/( (w2a_graph_density_df['articles_count'] + w2a_graph_density_df['external_sources_count']) * \\\n",
    "          (w2a_graph_density_df['articles_count'] + w2a_graph_density_df['external_sources_count'] - 1) )\n",
    "\n",
    "w2a_graph_density_df"
   ]
  },
  {
   "cell_type": "code",
   "execution_count": null,
   "metadata": {
    "collapsed": true
   },
   "outputs": [],
   "source": []
  },
  {
   "cell_type": "code",
   "execution_count": null,
   "metadata": {
    "collapsed": true
   },
   "outputs": [],
   "source": []
  },
  {
   "cell_type": "code",
   "execution_count": null,
   "metadata": {
    "collapsed": true
   },
   "outputs": [],
   "source": [
    "def graph_summary(language_code):\n",
    "    lang_dict = {'DE': 'German', 'EN': 'English', 'ES': 'Spanish', 'FA': 'Persian', 'RU': 'Russian', 'FR': 'French', \\\n",
    "                 'IT': 'Italian', 'JA': 'Japanese', 'PL': 'Polish', 'PT': 'Portuguese', 'ZH': 'Chinese'}\n",
    "    articles_count = graph.data(\"\"\"\n",
    "        MATCH (n1:Article {language_code: {lang_code} }) \n",
    "        RETURN count(n1) as articles_count;\n",
    "        \"\"\", lang_code = language_code)\n",
    "    external_sources_count = graph.data(\"\"\"\n",
    "        MATCH (n1:ExternalSource {language_code: {lang_code} }) \n",
    "        RETURN count(n1) as external_sources_count;\n",
    "        \"\"\", lang_code = language_code)\n",
    "    \n",
    "    edges_count = graph.data(\"\"\"\n",
    "        MATCH ()-[r1:REFERRED_TO]->(n1:Article {language_code: {lang_code} }) \n",
    "        RETURN count(r1) as edges_count;\n",
    "        \"\"\", lang_code = language_code)\n",
    "    \n",
    "    references_count = graph.data(\"\"\"\n",
    "        MATCH ()-[r1:REFERRED_TO]->(n1:Article {language_code: {lang_code} }) \n",
    "        RETURN sum(toInt(r1.count)) as references_count;\n",
    "        \"\"\", lang_code = language_code)\n",
    "    \n",
    "    # average degree\n",
    "    degree_avg = edges_count[0]['edges_count']*1.0/(articles_count[0]['articles_count'] + \\\n",
    "                                                    external_sources_count[0]['external_sources_count'])\n",
    "    # average weighted degree\n",
    "    weighted_degree_avg = references_count[0]['references_count']*1.0/(articles_count[0]['articles_count'] + \\\n",
    "                                                                       external_sources_count[0]['external_sources_count'])\n",
    "    \n",
    "    # average references per edge\n",
    "    refs_per_edge_avg = references_count[0]['references_count']*1.0/edges_count[0]['edges_count']\n",
    "    \n",
    "    d = dict({'language': lang_dict[language_code]}, **articles_count[0], **external_sources_count[0], \\\n",
    "            **edges_count[0], **references_count[0])\n",
    "    d['degree_avg'] = degree_avg\n",
    "    d['weighted_degree_avg'] = weighted_degree_avg\n",
    "    d['refs_per_edge_avg'] = refs_per_edge_avg\n",
    "    return d"
   ]
  },
  {
   "cell_type": "code",
   "execution_count": null,
   "metadata": {
    "collapsed": true
   },
   "outputs": [],
   "source": [
    "lang_dict = {'DE': 'German', 'EN': 'English', 'ES': 'Spanish', 'FA': 'Persian', 'RU': 'Russian', 'FR': 'French', \\\n",
    "                 'IT': 'Italian', 'JA': 'Japanese', 'PL': 'Polish', 'PT': 'Portuguese', 'ZH': 'Chinese'}\n",
    "\n",
    "graph_summaries_list = []\n",
    "for lang in list(lang_dict.keys()):\n",
    "    graph_summaries_list.append(graph_summary(lang))\n",
    "    print(\"Finished \" + lang)\n",
    "    \n",
    "graph_summaries_df = pd.DataFrame(graph_summaries_list)\n",
    "graph_summaries_df = graph_summaries_df.set_index('language')\n",
    "graph_summaries_df\n"
   ]
  },
  {
   "cell_type": "code",
   "execution_count": null,
   "metadata": {
    "collapsed": true
   },
   "outputs": [],
   "source": [
    "graph_summaries_df.sort_values(by='articles_count', ascending=False)"
   ]
  },
  {
   "cell_type": "code",
   "execution_count": null,
   "metadata": {
    "collapsed": true
   },
   "outputs": [],
   "source": [
    "# Not running this, because these graphs are too large and it would take forever,\n",
    "# but this query illistrates graph diameter and how to compute it.\n",
    "# graph_diameter_de = graph.data(\"\"\"\n",
    "#    MATCH (a:Article {language_code:'DE'}), (b:Article {language_code:'DE'}) WHERE id(a) > id(b)\n",
    "#    MATCH p=shortestPath((a)-[:REFERRED_TO*]-(b))\n",
    "#    RETURN length(p) AS len, extract(x IN nodes(p) | x.title) AS path\n",
    "#    ORDER BY len DESC LIMIT 5\n",
    "#    \"\"\")\n",
    "#    graph_diameter_de"
   ]
  },
  {
   "cell_type": "code",
   "execution_count": null,
   "metadata": {
    "collapsed": true
   },
   "outputs": [],
   "source": [
    "# the same network properties summary as above, but for the article2article subgraph\n",
    "def articles_subgraph_summary(language_code):\n",
    "    lang_dict = {'DE': 'German', 'EN': 'English', 'ES': 'Spanish', 'FA': 'Persian', 'RU': 'Russian', 'FR': 'French', \\\n",
    "                 'IT': 'Italian', 'JA': 'Japanese', 'PL': 'Polish', 'PT': 'Portuguese', 'ZH': 'Chinese'}\n",
    "    \n",
    "    # count all articles\n",
    "    articles_count = graph.data(\"\"\"\n",
    "        MATCH (n1:Article {language_code: {lang_code} }) \n",
    "        RETURN count(n1) as articles_count;\n",
    "        \"\"\", lang_code = language_code)\n",
    "    \n",
    "    # count articles that are connected to other articles\n",
    "    a2a_nodes_count = graph.data(\"\"\"\n",
    "        MATCH (n1:Article {language_code: {lang_code} })-[r1:REFERRED_TO]-(n2:Article {language_code: {lang_code} }) \n",
    "        RETURN count(distinct n1) as a2a_nodes_count;\n",
    "        \"\"\", lang_code = language_code)\n",
    "    \n",
    "    # count articles that are not connected to any other article\n",
    "    # (users accessed such articles from external pages only, and did not go to another Wiki article from them)\n",
    "    e2a_nodes_count = articles_count[0]['articles_count'] - a2a_nodes_count[0]['a2a_nodes_count']\n",
    "    \n",
    "    # A count of articles that link to other articles\n",
    "    # (the a2a relationships that are not links are either internal wiki searches or spoofs)\n",
    "    ala_nodes_count = graph.data(\"\"\"\n",
    "        MATCH (n1:Article {language_code: {lang_code} })-[r1:REFERRED_TO {type: 'link'}]-(n2:Article {language_code: {lang_code} }) \n",
    "        RETURN count(distinct n1) as ala_nodes_count;\n",
    "        \"\"\", lang_code = language_code)\n",
    "    \n",
    "    # A count of articles that link to other articles\n",
    "    asa_nodes_count = a2a_nodes_count[0]['a2a_nodes_count'] - ala_nodes_count[0]['ala_nodes_count']\n",
    "    \n",
    "    a2a_edges_count = graph.data(\"\"\"\n",
    "        MATCH (n1:Article {language_code: {lang_code} })-[r1:REFERRED_TO]->(n2:Article {language_code: {lang_code} }) \n",
    "        RETURN count(r1) as a2a_edges_count;\n",
    "        \"\"\", lang_code = language_code)\n",
    "    \n",
    "    a2a_references_count = graph.data(\"\"\"\n",
    "        MATCH (n1:Article {language_code: {lang_code} })-[r1:REFERRED_TO]->(n2:Article {language_code: {lang_code} }) \n",
    "        RETURN sum(toInt(r1.count)) as a2a_references_count;\n",
    "        \"\"\", lang_code = language_code)\n",
    "    \n",
    "    # average degree\n",
    "    a2a_degree_avg = a2a_edges_count[0]['a2a_edges_count']*1.0/(a2a_nodes_count[0]['a2a_nodes_count'])\n",
    "                                                        \n",
    "    # average weighted degree\n",
    "    a2a_weighted_degree_avg = a2a_references_count[0]['a2a_references_count']*1.0/(a2a_nodes_count[0]['a2a_nodes_count'])\n",
    "    \n",
    "    # average references per link\n",
    "    a2a_refs_per_link_avg = a2a_references_count[0]['a2a_references_count']*1.0/a2a_edges_count[0]['a2a_edges_count']\n",
    "    \n",
    "    \n",
    "    d = dict({'language': lang_dict[language_code]}, **articles_count[0], **a2a_nodes_count[0], \\\n",
    "            **ala_nodes_count[0], **a2a_edges_count[0], **a2a_references_count[0])\n",
    "    d['e2a_nodes_count'] = e2a_nodes_count\n",
    "    d['asa_nodes_count'] = asa_nodes_count\n",
    "    d['a2a_degree_avg'] = a2a_degree_avg\n",
    "    d['a2a_weighted_degree_avg'] = a2a_weighted_degree_avg\n",
    "    d['a2a_refs_per_link_avg'] = a2a_refs_per_link_avg\n",
    "    return d"
   ]
  },
  {
   "cell_type": "code",
   "execution_count": null,
   "metadata": {
    "collapsed": true
   },
   "outputs": [],
   "source": [
    "a2a_subgraph_summaries_list = []\n",
    "for lang in list(lang_dict.keys()):\n",
    "    a2a_subgraph_summaries_list.append(articles_subgraph_summary(lang))\n",
    "    print(\"Finished \" + lang)\n",
    "    \n",
    "subgraph_summaries_df = pd.DataFrame(a2a_subgraph_summaries_list)\n",
    "subgraph_summaries_df = subgraph_summaries_df.set_index('language')\n",
    "subgraph_summaries_df = subgraph_summaries_df.sort_values(by='articles_count', ascending=False)\n",
    "subgraph_summaries_df\n"
   ]
  },
  {
   "cell_type": "code",
   "execution_count": null,
   "metadata": {
    "collapsed": true
   },
   "outputs": [],
   "source": [
    "# graph.data('CALL db.indexes;')"
   ]
  }
 ],
 "metadata": {
  "anaconda-cloud": {},
  "kernelspec": {
   "display_name": "Python [conda root]",
   "language": "python",
   "name": "conda-root-py"
  },
  "language_info": {
   "codemirror_mode": {
    "name": "ipython",
    "version": 3
   },
   "file_extension": ".py",
   "mimetype": "text/x-python",
   "name": "python",
   "nbconvert_exporter": "python",
   "pygments_lexer": "ipython3",
   "version": "3.5.2"
  }
 },
 "nbformat": 4,
 "nbformat_minor": 1
}
