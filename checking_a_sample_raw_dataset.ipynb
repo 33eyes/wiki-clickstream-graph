{
 "cells": [
  {
   "cell_type": "markdown",
   "metadata": {},
   "source": [
    "# Data quality analysis\n",
    "\n",
    "My goal for this project is to explore the Wikipedia clickstream datasets using network analyis. The first step towards that goal is to perform data quality analysis, which involves looking at the raw data, understanding its structure, and finding any anomalies in the raw data. "
   ]
  },
  {
   "cell_type": "markdown",
   "metadata": {},
   "source": [
    "### Data sources\n",
    "\n",
    "[This is the Wikipedia clickstream datasets dump](https://dumps.wikimedia.org/other/clickstream/). It contains monthly Wikipedia clickstream data dumps for a selection top Wikipedia languages. The earliest datasets available are for November 2011, for the following 5 languages: German, English, Spanish, Japanese and Russian. In 2018, the list of languages has expanded to 11."
   ]
  },
  {
   "cell_type": "markdown",
   "metadata": {},
   "source": [
    "#### Let's make a list of all available Wikipedia clickstream datasets, as of January 2019.\n"
   ]
  },
  {
   "cell_type": "code",
   "execution_count": 75,
   "metadata": {},
   "outputs": [],
   "source": [
    "from bs4 import BeautifulSoup"
   ]
  },
  {
   "cell_type": "code",
   "execution_count": null,
   "metadata": {},
   "outputs": [],
   "source": []
  },
  {
   "cell_type": "code",
   "execution_count": null,
   "metadata": {},
   "outputs": [],
   "source": []
  },
  {
   "cell_type": "code",
   "execution_count": null,
   "metadata": {},
   "outputs": [],
   "source": []
  },
  {
   "cell_type": "code",
   "execution_count": null,
   "metadata": {},
   "outputs": [],
   "source": []
  },
  {
   "cell_type": "code",
   "execution_count": 74,
   "metadata": {},
   "outputs": [
    {
     "name": "stdout",
     "output_type": "stream",
     "text": [
      "total 2746112\r\n",
      "drwxr-xr-x  3 arina  staff    96B Jan 21 19:06 \u001b[1m\u001b[36m.\u001b[m\u001b[m\r\n",
      "drwxr-xr-x  6 arina  staff   192B Jan 19 21:59 \u001b[1m\u001b[36m..\u001b[m\u001b[m\r\n",
      "-rw-r--r--  1 arina  staff   1.3G Jan 19 21:55 clickstream-enwiki-2018-12.tsv\r\n"
     ]
    }
   ],
   "source": [
    "!ls -lah ../data"
   ]
  },
  {
   "cell_type": "markdown",
   "metadata": {},
   "source": [
    "\n",
    "Let's examine the raw English Wikipedia clickstream dataset for the month of December 2018"
   ]
  },
  {
   "cell_type": "code",
   "execution_count": null,
   "metadata": {},
   "outputs": [],
   "source": []
  },
  {
   "cell_type": "code",
   "execution_count": null,
   "metadata": {},
   "outputs": [],
   "source": []
  },
  {
   "cell_type": "code",
   "execution_count": null,
   "metadata": {},
   "outputs": [],
   "source": []
  },
  {
   "cell_type": "markdown",
   "metadata": {},
   "source": [
    "[EN Wikipedia Statistics page](https://en.wikipedia.org/w/index.php?title=Special:Statistics&action=raw)\n",
    "\n",
    "[EN Wikipedia Topviews Analysis for December 2018](https://tools.wmflabs.org/topviews/?project=en.wikipedia.org&platform=all-access&date=2018-12&excludes=)"
   ]
  },
  {
   "cell_type": "markdown",
   "metadata": {},
   "source": [
    "[Wikipedia stats by language, for top languages](https://en.wikipedia.org/wiki/List_of_Wikipedias#Detailed_list)"
   ]
  },
  {
   "cell_type": "markdown",
   "metadata": {},
   "source": [
    "[Wikimedia stats dashboard for EN Wikipedia](https://stats.wikimedia.org/v2/#/en.wikipedia.org)"
   ]
  },
  {
   "cell_type": "code",
   "execution_count": 1,
   "metadata": {},
   "outputs": [],
   "source": [
    "import pandas as pd\n",
    "import numpy as np\n",
    "\n",
    "import networkx as nx\n",
    "\n",
    "from timeit import default_timer as timer\n",
    "\n",
    "import matplotlib.pyplot as plt\n",
    "import matplotlib\n",
    "%matplotlib inline"
   ]
  },
  {
   "cell_type": "code",
   "execution_count": 2,
   "metadata": {},
   "outputs": [],
   "source": [
    "# Customize matplotlib default settings\n",
    "matplotlib.rcParams.update({'font.size': 16})\n",
    "plt.rcParams[\"figure.figsize\"] = (20,10)"
   ]
  },
  {
   "cell_type": "code",
   "execution_count": 3,
   "metadata": {},
   "outputs": [],
   "source": [
    "# set up Pandas options\n",
    "pd.set_option('display.max_columns', 10)\n",
    "pd.set_option('display.max_rows', 50)\n",
    "pd.set_option('display.precision', 3)\n",
    "pd.options.display.float_format = '{:.0f}'.format # this is to avoid scientific notation"
   ]
  },
  {
   "cell_type": "markdown",
   "metadata": {},
   "source": [
    "following this jupyter notebook as an example: https://github.com/valgog/wmf/blob/master/clickstream/ipython/Wikipedia%20Clickstream%20-%20Getting%20Started-Extended.ipynb \n"
   ]
  },
  {
   "cell_type": "code",
   "execution_count": 4,
   "metadata": {},
   "outputs": [
    {
     "name": "stdout",
     "output_type": "stream",
     "text": [
      "read_csv runtime: 0.4569352849833334 min\n",
      "\n"
     ]
    }
   ],
   "source": [
    "# Read the EN clickstream tsv file into pandas\n",
    "filepath = \"../data/clickstream-enwiki-2018-12.tsv\"\n",
    "start_time = timer()\n",
    "df = pd.read_csv(filepath, sep='\\t', names=['prev', 'curr', 'type', 'n'])\n",
    "end_time = timer()\n",
    "print(\"read_csv runtime:\", (end_time - start_time)/60, \"min\\n\")"
   ]
  },
  {
   "cell_type": "code",
   "execution_count": 5,
   "metadata": {},
   "outputs": [
    {
     "data": {
      "text/html": [
       "<div>\n",
       "<style scoped>\n",
       "    .dataframe tbody tr th:only-of-type {\n",
       "        vertical-align: middle;\n",
       "    }\n",
       "\n",
       "    .dataframe tbody tr th {\n",
       "        vertical-align: top;\n",
       "    }\n",
       "\n",
       "    .dataframe thead th {\n",
       "        text-align: right;\n",
       "    }\n",
       "</style>\n",
       "<table border=\"1\" class=\"dataframe\">\n",
       "  <thead>\n",
       "    <tr style=\"text-align: right;\">\n",
       "      <th></th>\n",
       "      <th>prev</th>\n",
       "      <th>curr</th>\n",
       "      <th>type</th>\n",
       "      <th>n</th>\n",
       "    </tr>\n",
       "  </thead>\n",
       "  <tbody>\n",
       "    <tr>\n",
       "      <th>0</th>\n",
       "      <td>other-empty</td>\n",
       "      <td>2019_Horizon_League_Baseball_Tournament</td>\n",
       "      <td>external</td>\n",
       "      <td>16</td>\n",
       "    </tr>\n",
       "    <tr>\n",
       "      <th>1</th>\n",
       "      <td>other-search</td>\n",
       "      <td>ForeverAtLast</td>\n",
       "      <td>external</td>\n",
       "      <td>40</td>\n",
       "    </tr>\n",
       "    <tr>\n",
       "      <th>2</th>\n",
       "      <td>other-empty</td>\n",
       "      <td>ForeverAtLast</td>\n",
       "      <td>external</td>\n",
       "      <td>85</td>\n",
       "    </tr>\n",
       "    <tr>\n",
       "      <th>3</th>\n",
       "      <td>First_Families_of_Pakistan</td>\n",
       "      <td>Jehangir_Wadia</td>\n",
       "      <td>link</td>\n",
       "      <td>19</td>\n",
       "    </tr>\n",
       "    <tr>\n",
       "      <th>4</th>\n",
       "      <td>The_Lawrence_School,_Sanawar</td>\n",
       "      <td>Jehangir_Wadia</td>\n",
       "      <td>link</td>\n",
       "      <td>36</td>\n",
       "    </tr>\n",
       "  </tbody>\n",
       "</table>\n",
       "</div>"
      ],
      "text/plain": [
       "                           prev                                     curr  \\\n",
       "0                   other-empty  2019_Horizon_League_Baseball_Tournament   \n",
       "1                  other-search                            ForeverAtLast   \n",
       "2                   other-empty                            ForeverAtLast   \n",
       "3    First_Families_of_Pakistan                           Jehangir_Wadia   \n",
       "4  The_Lawrence_School,_Sanawar                           Jehangir_Wadia   \n",
       "\n",
       "       type   n  \n",
       "0  external  16  \n",
       "1  external  40  \n",
       "2  external  85  \n",
       "3      link  19  \n",
       "4      link  36  "
      ]
     },
     "execution_count": 5,
     "metadata": {},
     "output_type": "execute_result"
    }
   ],
   "source": [
    "# Check that the file was read in correctly\n",
    "df.head()"
   ]
  },
  {
   "cell_type": "code",
   "execution_count": 6,
   "metadata": {},
   "outputs": [
    {
     "name": "stdout",
     "output_type": "stream",
     "text": [
      "<class 'pandas.core.frame.DataFrame'>\n",
      "RangeIndex: 29843928 entries, 0 to 29843927\n",
      "Data columns (total 4 columns):\n",
      "prev    object\n",
      "curr    object\n",
      "type    object\n",
      "n       int64\n",
      "dtypes: int64(1), object(3)\n",
      "memory usage: 910.8+ MB\n"
     ]
    }
   ],
   "source": [
    "df.info()"
   ]
  },
  {
   "cell_type": "code",
   "execution_count": 7,
   "metadata": {
    "scrolled": false
   },
   "outputs": [
    {
     "data": {
      "text/html": [
       "<div>\n",
       "<style scoped>\n",
       "    .dataframe tbody tr th:only-of-type {\n",
       "        vertical-align: middle;\n",
       "    }\n",
       "\n",
       "    .dataframe tbody tr th {\n",
       "        vertical-align: top;\n",
       "    }\n",
       "\n",
       "    .dataframe thead th {\n",
       "        text-align: right;\n",
       "    }\n",
       "</style>\n",
       "<table border=\"1\" class=\"dataframe\">\n",
       "  <thead>\n",
       "    <tr style=\"text-align: right;\">\n",
       "      <th></th>\n",
       "      <th>prev</th>\n",
       "      <th>curr</th>\n",
       "      <th>type</th>\n",
       "      <th>n</th>\n",
       "    </tr>\n",
       "  </thead>\n",
       "  <tbody>\n",
       "    <tr>\n",
       "      <th>count</th>\n",
       "      <td>29843906</td>\n",
       "      <td>29843906</td>\n",
       "      <td>29843928</td>\n",
       "      <td>29843928</td>\n",
       "    </tr>\n",
       "    <tr>\n",
       "      <th>unique</th>\n",
       "      <td>1714207</td>\n",
       "      <td>5183179</td>\n",
       "      <td>3</td>\n",
       "      <td>nan</td>\n",
       "    </tr>\n",
       "    <tr>\n",
       "      <th>top</th>\n",
       "      <td>other-empty</td>\n",
       "      <td>Hyphen-minus</td>\n",
       "      <td>link</td>\n",
       "      <td>nan</td>\n",
       "    </tr>\n",
       "    <tr>\n",
       "      <th>freq</th>\n",
       "      <td>5092856</td>\n",
       "      <td>127578</td>\n",
       "      <td>17849138</td>\n",
       "      <td>nan</td>\n",
       "    </tr>\n",
       "    <tr>\n",
       "      <th>mean</th>\n",
       "      <td>NaN</td>\n",
       "      <td>NaN</td>\n",
       "      <td>NaN</td>\n",
       "      <td>230</td>\n",
       "    </tr>\n",
       "    <tr>\n",
       "      <th>std</th>\n",
       "      <td>NaN</td>\n",
       "      <td>NaN</td>\n",
       "      <td>NaN</td>\n",
       "      <td>90309</td>\n",
       "    </tr>\n",
       "    <tr>\n",
       "      <th>min</th>\n",
       "      <td>NaN</td>\n",
       "      <td>NaN</td>\n",
       "      <td>NaN</td>\n",
       "      <td>10</td>\n",
       "    </tr>\n",
       "    <tr>\n",
       "      <th>25%</th>\n",
       "      <td>NaN</td>\n",
       "      <td>NaN</td>\n",
       "      <td>NaN</td>\n",
       "      <td>15</td>\n",
       "    </tr>\n",
       "    <tr>\n",
       "      <th>50%</th>\n",
       "      <td>NaN</td>\n",
       "      <td>NaN</td>\n",
       "      <td>NaN</td>\n",
       "      <td>28</td>\n",
       "    </tr>\n",
       "    <tr>\n",
       "      <th>75%</th>\n",
       "      <td>NaN</td>\n",
       "      <td>NaN</td>\n",
       "      <td>NaN</td>\n",
       "      <td>71</td>\n",
       "    </tr>\n",
       "    <tr>\n",
       "      <th>max</th>\n",
       "      <td>NaN</td>\n",
       "      <td>NaN</td>\n",
       "      <td>NaN</td>\n",
       "      <td>492341152</td>\n",
       "    </tr>\n",
       "  </tbody>\n",
       "</table>\n",
       "</div>"
      ],
      "text/plain": [
       "               prev          curr      type         n\n",
       "count      29843906      29843906  29843928  29843928\n",
       "unique      1714207       5183179         3       nan\n",
       "top     other-empty  Hyphen-minus      link       nan\n",
       "freq        5092856        127578  17849138       nan\n",
       "mean            NaN           NaN       NaN       230\n",
       "std             NaN           NaN       NaN     90309\n",
       "min             NaN           NaN       NaN        10\n",
       "25%             NaN           NaN       NaN        15\n",
       "50%             NaN           NaN       NaN        28\n",
       "75%             NaN           NaN       NaN        71\n",
       "max             NaN           NaN       NaN 492341152"
      ]
     },
     "execution_count": 7,
     "metadata": {},
     "output_type": "execute_result"
    }
   ],
   "source": [
    "# Describe the distribution of the page-to-page traffic, for all referer types\n",
    "df.describe(include=\"all\")"
   ]
  },
  {
   "cell_type": "markdown",
   "metadata": {},
   "source": [
    "Looking at the dataframe description above, the counts for the `prev` and `curr` columns look off. According to [Wikipedia's data format description for this dataset](https://meta.wikimedia.org/wiki/Research:Wikipedia_clickstream#Format), we should not have any missing values, so all column value counts should equal the number of entries in the dataset. Let's investigate the missing values in `prev` and `curr` columns."
   ]
  },
  {
   "cell_type": "code",
   "execution_count": 8,
   "metadata": {},
   "outputs": [
    {
     "data": {
      "text/html": [
       "<div>\n",
       "<style scoped>\n",
       "    .dataframe tbody tr th:only-of-type {\n",
       "        vertical-align: middle;\n",
       "    }\n",
       "\n",
       "    .dataframe tbody tr th {\n",
       "        vertical-align: top;\n",
       "    }\n",
       "\n",
       "    .dataframe thead th {\n",
       "        text-align: right;\n",
       "    }\n",
       "</style>\n",
       "<table border=\"1\" class=\"dataframe\">\n",
       "  <thead>\n",
       "    <tr style=\"text-align: right;\">\n",
       "      <th></th>\n",
       "      <th>prev</th>\n",
       "      <th>curr</th>\n",
       "      <th>type</th>\n",
       "      <th>n</th>\n",
       "    </tr>\n",
       "  </thead>\n",
       "  <tbody>\n",
       "    <tr>\n",
       "      <th>24804</th>\n",
       "      <td>NaN</td>\n",
       "      <td>Denormal_number</td>\n",
       "      <td>link</td>\n",
       "      <td>26</td>\n",
       "    </tr>\n",
       "    <tr>\n",
       "      <th>785022</th>\n",
       "      <td>NaN</td>\n",
       "      <td>Hyphen-minus</td>\n",
       "      <td>other</td>\n",
       "      <td>10</td>\n",
       "    </tr>\n",
       "    <tr>\n",
       "      <th>1019421</th>\n",
       "      <td>NaN</td>\n",
       "      <td>Sodium_azide</td>\n",
       "      <td>link</td>\n",
       "      <td>35</td>\n",
       "    </tr>\n",
       "    <tr>\n",
       "      <th>3556686</th>\n",
       "      <td>NaN</td>\n",
       "      <td>Indeterminate_form</td>\n",
       "      <td>link</td>\n",
       "      <td>60</td>\n",
       "    </tr>\n",
       "    <tr>\n",
       "      <th>4748727</th>\n",
       "      <td>NaN</td>\n",
       "      <td>Imaginary_number</td>\n",
       "      <td>link</td>\n",
       "      <td>24</td>\n",
       "    </tr>\n",
       "    <tr>\n",
       "      <th>4754049</th>\n",
       "      <td>NaN</td>\n",
       "      <td>IEEE_754-2008_revision</td>\n",
       "      <td>link</td>\n",
       "      <td>18</td>\n",
       "    </tr>\n",
       "    <tr>\n",
       "      <th>5902556</th>\n",
       "      <td>NaN</td>\n",
       "      <td>IEEE_754</td>\n",
       "      <td>link</td>\n",
       "      <td>188</td>\n",
       "    </tr>\n",
       "    <tr>\n",
       "      <th>6525955</th>\n",
       "      <td>NaN</td>\n",
       "      <td>Undefined_behavior</td>\n",
       "      <td>link</td>\n",
       "      <td>18</td>\n",
       "    </tr>\n",
       "    <tr>\n",
       "      <th>7884601</th>\n",
       "      <td>NaN</td>\n",
       "      <td>Main_Page</td>\n",
       "      <td>other</td>\n",
       "      <td>23</td>\n",
       "    </tr>\n",
       "    <tr>\n",
       "      <th>10368848</th>\n",
       "      <td>NaN</td>\n",
       "      <td>Zero_to_the_power_of_zero</td>\n",
       "      <td>link</td>\n",
       "      <td>28</td>\n",
       "    </tr>\n",
       "    <tr>\n",
       "      <th>17730062</th>\n",
       "      <td>NaN</td>\n",
       "      <td>Infinity</td>\n",
       "      <td>link</td>\n",
       "      <td>44</td>\n",
       "    </tr>\n",
       "    <tr>\n",
       "      <th>18927811</th>\n",
       "      <td>NaN</td>\n",
       "      <td>Nan</td>\n",
       "      <td>link</td>\n",
       "      <td>129</td>\n",
       "    </tr>\n",
       "    <tr>\n",
       "      <th>19665713</th>\n",
       "      <td>NaN</td>\n",
       "      <td>Double-precision_floating-point_format</td>\n",
       "      <td>link</td>\n",
       "      <td>18</td>\n",
       "    </tr>\n",
       "    <tr>\n",
       "      <th>20199837</th>\n",
       "      <td>NaN</td>\n",
       "      <td>Extended_real_number_line</td>\n",
       "      <td>link</td>\n",
       "      <td>27</td>\n",
       "    </tr>\n",
       "    <tr>\n",
       "      <th>22883394</th>\n",
       "      <td>NaN</td>\n",
       "      <td>Data_type</td>\n",
       "      <td>link</td>\n",
       "      <td>16</td>\n",
       "    </tr>\n",
       "    <tr>\n",
       "      <th>23777909</th>\n",
       "      <td>NaN</td>\n",
       "      <td>Significand</td>\n",
       "      <td>link</td>\n",
       "      <td>12</td>\n",
       "    </tr>\n",
       "    <tr>\n",
       "      <th>24988511</th>\n",
       "      <td>NaN</td>\n",
       "      <td>Single-precision_floating-point_format</td>\n",
       "      <td>link</td>\n",
       "      <td>10</td>\n",
       "    </tr>\n",
       "    <tr>\n",
       "      <th>25343439</th>\n",
       "      <td>NaN</td>\n",
       "      <td>Arithmetic_underflow</td>\n",
       "      <td>link</td>\n",
       "      <td>16</td>\n",
       "    </tr>\n",
       "    <tr>\n",
       "      <th>27584674</th>\n",
       "      <td>NaN</td>\n",
       "      <td>Computer_algebra</td>\n",
       "      <td>link</td>\n",
       "      <td>15</td>\n",
       "    </tr>\n",
       "    <tr>\n",
       "      <th>28206648</th>\n",
       "      <td>NaN</td>\n",
       "      <td>Complex_number</td>\n",
       "      <td>link</td>\n",
       "      <td>21</td>\n",
       "    </tr>\n",
       "    <tr>\n",
       "      <th>29085683</th>\n",
       "      <td>NaN</td>\n",
       "      <td>Computing</td>\n",
       "      <td>link</td>\n",
       "      <td>12</td>\n",
       "    </tr>\n",
       "    <tr>\n",
       "      <th>29454194</th>\n",
       "      <td>NaN</td>\n",
       "      <td>Floating-point_arithmetic</td>\n",
       "      <td>link</td>\n",
       "      <td>81</td>\n",
       "    </tr>\n",
       "  </tbody>\n",
       "</table>\n",
       "</div>"
      ],
      "text/plain": [
       "         prev                                    curr   type    n\n",
       "24804     NaN                         Denormal_number   link   26\n",
       "785022    NaN                            Hyphen-minus  other   10\n",
       "1019421   NaN                            Sodium_azide   link   35\n",
       "3556686   NaN                      Indeterminate_form   link   60\n",
       "4748727   NaN                        Imaginary_number   link   24\n",
       "4754049   NaN                  IEEE_754-2008_revision   link   18\n",
       "5902556   NaN                                IEEE_754   link  188\n",
       "6525955   NaN                      Undefined_behavior   link   18\n",
       "7884601   NaN                               Main_Page  other   23\n",
       "10368848  NaN               Zero_to_the_power_of_zero   link   28\n",
       "17730062  NaN                                Infinity   link   44\n",
       "18927811  NaN                                     Nan   link  129\n",
       "19665713  NaN  Double-precision_floating-point_format   link   18\n",
       "20199837  NaN               Extended_real_number_line   link   27\n",
       "22883394  NaN                               Data_type   link   16\n",
       "23777909  NaN                             Significand   link   12\n",
       "24988511  NaN  Single-precision_floating-point_format   link   10\n",
       "25343439  NaN                    Arithmetic_underflow   link   16\n",
       "27584674  NaN                        Computer_algebra   link   15\n",
       "28206648  NaN                          Complex_number   link   21\n",
       "29085683  NaN                               Computing   link   12\n",
       "29454194  NaN               Floating-point_arithmetic   link   81"
      ]
     },
     "execution_count": 8,
     "metadata": {},
     "output_type": "execute_result"
    }
   ],
   "source": [
    "df[df[\"prev\"].isna()]"
   ]
  },
  {
   "cell_type": "code",
   "execution_count": 9,
   "metadata": {},
   "outputs": [
    {
     "data": {
      "text/plain": [
       "22"
      ]
     },
     "execution_count": 9,
     "metadata": {},
     "output_type": "execute_result"
    }
   ],
   "source": [
    "len(df[df[\"prev\"].isna()])"
   ]
  },
  {
   "cell_type": "code",
   "execution_count": 10,
   "metadata": {},
   "outputs": [
    {
     "data": {
      "text/html": [
       "<div>\n",
       "<style scoped>\n",
       "    .dataframe tbody tr th:only-of-type {\n",
       "        vertical-align: middle;\n",
       "    }\n",
       "\n",
       "    .dataframe tbody tr th {\n",
       "        vertical-align: top;\n",
       "    }\n",
       "\n",
       "    .dataframe thead th {\n",
       "        text-align: right;\n",
       "    }\n",
       "</style>\n",
       "<table border=\"1\" class=\"dataframe\">\n",
       "  <thead>\n",
       "    <tr style=\"text-align: right;\">\n",
       "      <th></th>\n",
       "      <th>prev</th>\n",
       "      <th>curr</th>\n",
       "      <th>type</th>\n",
       "      <th>n</th>\n",
       "    </tr>\n",
       "  </thead>\n",
       "  <tbody>\n",
       "    <tr>\n",
       "      <th>5114052</th>\n",
       "      <td>JSON</td>\n",
       "      <td>NaN</td>\n",
       "      <td>link</td>\n",
       "      <td>104</td>\n",
       "    </tr>\n",
       "    <tr>\n",
       "      <th>5114053</th>\n",
       "      <td>other-external</td>\n",
       "      <td>NaN</td>\n",
       "      <td>external</td>\n",
       "      <td>447</td>\n",
       "    </tr>\n",
       "    <tr>\n",
       "      <th>5114054</th>\n",
       "      <td>Zero_to_the_power_of_zero</td>\n",
       "      <td>NaN</td>\n",
       "      <td>link</td>\n",
       "      <td>17</td>\n",
       "    </tr>\n",
       "    <tr>\n",
       "      <th>5114055</th>\n",
       "      <td>Signed_zero</td>\n",
       "      <td>NaN</td>\n",
       "      <td>link</td>\n",
       "      <td>34</td>\n",
       "    </tr>\n",
       "    <tr>\n",
       "      <th>5114056</th>\n",
       "      <td>Division_by_zero</td>\n",
       "      <td>NaN</td>\n",
       "      <td>link</td>\n",
       "      <td>72</td>\n",
       "    </tr>\n",
       "    <tr>\n",
       "      <th>5114057</th>\n",
       "      <td>IEEE_754-1985</td>\n",
       "      <td>NaN</td>\n",
       "      <td>link</td>\n",
       "      <td>50</td>\n",
       "    </tr>\n",
       "    <tr>\n",
       "      <th>5114058</th>\n",
       "      <td>Half-precision_floating-point_format</td>\n",
       "      <td>NaN</td>\n",
       "      <td>link</td>\n",
       "      <td>18</td>\n",
       "    </tr>\n",
       "    <tr>\n",
       "      <th>5114059</th>\n",
       "      <td>Magic_number_(programming)</td>\n",
       "      <td>NaN</td>\n",
       "      <td>link</td>\n",
       "      <td>40</td>\n",
       "    </tr>\n",
       "    <tr>\n",
       "      <th>5114060</th>\n",
       "      <td>Double-precision_floating-point_format</td>\n",
       "      <td>NaN</td>\n",
       "      <td>link</td>\n",
       "      <td>69</td>\n",
       "    </tr>\n",
       "    <tr>\n",
       "      <th>5114061</th>\n",
       "      <td>other-internal</td>\n",
       "      <td>NaN</td>\n",
       "      <td>external</td>\n",
       "      <td>260</td>\n",
       "    </tr>\n",
       "    <tr>\n",
       "      <th>5114062</th>\n",
       "      <td>Does_not_compute</td>\n",
       "      <td>NaN</td>\n",
       "      <td>link</td>\n",
       "      <td>13</td>\n",
       "    </tr>\n",
       "    <tr>\n",
       "      <th>5114063</th>\n",
       "      <td>Nan</td>\n",
       "      <td>NaN</td>\n",
       "      <td>link</td>\n",
       "      <td>44</td>\n",
       "    </tr>\n",
       "    <tr>\n",
       "      <th>5114064</th>\n",
       "      <td>other-empty</td>\n",
       "      <td>NaN</td>\n",
       "      <td>external</td>\n",
       "      <td>2552</td>\n",
       "    </tr>\n",
       "    <tr>\n",
       "      <th>5114065</th>\n",
       "      <td>other-other</td>\n",
       "      <td>NaN</td>\n",
       "      <td>external</td>\n",
       "      <td>48</td>\n",
       "    </tr>\n",
       "    <tr>\n",
       "      <th>5114066</th>\n",
       "      <td>other-search</td>\n",
       "      <td>NaN</td>\n",
       "      <td>external</td>\n",
       "      <td>8024</td>\n",
       "    </tr>\n",
       "    <tr>\n",
       "      <th>5114067</th>\n",
       "      <td>IEEE_754</td>\n",
       "      <td>NaN</td>\n",
       "      <td>link</td>\n",
       "      <td>148</td>\n",
       "    </tr>\n",
       "    <tr>\n",
       "      <th>5114068</th>\n",
       "      <td>Floating-point_arithmetic</td>\n",
       "      <td>NaN</td>\n",
       "      <td>link</td>\n",
       "      <td>38</td>\n",
       "    </tr>\n",
       "    <tr>\n",
       "      <th>5114069</th>\n",
       "      <td>IEEE_754-2008_revision</td>\n",
       "      <td>NaN</td>\n",
       "      <td>link</td>\n",
       "      <td>10</td>\n",
       "    </tr>\n",
       "    <tr>\n",
       "      <th>5114070</th>\n",
       "      <td>Main_Page</td>\n",
       "      <td>NaN</td>\n",
       "      <td>other</td>\n",
       "      <td>19</td>\n",
       "    </tr>\n",
       "    <tr>\n",
       "      <th>5114071</th>\n",
       "      <td>Infinity</td>\n",
       "      <td>NaN</td>\n",
       "      <td>link</td>\n",
       "      <td>11</td>\n",
       "    </tr>\n",
       "    <tr>\n",
       "      <th>5114072</th>\n",
       "      <td>Single-precision_floating-point_format</td>\n",
       "      <td>NaN</td>\n",
       "      <td>link</td>\n",
       "      <td>37</td>\n",
       "    </tr>\n",
       "    <tr>\n",
       "      <th>5114073</th>\n",
       "      <td>Sodium_azide</td>\n",
       "      <td>NaN</td>\n",
       "      <td>link</td>\n",
       "      <td>29</td>\n",
       "    </tr>\n",
       "  </tbody>\n",
       "</table>\n",
       "</div>"
      ],
      "text/plain": [
       "                                           prev curr      type     n\n",
       "5114052                                    JSON  NaN      link   104\n",
       "5114053                          other-external  NaN  external   447\n",
       "5114054               Zero_to_the_power_of_zero  NaN      link    17\n",
       "5114055                             Signed_zero  NaN      link    34\n",
       "5114056                        Division_by_zero  NaN      link    72\n",
       "5114057                           IEEE_754-1985  NaN      link    50\n",
       "5114058    Half-precision_floating-point_format  NaN      link    18\n",
       "5114059              Magic_number_(programming)  NaN      link    40\n",
       "5114060  Double-precision_floating-point_format  NaN      link    69\n",
       "5114061                          other-internal  NaN  external   260\n",
       "5114062                        Does_not_compute  NaN      link    13\n",
       "5114063                                     Nan  NaN      link    44\n",
       "5114064                             other-empty  NaN  external  2552\n",
       "5114065                             other-other  NaN  external    48\n",
       "5114066                            other-search  NaN  external  8024\n",
       "5114067                                IEEE_754  NaN      link   148\n",
       "5114068               Floating-point_arithmetic  NaN      link    38\n",
       "5114069                  IEEE_754-2008_revision  NaN      link    10\n",
       "5114070                               Main_Page  NaN     other    19\n",
       "5114071                                Infinity  NaN      link    11\n",
       "5114072  Single-precision_floating-point_format  NaN      link    37\n",
       "5114073                            Sodium_azide  NaN      link    29"
      ]
     },
     "execution_count": 10,
     "metadata": {},
     "output_type": "execute_result"
    }
   ],
   "source": [
    "df[df[\"curr\"].isna()]"
   ]
  },
  {
   "cell_type": "code",
   "execution_count": 11,
   "metadata": {},
   "outputs": [
    {
     "data": {
      "text/plain": [
       "22"
      ]
     },
     "execution_count": 11,
     "metadata": {},
     "output_type": "execute_result"
    }
   ],
   "source": [
    "len(df[df[\"curr\"].isna()])"
   ]
  },
  {
   "cell_type": "code",
   "execution_count": 12,
   "metadata": {},
   "outputs": [
    {
     "data": {
      "text/plain": [
       "prev    JSON\n",
       "curr     NaN\n",
       "type    link\n",
       "n        104\n",
       "Name: 5114052, dtype: object"
      ]
     },
     "execution_count": 12,
     "metadata": {},
     "output_type": "execute_result"
    }
   ],
   "source": [
    "df.loc[5114052]"
   ]
  },
  {
   "cell_type": "code",
   "execution_count": 13,
   "metadata": {
    "scrolled": true
   },
   "outputs": [
    {
     "data": {
      "text/plain": [
       "float"
      ]
     },
     "execution_count": 13,
     "metadata": {},
     "output_type": "execute_result"
    }
   ],
   "source": [
    "# we want the output here to be string\n",
    "type(df.loc[5114052][\"curr\"]) "
   ]
  },
  {
   "cell_type": "markdown",
   "metadata": {},
   "source": [
    "We indeed seem to have some missing values in the data. Let's take a look in the input tsv file."
   ]
  },
  {
   "cell_type": "code",
   "execution_count": 14,
   "metadata": {
    "scrolled": true
   },
   "outputs": [
    {
     "name": "stdout",
     "output_type": "stream",
     "text": [
      "other-search\tAuas_Mountains\texternal\t19\r\n",
      "other-empty\tJohn_Bagley\texternal\t12\r\n",
      "other-search\tJohn_Bagley\texternal\t10\r\n",
      "JSON\tNaN\tlink\t104\r\n",
      "other-external\tNaN\texternal\t447\r\n",
      "Zero_to_the_power_of_zero\tNaN\tlink\t17\r\n"
     ]
    }
   ],
   "source": [
    "# check the datalines in the raw input file\n",
    "!sed '5114050,5114055!d' ../data/clickstream-enwiki-2018-12.tsv"
   ]
  },
  {
   "cell_type": "markdown",
   "metadata": {},
   "source": [
    "From the raw tsv, it looks like NaN is not a missing value in the columns, but an actual Wikipedia article title, which indeed exists: [NaN wiki page](https://en.wikipedia.org/wiki/NaN).\n",
    "\n",
    "Since Pandas does not treat the missing value NaN as a regular cateogrical value (it's excluded from counts, groupbys, etc.), we need to convert it to string. "
   ]
  },
  {
   "cell_type": "code",
   "execution_count": 15,
   "metadata": {},
   "outputs": [],
   "source": [
    "# Replace the incorrectly read in missing value NaNs with string \"NaN\"s\n",
    "df['prev'] = df['prev'].fillna('NaN')\n",
    "df['curr'] = df['curr'].fillna('NaN')"
   ]
  },
  {
   "cell_type": "code",
   "execution_count": 16,
   "metadata": {},
   "outputs": [
    {
     "data": {
      "text/html": [
       "<div>\n",
       "<style scoped>\n",
       "    .dataframe tbody tr th:only-of-type {\n",
       "        vertical-align: middle;\n",
       "    }\n",
       "\n",
       "    .dataframe tbody tr th {\n",
       "        vertical-align: top;\n",
       "    }\n",
       "\n",
       "    .dataframe thead th {\n",
       "        text-align: right;\n",
       "    }\n",
       "</style>\n",
       "<table border=\"1\" class=\"dataframe\">\n",
       "  <thead>\n",
       "    <tr style=\"text-align: right;\">\n",
       "      <th></th>\n",
       "      <th>prev</th>\n",
       "      <th>curr</th>\n",
       "      <th>type</th>\n",
       "      <th>n</th>\n",
       "    </tr>\n",
       "  </thead>\n",
       "  <tbody>\n",
       "    <tr>\n",
       "      <th>count</th>\n",
       "      <td>29843928</td>\n",
       "      <td>29843928</td>\n",
       "      <td>29843928</td>\n",
       "      <td>29843928</td>\n",
       "    </tr>\n",
       "    <tr>\n",
       "      <th>unique</th>\n",
       "      <td>1714208</td>\n",
       "      <td>5183180</td>\n",
       "      <td>3</td>\n",
       "      <td>nan</td>\n",
       "    </tr>\n",
       "    <tr>\n",
       "      <th>top</th>\n",
       "      <td>other-empty</td>\n",
       "      <td>Hyphen-minus</td>\n",
       "      <td>link</td>\n",
       "      <td>nan</td>\n",
       "    </tr>\n",
       "    <tr>\n",
       "      <th>freq</th>\n",
       "      <td>5092856</td>\n",
       "      <td>127578</td>\n",
       "      <td>17849138</td>\n",
       "      <td>nan</td>\n",
       "    </tr>\n",
       "    <tr>\n",
       "      <th>mean</th>\n",
       "      <td>NaN</td>\n",
       "      <td>NaN</td>\n",
       "      <td>NaN</td>\n",
       "      <td>230</td>\n",
       "    </tr>\n",
       "    <tr>\n",
       "      <th>std</th>\n",
       "      <td>NaN</td>\n",
       "      <td>NaN</td>\n",
       "      <td>NaN</td>\n",
       "      <td>90309</td>\n",
       "    </tr>\n",
       "    <tr>\n",
       "      <th>min</th>\n",
       "      <td>NaN</td>\n",
       "      <td>NaN</td>\n",
       "      <td>NaN</td>\n",
       "      <td>10</td>\n",
       "    </tr>\n",
       "    <tr>\n",
       "      <th>25%</th>\n",
       "      <td>NaN</td>\n",
       "      <td>NaN</td>\n",
       "      <td>NaN</td>\n",
       "      <td>15</td>\n",
       "    </tr>\n",
       "    <tr>\n",
       "      <th>50%</th>\n",
       "      <td>NaN</td>\n",
       "      <td>NaN</td>\n",
       "      <td>NaN</td>\n",
       "      <td>28</td>\n",
       "    </tr>\n",
       "    <tr>\n",
       "      <th>75%</th>\n",
       "      <td>NaN</td>\n",
       "      <td>NaN</td>\n",
       "      <td>NaN</td>\n",
       "      <td>71</td>\n",
       "    </tr>\n",
       "    <tr>\n",
       "      <th>max</th>\n",
       "      <td>NaN</td>\n",
       "      <td>NaN</td>\n",
       "      <td>NaN</td>\n",
       "      <td>492341152</td>\n",
       "    </tr>\n",
       "  </tbody>\n",
       "</table>\n",
       "</div>"
      ],
      "text/plain": [
       "               prev          curr      type         n\n",
       "count      29843928      29843928  29843928  29843928\n",
       "unique      1714208       5183180         3       nan\n",
       "top     other-empty  Hyphen-minus      link       nan\n",
       "freq        5092856        127578  17849138       nan\n",
       "mean            NaN           NaN       NaN       230\n",
       "std             NaN           NaN       NaN     90309\n",
       "min             NaN           NaN       NaN        10\n",
       "25%             NaN           NaN       NaN        15\n",
       "50%             NaN           NaN       NaN        28\n",
       "75%             NaN           NaN       NaN        71\n",
       "max             NaN           NaN       NaN 492341152"
      ]
     },
     "execution_count": 16,
     "metadata": {},
     "output_type": "execute_result"
    }
   ],
   "source": [
    "df.describe(include=\"all\")"
   ]
  },
  {
   "cell_type": "code",
   "execution_count": 17,
   "metadata": {},
   "outputs": [
    {
     "data": {
      "text/plain": [
       "prev    JSON\n",
       "curr     NaN\n",
       "type    link\n",
       "n        104\n",
       "Name: 5114052, dtype: object"
      ]
     },
     "execution_count": 17,
     "metadata": {},
     "output_type": "execute_result"
    }
   ],
   "source": [
    "df.loc[5114052]"
   ]
  },
  {
   "cell_type": "code",
   "execution_count": 18,
   "metadata": {},
   "outputs": [
    {
     "data": {
      "text/plain": [
       "str"
      ]
     },
     "execution_count": 18,
     "metadata": {},
     "output_type": "execute_result"
    }
   ],
   "source": [
    "type(df.loc[5114052][\"curr\"]) "
   ]
  },
  {
   "cell_type": "markdown",
   "metadata": {},
   "source": [
    "#### Page-to-page traffic distribution"
   ]
  },
  {
   "cell_type": "code",
   "execution_count": 19,
   "metadata": {},
   "outputs": [],
   "source": [
    "edge_traffic_frequencies = df[\"n\"].value_counts()"
   ]
  },
  {
   "cell_type": "code",
   "execution_count": 20,
   "metadata": {
    "scrolled": false
   },
   "outputs": [
    {
     "data": {
      "image/png": "[encoded data removed]",
      "text/plain": [
       "<Figure size 1440x720 with 1 Axes>"
      ]
     },
     "metadata": {
      "needs_background": "light"
     },
     "output_type": "display_data"
    }
   ],
   "source": [
    "bar_chart = edge_traffic_frequencies.head(50).plot.bar(title=\"Frequency distribution of top 50 edge traffic values\")\n",
    "bar_chart.set_xlabel('Edge traffic volume', fontsize = 18)\n",
    "bar_chart.set_ylabel('Frequency', fontsize = 18);"
   ]
  },
  {
   "cell_type": "code",
   "execution_count": 21,
   "metadata": {},
   "outputs": [],
   "source": [
    "edge_traffic_rel_frequencies = edge_traffic_frequencies/len(df)"
   ]
  },
  {
   "cell_type": "code",
   "execution_count": 31,
   "metadata": {},
   "outputs": [
    {
     "data": {
      "text/plain": [
       "array([0.05652721, 0.04960503, 0.04399119, 0.03934445, 0.03546021,\n",
       "       0.03223332, 0.02937371, 0.02684831, 0.02471927, 0.02278809])"
      ]
     },
     "execution_count": 31,
     "metadata": {},
     "output_type": "execute_result"
    }
   ],
   "source": [
    "edge_traffic_rel_frequencies.values[:10]"
   ]
  },
  {
   "cell_type": "code",
   "execution_count": 48,
   "metadata": {},
   "outputs": [
    {
     "data": {
      "text/plain": [
       "0.3819373575757186"
      ]
     },
     "execution_count": 48,
     "metadata": {},
     "output_type": "execute_result"
    }
   ],
   "source": [
    "# Relative freq of edges with traffic volume of 20 or less\n",
    "sum(edge_traffic_rel_frequencies.values[:11])"
   ]
  },
  {
   "cell_type": "code",
   "execution_count": 27,
   "metadata": {},
   "outputs": [
    {
     "data": {
      "image/png": "[encoded data removed]",
      "text/plain": [
       "<Figure size 1440x720 with 1 Axes>"
      ]
     },
     "metadata": {
      "needs_background": "light"
     },
     "output_type": "display_data"
    }
   ],
   "source": [
    "bar_chart = edge_traffic_rel_frequencies.head(50) \\\n",
    "    .plot.bar(title=\"Relative frequency distribution of top 50 edge traffic values\")\n",
    "bar_chart.set_xlabel('Edge traffic volume', fontsize = 18)\n",
    "bar_chart.set_ylabel('Relative frequency', fontsize = 18);"
   ]
  },
  {
   "cell_type": "code",
   "execution_count": 32,
   "metadata": {},
   "outputs": [
    {
     "data": {
      "image/png": "[encoded data removed]",
      "text/plain": [
       "<Figure size 1440x720 with 1 Axes>"
      ]
     },
     "metadata": {
      "needs_background": "light"
     },
     "output_type": "display_data"
    }
   ],
   "source": [
    "line_chart = edge_traffic_frequencies.head(500) \\\n",
    "    .plot.line(title=\"Frequency distribution of top 500 edge traffic values\", grid=True)\n",
    "\n",
    "line_chart.set_xlabel('Edge traffic volume', fontsize = 18)\n",
    "line_chart.set_ylabel('Frequency', fontsize = 18);"
   ]
  },
  {
   "cell_type": "code",
   "execution_count": 105,
   "metadata": {},
   "outputs": [
    {
     "data": {
      "text/plain": [
       "count     42054\n",
       "mean        710\n",
       "std       19763\n",
       "min           1\n",
       "25%           1\n",
       "50%           2\n",
       "75%           9\n",
       "max     1686994\n",
       "Name: n, dtype: float64"
      ]
     },
     "execution_count": 105,
     "metadata": {},
     "output_type": "execute_result"
    }
   ],
   "source": [
    "edge_traffic_frequencies.describe()"
   ]
  },
  {
   "cell_type": "code",
   "execution_count": 106,
   "metadata": {},
   "outputs": [
    {
     "data": {
      "text/plain": [
       "24687"
      ]
     },
     "execution_count": 106,
     "metadata": {},
     "output_type": "execute_result"
    }
   ],
   "source": [
    "len(edge_traffic_frequencies[edge_traffic_frequencies > 1])"
   ]
  },
  {
   "cell_type": "code",
   "execution_count": 107,
   "metadata": {},
   "outputs": [
    {
     "data": {
      "text/plain": [
       "17367"
      ]
     },
     "execution_count": 107,
     "metadata": {},
     "output_type": "execute_result"
    }
   ],
   "source": [
    "len(edge_traffic_frequencies[edge_traffic_frequencies == 1])"
   ]
  },
  {
   "cell_type": "code",
   "execution_count": 108,
   "metadata": {},
   "outputs": [
    {
     "data": {
      "text/plain": [
       "39728    2\n",
       "16361    2\n",
       "33170    1\n",
       "48793    1\n",
       "52480    1\n",
       "35474    1\n",
       "32804    1\n",
       "32386    1\n",
       "16776    1\n",
       "68031    1\n",
       "Name: n, dtype: int64"
      ]
     },
     "execution_count": 108,
     "metadata": {},
     "output_type": "execute_result"
    }
   ],
   "source": [
    "edge_traffic_frequencies[24685:24695]"
   ]
  },
  {
   "cell_type": "code",
   "execution_count": 109,
   "metadata": {},
   "outputs": [
    {
     "data": {
      "text/plain": [
       "10    1686994\n",
       "11    1480409\n",
       "12    1312870\n",
       "13    1174193\n",
       "14    1058272\n",
       "15     961969\n",
       "16     876627\n",
       "17     801259\n",
       "18     737720\n",
       "19     680086\n",
       "Name: n, dtype: int64"
      ]
     },
     "execution_count": 109,
     "metadata": {},
     "output_type": "execute_result"
    }
   ],
   "source": [
    "edge_traffic_frequencies[:10]"
   ]
  },
  {
   "cell_type": "code",
   "execution_count": 110,
   "metadata": {
    "scrolled": true
   },
   "outputs": [
    {
     "data": {
      "text/plain": [
       "10    1686994\n",
       "11    1480409\n",
       "12    1312870\n",
       "13    1174193\n",
       "14    1058272\n",
       "Name: n, dtype: int64"
      ]
     },
     "execution_count": 110,
     "metadata": {},
     "output_type": "execute_result"
    }
   ],
   "source": [
    "edge_traffic_frequencies.head()"
   ]
  },
  {
   "cell_type": "code",
   "execution_count": 121,
   "metadata": {},
   "outputs": [
    {
     "data": {
      "text/plain": [
       "array([1686994, 1480409, 1312870, 1174193, 1058272,  961969,  876627,\n",
       "        801259,  737720,  680086])"
      ]
     },
     "execution_count": 121,
     "metadata": {},
     "output_type": "execute_result"
    }
   ],
   "source": [
    "edge_traffic_frequencies.values[:10]"
   ]
  },
  {
   "cell_type": "code",
   "execution_count": 122,
   "metadata": {},
   "outputs": [
    {
     "data": {
      "text/plain": [
       "array([10, 11, 12, 13, 14, 15, 16, 17, 18, 19])"
      ]
     },
     "execution_count": 122,
     "metadata": {},
     "output_type": "execute_result"
    }
   ],
   "source": [
    "edge_traffic_frequencies.index.values[:10]"
   ]
  },
  {
   "cell_type": "markdown",
   "metadata": {},
   "source": [
    "[Vsauce video on Zipf's law](https://www.youtube.com/watch?v=fCn8zs912OE)"
   ]
  },
  {
   "cell_type": "code",
   "execution_count": 42,
   "metadata": {},
   "outputs": [
    {
     "data": {
      "image/png": "[encoded data removed]",
      "text/plain": [
       "<Figure size 1440x720 with 1 Axes>"
      ]
     },
     "metadata": {
      "needs_background": "light"
     },
     "output_type": "display_data"
    }
   ],
   "source": [
    "plt.scatter(edge_traffic_frequencies.index.values[:20000], edge_traffic_frequencies.values[:20000])\n",
    "plt.xscale(\"log\")\n",
    "plt.yscale(\"log\")\n",
    "plt.xlabel('Edge traffic volume')\n",
    "plt.ylabel('Frequency')\n",
    "plt.grid(True)\n",
    "\n",
    "plt.title(\"Frequency distribution of top 5000 edge traffic values\");"
   ]
  },
  {
   "cell_type": "code",
   "execution_count": 44,
   "metadata": {},
   "outputs": [
    {
     "data": {
      "image/png": "[encoded data removed]",
      "text/plain": [
       "<Figure size 1440x720 with 1 Axes>"
      ]
     },
     "metadata": {
      "needs_background": "light"
     },
     "output_type": "display_data"
    }
   ],
   "source": [
    "plt.scatter(edge_traffic_frequencies.index.values, edge_traffic_frequencies.values)\n",
    "plt.xscale(\"log\")\n",
    "plt.yscale(\"log\")\n",
    "plt.xlabel('Edge traffic volume')\n",
    "plt.ylabel('Frequency')\n",
    "plt.grid(True)\n",
    "\n",
    "plt.title(\"Frequency distribution of all edge traffic values\");"
   ]
  },
  {
   "cell_type": "code",
   "execution_count": 53,
   "metadata": {},
   "outputs": [],
   "source": [
    "import powerlaw"
   ]
  },
  {
   "cell_type": "code",
   "execution_count": 63,
   "metadata": {},
   "outputs": [],
   "source": [
    "#data = edge_traffic_frequencies.values[:10000]\n",
    "data = df[\"n\"].values"
   ]
  },
  {
   "cell_type": "code",
   "execution_count": 64,
   "metadata": {},
   "outputs": [
    {
     "name": "stderr",
     "output_type": "stream",
     "text": [
      "Calculating best minimal value for power law fit\n",
      "/Users/arina/miniconda3/lib/python3.7/site-packages/powerlaw.py:700: RuntimeWarning: divide by zero encountered in true_divide\n",
      "  (Theoretical_CDF * (1 - Theoretical_CDF))\n"
     ]
    }
   ],
   "source": [
    "# time this. Last run took about 30 min.\n",
    "results = powerlaw.Fit(data)"
   ]
  },
  {
   "cell_type": "code",
   "execution_count": 65,
   "metadata": {},
   "outputs": [
    {
     "name": "stdout",
     "output_type": "stream",
     "text": [
      "2.7465478170902196\n",
      "97984.0\n"
     ]
    }
   ],
   "source": [
    "print(results.power_law.alpha)\n",
    "print(results.power_law.xmin)"
   ]
  },
  {
   "cell_type": "code",
   "execution_count": 66,
   "metadata": {},
   "outputs": [],
   "source": [
    "R, p = results.distribution_compare('power_law', 'lognormal')"
   ]
  },
  {
   "cell_type": "code",
   "execution_count": 67,
   "metadata": {},
   "outputs": [
    {
     "data": {
      "text/plain": [
       "0.04186593354597434"
      ]
     },
     "execution_count": 67,
     "metadata": {},
     "output_type": "execute_result"
    }
   ],
   "source": [
    "R"
   ]
  },
  {
   "cell_type": "code",
   "execution_count": 68,
   "metadata": {},
   "outputs": [
    {
     "data": {
      "text/plain": [
       "0.544845625004867"
      ]
     },
     "execution_count": 68,
     "metadata": {},
     "output_type": "execute_result"
    }
   ],
   "source": [
    "p"
   ]
  },
  {
   "cell_type": "code",
   "execution_count": 72,
   "metadata": {},
   "outputs": [
    {
     "data": {
      "text/plain": [
       "<matplotlib.axes._subplots.AxesSubplot at 0xa5f5f4be0>"
      ]
     },
     "execution_count": 72,
     "metadata": {},
     "output_type": "execute_result"
    },
    {
     "data": {
      "image/png": "[encoded data removed]",
      "text/plain": [
       "<Figure size 1440x720 with 1 Axes>"
      ]
     },
     "metadata": {
      "needs_background": "light"
     },
     "output_type": "display_data"
    }
   ],
   "source": [
    "powerlaw.plot_pdf(data, color='b')"
   ]
  },
  {
   "cell_type": "code",
   "execution_count": 71,
   "metadata": {},
   "outputs": [
    {
     "data": {
      "image/png": "[encoded data removed]",
      "text/plain": [
       "<Figure size 1440x720 with 1 Axes>"
      ]
     },
     "metadata": {
      "needs_background": "light"
     },
     "output_type": "display_data"
    }
   ],
   "source": [
    "\n",
    "fig = results.plot_ccdf(linewidth=3, label='Empirical Data')\n",
    "results.power_law.plot_ccdf(ax=fig, color='r', linestyle='--', label='Power law fit')\n",
    "results.lognormal.plot_ccdf(ax=fig, color='g', linestyle='--', label='Lognormal fit')\n",
    "####\n",
    "fig.set_ylabel(u\"p(X≥x)\")\n",
    "fig.set_xlabel(\"Edge traffic volume\")\n",
    "handles, labels = fig.get_legend_handles_labels()\n",
    "fig.legend(handles, labels, loc=3);"
   ]
  },
  {
   "cell_type": "code",
   "execution_count": null,
   "metadata": {},
   "outputs": [],
   "source": []
  },
  {
   "cell_type": "code",
   "execution_count": null,
   "metadata": {},
   "outputs": [],
   "source": []
  },
  {
   "cell_type": "code",
   "execution_count": null,
   "metadata": {},
   "outputs": [],
   "source": []
  },
  {
   "cell_type": "code",
   "execution_count": null,
   "metadata": {},
   "outputs": [],
   "source": []
  },
  {
   "cell_type": "code",
   "execution_count": null,
   "metadata": {},
   "outputs": [],
   "source": []
  },
  {
   "cell_type": "code",
   "execution_count": null,
   "metadata": {},
   "outputs": [],
   "source": []
  },
  {
   "cell_type": "code",
   "execution_count": null,
   "metadata": {},
   "outputs": [],
   "source": []
  },
  {
   "cell_type": "code",
   "execution_count": null,
   "metadata": {},
   "outputs": [],
   "source": []
  },
  {
   "cell_type": "code",
   "execution_count": 24,
   "metadata": {},
   "outputs": [
    {
     "data": {
      "text/html": [
       "<div>\n",
       "<style scoped>\n",
       "    .dataframe tbody tr th:only-of-type {\n",
       "        vertical-align: middle;\n",
       "    }\n",
       "\n",
       "    .dataframe tbody tr th {\n",
       "        vertical-align: top;\n",
       "    }\n",
       "\n",
       "    .dataframe thead th {\n",
       "        text-align: right;\n",
       "    }\n",
       "</style>\n",
       "<table border=\"1\" class=\"dataframe\">\n",
       "  <thead>\n",
       "    <tr style=\"text-align: right;\">\n",
       "      <th></th>\n",
       "      <th>n</th>\n",
       "    </tr>\n",
       "    <tr>\n",
       "      <th>curr</th>\n",
       "      <th></th>\n",
       "    </tr>\n",
       "  </thead>\n",
       "  <tbody>\n",
       "    <tr>\n",
       "      <th>Main_Page</th>\n",
       "      <td>508992230</td>\n",
       "    </tr>\n",
       "    <tr>\n",
       "      <th>Hyphen-minus</th>\n",
       "      <td>42300873</td>\n",
       "    </tr>\n",
       "    <tr>\n",
       "      <th>George_H._W._Bush</th>\n",
       "      <td>6891439</td>\n",
       "    </tr>\n",
       "    <tr>\n",
       "      <th>Jason_Momoa</th>\n",
       "      <td>5261261</td>\n",
       "    </tr>\n",
       "    <tr>\n",
       "      <th>2.0_(film)</th>\n",
       "      <td>4775391</td>\n",
       "    </tr>\n",
       "    <tr>\n",
       "      <th>Bird_Box_(film)</th>\n",
       "      <td>4710338</td>\n",
       "    </tr>\n",
       "    <tr>\n",
       "      <th>XHamster</th>\n",
       "      <td>4354947</td>\n",
       "    </tr>\n",
       "    <tr>\n",
       "      <th>Aquaman_(film)</th>\n",
       "      <td>3887205</td>\n",
       "    </tr>\n",
       "    <tr>\n",
       "      <th>Lists_of_deaths_by_year</th>\n",
       "      <td>3357694</td>\n",
       "    </tr>\n",
       "    <tr>\n",
       "      <th>Priyanka_Chopra</th>\n",
       "      <td>3117680</td>\n",
       "    </tr>\n",
       "  </tbody>\n",
       "</table>\n",
       "</div>"
      ],
      "text/plain": [
       "                                 n\n",
       "curr                              \n",
       "Main_Page                508992230\n",
       "Hyphen-minus              42300873\n",
       "George_H._W._Bush          6891439\n",
       "Jason_Momoa                5261261\n",
       "2.0_(film)                 4775391\n",
       "Bird_Box_(film)            4710338\n",
       "XHamster                   4354947\n",
       "Aquaman_(film)             3887205\n",
       "Lists_of_deaths_by_year    3357694\n",
       "Priyanka_Chopra            3117680"
      ]
     },
     "execution_count": 24,
     "metadata": {},
     "output_type": "execute_result"
    }
   ],
   "source": [
    "df.groupby('curr').sum().sort_values('n', ascending=False)[:10]"
   ]
  },
  {
   "cell_type": "code",
   "execution_count": 25,
   "metadata": {},
   "outputs": [],
   "source": [
    "\n",
    "clickstream = nx.DiGraph()"
   ]
  },
  {
   "cell_type": "code",
   "execution_count": 44,
   "metadata": {
    "scrolled": true
   },
   "outputs": [
    {
     "name": "stdout",
     "output_type": "stream",
     "text": [
      "0% done\n",
      "elapsed time: 0.1447992557666718 min\n",
      "\n",
      "3% done\n",
      "elapsed time: 1.5585065293499913 min\n",
      "\n",
      "7% done\n",
      "elapsed time: 3.004428672949992 min\n",
      "\n",
      "10% done\n",
      "elapsed time: 4.6194380532333374 min\n",
      "\n",
      "13% done\n",
      "elapsed time: 6.5980846082833375 min\n",
      "\n",
      "17% done\n",
      "elapsed time: 8.514604662500005 min\n",
      "\n",
      "20% done\n",
      "elapsed time: 10.367447325183337 min\n",
      "\n",
      "23% done\n",
      "elapsed time: 12.289904162466671 min\n",
      "\n",
      "27% done\n",
      "elapsed time: 14.295300761433328 min\n",
      "\n",
      "30% done\n",
      "elapsed time: 17.268469321966663 min\n",
      "\n",
      "34% done\n",
      "elapsed time: 19.47021953116667 min\n",
      "\n",
      "37% done\n",
      "elapsed time: 22.019473073716668 min\n",
      "\n",
      "40% done\n",
      "elapsed time: 24.102339129033332 min\n",
      "\n",
      "44% done\n",
      "elapsed time: 26.260862174333337 min\n",
      "\n",
      "47% done\n",
      "elapsed time: 28.20153869233333 min\n",
      "\n",
      "50% done\n",
      "elapsed time: 30.125884280433336 min\n",
      "\n",
      "54% done\n",
      "elapsed time: 32.094530061233336 min\n",
      "\n",
      "57% done\n",
      "elapsed time: 34.37006730806667 min\n",
      "\n",
      "60% done\n",
      "elapsed time: 36.96948394975001 min\n",
      "\n",
      "64% done\n",
      "elapsed time: 38.918416953716665 min\n",
      "\n",
      "67% done\n",
      "elapsed time: 40.89315858731667 min\n",
      "\n",
      "70% done\n",
      "elapsed time: 43.04822792195 min\n",
      "\n",
      "74% done\n",
      "elapsed time: 46.409985079583336 min\n",
      "\n",
      "77% done\n",
      "elapsed time: 49.04512044948334 min\n",
      "\n",
      "80% done\n",
      "elapsed time: 51.099510117 min\n",
      "\n",
      "84% done\n",
      "elapsed time: 53.08233959688334 min\n",
      "\n",
      "87% done\n",
      "elapsed time: 55.1067800871 min\n",
      "\n",
      "90% done\n",
      "elapsed time: 57.323087625650004 min\n",
      "\n",
      "94% done\n",
      "elapsed time: 59.90662576805 min\n",
      "\n",
      "97% done\n",
      "elapsed time: 64.6741886536 min\n",
      "\n"
     ]
    }
   ],
   "source": [
    "start_time = timer()\n",
    "rows_total_count = len(df)\n",
    "\n",
    "for i, row in df.iterrows():\n",
    "    clickstream.add_edge(row['prev'], row['curr'], traffic = row['n'], link_type = row['type'])\n",
    "    if i % 1000000 == 0:\n",
    "        print(f'{round(i/rows_total_count * 100)}% done')\n",
    "        print(\"elapsed time:\", (timer() - start_time)/60, \"min\\n\")\n",
    "        \n",
    "end_time = timer()\n"
   ]
  },
  {
   "cell_type": "code",
   "execution_count": 45,
   "metadata": {},
   "outputs": [
    {
     "name": "stdout",
     "output_type": "stream",
     "text": [
      "add_edge total runtime: 66.51817008306666 min\n",
      "\n"
     ]
    }
   ],
   "source": [
    "\n",
    "print(\"add_edge total runtime:\", (end_time - start_time)/60, \"min\\n\")"
   ]
  },
  {
   "cell_type": "code",
   "execution_count": 53,
   "metadata": {},
   "outputs": [
    {
     "data": {
      "text/plain": [
       "5185321"
      ]
     },
     "execution_count": 53,
     "metadata": {},
     "output_type": "execute_result"
    }
   ],
   "source": [
    "clickstream.number_of_nodes()"
   ]
  },
  {
   "cell_type": "code",
   "execution_count": 57,
   "metadata": {
    "scrolled": false
   },
   "outputs": [
    {
     "name": "stdout",
     "output_type": "stream",
     "text": [
      "Runtime: 71.09349475370011 min\n",
      "\n"
     ]
    }
   ],
   "source": [
    "start_time = timer()\n",
    "pr = nx.pagerank(clickstream, alpha=0.9, weight = 'traffic')\n",
    "end_time = timer()\n",
    "print (\"Runtime:\", (end_time - start_time)/60, \"min\\n\")"
   ]
  },
  {
   "cell_type": "code",
   "execution_count": 58,
   "metadata": {
    "collapsed": true
   },
   "outputs": [
    {
     "data": {
      "text/plain": [
       "{'other-empty': 1.3547285920117938e-07,\n",
       " '2019_Horizon_League_Baseball_Tournament': 1.3547286076148575e-07,\n",
       " 'other-search': 1.3547285920117938e-07,\n",
       " 'ForeverAtLast': 1.354728697786122e-07,\n",
       " 'First_Families_of_Pakistan': 2.0683241786700676e-07,\n",
       " 'Jehangir_Wadia': 2.8309350055981834e-07,\n",
       " 'The_Lawrence_School,_Sanawar': 6.735126231197098e-07,\n",
       " 'Wadia_family': 6.817899468542883e-07,\n",
       " 'Ness_Wadia': 5.434117809234895e-07,\n",
       " 'GoAir': 3.221213549944152e-07,\n",
       " 'other-internal': 1.3547285920117938e-07,\n",
       " 'Lovji_Nusserwanjee_Wadia': 1.902740674602411e-07,\n",
       " 'Sangh_Parivar': 5.209159384942201e-07,\n",
       " 'other-other': 1.3547285920117938e-07,\n",
       " 'Parsi': 3.0008396254043805e-06,\n",
       " 'Bombay_Dyeing': 1.8050202413646182e-07,\n",
       " 'Wadia_Group': 4.7184095308030776e-07,\n",
       " 'Dina_Wadia': 5.148782965399126e-07,\n",
       " 'The_Age_of_Stupid': 5.103632187608094e-07,\n",
       " 'other-external': 1.3547285920117938e-07,\n",
       " 'Nusli_Wadia': 5.639474231832628e-07,\n",
       " 'Neville_Wadia': 2.545217123874753e-07,\n",
       " 'Metallate': 1.3547286497409683e-07,\n",
       " 'Bob_Hammond': 1.3547286604680747e-07,\n",
       " 'Linburn_Centre': 1.3547286037140916e-07,\n",
       " 'Shamsuddin_Amiri': 1.354728610540432e-07,\n",
       " 'Himad_Abdelli': 1.3821907388651612e-07,\n",
       " 'Le_Havre_AC': 1.6021407413713333e-06,\n",
       " 'Graham_flour': 3.5018611720203423e-07,\n",
       " 'Flour_bleaching_agent': 2.0134321783896294e-07,\n",
       " 'Hydrogen_peroxide': 1.545353668714916e-06,\n",
       " 'Flour_treatment_agent': 2.675650370692809e-07,\n",
       " 'Acetone_peroxide': 6.110090980656971e-07,\n",
       " 'Flour': 1.178741509718191e-06,\n",
       " 'Azodicarbonamide': 3.7230225045776914e-07,\n",
       " 'Nitrogen_dioxide': 5.896821106197844e-07,\n",
       " 'Maida_flour': 7.150915092452181e-07,\n",
       " 'White_bread': 2.45163132038106e-07,\n",
       " 'Graham_bread': 2.8278786211867184e-07,\n",
       " 'Whole-wheat_flour': 2.8292957638609493e-07,\n",
       " 'Pax_Britannica_Trilogy': 1.3547287213157007e-07,\n",
       " 'Kojły': 1.3547286154163893e-07,\n",
       " 'Wired_(magazine)': 7.630059315926591e-07,\n",
       " 'American_Society_of_Magazine_Editors': 2.405642299994566e-07,\n",
       " 'Murder_of_John_Lennon': 6.363582763927901e-07,\n",
       " 'National_Lampoon_(magazine)': 1.2548246221297534e-06,\n",
       " 'National_Magazine_Awards': 2.435179617245171e-07,\n",
       " 'Vice_(magazine)': 7.888634367611889e-07,\n",
       " 'Popular_Science': 6.869203492869973e-07,\n",
       " 'Cheeseface': 2.5137993994769774e-07,\n",
       " 'Cindy_Crawford': 8.885538836115532e-07,\n",
       " 'The_Atlantic': 1.25230967075864e-06,\n",
       " 'ASME': 6.817265041869416e-07,\n",
       " '5.11_Tactical': 2.065167702225085e-07,\n",
       " 'The_Grand_Tour': 8.119694845802138e-07,\n",
       " 'Tom_Davin': 1.6038759753509722e-07,\n",
       " 'Kilt': 6.720083373941893e-07,\n",
       " 'Police_duty_belt': 2.2292047373393773e-07,\n",
       " 'Main_Page': 0.000297310178832235,\n",
       " 'HFI': 1.354728723345936e-07,\n",
       " 'Type_91': 1.3547286766285554e-07,\n",
       " 'Kati_Tolmoff': 1.3547286239323413e-07,\n",
       " 'South_African_Journal_of_Libraries_and_Information_Science': 1.3547286202923467e-07,\n",
       " 'Orchidometer': 3.01951939314117e-07,\n",
       " 'Delayed_puberty': 5.101634302894278e-07,\n",
       " 'Puberty': 8.146076527800932e-07,\n",
       " 'Adolescence': 1.7739985997973466e-06,\n",
       " 'Congenital_adrenal_hyperplasia': 1.019095054691967e-06,\n",
       " 'Hypogonadism': 1.7867512991544925e-06,\n",
       " 'Coeliac_disease': 3.799172458647309e-06,\n",
       " 'Hypergonadotropic_hypogonadism': 2.9980632928060286e-07,\n",
       " 'Leydig_cell_hypoplasia': 1.4437118602139333e-07,\n",
       " 'Late_bloomer': 2.211226640402907e-07,\n",
       " 'Tanner_scale': 5.903248749329743e-07,\n",
       " 'Menarche': 8.092673821058813e-07,\n",
       " 'Aspermia': 2.3210212561536142e-07,\n",
       " 'Bone_age': 1.682158166954331e-07,\n",
       " 'Kallmann_syndrome': 9.702738144698978e-07,\n",
       " 'Confessions_of_a_Window_Cleaner': 4.031515977249501e-07,\n",
       " 'Anabolic_steroid': 2.0194945053997675e-06,\n",
       " 'Virilization': 1.4395975245437095e-06,\n",
       " 'Constitutional_growth_delay': 1.5944932969002466e-07,\n",
       " 'Mammoplasia': 3.7670571920696183e-07,\n",
       " 'Methyltestosterone': 2.0105554646158475e-07,\n",
       " 'Misty_Copeland': 5.221050175754506e-07,\n",
       " 'Inborn_errors_of_metabolism': 5.137241365250686e-07,\n",
       " 'Uterine_hypoplasia': 1.6588098187527844e-07,\n",
       " 'Development_of_the_human_body': 6.837476160093456e-07,\n",
       " 'Endocrine_disease': 3.686870369665214e-07,\n",
       " 'Micropenis': 7.785593903220149e-07,\n",
       " 'Hypothyroidism': 1.5168350353017948e-06,\n",
       " 'Paraphilic_infantilism': 4.967048352178826e-07,\n",
       " 'Precocious_puberty': 1.3337598508582609e-06,\n",
       " 'Mesterolone': 3.1533785348349393e-07,\n",
       " 'Truth_and_Justice': 3.0907243948450836e-07,\n",
       " 'Estonia': 5.7565854410012274e-06,\n",
       " 'Anton_Hansen_Tammsaare': 1.4913194874332277e-07,\n",
       " 'Heart_of_Glass_(song)': 4.3782089075946423e-07,\n",
       " 'Heart_of_Glass_(film)': 2.3237257806342778e-07,\n",
       " 'The_Enigma_of_Kaspar_Hauser': 2.586200386896382e-07,\n",
       " 'Chicken_hypnotism': 1.464832201379631e-07,\n",
       " 'Hypnosis_in_popular_culture': 2.3241221905651976e-07,\n",
       " 'Cranberry_glass': 6.077438815395764e-07,\n",
       " 'Skellig_Islands': 4.0328160013556453e-07,\n",
       " 'Heart_of_Glass': 1.3547304349384303e-07,\n",
       " 'Werner_Herzog': 2.415119918120427e-06,\n",
       " 'Skellig_Michael': 6.05604774965427e-07,\n",
       " 'While_Heaven_Wept': 1.478261379175383e-07,\n",
       " 'Vast_Oceans_Lachrymose': 1.8958490200027113e-07,\n",
       " 'North_Yorkshire_Moors_Railway': 7.28776225539767e-07,\n",
       " 'Whitby_railway_station': 2.723290098271572e-07,\n",
       " 'Ruswarp_railway_station': 2.647866193539765e-07,\n",
       " 'Scarborough_railway_station': 3.864638841877984e-07,\n",
       " 'Whitby,_Redcar_and_Middlesbrough_Union_Railway': 3.4142277880074346e-07,\n",
       " 'Whitby': 3.170974574496186e-07,\n",
       " 'Esk_Valley_line': 3.095896765117534e-07,\n",
       " 'Stone_Grist_Mill_Complex': 1.3547286056644744e-07,\n",
       " 'University_of_Puget_Sound': 4.213325258810649e-07,\n",
       " 'Charlie_Lowery': 1.4342926339021882e-07,\n",
       " 'Henry_Dymsha': 1.3547286124908148e-07,\n",
       " 'Gwyn_Prosser': 1.860434693894517e-07,\n",
       " 'Charlie_Elphicke': 6.898501105412261e-07,\n",
       " 'Dover_(UK_Parliament_constituency)': 3.372679761158267e-07,\n",
       " 'Exposition_Internationale_des_Arts_et_Techniques_dans_la_Vie_Moderne': 5.042389572702505e-07,\n",
       " 'The_Reaper_(Miró_painting)': 1.5025694228797796e-07,\n",
       " 'Lost_artworks': 4.4068734849438176e-07,\n",
       " 'Reaper_(disambiguation)': 2.3823087267079572e-07,\n",
       " 'Guernica_(Picasso)': 8.292816878607862e-07,\n",
       " 'Sobremonte_Department': 1.3547286183419638e-07,\n",
       " 'Orange-brown_Atlantic_tree-rat': 1.5997642364700863e-07,\n",
       " 'Phyllomys': 2.2175686487336585e-07,\n",
       " 'Parthenote': 1.3547286405225544e-07,\n",
       " 'System_for_Observing_Play_and_Recreation_in_Communities': 1.3547286132704277e-07,\n",
       " 'Aus-Rotten': 4.1700245442844355e-07,\n",
       " 'Havoc_Records': 1.4100312612150647e-07,\n",
       " 'Crust_punk': 1.3035368945876618e-06,\n",
       " 'Anti_Terrorism_Court_of_Pakistan': 1.662574354497387e-07,\n",
       " 'Altaf_Hussain_(Pakistani_politician)': 5.031767935653058e-07,\n",
       " 'Judiciary_of_Pakistan': 3.7469893900769916e-07,\n",
       " '1700': 2.396610176532711e-07,\n",
       " 'Charles_Frederick,_Duke_of_Holstein-Gottorp': 2.946050775454193e-07,\n",
       " 'Alexander_II_of_Russia': 1.8943074362512644e-06,\n",
       " 'List_of_heads_of_government_of_Russia': 1.8003045055606373e-07,\n",
       " 'Frederick_IV_of_Denmark': 4.281086818795363e-07,\n",
       " 'Catherine_I_of_Russia': 7.060202336823583e-07,\n",
       " 'Rulers_of_Russia_family_tree': 1.8490370729870005e-07,\n",
       " 'House_of_Romanov': 1.5852403675507363e-06,\n",
       " 'Frederick_IV,_Duke_of_Holstein-Gottorp': 2.8253354440615804e-07,\n",
       " 'Ulrika_Eleonora,_Queen_of_Sweden': 3.749845257263415e-07,\n",
       " 'Peter_the_Great': 1.925338304776816e-06,\n",
       " 'Order_of_Saint_Anna': 4.099860886148588e-07,\n",
       " 'Christian_August_of_Holstein-Gottorp,_Prince_of_Eutin': 3.491057509467275e-07,\n",
       " 'Great_Northern_War': 2.008195172808636e-06,\n",
       " 'Grand_Duchess_Anna_Petrovna_of_Russia': 2.2276193941280268e-07,\n",
       " 'Hedvig_Sophia_of_Sweden': 2.1884213985716854e-07,\n",
       " 'Adolf_Frederick,_King_of_Sweden': 5.619915735227516e-07,\n",
       " 'Duke_of_Holstein-Gottorp': 5.49976530247534e-07,\n",
       " 'Peter_III_of_Russia': 9.6053325645393e-07,\n",
       " 'Elizabeth_of_Russia': 1.221705165072482e-06,\n",
       " 'Ojos_de_Maricunga': 1.3547286037140916e-07,\n",
       " 'Ingen': 1.3587054618198138e-07,\n",
       " 'Ingen_(disambiguation)': 2.5888589692320096e-07,\n",
       " 'Jurassic_Park': 8.2193309128113e-07,\n",
       " 'Family_in_early_modern_Scotland': 1.354728710291949e-07,\n",
       " 'Eilis_Kirwan': 1.3621026760098927e-07,\n",
       " 'The_Whistleblower': 5.518480919658636e-07,\n",
       " 'John_Mitchell_(Hull_politician)': 1.3547286056644744e-07,\n",
       " 'Cub_Crafters': 5.106310727309398e-07,\n",
       " 'CubCrafters_CC18-180_Top_Cub': 1.666401823676361e-07,\n",
       " 'Piper_PA-18_Super_Cub': 9.275845240796855e-07,\n",
       " 'List_of_current_production_certified_light_aircraft': 1.792683448153489e-07,\n",
       " 'Clay_Marsh': 1.3547286207726128e-07,\n",
       " 'Almyros_F.C.': 1.3547286456207078e-07,\n",
       " 'Robin_Hood:_Prince_of_Thieves': 1.1234869270185683e-06,\n",
       " 'Daniel_Newman_(British_actor)': 2.475235182668111e-07,\n",
       " 'The_Return_of_the_Borrowers': 1.7282500480142893e-07,\n",
       " 'The_Borrowers_(miniseries)': 2.4503974488931906e-07,\n",
       " 'Daniel_Newman': 1.3547290032101513e-07,\n",
       " 'Shopping_(1994_film)': 2.803969563570989e-07,\n",
       " 'Emile_Waxweiler': 1.396451413923819e-07,\n",
       " 'Ernest_Solvay': 4.788225176936995e-07,\n",
       " 'Tshane_Airport': 1.3547286095652403e-07,\n",
       " 'Maher_Atta': 1.354728606639666e-07,\n",
       " 'Bozavand': 1.354728631019453e-07,\n",
       " 'Sun_King_(disambiguation)': 1.357080828983152e-07,\n",
       " 'Louis_XIV_of_France': 3.871749070075475e-06,\n",
       " 'Shady_Othman': 1.3547286124908148e-07,\n",
       " 'Halfway_Gone': 1.68245275542222e-07,\n",
       " 'Lifehouse_discography': 1.4977959290014703e-07,\n",
       " 'Broken_(Lifehouse_song)': 2.304327330569769e-07,\n",
       " 'Saint_Dominic': 9.05586174436117e-07,\n",
       " 'Chaplet_(prayer)': 2.3322686542824044e-07,\n",
       " 'Chaplet': 1.3547290408022882e-07,\n",
       " 'Prayer_beads': 3.040435711810696e-07,\n",
       " 'Chaplet_of_Saint_Michael': 2.1902946448995028e-07,\n",
       " 'Rosary': 2.087190984801438e-06,\n",
       " 'Minor_Sherlock_Holmes_characters': 7.885212555438219e-07,\n",
       " 'Chaplet_of_the_Divine_Mercy': 3.343054439003852e-07,\n",
       " 'Ahmet_Lepenica': 1.5002037480293186e-07,\n",
       " 'Vlora_War': 5.459817487796268e-07,\n",
       " 'Natalie_Evans,_Baroness_Evans_of_Bowes_Park': 4.948558947971e-07,\n",
       " 'Special_adviser_(UK)': 5.574335885981184e-07,\n",
       " '10_Downing_Street': 1.138589751528243e-06,\n",
       " 'Civil_Service_(United_Kingdom)': 1.474260346897342e-06,\n",
       " 'Ministerial_Code': 1.6791540241590237e-07,\n",
       " 'SPAD': 1.3547318151166836e-07,\n",
       " 'Downing_Street_Chief_of_Staff': 2.5652057210895833e-07,\n",
       " 'Ed_Miliband': 1.4115552774576642e-06,\n",
       " 'Adviser': 1.4595040064840822e-07,\n",
       " 'Dominic_Cummings': 2.6969250155664686e-07,\n",
       " 'The_Thick_of_It': 1.1783553091973837e-06,\n",
       " 'Andrew_Murray_(trade_unionist)': 4.672177812521604e-07,\n",
       " 'Special_adviser': 1.3547286506775843e-07,\n",
       " 'David_Lidington': 7.189731120802925e-07,\n",
       " 'Callum_McCaig': 3.017279295396833e-07,\n",
       " 'Downing_Street_Director_of_Communications': 3.822359135137892e-07,\n",
       " 'Liz_Sugg,_Baroness_Sugg': 3.2340566890950043e-07,\n",
       " 'British_Indian_Ocean_Territory': 1.2250209644580485e-06,\n",
       " 'I_Vow_to_Thee,_My_Country': 3.794464927398673e-07,\n",
       " 'Music_in_the_Civilization_video_game_series': 1.376918785859705e-07,\n",
       " 'World_in_Union': 2.671805801046899e-07,\n",
       " 'Proposals_for_a_national_anthem_for_England': 1.6317100095550399e-07,\n",
       " 'List_of_compositions_by_Gustav_Holst': 1.5431001195761693e-07,\n",
       " 'Remembrance_Day': 7.902705547307044e-07,\n",
       " 'Cecil_Spring_Rice': 3.046221940149316e-07,\n",
       " 'Thaxted_(tune)': 4.002033734906029e-07,\n",
       " 'Wedding_of_Prince_Charles_and_Lady_Diana_Spencer': 2.9156847275349984e-07,\n",
       " 'The_Planets': 6.616085993326235e-07,\n",
       " 'Land_of_Hope_and_Glory': 7.888994805420145e-07,\n",
       " 'Jupiter_(disambiguation)': 1.4109905916405547e-07,\n",
       " 'England': 3.4659182205703113e-06,\n",
       " 'Gustav_Holst': 9.092873654860639e-07,\n",
       " 'Ice_piedmont': 1.35472862906907e-07,\n",
       " 'List_of_United_States_Navy_amphibious_warfare_ships': 5.234168892303e-07,\n",
       " 'USS_Hempstead_(APA-241)': 1.3574373295944407e-07,\n",
       " 'EXeLearning': 1.395002612919337e-07,\n",
       " 'PDF': 2.627241102497587e-06,\n",
       " 'Wikisource': 4.7446209320530914e-07,\n",
       " 'EPUB': 6.704352198354129e-07,\n",
       " 'Project_Gutenberg': 1.648652749966942e-06,\n",
       " 'Dolná_Breznica': 1.354728675878261e-07,\n",
       " 'Manuel_Antonio_National_Park': 4.0767507499977483e-07,\n",
       " 'Central_American_squirrel_monkey': 2.667048695320013e-07,\n",
       " 'List_of_mammals_of_Costa_Rica': 1.9203373081549604e-07,\n",
       " 'Squirrel_monkey': 5.46562523933344e-07,\n",
       " 'List_of_Costa_Rican_monkey_species': 1.6808678536856876e-07,\n",
       " 'List_of_Central_American_monkey_species': 1.4087138240436442e-07,\n",
       " 'List_of_Panamanian_monkey_species': 1.3547288552228358e-07,\n",
       " 'Costa_Rica': 3.0634215852258033e-06,\n",
       " 'Corcovado_National_Park': 2.60562766665372e-07,\n",
       " 'Common_squirrel_monkey': 2.274298892493339e-07,\n",
       " 'Cebidae': 1.9924186375822248e-07,\n",
       " 'Abkhazia–Vanuatu_relations': 1.35472863499737e-07,\n",
       " 'FDF_National_Camp': 1.3547286173667722e-07,\n",
       " 'Michael_Constantine': 7.176259687213267e-07,\n",
       " 'My_Big_Fat_Greek_Life': 2.4943397391581635e-07,\n",
       " 'My_Big_Fat_Greek_Wedding_(franchise)': 1.3794535194611612e-07,\n",
       " 'My_Big_Fat_Greek_Wedding': 8.638150249415435e-07,\n",
       " 'John_Aniston': 4.6446383040977637e-07,\n",
       " 'Lainie_Kazan': 7.829951437675082e-07,\n",
       " 'List_of_television_programs_based_on_films': 1.946037482360398e-07,\n",
       " 'Steven_Eckholdt': 3.5045677228877446e-07,\n",
       " 'Andrea_Martin': 1.3481850546323407e-06,\n",
       " 'Playtone': 3.0316640652663047e-07,\n",
       " 'My_Big_Fat_Greek_Wedding_2': 4.861675420962561e-07,\n",
       " 'Baby_Bob': 1.650920690225675e-07,\n",
       " 'Nia_Vardalos': 6.2098801028928e-07,\n",
       " 'Joey_Fatone': 5.106155259104978e-07,\n",
       " '2003_in_American_television': 3.862014118955759e-07,\n",
       " 'Rita_Wilson': 7.272236863121256e-07,\n",
       " 'Gia_Carides': 9.190614903323489e-07,\n",
       " 'Louis_Mandylor': 4.2348389135523255e-07,\n",
       " 'List_of_programs_broadcast_by_CBS': 1.7430354662057558e-07,\n",
       " 'North_Concord,_Vermont': 1.354728610540432e-07,\n",
       " 'Prognathism': 9.888217686650961e-07,\n",
       " 'Hominid_dental_morphology_evolution': 1.3886279328235863e-07,\n",
       " 'Negroid': 5.316228113535482e-07,\n",
       " 'Chin': 6.390503874189881e-07,\n",
       " 'Sukkur_Division': 1.9321353234889842e-07,\n",
       " 'Shaheed_Benazir_Abad_Division': 2.0352827312362867e-07,\n",
       " 'Divisions_of_Pakistan': 2.7469055668760296e-07,\n",
       " 'List_of_talukas_of_Sindh': 2.235435340961763e-07,\n",
       " 'Mirpur_Khas_Division': 1.6221103203461766e-07,\n",
       " 'Giada_Di_Miceli': 1.3547286394435946e-07,\n",
       " 'Dietlikon': 1.6539819119079022e-07,\n",
       " 'Implenia': 1.5350444006971137e-07,\n",
       " 'List_of_youngest_killers': 1.7046152965928306e-07,\n",
       " 'Nathaniel_Brazill': 1.5873769038376208e-07,\n",
       " 'List_of_school_shootings_in_the_United_States': 5.657255669880882e-07,\n",
       " 'Lionel_Tate': 4.204262094238358e-07,\n",
       " '2005_Qantas_Television_Awards': 1.354728610540432e-07,\n",
       " 'Antonette_Ruth_Sabel': 1.3547286017637085e-07,\n",
       " 'Oakwood,_Missouri': 1.3877261322953727e-07,\n",
       " 'Clay_County,_Missouri': 7.212185523765183e-07,\n",
       " 'Emotions_(The_Pretty_Things_album)': 1.599566894063091e-07,\n",
       " 'Pretty_Things': 1.6968501669167227e-06,\n",
       " 'S.F._Sorrow': 3.8482245092124354e-07,\n",
       " 'Joywave': 6.062626573473388e-07,\n",
       " 'Tongues_(song)': 1.499061550668368e-07,\n",
       " 'Dan_Kwan_and_Daniel_Scheinert': 4.095785670418096e-07,\n",
       " 'John_Lee_Hiong_Fun-Yit_Yaw': 1.3547286249727254e-07,\n",
       " 'Gesneria': 1.4276564253257567e-07,\n",
       " 'Gesneria_(moth)': 3.0903974341291743e-07,\n",
       " 'Public_holidays_in_Zimbabwe': 2.0600120405347858e-07,\n",
       " 'List_of_holidays_by_country': 4.921114013837161e-07,\n",
       " 'Public_holidays_in_Rhodesia': 1.8953386568510875e-07,\n",
       " 'December_22': 2.3062219996920228e-07,\n",
       " 'Ivan_Bilyi': 1.3547286027389002e-07,\n",
       " 'Gha_(Indic)': 1.354728777284062e-07,\n",
       " '1967_Atlanta_Braves_season': 2.372189669580101e-07,\n",
       " '1968_Atlanta_Braves_season': 3.090397463423494e-07,\n",
       " 'KNGN': 1.3547286154163893e-07,\n",
       " 'Cryptography': 1.985436724632259e-06,\n",
       " 'Pattern_recognition_(psychology)': 2.2756261490831617e-07,\n",
       " 'Pattern_recognition_(disambiguation)': 1.5079581101572016e-07,\n",
       " 'Patterns_in_nature': 3.889099949601066e-07,\n",
       " 'Apophenia': 1.0376790492465443e-06,\n",
       " 'Pareidolia': 1.5617891124332168e-06,\n",
       " 'Prefrontal_cortex': 1.1636855717263172e-06,\n",
       " 'Template_matching': 2.02441847911885e-07,\n",
       " 'Gestalt_psychology': 3.13413462423651e-06,\n",
       " 'Pattern_recognition': 7.254912837583875e-07,\n",
       " 'Human_intelligence': 3.125230714206315e-07,\n",
       " 'Bottom-up': 1.663822120431687e-07,\n",
       " '25C-NBOMe': 3.5224668324419365e-07,\n",
       " 'Pontifical_Catholic_University_of_Puerto_Rico_at_Mayagüez': 1.3547286355042532e-07,\n",
       " 'Scribbled_nudibranch': 1.3547286095652403e-07,\n",
       " 'Maria_Teresa_Naranjo_Ochoa': 1.3547286086286244e-07,\n",
       " 'Erik_Ullenhag': 1.3547286575691176e-07,\n",
       " 'Cristian_Ianu': 1.354728611892121e-07,\n",
       " '2012_FIFA_Futsal_World_Cup_qualification_(CONMEBOL)': 1.354728638820985e-07,\n",
       " 'Draughton,_North_Yorkshire': 1.3547286169370398e-07,\n",
       " 'Grant_Hill': 6.32707810456974e-07,\n",
       " 'South_Lakes_High_School': 1.565089601786403e-07,\n",
       " 'Herndon_High_School': 2.0177414298594612e-07,\n",
       " 'Reston,_Virginia': 9.971890033994122e-07,\n",
       " 'Fairfax_County_Public_Schools': 5.060516901719963e-07,\n",
       " 'List_of_United_States_high_school_national_records_in_track_and_field': 1.787414000627213e-07,\n",
       " 'Big_Pooh': 5.586730399246873e-07,\n",
       " 'List_of_Norwegian_films_of_the_1940s': 1.393360343211131e-07,\n",
       " 'Lists_of_Norwegian_films': 1.6517883786892075e-07,\n",
       " 'FCT': 1.3547289558522536e-07,\n",
       " 'Flux-corrected_transport': 2.2638885118739433e-07,\n",
       " 'List_of_ethnic_minority_politicians_in_the_United_Kingdom': 1.500980821533451e-07,\n",
       " 'Janet_Daby': 3.159002238881623e-07,\n",
       " '2018_Lewisham_East_by-election': 2.6649939834411375e-07,\n",
       " 'London_Borough_of_Lewisham': 7.663724694291203e-07,\n",
       " 'List_of_MPs_elected_in_the_2017_United_Kingdom_general_election': 3.917064646046798e-07,\n",
       " 'List_of_Labour_Party_Members_of_Parliament_in_London': 1.4356623325624774e-07,\n",
       " 'Heidi_Alexander': 4.133759506870044e-07,\n",
       " 'Blackheath_Bluecoat_Church_of_England_School': 1.8710646635009577e-07,\n",
       " 'Lewisham_East_(UK_Parliament_constituency)': 5.071604754883817e-07,\n",
       " 'List_of_Parliamentary_constituencies_in_London': 2.9178110154700843e-07,\n",
       " 'List_of_female_Members_of_the_House_of_Commons_of_the_United_Kingdom': 1.9240214193025355e-07,\n",
       " 'Palatal_harmony': 1.3547286300176441e-07,\n",
       " 'Colpospira_moretonensis': 1.3547286017637085e-07,\n",
       " 'Epigenes_of_Sicyon': 1.3547286017637085e-07,\n",
       " 'Euros_(moth)': 1.3547286524736655e-07,\n",
       " '2005_Puerto_Rican_unicameralism_referendum': 1.3547286135045817e-07,\n",
       " 'Mazraeh-ye_Shah_Taj': 1.3547286095652403e-07,\n",
       " 'Verlag_Freies_Geistesleben_&_Urachhaus': 1.354728620161961e-07,\n",
       " 'John_Johnson_House': 1.3547286017637085e-07,\n",
       " 'Nor_Kyank,_Ararat': 1.3547286416161735e-07,\n",
       " 'Ozols': 1.3547286381304807e-07,\n",
       " 'Wonder_Boy_in_Monster_World': 2.4013176908237573e-07,\n",
       " 'Monster_World_IV': 2.3607106873315755e-07,\n",
       " 'M2_(game_developer)': 5.100670809629001e-07,\n",
       " 'Wonder_Boy_(video_game)': 3.444319537586278e-07,\n",
       " 'Monster_Boy_and_the_Cursed_Kingdom': 3.522616819718075e-07,\n",
       " 'Westone_Bit_Entertainment': 3.0454010554469524e-07,\n",
       " 'Wonder_Boy_III:_Monster_Lair': 3.1629440388827156e-07,\n",
       " 'Wonder_Boy_in_Monster_Land': 3.1343290088316886e-07,\n",
       " 'Wonder_Boy': 6.736624355487268e-07,\n",
       " 'List_of_Sega_Genesis_games': 2.1386084257657172e-07,\n",
       " 'Sega_Ages': 5.068953902590399e-07,\n",
       " 'List_of_Virtual_Console_games_for_Wii_(North_America)': 3.126247834050832e-07,\n",
       " 'Sorina_Tîrcă': 1.3547286370515211e-07,\n",
       " 'Charles_Kraft': 1.3547286027389002e-07,\n",
       " '1918_Eighth_Avenue': 1.3637808879223646e-07,\n",
       " 'List_of_tallest_buildings_in_Seattle': 7.372131075952953e-07,\n",
       " 'Gymnopaxillus': 1.354728614441198e-07,\n",
       " '41st_General_Assembly_of_Prince_Edward_Island': 1.3547286056644744e-07,\n",
       " 'IKV': 1.3547286340873712e-07,\n",
       " 'Randy_Young': 1.3547286253758406e-07,\n",
       " '1968–69_Rangers_F.C._season': 1.3547286915677324e-07,\n",
       " 'HEC-HMS': 1.3547293131067985e-07,\n",
       " 'Alpine_skiing_at_the_2018_Winter_Olympics': 2.5856816883315716e-07,\n",
       " 'Henrik_Kristoffersen': 1.6325168215402222e-07,\n",
       " 'Alpine_skiing_at_the_Winter_Olympics': 1.5970354062416623e-07,\n",
       " 'Marcel_Hirscher': 5.126435727354206e-07,\n",
       " 'FIS_Alpine_Ski_World_Cup': 9.726432609852537e-07,\n",
       " 'Alpine_skiing_at_the_2014_Winter_Olympics': 1.8213611343344457e-07,\n",
       " 'Slalom_skiing': 4.3169730879270093e-07,\n",
       " 'Felix_Neureuther': 3.223784288710786e-07,\n",
       " 'Boorabbin,_Western_Australia': 1.3547286171711936e-07,\n",
       " 'List_of_Jewish_ethnonyms': 2.5180385778255996e-07,\n",
       " 'Jew_(word)': 2.6731163557598164e-07,\n",
       " 'Yehud_(Province)': 5.615503498624006e-07,\n",
       " 'Jew_(disambiguation)': 1.3629441983456372e-07,\n",
       " 'Judah_(son_of_Jacob)': 5.874835234740465e-07,\n",
       " 'Jews': 1.8393535147884967e-06,\n",
       " 'Francis_Reynolds': 1.3547286005929385e-07,\n",
       " 'Francis_Reynolds_(law_professor)': 3.090397442775512e-07,\n",
       " 'Boolcoomatta,_Bindarrah_and_Kalkaroo_Stations_Important_Bird_Area': 1.3547286017637085e-07,\n",
       " 'Kang_Gu-nam': 1.354728610540432e-07,\n",
       " \"Athletics_at_the_2008_Summer_Paralympics_–_Men's_marathon_T52\": 1.3547286115156234e-07,\n",
       " 'Blasto': 1.3547289065287254e-07,\n",
       " 'Tennessee_State_Route_148': 1.354728606639666e-07,\n",
       " 'Jim_Dobbin_(Canadian_football)': 1.354728604689283e-07,\n",
       " 'The_Ref': 2.367522517869907e-07,\n",
       " 'Ron_Bozman': 1.361709632498522e-07,\n",
       " 'Academy_Award_for_Best_Picture': 1.4697438836730313e-06,\n",
       " 'The_Silence_of_the_Lambs_(film)': 1.244884864167989e-06,\n",
       " 'The_Young_Pope': 6.047297745567379e-07,\n",
       " 'Kaşlıca,_Yüreğir': 1.3547286056644744e-07,\n",
       " 'United_Nations_Security_Council_Resolution_63': 1.356449304408986e-07,\n",
       " 'Indonesian_National_Revolution': 1.617658066932468e-06,\n",
       " 'Kurz_government': 3.328856891197486e-07,\n",
       " 'Heinz_Faßmann': 3.120501499415355e-07,\n",
       " 'Ministry_of_Education_(Austria)': 1.4026412087520924e-07,\n",
       " 'Code:_Selfish': 3.0449396263773933e-07,\n",
       " 'The_Infotainment_Scan': 3.1225258716165483e-07,\n",
       " 'The_Fall_discography': 1.7725132854735717e-07,\n",
       " 'The_Fall_(band)': 1.453221967141217e-06,\n",
       " 'Middle_Class_Revolt': 2.863888991568587e-07,\n",
       " 'Lost_in_Music': 1.9105259103390756e-07,\n",
       " 'Year_of_the_Snitch': 4.382075852037968e-07,\n",
       " 'Barnsdall_High_School': 1.354728628132454e-07,\n",
       " 'Mother_with_a_Child_and_a_Chambermaid': 1.3547286017637085e-07,\n",
       " 'Coleophora_halostachydis': 1.3547286037140916e-07,\n",
       " 'Oh_Yeah_(GD_&_TOP_song)': 1.3547286696093376e-07,\n",
       " 'Horace_Bookwalter_Drury': 1.3684473073292663e-07,\n",
       " 'Scientific_management': 1.0882090809284221e-06,\n",
       " 'Enhanced_annuity': 1.354728633761407e-07,\n",
       " 'Atruvera_Aviation': 1.3547286056644744e-07,\n",
       " 'Dexter_Gordon': 1.078727378701378e-06,\n",
       " 'Our_Man_in_Paris': 1.687962146710391e-07,\n",
       " 'One_Flight_Up': 3.6810837225010946e-07,\n",
       " 'Bud_Powell': 6.70674492746773e-07,\n",
       " 'Drug_policy': 2.363362706869386e-07,\n",
       " 'Drug_policy_of_the_United_Kingdom': 1.4440673582345533e-07,\n",
       " 'United_Kingdom': 9.669634070651753e-06,\n",
       " 'Warwickslade_Cutting_Railway': 1.3547286017637085e-07,\n",
       " 'Orphaned_Land': 1.0644303539133072e-06,\n",
       " 'All_Is_One': 2.4859377759570077e-07,\n",
       " 'The_Never_Ending_Way_of_ORWarriOR': 2.0181293306341892e-07,\n",
       " 'Chad_Wiseman': 1.35472864065294e-07,\n",
       " '2019_World_Junior_Ice_Hockey_Championships_rosters': 1.732589938576899e-07,\n",
       " 'HKm_Zvolen': 1.416127174754279e-07,\n",
       " 'Tipsport_liga_(hockey)': 7.065705415908347e-07,\n",
       " 'Roberto_Ivens': 3.090397471835677e-07,\n",
       " 'Ivens': 1.3547287368209454e-07,\n",
       " 'Silet': 1.3547286833657866e-07,\n",
       " 'Llanquihue_River': 1.3547286056644744e-07,\n",
       " '2018_U.S._Figure_Skating_Championships': 3.657172820649196e-07,\n",
       " 'Kevin_Shum': 1.3630652162086026e-07,\n",
       " 'Abe_Wagner': 2.1143952453404126e-07,\n",
       " 'Jon_Madsen': 3.543130156830339e-07,\n",
       " 'The_Ultimate_Fighter:_Heavyweights': 8.093917340842015e-07,\n",
       " 'Brendan_Schaub': 6.620514984129242e-07,\n",
       " 'Gilbert_Yvel': 4.33482840815653e-07,\n",
       " 'Walt_Harris_(fighter)': 5.20052018493326e-07,\n",
       " 'Justin_Wren': 2.3295532589874462e-07,\n",
       " 'UFC_112': 3.189950965339558e-07,\n",
       " 'Mostapha_al-Turk': 3.0838407162741526e-07,\n",
       " 'Mike_Russow': 3.817565126455886e-07,\n",
       " 'South_Dakota_State_University': 4.66325845769471e-07,\n",
       " 'Doland,_South_Dakota': 3.301814077708804e-07,\n",
       " 'Karlos_Vemola': 3.115792584016609e-07,\n",
       " 'Brad_Salmon': 1.3547286192905378e-07,\n",
       " 'Carlota_Sosa': 1.5147548489146491e-07,\n",
       " 'Entre_tu_amor_y_mi_amor': 3.547105011483251e-07,\n",
       " 'Tasmanian_tree_skink': 1.3547286173667722e-07,\n",
       " 'Charles_Michael_Davis': 5.025215626859263e-07,\n",
       " 'The_Client_List_(TV_series)': 4.1789355258902196e-07,\n",
       " 'Alicia_Lagano': 3.1695720157508737e-07,\n",
       " 'Colin_Egglesfield': 6.022833626637191e-07,\n",
       " 'Mimi_Rogers': 1.9155480830848885e-06,\n",
       " 'Ali_Landry': 8.112618246189919e-07,\n",
       " 'Eric_Lively': 5.774884558764512e-07,\n",
       " 'Vanderpump_Rules': 9.861128280120773e-07,\n",
       " 'T.V._Carpio': 4.707020979098859e-07,\n",
       " 'Loretta_Devine': 7.021663684369379e-07,\n",
       " 'Sunny_Mabrey': 4.908698901499287e-07,\n",
       " 'Jennifer_Love_Hewitt': 2.8981708418674694e-06,\n",
       " 'Naturi_Naughton': 3.4179662433327135e-07,\n",
       " 'Johnathon_Schaech': 2.059540462878469e-06,\n",
       " 'Adam_Mayfield': 3.8575013591208575e-07,\n",
       " 'The_Client_List': 1.7938992462187993e-07,\n",
       " 'List_of_programs_broadcast_by_Lifetime': 1.8941363242818706e-07,\n",
       " 'Sex_work': 3.6192908257271076e-07,\n",
       " 'Trevor_Donovan': 3.912644487892631e-07,\n",
       " 'Tammy_Townsend': 3.613107444510512e-07,\n",
       " 'Jon_Prescott': 2.3063125304621262e-07,\n",
       " 'Sugar_Land,_Texas': 1.1213430887068147e-06,\n",
       " 'Bart_Johnson': 2.386238357853654e-07,\n",
       " 'Brian_Hallisay': 4.463975050512863e-07,\n",
       " 'Desi_Lydic': 2.1223563414160347e-07,\n",
       " 'Samuel_Page': 7.65834366546489e-07,\n",
       " 'Cybill_Shepherd': 1.714261654779161e-06,\n",
       " 'Rebecca_Field': 1.679249201668896e-07,\n",
       " 'Greg_Grunberg': 6.355320360841245e-07,\n",
       " 'Betty_White': 1.4461907797156223e-06,\n",
       " 'Ryan_Paevey': 2.4973062796938034e-07,\n",
       " 'Rob_Mayes': 4.2122860532146837e-07,\n",
       " 'Garrett_Clayton': 3.8709129881831075e-07,\n",
       " 'Laura-Leigh': 2.693485965387466e-07,\n",
       " 'Hannah_Marks': 5.165698939285485e-07,\n",
       " 'Paul_Greene_(actor)': 4.764078231511672e-07,\n",
       " 'Yani_Gellman': 3.0360560858320294e-07,\n",
       " 'Papuan_people': 5.043382167164686e-07,\n",
       " 'Haplogroup_C-B477': 1.7306557662796507e-07,\n",
       " 'Indigenous_Australians': 3.6551767634322967e-06,\n",
       " 'Haplogroup_C-F3393': 5.530176185304508e-07,\n",
       " 'Haplogroup_C-M130': 5.449886554769491e-07,\n",
       " 'Thorleif_A._Peterson': 1.3547286193171553e-07,\n",
       " 'Elections_in_South_Sudan': 1.354728664238455e-07,\n",
       " 'Janez_Potočnik': 1.36855935534954e-07,\n",
       " 'Antonio_Tajani': 2.68419114082362e-07,\n",
       " 'Hanjiayuan': 1.354728634920219e-07,\n",
       " 'Swordfishtrombones': 5.345882221412874e-07,\n",
       " 'One_from_the_Heart_(album)': 2.6618893721527876e-07,\n",
       " 'Crystal_Gayle_albums_discography': 3.2394730081683843e-07,\n",
       " 'Tom_Waits': 2.771129901639657e-06,\n",
       " 'One_from_the_Heart': 2.16642421361455e-07,\n",
       " 'Tom_Waits_discography': 1.4878272288304073e-07,\n",
       " '1982_in_music': 3.658833766232443e-07,\n",
       " 'Heartattack_and_Vine': 3.5946750914516757e-07,\n",
       " 'Mesorhizobium_septentrionale': 1.3547287197618776e-07,\n",
       " 'Follow_the_Yellow_Brick_Road_Tour': 3.143608924756235e-07,\n",
       " 'All_the_Hits_Tour_(Elton_John)': 3.1365050220887735e-07,\n",
       " 'Farewell_Yellow_Brick_Road': 4.359633290140984e-07,\n",
       " 'The_Diving_Board_Tour': 4.780617056012877e-07,\n",
       " 'Les_Ormes-sur-Voulzie': 1.3547287334145582e-07,\n",
       " 'Districts_of_Switzerland': 1.959015673775577e-07,\n",
       " 'Arlesheim_District': 1.8007767645352097e-07,\n",
       " 'Canton_of_Basel-Landschaft': 1.1082158246500974e-06,\n",
       " 'Bottmingen': 1.463472561564615e-07,\n",
       " 'Midde_Rama_Rao': 1.3547286266237615e-07,\n",
       " 'Toni_Fisher': 4.3151223369341117e-07,\n",
       " 'The_Big_Hurt_(song)': 2.805669596785791e-07,\n",
       " 'Scott_(album)': 2.1036445374415293e-07,\n",
       " 'Flanging': 8.836396545970911e-07,\n",
       " 'Billboard_Year-End_Hot_100_singles_of_1960': 2.3007090122114046e-07,\n",
       " 'Wayne_Shanklin': 1.9859461319152814e-07,\n",
       " 'Del_Shannon': 1.6806294620350403e-06,\n",
       " 'Cosmostigma': 1.354728604689283e-07,\n",
       " '1997–98_Cypriot_Cup': 1.3547286407713677e-07,\n",
       " 'Peter_Satir': 1.3547286313959507e-07,\n",
       " 'Aristolochia': 7.283233985007198e-07,\n",
       " 'Aristolochia_utriformis': 1.4595065214516783e-07,\n",
       " 'Pacific_Clipper': 1.517676081604212e-07,\n",
       " 'Kanton_Island': 4.38071076348769e-07,\n",
       " 'Boeing_314_Clipper': 2.019874621268345e-06,\n",
       " 'Pan_American_World_Airways': 1.712270844862458e-06,\n",
       " 'Common_ISDN_Application_Programming_Interface': 1.591410949447212e-07,\n",
       " 'CAPI': 1.3547289748867002e-07,\n",
       " '53_BC': 3.703786553966122e-07,\n",
       " '52_BC': 3.0426766011910685e-07,\n",
       " '50_BC': 3.378897510690479e-07,\n",
       " '54_BC': 3.136182777150111e-07,\n",
       " 'Trading_Partner_Identification_Number': 1.3547289150653456e-07,\n",
       " 'Jakub_Novák_(Czech_cyclist)': 1.354728614921464e-07,\n",
       " 'Xavier_University_Bhubaneswar': 1.6196353443138304e-07,\n",
       " 'List_of_institutions_of_higher_education_in_Odisha': 2.733202486608202e-07,\n",
       " 'Xavier_University,_Bhubaneswar': 2.194092645888904e-07,\n",
       " 'Central_Kitsap_School_District': 1.4480089981741777e-07,\n",
       " 'Central_Kitsap_High_School': 2.1702208531233277e-07,\n",
       " 'Silverdale,_Washington': 3.6693192106370423e-07,\n",
       " 'MxPx': 9.352056823125215e-07,\n",
       " \"IFFHS_World's_Best_National_Coach\": 1.3793074305594747e-07,\n",
       " 'Luiz_Felipe_Scolari': 8.330739651028518e-07,\n",
       " 'Marcelo_Bielsa': 9.820329365364252e-07,\n",
       " 'Jorge_Sampaoli': 4.158845351719591e-07,\n",
       " 'Steven_Mnuchin': 7.315937278358924e-07,\n",
       " 'Storks_(film)': 5.913087515255771e-07,\n",
       " 'Sony_Pictures_Imageworks': 4.0056491772073624e-07,\n",
       " 'Stork': 1.1228591221826212e-06,\n",
       " 'Smallfoot_(film)': 7.961986482157539e-07,\n",
       " 'Jordan_Peele': 9.567891385040753e-07,\n",
       " 'Awkwafina': 1.022929835337347e-06,\n",
       " 'Partly_Cloudy': 1.8181737095827517e-07,\n",
       " 'Stork_(film)': 1.7283154280581815e-07,\n",
       " 'List_of_Warner_Bros._films': 1.9494928402086994e-07,\n",
       " 'List_of_animated_feature_films_of_2016': 2.0637418923908756e-07,\n",
       " 'The_Lego_Movie_(franchise)': 3.323552588719313e-07,\n",
       " 'Phil_Lord_and_Christopher_Miller': 6.34643707025248e-07,\n",
       " 'And_She_Was': 1.752270120073658e-07,\n",
       " 'The_Lego_Ninjago_Movie': 4.931245067392034e-07,\n",
       " 'List_of_Warner_Bros._Animation_productions': 2.828971088984536e-07,\n",
       " 'Jason_Derulo_discography': 1.6580057061638828e-07,\n",
       " 'Doug_Sweetland': 1.9073279569642593e-07,\n",
       " 'Warner_Animation_Group': 3.264416275450707e-07,\n",
       " 'Ike_Barinholtz': 5.825515380529644e-07,\n",
       " 'Stork_(disambiguation)': 1.577451440997947e-07,\n",
       " 'Danny_Trejo_filmography': 1.9550026876153491e-07,\n",
       " 'List_of_films_about_animals': 1.3957962815289764e-07,\n",
       " 'Glenn_Ficarra': 1.6049346715423137e-07,\n",
       " 'Kelsey_Grammer': 1.9692580444873148e-06,\n",
       " 'Kiss_the_Sky_(song)': 1.7546486252134753e-07,\n",
       " 'Warner_Bros._Animation': 5.062137991760926e-07,\n",
       " 'Jennifer_Aniston': 1.9945103632197616e-06,\n",
       " 'Ty_Burrell': 1.0099316885223132e-06,\n",
       " 'John_Requa': 1.6022798241574723e-07,\n",
       " 'Jon_Burton': 3.1602498589287577e-07,\n",
       " 'Katie_Crown': 2.677657647562957e-07,\n",
       " 'Brad_Lewis': 1.577694625043057e-07,\n",
       " 'The_Good_Dinosaur': 5.042160677968465e-07,\n",
       " 'Nicholas_Stoller': 3.1735836891170803e-07,\n",
       " 'Mychael_Danna': 3.7811634762579343e-07,\n",
       " 'Neighbors_2:_Sorority_Rising': 3.109606665044395e-07,\n",
       " 'Sully_(film)': 5.808389138575176e-07,\n",
       " 'Keegan-Michael_Key': 8.417453615913276e-07,\n",
       " 'List_of_Warner_Bros._theatrical_animated_features': 1.7510611090859846e-07,\n",
       " 'List_of_computer-animated_films': 2.1857691139166243e-07,\n",
       " 'Computer_animation': 6.287487442498672e-07,\n",
       " 'List_of_Jennifer_Aniston_performances': 2.2492075890967524e-07,\n",
       " 'Stephen_Kramer_Glickman': 2.3605382908890558e-07,\n",
       " 'The_Lego_Movie': 6.728896294623985e-07,\n",
       " 'Jorma_Taccone': 7.894393234504374e-07,\n",
       " 'List_of_animated_works_with_LGBT_characters': 3.314211398377446e-07,\n",
       " 'Andy_Samberg': 1.507068882463871e-06,\n",
       " '2016_in_film': 2.441912856634245e-07,\n",
       " 'The_Magnificent_Seven_(2016_film)': 6.809455134359044e-07,\n",
       " 'Blăjelu_River': 1.3547286017637085e-07,\n",
       " 'GoodTimes_Entertainment': 7.700534712727651e-07,\n",
       " 'Phil_Vischer': 3.488163291420509e-07,\n",
       " '3-2-1_Penguins!': 3.6929084070117056e-07,\n",
       " 'Christian_and_Missionary_Alliance': 7.372226820594678e-07,\n",
       " 'Crown_College_(Minnesota)': 4.4020425350434666e-07,\n",
       " 'VeggieTales': 7.323273260571775e-07,\n",
       " 'Ebenezer_Scrooge': 5.091120176902281e-07,\n",
       " 'Big_Idea_Entertainment': 5.564873692872319e-07,\n",
       " 'List_of_VeggieTales_characters': 5.287571326212998e-07,\n",
       " 'VeggieTales_in_the_City': 3.718197516668411e-07,\n",
       " 'Mike_Nawrocki': 2.7287474452972936e-07,\n",
       " 'VeggieTales_in_the_House': 2.9746835246722415e-07,\n",
       " 'Jonah:_A_VeggieTales_Movie': 1.9500621220551732e-07,\n",
       " 'Silly_Songs_with_Larry': 2.3360599797598865e-07,\n",
       " 'JellyTelly': 1.6272373374571058e-07,\n",
       " 'Larryboy:_The_Cartoon_Adventures': 2.2812146715084167e-07,\n",
       " 'List_of_VeggieTales_videos': 6.442046116120015e-07,\n",
       " 'Cairn_Water': 1.3547286096038158e-07,\n",
       " 'Parliamentary_Jazz_Awards': 1.3547286285355691e-07,\n",
       " 'Province_of_Maryland': 4.455881219121071e-07,\n",
       " 'Chestertown_Tea_Party': 1.376690833655248e-07,\n",
       " 'United_States_Declaration_of_Independence': 2.0112304448622772e-06,\n",
       " 'Werner_Teske': 2.021477213919332e-07,\n",
       " 'Capital_punishment_in_Germany': 1.5731700615077075e-07,\n",
       " 'List_of_most_recent_executions_by_jurisdiction': 9.212839343231515e-07,\n",
       " 'List_of_people_convicted_of_treason': 2.2653387648325425e-07,\n",
       " 'Stasi': 1.6304675745654415e-06,\n",
       " 'Henry_Benbridge': 1.354728821897419e-07,\n",
       " 'Margaret_of_Denmark,_Queen_of_Scotland': 4.3338752631004976e-07,\n",
       " 'John_of_Islay,_Earl_of_Ross': 2.990433686021419e-07,\n",
       " 'Macdonald': 2.1594317577326214e-07,\n",
       " 'Alexander_of_Islay,_Earl_of_Ross': 4.300537540542257e-07,\n",
       " 'John_de_Moravia,_8th_Earl_of_Sutherland': 3.1757042510028426e-07,\n",
       " 'James_IV_of_Scotland': 1.0975374439829051e-06,\n",
       " 'John_of_Islay,_Lord_of_the_Isles': 4.0396200896420916e-07,\n",
       " 'Earl_of_Ross': 4.0541743823344356e-07,\n",
       " 'Domhnall_Dubh': 2.5502786775260965e-07,\n",
       " 'Lord_of_the_Isles': 4.7676771363220153e-07,\n",
       " 'Clan_Donald': 1.810336346954324e-06,\n",
       " 'Skrudzina': 1.3547286027389002e-07,\n",
       " 'Peshawar_Ring_Road': 1.4353132950290878e-07,\n",
       " 'TransPeshawar': 2.2822148804523274e-07,\n",
       " \"Soki_N'Zinga\": 1.354728606639666e-07,\n",
       " 'A7_polytope': 1.354728614441198e-07,\n",
       " 'Gabriela_Ortiz': 1.35472873077097e-07,\n",
       " 'Paraconodontida': 1.418814865480998e-07,\n",
       " 'Conodont': 7.036185510433573e-07,\n",
       " 'Anatoli_Kisurin': 1.3547286037140916e-07,\n",
       " \"Rockin'_thru_the_Rockies\": 1.3614453963838586e-07,\n",
       " 'The_Three_Stooges_filmography': 4.19161896995394e-07,\n",
       " 'Terminalia_eddowesii': 1.354728606639666e-07,\n",
       " 'Virtual_Console': 8.26787732975798e-07,\n",
       " 'Wii_Shop_Channel': 3.788970108022317e-07,\n",
       " 'Nintendo_Wi-Fi_Connection': 6.954095454129895e-07,\n",
       " 'List_of_Wii_games': 3.595012887789472e-07,\n",
       " 'Microsoft_Points': 1.3633444347505456e-07,\n",
       " 'List_of_WiiWare_games': 2.1102058957189824e-07,\n",
       " 'Wii': 1.1637778371626044e-06,\n",
       " 'Software': 2.507480841755845e-06,\n",
       " 'Nintendo_eShop': 3.629185690093396e-07,\n",
       " 'List_of_WiiWare_games_(North_America)': 1.8962106523726068e-07,\n",
       " 'PlayStation_Store': 2.153724108918511e-07,\n",
       " 'Downloadable_content': 8.07394819329188e-07,\n",
       " 'WiiWare': 6.638173717811554e-07,\n",
       " 'Wii_system_software': 2.412283427219615e-07,\n",
       " 'WiiConnect24': 3.5607801413380367e-07,\n",
       " 'Wii_Menu': 3.283206900789034e-07,\n",
       " 'Everybody_Votes_Channel': 2.245051277412884e-07,\n",
       " 'Package_manager': 1.620236238580548e-06,\n",
       " 'Nintendo_Channel': 1.690194150076393e-07,\n",
       " 'Nintendo_DSi': 9.526609406746367e-07,\n",
       " 'Xbox_Games_Store': 4.011982438239006e-07,\n",
       " 'Internet_Channel': 1.719969814300924e-07,\n",
       " 'Digital_distribution_in_video_games': 2.5394725318835065e-07,\n",
       " 'Dolphin_(emulator)': 3.2333438814564213e-07,\n",
       " 'Nintendo_Network': 5.640475953619243e-07,\n",
       " 'NBA_All-Star_Game_records': 1.5468272731880134e-07,\n",
       " 'Los_Angeles_Lakers_accomplishments_and_records': 1.3981407156237313e-07,\n",
       " 'Los_Angeles_Lakers': 2.753429116371875e-06,\n",
       " '1988_Hyderabad_massacre': 1.4656872589792735e-07,\n",
       " 'Timeline_of_Pakistani_history': 2.2442939080123127e-07,\n",
       " 'Hyderabad,_Sindh': 9.415564545465777e-07,\n",
       " 'USS_Lydonia_(SP-700)': 1.3547286527197775e-07,\n",
       " 'House_of_Lorraine': 1.230679020124807e-06,\n",
       " 'Charles_IV,_Duke_of_Lorraine': 3.615268065672865e-07,\n",
       " 'Isabelle_de_Ludres': 1.3722566403628995e-07,\n",
       " 'Francis_II,_Duke_of_Lorraine': 3.1908312063599946e-07,\n",
       " 'Nicole,_Duchess_of_Lorraine': 2.3628938649321003e-07,\n",
       " 'Charles_III,_Duke_of_Lorraine': 3.435984587499092e-07,\n",
       " 'List_of_rulers_of_Lorraine': 7.742028567778463e-07,\n",
       " 'Christina_of_Salm': 1.647968629467146e-07,\n",
       " 'Henry_II,_Duke_of_Lorraine': 2.5334621810803997e-07,\n",
       " 'Nicholas_Francis,_Duke_of_Lorraine': 2.952682246603838e-07,\n",
       " 'Charles_Henri,_Prince_of_Commercy': 1.8928266921776251e-07,\n",
       " 'Charles_V,_Duke_of_Lorraine': 2.758374104990685e-07,\n",
       " 'Federal_Road_Agency_(Russia)': 1.7404330173429815e-07,\n",
       " 'Ministry_of_Transport_(Russia)': 2.1263141246552413e-07,\n",
       " 'Florin_Piersic': 1.416279051291476e-07,\n",
       " 'Ciulinii_Bărăganului': 1.528295518604165e-07,\n",
       " 'Wattleup,_Western_Australia': 1.3547288622416994e-07,\n",
       " 'KSKO': 1.3547286482855108e-07,\n",
       " 'Kadin_Jelovac': 1.3547286017637085e-07,\n",
       " 'BiCon': 1.354728618757037e-07,\n",
       " 'SNCB_Class_50': 1.4003041507419687e-07,\n",
       " 'List_of_SNCB/NMBS_classes': 2.400384216302251e-07,\n",
       " 'Cleopatra_(1963_soundtrack)': 1.3601449595477484e-07,\n",
       " 'Cleopatra_(1963_film)': 4.500288819190007e-07,\n",
       " 'Linde_Ivimey': 1.3547286207074198e-07,\n",
       " 'Yoga_(disambiguation)': 1.4379419659523607e-07,\n",
       " 'Yoga_(Janelle_Monáe_and_Jidenna_song)': 1.6838468841201087e-07,\n",
       " 'Tessa_Thompson': 1.1480559416943157e-06,\n",
       " 'Wondaland_Presents:_The_Eephus': 3.685701867464949e-07,\n",
       " 'Classic_Man': 1.9765900527884116e-07,\n",
       " 'Jidenna': 7.938066311221542e-07,\n",
       " '1980_LPGA_Championship': 1.3547286056644744e-07,\n",
       " 'Iyeza': 1.6110441160714416e-07,\n",
       " 'Anatii': 6.441841595832433e-07,\n",
       " 'Dulaglutide': 1.6060004935449e-07,\n",
       " 'Metformin': 7.31305354917605e-07,\n",
       " 'Polycystic_ovary_syndrome': 1.6440942186332605e-06,\n",
       " 'Ramipril': 1.685360047546265e-07,\n",
       " 'Gestational_diabetes': 4.1232545942168797e-07,\n",
       " 'Thiazolidinedione': 5.554139731861704e-07,\n",
       " 'Ageing': 1.7658863759810002e-06,\n",
       " 'Levothyroxine': 6.297667340984202e-07,\n",
       " 'History_of_diabetes': 1.5426708554981497e-07,\n",
       " 'Anti-diabetic_medication': 4.893515621261606e-07,\n",
       " 'Glipizide': 1.8557112467894721e-07,\n",
       " 'Rosuvastatin': 2.968668793376363e-07,\n",
       " 'Pancreatitis': 1.5467522844319265e-06,\n",
       " 'Tolbutamide': 1.7563981844533843e-07,\n",
       " 'Glycerol-3-phosphate_dehydrogenase': 3.462050131590457e-07,\n",
       " 'Pancreas': 1.5914631749321872e-06,\n",
       " 'Atorvastatin': 9.862595177731355e-07,\n",
       " 'Cori_cycle': 5.497623013958659e-07,\n",
       " 'Empagliflozin': 3.266377478636902e-07,\n",
       " 'Gliflozin': 4.88654764986528e-07,\n",
       " 'Bromocriptine': 4.4382550889493815e-07,\n",
       " 'Canagliflozin': 2.464611552955469e-07,\n",
       " 'Cefalexin': 3.2985785414438356e-07,\n",
       " 'Anti-obesity_medication': 5.167408115267752e-07,\n",
       " 'Dipeptidyl_peptidase-4_inhibitor': 1.3045448449057217e-06,\n",
       " 'Bristol-Myers_Squibb': 9.578456340097274e-07,\n",
       " 'Lisinopril': 4.28294803096497e-07,\n",
       " 'Dapagliflozin': 2.414947744592778e-07,\n",
       " 'Advanced_glycation_end-product': 9.13329699448926e-07,\n",
       " 'Sulfonylurea': 1.2891386406947704e-06,\n",
       " 'Diabetes_mellitus': 2.996719554337305e-06,\n",
       " 'Sitagliptin': 4.0752559680821254e-07,\n",
       " 'Metabolic_acidosis': 9.454613754675744e-07,\n",
       " 'Gliclazide': 2.0537702403343036e-07,\n",
       " 'Hyperglycemia': 9.71227191904578e-07,\n",
       " 'Phenformin': 1.5854272054167443e-07,\n",
       " 'Rosiglitazone': 2.361824185125602e-07,\n",
       " 'Glibenclamide': 4.40166880916391e-07,\n",
       " 'Diabetes_mellitus_type_2': 1.4772178278263547e-06,\n",
       " 'Blood_sugar_level': 5.769276890483612e-07,\n",
       " 'Insulin_resistance': 8.55084950660116e-07,\n",
       " 'Infertility': 8.924067273891605e-07,\n",
       " 'Prediabetes': 3.358973037270665e-07,\n",
       " 'Acarbose': 2.819091152013886e-07,\n",
       " 'Sitagliptin/metformin': 1.3948371352919595e-07,\n",
       " 'Uveitis': 1.1648934260498747e-06,\n",
       " 'Non-alcoholic_fatty_liver_disease': 5.377970272435939e-07,\n",
       " 'Bausch_Health': 1.4487946586362885e-06,\n",
       " 'Hyperinsulinemia': 1.4629290476023242e-07,\n",
       " 'Folate_deficiency': 3.5331362677075583e-07,\n",
       " 'Merck_Group': 1.7936188768290953e-06,\n",
       " 'Reperfusion_injury': 8.727596471243334e-07,\n",
       " 'Lichen_planus': 1.9669854606270714e-06,\n",
       " 'High_anion_gap_metabolic_acidosis': 3.062185217974862e-07,\n",
       " 'Exenatide': 3.033997884654309e-07,\n",
       " 'Geroprotector': 2.714984226754683e-07,\n",
       " 'Hirsutism': 9.675310929315973e-07,\n",
       " 'Metoprolol': 2.4302326181159313e-07,\n",
       " 'Vildagliptin': 3.971376349697898e-07,\n",
       " 'Merck_Serono': 2.573007323766849e-07,\n",
       " 'WHO_Model_List_of_Essential_Medicines': 2.192476775824619e-06,\n",
       " 'Vitamin_B12': 1.5904645256234607e-06,\n",
       " 'Biguanide': 4.3742751399662717e-07,\n",
       " 'Syrosingopine': 1.3547344629159087e-07,\n",
       " 'Glimepiride': 2.2187341428390036e-07,\n",
       " 'Mechanism_of_action': 3.85491618184953e-07,\n",
       " 'Galega_officinalis': 6.130013387192427e-07,\n",
       " 'Repaglinide': 2.2921163121378785e-07,\n",
       " 'Chlorpropamide': 1.8978461935875447e-07,\n",
       " 'Vitamin_B12_deficiency': 4.3421896148237274e-07,\n",
       " 'Gluconeogenesis': 9.226866168795482e-07,\n",
       " 'Sirolimus': 9.425371909473373e-07,\n",
       " 'Pioglitazone': 7.071444632620496e-07,\n",
       " 'Theodor_Morell': 5.206178714487137e-07,\n",
       " 'Lactic_acidosis': 5.063897467491511e-07,\n",
       " 'Life_extension': 8.248915755191345e-07,\n",
       " 'Tamizhi_(web_series)': 1.3577173303757252e-07,\n",
       " 'Hiphop_Tamizha': 6.896573544908622e-07,\n",
       " 'Locomotives_of_New_Zealand': 3.4156752904552166e-07,\n",
       " 'NZR_AB_class': 1.3894423439021744e-07,\n",
       " 'Achaemenid_Empire': 3.630385705449666e-06,\n",
       " 'Sand_table': 1.4380575911923612e-07,\n",
       " 'Abacus': 8.430223455973094e-07,\n",
       " 'Military_exercise': 5.811961851258114e-07,\n",
       " 'Officer_Candidate_School_(United_States_Army)': 2.659722695100408e-07,\n",
       " 'Operation_Tidal_Wave': 9.931755494655615e-07,\n",
       " 'Ambedkar_National_Congress': 1.3944768343087942e-07,\n",
       " 'Alair_(Assembly_constituency)': 2.483674917433955e-07,\n",
       " 'Arrondissements_of_the_Landes_department': 1.4307006456145792e-07,\n",
       " 'Landes_(department)': 4.470093029968183e-07,\n",
       " 'Brazilian_Carnival': 2.199742871751538e-07,\n",
       " 'Carnival_block': 1.393360649381274e-07,\n",
       " 'Rio_Carnival': 2.0678676881742662e-07,\n",
       " 'Sam_Gagner': 4.4262249821136626e-07,\n",
       " \"Dartmouth_Big_Green_women's_ice_hockey\": 1.7827568846472172e-07,\n",
       " 'Amanda_Trunzo': 1.5180203167232608e-07,\n",
       " 'Trepča,_Sisak-Moslavina_County': 1.354728625168304e-07,\n",
       " 'Aldington_Frith': 1.3547286037140916e-07,\n",
       " 'Hammond_Township,_Polk_County,_Minnesota': 1.3547286193171553e-07,\n",
       " 'Carl_von_Clausewitz': 1.0945072079350713e-06,\n",
       " 'Absolute_war': 1.979505801185626e-07,\n",
       " 'Mutual_assured_destruction': 9.170214409681968e-07,\n",
       " 'Total_war': 1.0332801633333327e-06,\n",
       " 'Philosophy_of_war': 1.7153743397476628e-07,\n",
       " 'Occultism_in_Nazism': 1.5679559320932629e-06,\n",
       " 'All_Out_War': 1.354728688876312e-07,\n",
       " 'On_War': 5.117497739666566e-07,\n",
       " 'Bullfighting': 1.2893913249846552e-06,\n",
       " 'Ordóñez_(bullfighter_family)': 1.5274956543351758e-07,\n",
       " 'Paquirri': 1.9777713564597144e-07,\n",
       " 'King_Electric': 1.3547286178084628e-07,\n",
       " 'Quebec_Route_219': 1.3547287392657072e-07,\n",
       " 'Highlander:_The_Series': 9.036299515920303e-07,\n",
       " 'Highlander': 3.4110368433170766e-07,\n",
       " 'Highlander_(film)': 8.423434133419151e-07,\n",
       " 'The_Highlanders': 1.3547286611558773e-07,\n",
       " 'Honda_Pilot': 3.593682201696677e-07,\n",
       " 'Munteanu': 1.3547289099978706e-07,\n",
       " 'Highlander_(franchise)': 6.308766263482961e-07,\n",
       " 'Outlander_(TV_series)': 1.8477336996166246e-06,\n",
       " 'Highland': 3.18393725778339e-07,\n",
       " 'William_Mitchell_(Burnley_MP)': 1.3547286076148575e-07,\n",
       " 'Quaboag_Plantation': 1.89471447000492e-07,\n",
       " 'North_Brookfield,_Massachusetts': 1.9556988969668202e-07,\n",
       " 'Three_Brothers,_Lancashire': 1.3547286134660062e-07,\n",
       " 'Man_with_the_Steel_Whip': 1.354728634920219e-07,\n",
       " 'The_Royal_Ballet': 1.634601756327042e-06,\n",
       " 'Liam_Scarlett': 1.4349511760486348e-07,\n",
       " 'Leanne_Cope': 1.706339846351355e-07,\n",
       " 'Confitería_El_Molino': 1.354728814287557e-07,\n",
       " 'United_States_Football_League': 1.5863850746473818e-06,\n",
       " 'Jim_Smith_(American_football)': 1.564727134169257e-07,\n",
       " 'Birmingham_Stallions': 2.4544254073374066e-07,\n",
       " 'Robbins,_Illinois': 2.211741588210801e-07,\n",
       " '1978_Pittsburgh_Steelers_season': 3.002212104028688e-07,\n",
       " '1979_Pittsburgh_Steelers_season': 2.503583477123355e-07,\n",
       " 'Bargosa': 1.3547286017637085e-07,\n",
       " 'Equinox_Publishing_(Sheffield)': 1.3639792469222054e-07,\n",
       " 'Citizen_journalism': 7.27219248705864e-07,\n",
       " 'List_of_American_Horror_Story_cast_members': 2.022065663665056e-07,\n",
       " 'Ryan_Murphy_(writer)': 6.425313594585718e-07,\n",
       " 'Checking_In_(American_Horror_Story)': 2.1544025402508707e-07,\n",
       " 'Olivia_de_Havilland': 2.689853817707484e-06,\n",
       " 'Patrick_Wilson_(American_actor)': 1.6844485066364886e-06,\n",
       " 'Puck_(Glee)': 2.424661437664986e-07,\n",
       " 'The_Town_That_Dreaded_Sundown_(2014_film)': 2.8431566259235516e-07,\n",
       " 'Dylan_Walsh': 6.841910431368634e-07,\n",
       " 'Darren_Criss': 1.2575446521155728e-06,\n",
       " 'Carver_(Nip/Tuck)': 3.3727776678414404e-07,\n",
       " 'Robert_Richardson_(cinematographer)': 3.560029446172856e-07,\n",
       " 'Cory_Monteith': 8.982753060258488e-07,\n",
       " 'Tatiana_Maslany': 1.6499579642376794e-06,\n",
       " 'Taylor_Lautner': 8.043252518865293e-07,\n",
       " 'Death_of_Elisa_Lam': 3.9844285689941124e-07,\n",
       " 'Jake_Zyrus': 1.7034443736771541e-06,\n",
       " 'American_Horror_Story:_Murder_House': 4.446870422593389e-07,\n",
       " 'Primetime_Emmy_Award_for_Outstanding_Limited_Series': 1.8662361809758106e-07,\n",
       " 'Indiana_University': 1.0131395469137444e-06,\n",
       " 'Chris_Colfer': 7.749483908696117e-07,\n",
       " 'Nina_Jacobson': 1.8942410818450216e-07,\n",
       " 'List_of_American_Horror_Story_episodes': 2.331782469363146e-07,\n",
       " 'American_Horror_Story:_Freak_Show': 4.4733524174199904e-07,\n",
       " 'List_of_Scream_Queens_(2015_TV_series)_episodes': 3.433545048756032e-07,\n",
       " 'Running_with_Scissors_(film)': 2.826019459691081e-07,\n",
       " 'Willam_Belli': 9.484485379761645e-07,\n",
       " 'Pretty/Handsome': 1.525268693653389e-07,\n",
       " 'American_Horror_Story:_Asylum': 3.1603206425434555e-07,\n",
       " 'List_of_same-sex_married_couples': 1.5983833214377002e-07,\n",
       " 'Sam_Taylor-Johnson': 6.405371158529156e-07,\n",
       " 'Julia_Roberts_filmography': 1.6030529493149104e-07,\n",
       " 'Feud_(TV_series)': 7.289988694290969e-07,\n",
       " 'Mj_Rodriguez': 2.1126378233853806e-07,\n",
       " 'Lea_Michele': 1.2471326667531707e-06,\n",
       " 'Indya_Moore': 2.1417596528015618e-07,\n",
       " 'American_Crime_Story': 5.662237946486822e-07,\n",
       " 'Dot_Jones': 4.974268658263411e-07,\n",
       " 'Matt_Bomer': 1.1484619423244821e-06,\n",
       " 'American_Horror_Story:_Apocalypse': 6.980271636807935e-07,\n",
       " 'Rebecca_Black': 1.2987091673163658e-06,\n",
       " 'List_of_gay,_lesbian_or_bisexual_people:_M': 2.1448929568771674e-07,\n",
       " 'Pilot_(American_Horror_Story)': 1.5097842140786768e-07,\n",
       " 'Warren_Central_High_School_(Indiana)': 3.698186506011241e-07,\n",
       " 'List_of_Glee_episodes': 2.0411964668538506e-07,\n",
       " 'The_New_Normal_(TV_series)': 4.041820721420998e-07,\n",
       " 'Santana_Lopez': 2.52444046922102e-07,\n",
       " 'American_Horror_Story:_Cult': 3.583175960935669e-07,\n",
       " 'Plan_B_Entertainment': 5.430479364592999e-07,\n",
       " 'Will_Schuester': 2.0686713878786766e-07,\n",
       " 'Blaine_Anderson': 2.450913733093532e-07,\n",
       " 'Eat,_Pray,_Love': 2.412533758064645e-07,\n",
       " 'List_of_people_from_Indiana': 1.4117725601533677e-07,\n",
       " 'Christian_Troy': 3.0154806713788095e-07,\n",
       " 'Proposed_acquisition_of_21st_Century_Fox_by_Disney': 3.799961739211225e-07,\n",
       " 'Kimber_Henry': 2.53955954707868e-07,\n",
       " '70th_Primetime_Emmy_Awards': 8.830321943872806e-07,\n",
       " 'The_Normal_Heart_(film)': 3.623227394053949e-07,\n",
       " 'Sue_Sylvester': 2.0747524173027589e-07,\n",
       " 'Scream_Queens_(2015_TV_series)': 6.671926760576504e-07,\n",
       " '9-1-1_(TV_series)': 8.346809563838332e-07,\n",
       " 'Executive_producer': 8.167046557676266e-07,\n",
       " 'The_End_(American_Horror_Story)': 2.8741929976619457e-07,\n",
       " 'Ratched_(TV_series)': 2.049662756177283e-07,\n",
       " 'American_Horror_Story:_Hotel': 5.962224920394162e-07,\n",
       " 'Augusten_Burroughs': 9.51235742916102e-07,\n",
       " 'Bradley_Buecker': 1.4668871791934902e-07,\n",
       " 'Apocalypse_Then': 2.5532184523916617e-07,\n",
       " 'Melissa_Benoist': 1.0378329412322293e-06,\n",
       " 'The_Perks_of_Being_a_Wallflower_(film)': 5.814716454179606e-07,\n",
       " 'The_Next_Best_Thing': 2.499220978421261e-07,\n",
       " 'Jessica_Lange': 1.8425158351826678e-06,\n",
       " 'Nurse_Ratched': 3.14126357467767e-07,\n",
       " 'Jamie_Brewer': 2.7625736610079956e-07,\n",
       " 'Ian_Brennan_(writer)': 1.9154487187590872e-07,\n",
       " 'Provincetown,_Massachusetts': 5.912159212273396e-07,\n",
       " 'Finn_Hudson': 2.993135535490974e-07,\n",
       " 'Rachel_Berry': 2.476782372026834e-07,\n",
       " 'Matt_McNamara': 3.333837287821128e-07,\n",
       " 'List_of_people_from_Indianapolis': 1.442726388579102e-07,\n",
       " 'NeNe_Leakes': 3.160566569442415e-07,\n",
       " 'FX_(TV_channel)': 5.894190305734083e-07,\n",
       " 'American_Horror_Story': 1.3114847384388056e-06,\n",
       " 'The_People_v._O._J._Simpson:_American_Crime_Story': 4.601746755249145e-07,\n",
       " 'List_of_Indiana_University_(Bloomington)_people': 1.661687107510274e-07,\n",
       " 'Daniel_Moder': 1.8400483809298038e-07,\n",
       " 'American_Horror_Story:_Coven': 3.738217582070425e-07,\n",
       " 'Jennifer_Morrison': 1.2809528451926374e-06,\n",
       " 'Kurt_Hummel': 2.5014859985379407e-07,\n",
       " 'Popular_(TV_series)': 8.181506092634363e-07,\n",
       " 'Shahs_of_Sunset': 2.722732098191758e-07,\n",
       " 'List_of_stars_on_the_Hollywood_Walk_of_Fame': 2.2075683397108513e-07,\n",
       " 'Ryan_Murphy': 1.3564484284267933e-07,\n",
       " 'Lina_Esco': 3.278184430146709e-07,\n",
       " 'Javier_Bardem': 1.3181011623745005e-06,\n",
       " 'Grant_Gustin': 5.111630139684765e-07,\n",
       " 'American_Horror_Story:_Roanoke': 4.239127538234732e-07,\n",
       " 'Quinn_Fabray': 2.6991983204331774e-07,\n",
       " 'Emma_Roberts': 1.8036517880578164e-06,\n",
       " 'The_Assassination_of_Gianni_Versace:_American_Crime_Story': 7.550795057434094e-07,\n",
       " 'Peter_Krause': 7.253429734714009e-07,\n",
       " 'Huguette_Clark': 8.72047873729034e-07,\n",
       " 'List_of_Nip/Tuck_episodes': 2.373651866069093e-07,\n",
       " 'The_Glee_Project': 5.419862252575215e-07,\n",
       " 'Billie_Lourd': 5.961445485176677e-07,\n",
       " 'Pose_(TV_series)': 1.2651706601284761e-06,\n",
       " 'List_of_Blumhouse_Productions_projects': 2.3151396566332963e-07,\n",
       " 'Nip/Tuck': 1.0101293850605494e-06,\n",
       " 'The_Quarterback_(Glee)': 4.6329763982422435e-07,\n",
       " 'Eat_Pray_Love': 3.0674444682989714e-07,\n",
       " 'Jenna_Ushkowitz': 4.2487223360934663e-07,\n",
       " 'The_Politician_(TV_series)': 4.5547275122810435e-07,\n",
       " 'Brad_Falchuk': 3.166586811682407e-07,\n",
       " 'Leslie_Grossman': 3.774910850661976e-07,\n",
       " 'Lily_Rabe': 8.615149140675274e-07,\n",
       " 'List_of_awards_and_nominations_received_by_Glee': 1.3812061421981296e-07,\n",
       " 'Glee_(TV_series)': 1.7594101960425329e-06,\n",
       " 'Frances_Conroy': 9.882051403968702e-07,\n",
       " 'Sigifredo_López': 1.354728619693653e-07,\n",
       " '2009_NBA_draft': 7.295644187202813e-07,\n",
       " ...}"
      ]
     },
     "execution_count": 58,
     "metadata": {},
     "output_type": "execute_result"
    }
   ],
   "source": [
    "pr"
   ]
  },
  {
   "cell_type": "code",
   "execution_count": 63,
   "metadata": {},
   "outputs": [
    {
     "name": "stdout",
     "output_type": "stream",
     "text": [
      "Runtime: 43.7223660145999 min\n",
      "\n"
     ]
    }
   ],
   "source": [
    "start_time = timer()\n",
    "pr2 = nx.pagerank_scipy(clickstream, alpha=0.9, weight = 'traffic')\n",
    "end_time = timer()\n",
    "print (\"Runtime:\", (end_time - start_time)/60, \"min\\n\")"
   ]
  },
  {
   "cell_type": "code",
   "execution_count": null,
   "metadata": {},
   "outputs": [],
   "source": []
  },
  {
   "cell_type": "code",
   "execution_count": null,
   "metadata": {},
   "outputs": [],
   "source": []
  }
 ],
 "metadata": {
  "kernelspec": {
   "display_name": "Python 3",
   "language": "python",
   "name": "python3"
  },
  "language_info": {
   "codemirror_mode": {
    "name": "ipython",
    "version": 3
   },
   "file_extension": ".py",
   "mimetype": "text/x-python",
   "name": "python",
   "nbconvert_exporter": "python",
   "pygments_lexer": "ipython3",
   "version": "3.7.2"
  }
 },
 "nbformat": 4,
 "nbformat_minor": 2
}
