{
 "cells": [
  {
   "cell_type": "code",
   "execution_count": 1,
   "metadata": {
    "collapsed": true
   },
   "outputs": [],
   "source": [
    "import pandas as pd\n",
    "import numpy as np\n",
    "\n",
    "import os\n",
    "\n",
    "import  csv\n",
    "\n",
    "from time import sleep\n",
    "from timeit import default_timer as timer\n",
    "\n",
    "# custom general helper functions for this project\n",
    "import custom_utils as cu\n",
    "import importlib"
   ]
  },
  {
   "cell_type": "code",
   "execution_count": 2,
   "metadata": {
    "collapsed": true
   },
   "outputs": [],
   "source": [
    "# reload imports as needed\n",
    "importlib.reload(cu);"
   ]
  },
  {
   "cell_type": "code",
   "execution_count": 3,
   "metadata": {
    "collapsed": true
   },
   "outputs": [],
   "source": [
    "# set up Pandas options\n",
    "pd.set_option('display.max_columns', 25)\n",
    "pd.set_option('display.max_rows', 100)\n",
    "pd.set_option('display.precision', 3)\n",
    "pd.options.display.float_format = '{:.2f}'.format"
   ]
  },
  {
   "cell_type": "code",
   "execution_count": null,
   "metadata": {
    "collapsed": true
   },
   "outputs": [],
   "source": []
  },
  {
   "cell_type": "code",
   "execution_count": null,
   "metadata": {
    "collapsed": true
   },
   "outputs": [],
   "source": []
  },
  {
   "cell_type": "code",
   "execution_count": 4,
   "metadata": {
    "collapsed": true
   },
   "outputs": [],
   "source": [
    "from py2neo import authenticate, Graph, Node, Relationship"
   ]
  },
  {
   "cell_type": "code",
   "execution_count": 5,
   "metadata": {
    "collapsed": true
   },
   "outputs": [],
   "source": [
    "# To avoid typing neo4j password into the notebook each time,\n",
    "# I'm saving it in a separate file and reading it in with the helper function below.\n",
    "def read_n4jpass():\n",
    "    \"\"\"Reads neo4j connection credentials from .n4jpass file in current folder.\n",
    "    Expects one value per line, ignores comments, e.g.:\n",
    "    # comments here\n",
    "    user=neo4j\n",
    "    password=secretStuff123\n",
    "    \"\"\"\n",
    "    \n",
    "    cur_folder = os.getcwd()\n",
    "    \n",
    "    with open(cur_folder + '/.n4jpass', 'r') as f:\n",
    "        lines = f.readlines()\n",
    "\n",
    "    d = {}\n",
    "    for l in lines:\n",
    "        if l.strip() and (l[0] != '#'):\n",
    "            k, v = l.strip().split('=')\n",
    "            d[k] = v\n",
    "\n",
    "    return d"
   ]
  },
  {
   "cell_type": "code",
   "execution_count": 6,
   "metadata": {
    "collapsed": true
   },
   "outputs": [],
   "source": [
    "n4j_cred = read_n4jpass()"
   ]
  },
  {
   "cell_type": "code",
   "execution_count": 7,
   "metadata": {
    "collapsed": true
   },
   "outputs": [],
   "source": [
    "# set up authentication parameters\n",
    "authenticate(\"localhost:7474\", n4j_cred[\"user\"], n4j_cred[\"password\"])"
   ]
  },
  {
   "cell_type": "code",
   "execution_count": 8,
   "metadata": {
    "collapsed": true
   },
   "outputs": [],
   "source": [
    "# connect to authenticated graph database\n",
    "graph = Graph(\"http://localhost:7474/db/data/\")"
   ]
  },
  {
   "cell_type": "code",
   "execution_count": 9,
   "metadata": {
    "collapsed": false
   },
   "outputs": [
    {
     "data": {
      "text/html": [
       "<div>\n",
       "<table border=\"1\" class=\"dataframe\">\n",
       "  <thead>\n",
       "    <tr style=\"text-align: right;\">\n",
       "      <th></th>\n",
       "      <th>description</th>\n",
       "      <th>failureMessage</th>\n",
       "      <th>id</th>\n",
       "      <th>indexName</th>\n",
       "      <th>progress</th>\n",
       "      <th>properties</th>\n",
       "      <th>provider</th>\n",
       "      <th>state</th>\n",
       "      <th>tokenNames</th>\n",
       "      <th>type</th>\n",
       "    </tr>\n",
       "  </thead>\n",
       "  <tbody>\n",
       "    <tr>\n",
       "      <th>0</th>\n",
       "      <td>INDEX ON :Article(title)</td>\n",
       "      <td></td>\n",
       "      <td>1</td>\n",
       "      <td>index_1</td>\n",
       "      <td>100.00</td>\n",
       "      <td>[title]</td>\n",
       "      <td>{'version': '1.0', 'key': 'native-btree'}</td>\n",
       "      <td>ONLINE</td>\n",
       "      <td>[Article]</td>\n",
       "      <td>node_unique_property</td>\n",
       "    </tr>\n",
       "  </tbody>\n",
       "</table>\n",
       "</div>"
      ],
      "text/plain": [
       "                description failureMessage  id indexName  progress properties  \\\n",
       "0  INDEX ON :Article(title)                  1   index_1    100.00    [title]   \n",
       "\n",
       "                                    provider   state tokenNames  \\\n",
       "0  {'version': '1.0', 'key': 'native-btree'}  ONLINE  [Article]   \n",
       "\n",
       "                   type  \n",
       "0  node_unique_property  "
      ]
     },
     "execution_count": 9,
     "metadata": {},
     "output_type": "execute_result"
    }
   ],
   "source": [
    "# test query\n",
    "r = graph.data('CALL db.indexes;')\n",
    "pd.DataFrame(r)"
   ]
  },
  {
   "cell_type": "code",
   "execution_count": null,
   "metadata": {
    "collapsed": true
   },
   "outputs": [],
   "source": []
  },
  {
   "cell_type": "code",
   "execution_count": null,
   "metadata": {
    "collapsed": true
   },
   "outputs": [],
   "source": []
  },
  {
   "cell_type": "code",
   "execution_count": null,
   "metadata": {
    "collapsed": true
   },
   "outputs": [],
   "source": []
  },
  {
   "cell_type": "markdown",
   "metadata": {},
   "source": [
    "### Network descriptive statistics"
   ]
  },
  {
   "cell_type": "code",
   "execution_count": null,
   "metadata": {
    "collapsed": true
   },
   "outputs": [],
   "source": [
    "# number of nodes (cypher query)\n",
    "match (a:Article)\n",
    " return count(a)\n",
    "# output: 5185699"
   ]
  },
  {
   "cell_type": "code",
   "execution_count": 10,
   "metadata": {
    "collapsed": false
   },
   "outputs": [
    {
     "data": {
      "text/html": [
       "<div>\n",
       "<table border=\"1\" class=\"dataframe\">\n",
       "  <thead>\n",
       "    <tr style=\"text-align: right;\">\n",
       "      <th></th>\n",
       "      <th>count(a)</th>\n",
       "    </tr>\n",
       "  </thead>\n",
       "  <tbody>\n",
       "    <tr>\n",
       "      <th>0</th>\n",
       "      <td>5185699</td>\n",
       "    </tr>\n",
       "  </tbody>\n",
       "</table>\n",
       "</div>"
      ],
      "text/plain": [
       "   count(a)\n",
       "0   5185699"
      ]
     },
     "execution_count": 10,
     "metadata": {},
     "output_type": "execute_result"
    }
   ],
   "source": [
    "q = \"\"\"\n",
    "    match (a:Article)\n",
    "    return count(a);\n",
    " \"\"\"\n",
    "r = graph.data(q)\n",
    "pd.DataFrame(r)"
   ]
  },
  {
   "cell_type": "code",
   "execution_count": 12,
   "metadata": {
    "collapsed": false
   },
   "outputs": [
    {
     "data": {
      "text/html": [
       "<div>\n",
       "<table border=\"1\" class=\"dataframe\">\n",
       "  <thead>\n",
       "    <tr style=\"text-align: right;\">\n",
       "      <th></th>\n",
       "      <th>count(r)</th>\n",
       "    </tr>\n",
       "  </thead>\n",
       "  <tbody>\n",
       "    <tr>\n",
       "      <th>0</th>\n",
       "      <td>18361180</td>\n",
       "    </tr>\n",
       "  </tbody>\n",
       "</table>\n",
       "</div>"
      ],
      "text/plain": [
       "   count(r)\n",
       "0  18361180"
      ]
     },
     "execution_count": 12,
     "metadata": {},
     "output_type": "execute_result"
    }
   ],
   "source": [
    "# number of directional edges\n",
    "q = \"\"\"\n",
    "    match ()-[r]->()\n",
    "    return count(r);\n",
    " \"\"\"\n",
    "r = graph.data(q)\n",
    "pd.DataFrame(r)"
   ]
  },
  {
   "cell_type": "code",
   "execution_count": 18,
   "metadata": {
    "collapsed": false
   },
   "outputs": [
    {
     "data": {
      "text/html": [
       "<div>\n",
       "<table border=\"1\" class=\"dataframe\">\n",
       "  <thead>\n",
       "    <tr style=\"text-align: right;\">\n",
       "      <th></th>\n",
       "      <th>sum(r.traffic)</th>\n",
       "    </tr>\n",
       "  </thead>\n",
       "  <tbody>\n",
       "    <tr>\n",
       "      <th>0</th>\n",
       "      <td>1737027807</td>\n",
       "    </tr>\n",
       "  </tbody>\n",
       "</table>\n",
       "</div>"
      ],
      "text/plain": [
       "   sum(r.traffic)\n",
       "0      1737027807"
      ]
     },
     "execution_count": 18,
     "metadata": {},
     "output_type": "execute_result"
    }
   ],
   "source": [
    "# total traffic volume in the graph\n",
    "q = \"\"\"\n",
    "    match ()-[r]->()\n",
    "    return sum(r.traffic);\n",
    " \"\"\"\n",
    "r = graph.data(q)\n",
    "pd.DataFrame(r)"
   ]
  },
  {
   "cell_type": "code",
   "execution_count": 13,
   "metadata": {
    "collapsed": false
   },
   "outputs": [
    {
     "data": {
      "text/html": [
       "<div>\n",
       "<table border=\"1\" class=\"dataframe\">\n",
       "  <thead>\n",
       "    <tr style=\"text-align: right;\">\n",
       "      <th></th>\n",
       "      <th>count(r)</th>\n",
       "    </tr>\n",
       "  </thead>\n",
       "  <tbody>\n",
       "    <tr>\n",
       "      <th>0</th>\n",
       "      <td>17851501</td>\n",
       "    </tr>\n",
       "  </tbody>\n",
       "</table>\n",
       "</div>"
      ],
      "text/plain": [
       "   count(r)\n",
       "0  17851501"
      ]
     },
     "execution_count": 13,
     "metadata": {},
     "output_type": "execute_result"
    }
   ],
   "source": [
    "# number of directional LINK_TO edges\n",
    "q = \"\"\"\n",
    "    match ()-[r:LINK_TO]->()\n",
    "    return count(r);\n",
    " \"\"\"\n",
    "r = graph.data(q)\n",
    "pd.DataFrame(r)"
   ]
  },
  {
   "cell_type": "code",
   "execution_count": 19,
   "metadata": {
    "collapsed": false
   },
   "outputs": [
    {
     "data": {
      "text/html": [
       "<div>\n",
       "<table border=\"1\" class=\"dataframe\">\n",
       "  <thead>\n",
       "    <tr style=\"text-align: right;\">\n",
       "      <th></th>\n",
       "      <th>sum(r.traffic)</th>\n",
       "    </tr>\n",
       "  </thead>\n",
       "  <tbody>\n",
       "    <tr>\n",
       "      <th>0</th>\n",
       "      <td>1718277936</td>\n",
       "    </tr>\n",
       "  </tbody>\n",
       "</table>\n",
       "</div>"
      ],
      "text/plain": [
       "   sum(r.traffic)\n",
       "0      1718277936"
      ]
     },
     "execution_count": 19,
     "metadata": {},
     "output_type": "execute_result"
    }
   ],
   "source": [
    "# link traffic volume in the graph\n",
    "q = \"\"\"\n",
    "    match ()-[r:LINK_TO]->()\n",
    "    return sum(r.traffic);\n",
    " \"\"\"\n",
    "r = graph.data(q)\n",
    "pd.DataFrame(r)"
   ]
  },
  {
   "cell_type": "code",
   "execution_count": 14,
   "metadata": {
    "collapsed": false
   },
   "outputs": [
    {
     "data": {
      "text/html": [
       "<div>\n",
       "<table border=\"1\" class=\"dataframe\">\n",
       "  <thead>\n",
       "    <tr style=\"text-align: right;\">\n",
       "      <th></th>\n",
       "      <th>count(r)</th>\n",
       "    </tr>\n",
       "  </thead>\n",
       "  <tbody>\n",
       "    <tr>\n",
       "      <th>0</th>\n",
       "      <td>509679</td>\n",
       "    </tr>\n",
       "  </tbody>\n",
       "</table>\n",
       "</div>"
      ],
      "text/plain": [
       "   count(r)\n",
       "0    509679"
      ]
     },
     "execution_count": 14,
     "metadata": {},
     "output_type": "execute_result"
    }
   ],
   "source": [
    "# number of directional SEARCH_FOR edges\n",
    "q = \"\"\"\n",
    "    match ()-[r:SEARCH_FOR]->()\n",
    "    return count(r);\n",
    " \"\"\"\n",
    "r = graph.data(q)\n",
    "pd.DataFrame(r)"
   ]
  },
  {
   "cell_type": "code",
   "execution_count": 20,
   "metadata": {
    "collapsed": false
   },
   "outputs": [
    {
     "data": {
      "text/html": [
       "<div>\n",
       "<table border=\"1\" class=\"dataframe\">\n",
       "  <thead>\n",
       "    <tr style=\"text-align: right;\">\n",
       "      <th></th>\n",
       "      <th>sum(r.traffic)</th>\n",
       "    </tr>\n",
       "  </thead>\n",
       "  <tbody>\n",
       "    <tr>\n",
       "      <th>0</th>\n",
       "      <td>18749871</td>\n",
       "    </tr>\n",
       "  </tbody>\n",
       "</table>\n",
       "</div>"
      ],
      "text/plain": [
       "   sum(r.traffic)\n",
       "0        18749871"
      ]
     },
     "execution_count": 20,
     "metadata": {},
     "output_type": "execute_result"
    }
   ],
   "source": [
    "# search traffic volume in the graph\n",
    "q = \"\"\"\n",
    "    match ()-[r:SEARCH_FOR]->()\n",
    "    return sum(r.traffic);\n",
    " \"\"\"\n",
    "r = graph.data(q)\n",
    "pd.DataFrame(r)"
   ]
  },
  {
   "cell_type": "code",
   "execution_count": 16,
   "metadata": {
    "collapsed": false
   },
   "outputs": [
    {
     "data": {
      "text/html": [
       "<div>\n",
       "<table border=\"1\" class=\"dataframe\">\n",
       "  <thead>\n",
       "    <tr style=\"text-align: right;\">\n",
       "      <th></th>\n",
       "      <th>count(p)</th>\n",
       "    </tr>\n",
       "  </thead>\n",
       "  <tbody>\n",
       "    <tr>\n",
       "      <th>0</th>\n",
       "      <td>85226</td>\n",
       "    </tr>\n",
       "  </tbody>\n",
       "</table>\n",
       "</div>"
      ],
      "text/plain": [
       "   count(p)\n",
       "0     85226"
      ]
     },
     "execution_count": 16,
     "metadata": {},
     "output_type": "execute_result"
    }
   ],
   "source": [
    "# number of reciprocal LINK_TO/SEARCH_FOR relationships\n",
    "q = \"\"\"\n",
    "    match p=(a)-[:LINK_TO]->(b)-[:SEARCH_FOR]->(a)\n",
    "    return count(p);\n",
    " \"\"\"\n",
    "r = graph.data(q)\n",
    "pd.DataFrame(r)\n"
   ]
  },
  {
   "cell_type": "code",
   "execution_count": 21,
   "metadata": {
    "collapsed": false
   },
   "outputs": [
    {
     "data": {
      "text/html": [
       "<div>\n",
       "<table border=\"1\" class=\"dataframe\">\n",
       "  <thead>\n",
       "    <tr style=\"text-align: right;\">\n",
       "      <th></th>\n",
       "      <th>count(p)/2</th>\n",
       "    </tr>\n",
       "  </thead>\n",
       "  <tbody>\n",
       "    <tr>\n",
       "      <th>0</th>\n",
       "      <td>2959959</td>\n",
       "    </tr>\n",
       "  </tbody>\n",
       "</table>\n",
       "</div>"
      ],
      "text/plain": [
       "   count(p)/2\n",
       "0     2959959"
      ]
     },
     "execution_count": 21,
     "metadata": {},
     "output_type": "execute_result"
    }
   ],
   "source": [
    "# number of reciprocal LINK_TO relationships\n",
    "q = \"\"\"\n",
    "    match p=(a)-[r1:LINK_TO]->(b)-[r2:LINK_TO]->(a)\n",
    "    return count(p)/2;\n",
    " \"\"\"\n",
    "r = graph.data(q)\n",
    "pd.DataFrame(r)"
   ]
  },
  {
   "cell_type": "code",
   "execution_count": 22,
   "metadata": {
    "collapsed": false
   },
   "outputs": [
    {
     "data": {
      "text/html": [
       "<div>\n",
       "<table border=\"1\" class=\"dataframe\">\n",
       "  <thead>\n",
       "    <tr style=\"text-align: right;\">\n",
       "      <th></th>\n",
       "      <th>count(p)/2</th>\n",
       "    </tr>\n",
       "  </thead>\n",
       "  <tbody>\n",
       "    <tr>\n",
       "      <th>0</th>\n",
       "      <td>33236</td>\n",
       "    </tr>\n",
       "  </tbody>\n",
       "</table>\n",
       "</div>"
      ],
      "text/plain": [
       "   count(p)/2\n",
       "0       33236"
      ]
     },
     "execution_count": 22,
     "metadata": {},
     "output_type": "execute_result"
    }
   ],
   "source": [
    "# number of reciprocal SEARCH_FOR relationships\n",
    "q = \"\"\"\n",
    "    match p=(a)-[r1:SEARCH_FOR]->(b)-[r2:SEARCH_FOR]->(a)\n",
    "    return count(p)/2;\n",
    " \"\"\"\n",
    "r = graph.data(q)\n",
    "pd.DataFrame(r)"
   ]
  },
  {
   "cell_type": "markdown",
   "metadata": {},
   "source": [
    "### Calculate degrees"
   ]
  },
  {
   "cell_type": "code",
   "execution_count": null,
   "metadata": {
    "collapsed": true
   },
   "outputs": [],
   "source": [
    "# cypher-shell query to calculate degrees and save them on nodes\n",
    "MATCH (a:Article)\n",
    "SET a.search_in_degree = size((a)<-[:SEARCH_FOR]-()),\n",
    "    a.search_out_degree = size((a)-[:SEARCH_FOR]->()),\n",
    "    a.link_in_degree = size((a)<-[:LINK_TO]-()),\n",
    "    a.link_out_degree = size((a)-[:LINK_TO]->())\n",
    ";\n",
    "# 0 rows available after 75292 ms, consumed after another 0 ms\n",
    "# Set 20742796 properties\n"
   ]
  },
  {
   "cell_type": "code",
   "execution_count": null,
   "metadata": {
    "collapsed": true
   },
   "outputs": [],
   "source": [
    "# cypher-shell queries to calculate traffic volumes per node and save them on nodes\n",
    "\n",
    "# in-search traffic\n",
    "MATCH (a:Article)<-[si:SEARCH_FOR]-()\n",
    "WITH a, SUM(si.traffic) AS s\n",
    "SET a.search_in_traffic = s\n",
    ";\n",
    "# 0 rows available after 12231 ms, consumed after another 0 ms\n",
    "# Set 249765 properties\n",
    "\n",
    "\n",
    "# out-search traffic\n",
    "MATCH (a:Article)-[so:SEARCH_FOR]->()\n",
    "WITH a, SUM(so.traffic) AS s\n",
    "SET a.search_out_traffic = s\n",
    ";\n",
    "# 0 rows available after 9980 ms, consumed after another 0 ms\n",
    "# Set 237126 properties\n",
    "\n",
    "\n",
    "# in-link traffic\n",
    "MATCH (a:Article)<-[li:LINK_TO]-()\n",
    "WITH a, SUM(li.traffic) AS s\n",
    "SET a.link_in_traffic = s\n",
    ";\n",
    "# 0 rows available after 61065 ms, consumed after another 0 ms\n",
    "# Set 2598301 properties\n",
    "\n",
    "\n",
    "\n",
    "# out-link traffic\n",
    "MATCH (a:Article)-[lo:LINK_TO]->()\n",
    "WITH a, SUM(lo.traffic) AS s\n",
    "SET a.link_out_traffic = s\n",
    ";\n",
    "# 0 rows available after 59575 ms, consumed after another 0 ms\n",
    "# Set 1703704 properties\n",
    "\n"
   ]
  },
  {
   "cell_type": "code",
   "execution_count": null,
   "metadata": {
    "collapsed": true
   },
   "outputs": [],
   "source": []
  },
  {
   "cell_type": "code",
   "execution_count": null,
   "metadata": {
    "collapsed": true
   },
   "outputs": [],
   "source": []
  },
  {
   "cell_type": "code",
   "execution_count": null,
   "metadata": {
    "collapsed": true
   },
   "outputs": [],
   "source": []
  },
  {
   "cell_type": "code",
   "execution_count": null,
   "metadata": {
    "collapsed": true
   },
   "outputs": [],
   "source": []
  }
 ],
 "metadata": {
  "kernelspec": {
   "display_name": "Python [default]",
   "language": "python",
   "name": "python3"
  },
  "language_info": {
   "codemirror_mode": {
    "name": "ipython",
    "version": 3
   },
   "file_extension": ".py",
   "mimetype": "text/x-python",
   "name": "python",
   "nbconvert_exporter": "python",
   "pygments_lexer": "ipython3",
   "version": "3.5.2"
  }
 },
 "nbformat": 4,
 "nbformat_minor": 1
}
