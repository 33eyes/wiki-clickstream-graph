{
 "cells": [
  {
   "cell_type": "markdown",
   "metadata": {},
   "source": [
    "# Exploring Wikipedia clickstream data: the English Wiki in December 2018    \n",
    "\n",
    "## Graph modeling"
   ]
  },
  {
   "cell_type": "markdown",
   "metadata": {},
   "source": [
    "### 1. Introduction  \n",
    "This notebook contains graph modeling steps for the English Wikipedia clickstream dataset for December 2018. It is a part of my project about the usage patterns of Wikipedia across language domains and over time.  \n"
   ]
  },
  {
   "cell_type": "markdown",
   "metadata": {},
   "source": [
    "### 2. Notebook setup  "
   ]
  },
  {
   "cell_type": "markdown",
   "metadata": {},
   "source": [
    "#### Imports"
   ]
  },
  {
   "cell_type": "code",
   "execution_count": 7,
   "metadata": {
    "collapsed": true
   },
   "outputs": [],
   "source": [
    "import pandas as pd\n",
    "import numpy as np"
   ]
  },
  {
   "cell_type": "code",
   "execution_count": 8,
   "metadata": {
    "collapsed": false
   },
   "outputs": [],
   "source": [
    "import os"
   ]
  },
  {
   "cell_type": "markdown",
   "metadata": {},
   "source": [
    "#### Settings"
   ]
  },
  {
   "cell_type": "code",
   "execution_count": 9,
   "metadata": {
    "collapsed": true
   },
   "outputs": [],
   "source": [
    "# set up Pandas options\n",
    "pd.set_option('display.max_columns', 25)\n",
    "pd.set_option('display.max_rows', 100)\n",
    "pd.set_option('display.precision', 3)\n",
    "pd.options.display.float_format = '{:.2f}'.format"
   ]
  },
  {
   "cell_type": "markdown",
   "metadata": {},
   "source": [
    "#### Helper functions"
   ]
  },
  {
   "cell_type": "code",
   "execution_count": null,
   "metadata": {
    "collapsed": false
   },
   "outputs": [],
   "source": []
  },
  {
   "cell_type": "markdown",
   "metadata": {},
   "source": [
    "#### Get and check the data"
   ]
  },
  {
   "cell_type": "code",
   "execution_count": 5,
   "metadata": {
    "collapsed": false
   },
   "outputs": [],
   "source": [
    "# Get the cleaned tsv data onto AWS from my local machine\n",
    "# Run from terminal on local:\n",
    "# scp ~/projects/wiki_graph/data/clickstream-enwiki-2018-12_clean.tsv arinai@3.87.124.217:/home/arinai/data/wiki_clickstream\n",
    "\n",
    "# This took about 15 min.\n",
    "# Try getting the raw data with wget from Wikimedia datadump and then cleaning it next time to see if it's faster."
   ]
  },
  {
   "cell_type": "code",
   "execution_count": 10,
   "metadata": {
    "collapsed": false
   },
   "outputs": [
    {
     "name": "stdout",
     "output_type": "stream",
     "text": [
      "other-empty\t2019_Horizon_League_Baseball_Tournament\texternal\t16\r\n",
      "other-search\tForeverAtLast\texternal\t40\r\n",
      "other-empty\tForeverAtLast\texternal\t85\r\n",
      "First_Families_of_Pakistan\tJehangir_Wadia\tlink\t19\r\n",
      "The_Lawrence_School,_Sanawar\tJehangir_Wadia\tlink\t36\r\n",
      "Wadia_family\tJehangir_Wadia\tlink\t715\r\n",
      "other-search\tJehangir_Wadia\texternal\t967\r\n",
      "Ness_Wadia\tJehangir_Wadia\tlink\t494\r\n",
      "other-empty\tJehangir_Wadia\texternal\t638\r\n",
      "GoAir\tJehangir_Wadia\tlink\t1191\r\n"
     ]
    }
   ],
   "source": [
    "# Print the head of the tsv file\n",
    "!head ../data/wiki_clickstream/clickstream-enwiki-2018-12_clean.tsv\n",
    "\n",
    "# I move the file to neo4j's import folder later\n",
    "# !head /var/lib/neo4j/import/clickstream-enwiki-2018-12_clean.tsv"
   ]
  },
  {
   "cell_type": "markdown",
   "metadata": {},
   "source": [
    "### 3. Setting up Neo4j on AWS EC2 Ubuntu"
   ]
  },
  {
   "cell_type": "markdown",
   "metadata": {},
   "source": [
    "#### Install Neo4j community edition server  \n",
    "- For an Ubuntu EC2 instance on AWS, follow the Debian installation instructions [here](https://neo4j.com/docs/operations-manual/current/installation/linux/debian/). \n",
    "- [Run neo4j as a service using `systemctl`](https://neo4j.com/docs/operations-manual/current/installation/linux/systemd/#linux-service-control):  \n",
    "  - To start neo4j: `systemctl start neo4j`  \n",
    "  - To stop neo4j: `systemctl stop neo4j`\n",
    "\n",
    "- run neo4j and tunnel into the neo4j browser:\n",
    "  - run neo4j: `systemctl start neo4j`\n",
    "  - tunnel into the browser, e.g.: `ssh -NfL localhost:7474:localhost:7474 -L localhost:7687:localhost:7687 arinai@3.87.124.217`\n",
    "  - in a browser, open `http://localhost:7474/browser/`\n",
    "  - On first login, both the username and password are `neo4j`. After the initial login there will be a prompt to set a new password. "
   ]
  },
  {
   "cell_type": "markdown",
   "metadata": {},
   "source": [
    "### 4. Load the data into Neo4j"
   ]
  },
  {
   "cell_type": "markdown",
   "metadata": {},
   "source": [
    "#### Connect"
   ]
  },
  {
   "cell_type": "code",
   "execution_count": 8,
   "metadata": {
    "collapsed": true
   },
   "outputs": [],
   "source": [
    "from py2neo import authenticate, Graph"
   ]
  },
  {
   "cell_type": "code",
   "execution_count": 14,
   "metadata": {
    "collapsed": true
   },
   "outputs": [],
   "source": [
    "# To avoid typing neo4j password into the notebook each time,\n",
    "# I'm saving it in a separate file and reading it in with the helper function below.\n",
    "def read_n4jpass():\n",
    "    \"\"\"Reads neo4j connection credentials from .n4jpass file in current folder.\n",
    "    Expects one value per line, ignores comments, e.g.:\n",
    "    # comments here\n",
    "    user=neo4j\n",
    "    password=secretStuff123\n",
    "    \"\"\"\n",
    "    \n",
    "    cur_folder = os.getcwd()\n",
    "    \n",
    "    with open(cur_folder + '/.n4jpass', 'r') as f:\n",
    "        lines = f.readlines()\n",
    "\n",
    "    d = {}\n",
    "    for l in lines:\n",
    "        if l.strip() and (l[0] != '#'):\n",
    "            k, v = l.strip().split('=')\n",
    "            d[k] = v\n",
    "\n",
    "    return d"
   ]
  },
  {
   "cell_type": "code",
   "execution_count": 15,
   "metadata": {
    "collapsed": false
   },
   "outputs": [],
   "source": [
    "n4j_cred = read_n4jpass()"
   ]
  },
  {
   "cell_type": "code",
   "execution_count": 17,
   "metadata": {
    "collapsed": true
   },
   "outputs": [],
   "source": [
    "# set up authentication parameters\n",
    "authenticate(\"localhost:7474\", n4j_cred[\"user\"], n4j_cred[\"password\"])"
   ]
  },
  {
   "cell_type": "code",
   "execution_count": 18,
   "metadata": {
    "collapsed": true
   },
   "outputs": [],
   "source": [
    "# connect to authenticated graph database\n",
    "graph = Graph(\"http://localhost:7474/db/data/\")"
   ]
  },
  {
   "cell_type": "code",
   "execution_count": 26,
   "metadata": {
    "collapsed": false
   },
   "outputs": [
    {
     "data": {
      "text/html": [
       "<div>\n",
       "<table border=\"1\" class=\"dataframe\">\n",
       "  <thead>\n",
       "    <tr style=\"text-align: right;\">\n",
       "      <th></th>\n",
       "      <th>nodes</th>\n",
       "      <th>relationships</th>\n",
       "    </tr>\n",
       "  </thead>\n",
       "  <tbody>\n",
       "    <tr>\n",
       "      <th>0</th>\n",
       "      <td>[]</td>\n",
       "      <td>[]</td>\n",
       "    </tr>\n",
       "  </tbody>\n",
       "</table>\n",
       "</div>"
      ],
      "text/plain": [
       "  nodes relationships\n",
       "0    []            []"
      ]
     },
     "execution_count": 26,
     "metadata": {},
     "output_type": "execute_result"
    }
   ],
   "source": [
    "# run a test query\n",
    "test = graph.data(\"call db.schema()\")\n",
    "pd.DataFrame(test)"
   ]
  },
  {
   "cell_type": "markdown",
   "metadata": {},
   "source": [
    "#### Set indices  \n",
    "Unlike in relational databases, there are no built-in constraints or automatic indexing in neo4j. Since article names in Wikipedia should be unique, let's add a uniqueness constraint. This will make the import queries run faster."
   ]
  },
  {
   "cell_type": "code",
   "execution_count": 39,
   "metadata": {
    "collapsed": false
   },
   "outputs": [
    {
     "data": {
      "text/plain": [
       "<py2neo.database.Cursor at 0x7f175df97ac8>"
      ]
     },
     "execution_count": 39,
     "metadata": {},
     "output_type": "execute_result"
    }
   ],
   "source": [
    "graph.run(\"CREATE CONSTRAINT ON (a:Article) ASSERT a.title IS UNIQUE;\")"
   ]
  },
  {
   "cell_type": "code",
   "execution_count": 40,
   "metadata": {
    "collapsed": false
   },
   "outputs": [
    {
     "data": {
      "text/html": [
       "<div>\n",
       "<table border=\"1\" class=\"dataframe\">\n",
       "  <thead>\n",
       "    <tr style=\"text-align: right;\">\n",
       "      <th></th>\n",
       "      <th>description</th>\n",
       "      <th>failureMessage</th>\n",
       "      <th>id</th>\n",
       "      <th>indexName</th>\n",
       "      <th>progress</th>\n",
       "      <th>properties</th>\n",
       "      <th>provider</th>\n",
       "      <th>state</th>\n",
       "      <th>tokenNames</th>\n",
       "      <th>type</th>\n",
       "    </tr>\n",
       "  </thead>\n",
       "  <tbody>\n",
       "    <tr>\n",
       "      <th>0</th>\n",
       "      <td>INDEX ON :Article(title)</td>\n",
       "      <td></td>\n",
       "      <td>3</td>\n",
       "      <td>index_3</td>\n",
       "      <td>100.00</td>\n",
       "      <td>[title]</td>\n",
       "      <td>{'version': '1.0', 'key': 'native-btree'}</td>\n",
       "      <td>ONLINE</td>\n",
       "      <td>[Article]</td>\n",
       "      <td>node_unique_property</td>\n",
       "    </tr>\n",
       "  </tbody>\n",
       "</table>\n",
       "</div>"
      ],
      "text/plain": [
       "                description failureMessage  id indexName  progress properties  \\\n",
       "0  INDEX ON :Article(title)                  3   index_3    100.00    [title]   \n",
       "\n",
       "                                    provider   state tokenNames  \\\n",
       "0  {'version': '1.0', 'key': 'native-btree'}  ONLINE  [Article]   \n",
       "\n",
       "                   type  \n",
       "0  node_unique_property  "
      ]
     },
     "execution_count": 40,
     "metadata": {},
     "output_type": "execute_result"
    }
   ],
   "source": [
    "# list all indices in the db\n",
    "r = graph.data('CALL db.indexes;')\n",
    "pd.DataFrame(r)"
   ]
  },
  {
   "cell_type": "markdown",
   "metadata": {},
   "source": [
    "#### Read in the data"
   ]
  },
  {
   "cell_type": "markdown",
   "metadata": {},
   "source": [
    "By default, neo4j only imports data from its own `import` subfolder (on Ubuntu, it is `/var/lib/neo4j/import`) or from an url, so make sure to move the data into the neo4j import folder (alternatively, this requirement can be commented out in the `conf` file)."
   ]
  },
  {
   "cell_type": "code",
   "execution_count": 33,
   "metadata": {
    "collapsed": true
   },
   "outputs": [],
   "source": [
    "filename = \"clickstream-enwiki-2018-12_clean.tsv\""
   ]
  },
  {
   "cell_type": "code",
   "execution_count": 42,
   "metadata": {
    "collapsed": false
   },
   "outputs": [
    {
     "ename": "ProtocolError",
     "evalue": "Unable to connect to localhost on port 7687 - is the server running?",
     "output_type": "error",
     "traceback": [
      "\u001b[0;31m---------------------------------------------------------------------------\u001b[0m",
      "\u001b[0;31mIndexError\u001b[0m                                Traceback (most recent call last)",
      "\u001b[0;32m/home/arinai/anaconda3/lib/python3.5/site-packages/py2neo/packages/neo4j/v1/session.py\u001b[0m in \u001b[0;36msession\u001b[0;34m(self)\u001b[0m\n\u001b[1;32m    123\u001b[0m             \u001b[0;32mtry\u001b[0m\u001b[0;34m:\u001b[0m\u001b[0;34m\u001b[0m\u001b[0m\n\u001b[0;32m--> 124\u001b[0;31m                 \u001b[0msession\u001b[0m \u001b[0;34m=\u001b[0m \u001b[0mself\u001b[0m\u001b[0;34m.\u001b[0m\u001b[0msession_pool\u001b[0m\u001b[0;34m.\u001b[0m\u001b[0mpop\u001b[0m\u001b[0;34m(\u001b[0m\u001b[0;34m)\u001b[0m\u001b[0;34m\u001b[0m\u001b[0m\n\u001b[0m\u001b[1;32m    125\u001b[0m             \u001b[0;32mexcept\u001b[0m \u001b[0mIndexError\u001b[0m\u001b[0;34m:\u001b[0m\u001b[0;34m\u001b[0m\u001b[0m\n",
      "\u001b[0;31mIndexError\u001b[0m: pop from an empty deque",
      "\nDuring handling of the above exception, another exception occurred:\n",
      "\u001b[0;31mConnectionRefusedError\u001b[0m                    Traceback (most recent call last)",
      "\u001b[0;32m/home/arinai/anaconda3/lib/python3.5/site-packages/py2neo/packages/neo4j/v1/bolt.py\u001b[0m in \u001b[0;36mconnect\u001b[0;34m(host_port, ssl_context, **config)\u001b[0m\n\u001b[1;32m    418\u001b[0m     \u001b[0;32mtry\u001b[0m\u001b[0;34m:\u001b[0m\u001b[0;34m\u001b[0m\u001b[0m\n\u001b[0;32m--> 419\u001b[0;31m         \u001b[0ms\u001b[0m \u001b[0;34m=\u001b[0m \u001b[0mcreate_connection\u001b[0m\u001b[0;34m(\u001b[0m\u001b[0mhost_port\u001b[0m\u001b[0;34m)\u001b[0m\u001b[0;34m\u001b[0m\u001b[0m\n\u001b[0m\u001b[1;32m    420\u001b[0m     \u001b[0;32mexcept\u001b[0m \u001b[0mSocketError\u001b[0m \u001b[0;32mas\u001b[0m \u001b[0merror\u001b[0m\u001b[0;34m:\u001b[0m\u001b[0;34m\u001b[0m\u001b[0m\n",
      "\u001b[0;32m/home/arinai/anaconda3/lib/python3.5/socket.py\u001b[0m in \u001b[0;36mcreate_connection\u001b[0;34m(address, timeout, source_address)\u001b[0m\n\u001b[1;32m    710\u001b[0m     \u001b[0;32mif\u001b[0m \u001b[0merr\u001b[0m \u001b[0;32mis\u001b[0m \u001b[0;32mnot\u001b[0m \u001b[0;32mNone\u001b[0m\u001b[0;34m:\u001b[0m\u001b[0;34m\u001b[0m\u001b[0m\n\u001b[0;32m--> 711\u001b[0;31m         \u001b[0;32mraise\u001b[0m \u001b[0merr\u001b[0m\u001b[0;34m\u001b[0m\u001b[0m\n\u001b[0m\u001b[1;32m    712\u001b[0m     \u001b[0;32melse\u001b[0m\u001b[0;34m:\u001b[0m\u001b[0;34m\u001b[0m\u001b[0m\n",
      "\u001b[0;32m/home/arinai/anaconda3/lib/python3.5/socket.py\u001b[0m in \u001b[0;36mcreate_connection\u001b[0;34m(address, timeout, source_address)\u001b[0m\n\u001b[1;32m    701\u001b[0m                 \u001b[0msock\u001b[0m\u001b[0;34m.\u001b[0m\u001b[0mbind\u001b[0m\u001b[0;34m(\u001b[0m\u001b[0msource_address\u001b[0m\u001b[0;34m)\u001b[0m\u001b[0;34m\u001b[0m\u001b[0m\n\u001b[0;32m--> 702\u001b[0;31m             \u001b[0msock\u001b[0m\u001b[0;34m.\u001b[0m\u001b[0mconnect\u001b[0m\u001b[0;34m(\u001b[0m\u001b[0msa\u001b[0m\u001b[0;34m)\u001b[0m\u001b[0;34m\u001b[0m\u001b[0m\n\u001b[0m\u001b[1;32m    703\u001b[0m             \u001b[0;32mreturn\u001b[0m \u001b[0msock\u001b[0m\u001b[0;34m\u001b[0m\u001b[0m\n",
      "\u001b[0;31mConnectionRefusedError\u001b[0m: [Errno 111] Connection refused",
      "\nDuring handling of the above exception, another exception occurred:\n",
      "\u001b[0;31mProtocolError\u001b[0m                             Traceback (most recent call last)",
      "\u001b[0;32m<ipython-input-42-724d2912b785>\u001b[0m in \u001b[0;36m<module>\u001b[0;34m()\u001b[0m\n\u001b[1;32m      9\u001b[0m     \"\"\"\n\u001b[1;32m     10\u001b[0m \u001b[0;34m\u001b[0m\u001b[0m\n\u001b[0;32m---> 11\u001b[0;31m \u001b[0mtest\u001b[0m \u001b[0;34m=\u001b[0m \u001b[0mgraph\u001b[0m\u001b[0;34m.\u001b[0m\u001b[0mdata\u001b[0m\u001b[0;34m(\u001b[0m\u001b[0mquery_test\u001b[0m\u001b[0;34m,\u001b[0m \u001b[0mmyfilepath\u001b[0m\u001b[0;34m=\u001b[0m\u001b[0mstr\u001b[0m\u001b[0;34m(\u001b[0m\u001b[0mfp\u001b[0m\u001b[0;34m)\u001b[0m\u001b[0;34m)\u001b[0m\u001b[0;34m\u001b[0m\u001b[0m\n\u001b[0m\u001b[1;32m     12\u001b[0m \u001b[0mpd\u001b[0m\u001b[0;34m.\u001b[0m\u001b[0mDataFrame\u001b[0m\u001b[0;34m(\u001b[0m\u001b[0mtest\u001b[0m\u001b[0;34m)\u001b[0m\u001b[0;34m\u001b[0m\u001b[0m\n",
      "\u001b[0;32m/home/arinai/anaconda3/lib/python3.5/site-packages/py2neo/database/__init__.py\u001b[0m in \u001b[0;36mdata\u001b[0;34m(self, statement, parameters, **kwparameters)\u001b[0m\n\u001b[1;32m    414\u001b[0m         \u001b[0;34m:\u001b[0m\u001b[0mrtype\u001b[0m\u001b[0;34m:\u001b[0m\u001b[0;31m \u001b[0m\u001b[0;31m`\u001b[0m\u001b[0mlist\u001b[0m\u001b[0;31m`\u001b[0m \u001b[0mof\u001b[0m\u001b[0;31m \u001b[0m\u001b[0;31m`\u001b[0m\u001b[0mdict\u001b[0m\u001b[0;31m`\u001b[0m\u001b[0;34m\u001b[0m\u001b[0m\n\u001b[1;32m    415\u001b[0m         \"\"\"\n\u001b[0;32m--> 416\u001b[0;31m         \u001b[0;32mreturn\u001b[0m \u001b[0mself\u001b[0m\u001b[0;34m.\u001b[0m\u001b[0mbegin\u001b[0m\u001b[0;34m(\u001b[0m\u001b[0mautocommit\u001b[0m\u001b[0;34m=\u001b[0m\u001b[0;32mTrue\u001b[0m\u001b[0;34m)\u001b[0m\u001b[0;34m.\u001b[0m\u001b[0mrun\u001b[0m\u001b[0;34m(\u001b[0m\u001b[0mstatement\u001b[0m\u001b[0;34m,\u001b[0m \u001b[0mparameters\u001b[0m\u001b[0;34m,\u001b[0m \u001b[0;34m**\u001b[0m\u001b[0mkwparameters\u001b[0m\u001b[0;34m)\u001b[0m\u001b[0;34m.\u001b[0m\u001b[0mdata\u001b[0m\u001b[0;34m(\u001b[0m\u001b[0;34m)\u001b[0m\u001b[0;34m\u001b[0m\u001b[0m\n\u001b[0m\u001b[1;32m    417\u001b[0m \u001b[0;34m\u001b[0m\u001b[0m\n\u001b[1;32m    418\u001b[0m     \u001b[0;34m@\u001b[0m\u001b[0mproperty\u001b[0m\u001b[0;34m\u001b[0m\u001b[0m\n",
      "\u001b[0;32m/home/arinai/anaconda3/lib/python3.5/site-packages/py2neo/database/__init__.py\u001b[0m in \u001b[0;36mbegin\u001b[0;34m(self, autocommit)\u001b[0m\n\u001b[1;32m    368\u001b[0m                          \u001b[0mautomatically\u001b[0m \u001b[0mcommit\u001b[0m \u001b[0mafter\u001b[0m \u001b[0mthe\u001b[0m \u001b[0mfirst\u001b[0m \u001b[0moperation\u001b[0m\u001b[0;34m\u001b[0m\u001b[0m\n\u001b[1;32m    369\u001b[0m         \"\"\"\n\u001b[0;32m--> 370\u001b[0;31m         \u001b[0;32mreturn\u001b[0m \u001b[0mself\u001b[0m\u001b[0;34m.\u001b[0m\u001b[0mtransaction_class\u001b[0m\u001b[0;34m(\u001b[0m\u001b[0mself\u001b[0m\u001b[0;34m,\u001b[0m \u001b[0mautocommit\u001b[0m\u001b[0;34m)\u001b[0m\u001b[0;34m\u001b[0m\u001b[0m\n\u001b[0m\u001b[1;32m    371\u001b[0m \u001b[0;34m\u001b[0m\u001b[0m\n\u001b[1;32m    372\u001b[0m     \u001b[0;32mdef\u001b[0m \u001b[0mcreate\u001b[0m\u001b[0;34m(\u001b[0m\u001b[0mself\u001b[0m\u001b[0;34m,\u001b[0m \u001b[0msubgraph\u001b[0m\u001b[0;34m)\u001b[0m\u001b[0;34m:\u001b[0m\u001b[0;34m\u001b[0m\u001b[0m\n",
      "\u001b[0;32m/home/arinai/anaconda3/lib/python3.5/site-packages/py2neo/database/__init__.py\u001b[0m in \u001b[0;36m__init__\u001b[0;34m(self, graph, autocommit)\u001b[0m\n\u001b[1;32m   1247\u001b[0m         \u001b[0mTransaction\u001b[0m\u001b[0;34m.\u001b[0m\u001b[0m__init__\u001b[0m\u001b[0;34m(\u001b[0m\u001b[0mself\u001b[0m\u001b[0;34m,\u001b[0m \u001b[0mgraph\u001b[0m\u001b[0;34m,\u001b[0m \u001b[0mautocommit\u001b[0m\u001b[0;34m)\u001b[0m\u001b[0;34m\u001b[0m\u001b[0m\n\u001b[1;32m   1248\u001b[0m         \u001b[0mself\u001b[0m\u001b[0;34m.\u001b[0m\u001b[0mdriver\u001b[0m \u001b[0;34m=\u001b[0m \u001b[0mdriver\u001b[0m \u001b[0;34m=\u001b[0m \u001b[0mself\u001b[0m\u001b[0;34m.\u001b[0m\u001b[0mgraph\u001b[0m\u001b[0;34m.\u001b[0m\u001b[0mdriver\u001b[0m\u001b[0;34m\u001b[0m\u001b[0m\n\u001b[0;32m-> 1249\u001b[0;31m         \u001b[0mself\u001b[0m\u001b[0;34m.\u001b[0m\u001b[0msession\u001b[0m \u001b[0;34m=\u001b[0m \u001b[0mdriver\u001b[0m\u001b[0;34m.\u001b[0m\u001b[0msession\u001b[0m\u001b[0;34m(\u001b[0m\u001b[0;34m)\u001b[0m\u001b[0;34m\u001b[0m\u001b[0m\n\u001b[0m\u001b[1;32m   1250\u001b[0m         \u001b[0mself\u001b[0m\u001b[0;34m.\u001b[0m\u001b[0msources\u001b[0m \u001b[0;34m=\u001b[0m \u001b[0;34m[\u001b[0m\u001b[0;34m]\u001b[0m\u001b[0;34m\u001b[0m\u001b[0m\n\u001b[1;32m   1251\u001b[0m         \u001b[0;32mif\u001b[0m \u001b[0;32mnot\u001b[0m \u001b[0mself\u001b[0m\u001b[0;34m.\u001b[0m\u001b[0mautocommit\u001b[0m\u001b[0;34m:\u001b[0m\u001b[0;34m\u001b[0m\u001b[0m\n",
      "\u001b[0;32m/home/arinai/anaconda3/lib/python3.5/site-packages/py2neo/packages/neo4j/v1/session.py\u001b[0m in \u001b[0;36msession\u001b[0;34m(self)\u001b[0m\n\u001b[1;32m    124\u001b[0m                 \u001b[0msession\u001b[0m \u001b[0;34m=\u001b[0m \u001b[0mself\u001b[0m\u001b[0;34m.\u001b[0m\u001b[0msession_pool\u001b[0m\u001b[0;34m.\u001b[0m\u001b[0mpop\u001b[0m\u001b[0;34m(\u001b[0m\u001b[0;34m)\u001b[0m\u001b[0;34m\u001b[0m\u001b[0m\n\u001b[1;32m    125\u001b[0m             \u001b[0;32mexcept\u001b[0m \u001b[0mIndexError\u001b[0m\u001b[0;34m:\u001b[0m\u001b[0;34m\u001b[0m\u001b[0m\n\u001b[0;32m--> 126\u001b[0;31m                 \u001b[0mconnection\u001b[0m \u001b[0;34m=\u001b[0m \u001b[0mconnect\u001b[0m\u001b[0;34m(\u001b[0m\u001b[0mself\u001b[0m\u001b[0;34m.\u001b[0m\u001b[0maddress\u001b[0m\u001b[0;34m,\u001b[0m \u001b[0mself\u001b[0m\u001b[0;34m.\u001b[0m\u001b[0mssl_context\u001b[0m\u001b[0;34m,\u001b[0m \u001b[0;34m**\u001b[0m\u001b[0mself\u001b[0m\u001b[0;34m.\u001b[0m\u001b[0mconfig\u001b[0m\u001b[0;34m)\u001b[0m\u001b[0;34m\u001b[0m\u001b[0m\n\u001b[0m\u001b[1;32m    127\u001b[0m                 \u001b[0msession\u001b[0m \u001b[0;34m=\u001b[0m \u001b[0mSession\u001b[0m\u001b[0;34m(\u001b[0m\u001b[0mself\u001b[0m\u001b[0;34m,\u001b[0m \u001b[0mconnection\u001b[0m\u001b[0;34m)\u001b[0m\u001b[0;34m\u001b[0m\u001b[0m\n\u001b[1;32m    128\u001b[0m                 \u001b[0mconnected\u001b[0m \u001b[0;34m=\u001b[0m \u001b[0;32mTrue\u001b[0m\u001b[0;34m\u001b[0m\u001b[0m\n",
      "\u001b[0;32m/home/arinai/anaconda3/lib/python3.5/site-packages/py2neo/packages/neo4j/v1/bolt.py\u001b[0m in \u001b[0;36mconnect\u001b[0;34m(host_port, ssl_context, **config)\u001b[0m\n\u001b[1;32m    420\u001b[0m     \u001b[0;32mexcept\u001b[0m \u001b[0mSocketError\u001b[0m \u001b[0;32mas\u001b[0m \u001b[0merror\u001b[0m\u001b[0;34m:\u001b[0m\u001b[0;34m\u001b[0m\u001b[0m\n\u001b[1;32m    421\u001b[0m         \u001b[0;32mif\u001b[0m \u001b[0merror\u001b[0m\u001b[0;34m.\u001b[0m\u001b[0merrno\u001b[0m \u001b[0;34m==\u001b[0m \u001b[0;36m111\u001b[0m \u001b[0;32mor\u001b[0m \u001b[0merror\u001b[0m\u001b[0;34m.\u001b[0m\u001b[0merrno\u001b[0m \u001b[0;34m==\u001b[0m \u001b[0;36m61\u001b[0m\u001b[0;34m:\u001b[0m\u001b[0;34m\u001b[0m\u001b[0m\n\u001b[0;32m--> 422\u001b[0;31m             \u001b[0;32mraise\u001b[0m \u001b[0mProtocolError\u001b[0m\u001b[0;34m(\u001b[0m\u001b[0;34m\"Unable to connect to %s on port %d - is the server running?\"\u001b[0m \u001b[0;34m%\u001b[0m \u001b[0mhost_port\u001b[0m\u001b[0;34m)\u001b[0m\u001b[0;34m\u001b[0m\u001b[0m\n\u001b[0m\u001b[1;32m    423\u001b[0m         \u001b[0;32melse\u001b[0m\u001b[0;34m:\u001b[0m\u001b[0;34m\u001b[0m\u001b[0m\n\u001b[1;32m    424\u001b[0m             \u001b[0;32mraise\u001b[0m\u001b[0;34m\u001b[0m\u001b[0m\n",
      "\u001b[0;31mProtocolError\u001b[0m: Unable to connect to localhost on port 7687 - is the server running?"
     ]
    }
   ],
   "source": [
    "fp = 'file:///' + filename\n",
    "    \n",
    "query_test = \"\"\"\n",
    "    LOAD CSV FROM {myfilepath} AS row\n",
    "    FIELDTERMINATOR '\\t'\n",
    "    return row\n",
    "    limit 10\n",
    "    ;\n",
    "    \"\"\"\n",
    "\n",
    "test = graph.data(query_test, myfilepath=str(fp))\n",
    "pd.DataFrame(test)"
   ]
  },
  {
   "cell_type": "code",
   "execution_count": 41,
   "metadata": {
    "collapsed": false
   },
   "outputs": [
    {
     "ename": "ProtocolError",
     "evalue": "Server closed connection",
     "output_type": "error",
     "traceback": [
      "\u001b[0;31m---------------------------------------------------------------------------\u001b[0m",
      "\u001b[0;31mProtocolError\u001b[0m                             Traceback (most recent call last)",
      "\u001b[0;32m<ipython-input-41-3c534ec0b288>\u001b[0m in \u001b[0;36m<module>\u001b[0;34m()\u001b[0m\n\u001b[1;32m      7\u001b[0m     \"\"\"\n\u001b[1;32m      8\u001b[0m \u001b[0;34m\u001b[0m\u001b[0m\n\u001b[0;32m----> 9\u001b[0;31m \u001b[0mtest\u001b[0m \u001b[0;34m=\u001b[0m \u001b[0mgraph\u001b[0m\u001b[0;34m.\u001b[0m\u001b[0mdata\u001b[0m\u001b[0;34m(\u001b[0m\u001b[0mquery_test\u001b[0m\u001b[0;34m,\u001b[0m \u001b[0mmyfilepath\u001b[0m\u001b[0;34m=\u001b[0m\u001b[0mstr\u001b[0m\u001b[0;34m(\u001b[0m\u001b[0mfp\u001b[0m\u001b[0;34m)\u001b[0m\u001b[0;34m)\u001b[0m\u001b[0;34m\u001b[0m\u001b[0m\n\u001b[0m\u001b[1;32m     10\u001b[0m \u001b[0mpd\u001b[0m\u001b[0;34m.\u001b[0m\u001b[0mDataFrame\u001b[0m\u001b[0;34m(\u001b[0m\u001b[0mtest\u001b[0m\u001b[0;34m)\u001b[0m\u001b[0;34m\u001b[0m\u001b[0m\n",
      "\u001b[0;32m/home/arinai/anaconda3/lib/python3.5/site-packages/py2neo/database/__init__.py\u001b[0m in \u001b[0;36mdata\u001b[0;34m(self, statement, parameters, **kwparameters)\u001b[0m\n\u001b[1;32m    414\u001b[0m         \u001b[0;34m:\u001b[0m\u001b[0mrtype\u001b[0m\u001b[0;34m:\u001b[0m\u001b[0;31m \u001b[0m\u001b[0;31m`\u001b[0m\u001b[0mlist\u001b[0m\u001b[0;31m`\u001b[0m \u001b[0mof\u001b[0m\u001b[0;31m \u001b[0m\u001b[0;31m`\u001b[0m\u001b[0mdict\u001b[0m\u001b[0;31m`\u001b[0m\u001b[0;34m\u001b[0m\u001b[0m\n\u001b[1;32m    415\u001b[0m         \"\"\"\n\u001b[0;32m--> 416\u001b[0;31m         \u001b[0;32mreturn\u001b[0m \u001b[0mself\u001b[0m\u001b[0;34m.\u001b[0m\u001b[0mbegin\u001b[0m\u001b[0;34m(\u001b[0m\u001b[0mautocommit\u001b[0m\u001b[0;34m=\u001b[0m\u001b[0;32mTrue\u001b[0m\u001b[0;34m)\u001b[0m\u001b[0;34m.\u001b[0m\u001b[0mrun\u001b[0m\u001b[0;34m(\u001b[0m\u001b[0mstatement\u001b[0m\u001b[0;34m,\u001b[0m \u001b[0mparameters\u001b[0m\u001b[0;34m,\u001b[0m \u001b[0;34m**\u001b[0m\u001b[0mkwparameters\u001b[0m\u001b[0;34m)\u001b[0m\u001b[0;34m.\u001b[0m\u001b[0mdata\u001b[0m\u001b[0;34m(\u001b[0m\u001b[0;34m)\u001b[0m\u001b[0;34m\u001b[0m\u001b[0m\n\u001b[0m\u001b[1;32m    417\u001b[0m \u001b[0;34m\u001b[0m\u001b[0m\n\u001b[1;32m    418\u001b[0m     \u001b[0;34m@\u001b[0m\u001b[0mproperty\u001b[0m\u001b[0;34m\u001b[0m\u001b[0m\n",
      "\u001b[0;32m/home/arinai/anaconda3/lib/python3.5/site-packages/py2neo/database/__init__.py\u001b[0m in \u001b[0;36mrun\u001b[0;34m(self, statement, parameters, **kwparameters)\u001b[0m\n\u001b[1;32m   1275\u001b[0m         \u001b[0mself\u001b[0m\u001b[0;34m.\u001b[0m\u001b[0msources\u001b[0m\u001b[0;34m.\u001b[0m\u001b[0mappend\u001b[0m\u001b[0;34m(\u001b[0m\u001b[0msource\u001b[0m\u001b[0;34m)\u001b[0m\u001b[0;34m\u001b[0m\u001b[0m\n\u001b[1;32m   1276\u001b[0m         \u001b[0;32mif\u001b[0m \u001b[0mself\u001b[0m\u001b[0;34m.\u001b[0m\u001b[0mautocommit\u001b[0m\u001b[0;34m:\u001b[0m\u001b[0;34m\u001b[0m\u001b[0m\n\u001b[0;32m-> 1277\u001b[0;31m             \u001b[0mself\u001b[0m\u001b[0;34m.\u001b[0m\u001b[0mfinish\u001b[0m\u001b[0;34m(\u001b[0m\u001b[0;34m)\u001b[0m\u001b[0;34m\u001b[0m\u001b[0m\n\u001b[0m\u001b[1;32m   1278\u001b[0m         \u001b[0;32mreturn\u001b[0m \u001b[0mCursor\u001b[0m\u001b[0;34m(\u001b[0m\u001b[0msource\u001b[0m\u001b[0;34m)\u001b[0m\u001b[0;34m\u001b[0m\u001b[0m\n\u001b[1;32m   1279\u001b[0m \u001b[0;34m\u001b[0m\u001b[0m\n",
      "\u001b[0;32m/home/arinai/anaconda3/lib/python3.5/site-packages/py2neo/database/__init__.py\u001b[0m in \u001b[0;36mfinish\u001b[0;34m(self)\u001b[0m\n\u001b[1;32m   1294\u001b[0m \u001b[0;34m\u001b[0m\u001b[0m\n\u001b[1;32m   1295\u001b[0m     \u001b[0;32mdef\u001b[0m \u001b[0mfinish\u001b[0m\u001b[0;34m(\u001b[0m\u001b[0mself\u001b[0m\u001b[0;34m)\u001b[0m\u001b[0;34m:\u001b[0m\u001b[0;34m\u001b[0m\u001b[0m\n\u001b[0;32m-> 1296\u001b[0;31m         \u001b[0mself\u001b[0m\u001b[0;34m.\u001b[0m\u001b[0m_sync\u001b[0m\u001b[0;34m(\u001b[0m\u001b[0;34m)\u001b[0m\u001b[0;34m\u001b[0m\u001b[0m\n\u001b[0m\u001b[1;32m   1297\u001b[0m         \u001b[0mTransaction\u001b[0m\u001b[0;34m.\u001b[0m\u001b[0mfinish\u001b[0m\u001b[0;34m(\u001b[0m\u001b[0mself\u001b[0m\u001b[0;34m)\u001b[0m\u001b[0;34m\u001b[0m\u001b[0m\n\u001b[1;32m   1298\u001b[0m         \u001b[0mself\u001b[0m\u001b[0;34m.\u001b[0m\u001b[0msession\u001b[0m\u001b[0;34m.\u001b[0m\u001b[0mclose\u001b[0m\u001b[0;34m(\u001b[0m\u001b[0;34m)\u001b[0m\u001b[0;34m\u001b[0m\u001b[0m\n",
      "\u001b[0;32m/home/arinai/anaconda3/lib/python3.5/site-packages/py2neo/database/__init__.py\u001b[0m in \u001b[0;36m_sync\u001b[0;34m(self)\u001b[0m\n\u001b[1;32m   1284\u001b[0m             \u001b[0msource\u001b[0m \u001b[0;34m=\u001b[0m \u001b[0mself\u001b[0m\u001b[0;34m.\u001b[0m\u001b[0msources\u001b[0m\u001b[0;34m.\u001b[0m\u001b[0mpop\u001b[0m\u001b[0;34m(\u001b[0m\u001b[0;36m0\u001b[0m\u001b[0;34m)\u001b[0m\u001b[0;34m\u001b[0m\u001b[0m\n\u001b[1;32m   1285\u001b[0m             \u001b[0;32mwhile\u001b[0m \u001b[0;32mnot\u001b[0m \u001b[0msource\u001b[0m\u001b[0;34m.\u001b[0m\u001b[0mloaded\u001b[0m\u001b[0;34m:\u001b[0m\u001b[0;34m\u001b[0m\u001b[0m\n\u001b[0;32m-> 1286\u001b[0;31m                 \u001b[0mconnection\u001b[0m\u001b[0;34m.\u001b[0m\u001b[0mfetch\u001b[0m\u001b[0;34m(\u001b[0m\u001b[0;34m)\u001b[0m\u001b[0;34m\u001b[0m\u001b[0m\n\u001b[0m\u001b[1;32m   1287\u001b[0m \u001b[0;34m\u001b[0m\u001b[0m\n\u001b[1;32m   1288\u001b[0m     \u001b[0;32mdef\u001b[0m \u001b[0m_post\u001b[0m\u001b[0;34m(\u001b[0m\u001b[0mself\u001b[0m\u001b[0;34m,\u001b[0m \u001b[0mcommit\u001b[0m\u001b[0;34m=\u001b[0m\u001b[0;32mFalse\u001b[0m\u001b[0;34m)\u001b[0m\u001b[0;34m:\u001b[0m\u001b[0;34m\u001b[0m\u001b[0m\n",
      "\u001b[0;32m/home/arinai/anaconda3/lib/python3.5/site-packages/py2neo/packages/neo4j/v1/bolt.py\u001b[0m in \u001b[0;36mfetch\u001b[0;34m(self)\u001b[0m\n\u001b[1;32m    320\u001b[0m         \u001b[0munpack\u001b[0m \u001b[0;34m=\u001b[0m \u001b[0mUnpacker\u001b[0m\u001b[0;34m(\u001b[0m\u001b[0mraw\u001b[0m\u001b[0;34m)\u001b[0m\u001b[0;34m.\u001b[0m\u001b[0munpack\u001b[0m\u001b[0;34m\u001b[0m\u001b[0m\n\u001b[1;32m    321\u001b[0m         \u001b[0;32mtry\u001b[0m\u001b[0;34m:\u001b[0m\u001b[0;34m\u001b[0m\u001b[0m\n\u001b[0;32m--> 322\u001b[0;31m             \u001b[0mraw\u001b[0m\u001b[0;34m.\u001b[0m\u001b[0mwritelines\u001b[0m\u001b[0;34m(\u001b[0m\u001b[0mself\u001b[0m\u001b[0;34m.\u001b[0m\u001b[0mchannel\u001b[0m\u001b[0;34m.\u001b[0m\u001b[0mchunk_reader\u001b[0m\u001b[0;34m(\u001b[0m\u001b[0;34m)\u001b[0m\u001b[0;34m)\u001b[0m\u001b[0;34m\u001b[0m\u001b[0m\n\u001b[0m\u001b[1;32m    323\u001b[0m         \u001b[0;32mexcept\u001b[0m \u001b[0mProtocolError\u001b[0m\u001b[0;34m:\u001b[0m\u001b[0;34m\u001b[0m\u001b[0m\n\u001b[1;32m    324\u001b[0m             \u001b[0mself\u001b[0m\u001b[0;34m.\u001b[0m\u001b[0mdefunct\u001b[0m \u001b[0;34m=\u001b[0m \u001b[0;32mTrue\u001b[0m\u001b[0;34m\u001b[0m\u001b[0m\n",
      "\u001b[0;32m/home/arinai/anaconda3/lib/python3.5/site-packages/py2neo/packages/neo4j/v1/bolt.py\u001b[0m in \u001b[0;36mchunk_reader\u001b[0;34m(self)\u001b[0m\n\u001b[1;32m    171\u001b[0m         \u001b[0mchunk_size\u001b[0m \u001b[0;34m=\u001b[0m \u001b[0;34m-\u001b[0m\u001b[0;36m1\u001b[0m\u001b[0;34m\u001b[0m\u001b[0m\n\u001b[1;32m    172\u001b[0m         \u001b[0;32mwhile\u001b[0m \u001b[0mchunk_size\u001b[0m \u001b[0;34m!=\u001b[0m \u001b[0;36m0\u001b[0m\u001b[0;34m:\u001b[0m\u001b[0;34m\u001b[0m\u001b[0m\n\u001b[0;32m--> 173\u001b[0;31m             \u001b[0mchunk_header\u001b[0m \u001b[0;34m=\u001b[0m \u001b[0mself\u001b[0m\u001b[0;34m.\u001b[0m\u001b[0m_recv\u001b[0m\u001b[0;34m(\u001b[0m\u001b[0;36m2\u001b[0m\u001b[0;34m)\u001b[0m\u001b[0;34m\u001b[0m\u001b[0m\n\u001b[0m\u001b[1;32m    174\u001b[0m             \u001b[0mchunk_size\u001b[0m\u001b[0;34m,\u001b[0m \u001b[0;34m=\u001b[0m \u001b[0mstruct_unpack_from\u001b[0m\u001b[0;34m(\u001b[0m\u001b[0;34m\">H\"\u001b[0m\u001b[0;34m,\u001b[0m \u001b[0mchunk_header\u001b[0m\u001b[0;34m)\u001b[0m\u001b[0;34m\u001b[0m\u001b[0m\n\u001b[1;32m    175\u001b[0m             \u001b[0;32mif\u001b[0m \u001b[0mchunk_size\u001b[0m \u001b[0;34m>\u001b[0m \u001b[0;36m0\u001b[0m\u001b[0;34m:\u001b[0m\u001b[0;34m\u001b[0m\u001b[0m\n",
      "\u001b[0;32m/home/arinai/anaconda3/lib/python3.5/site-packages/py2neo/packages/neo4j/v1/bolt.py\u001b[0m in \u001b[0;36m_recv\u001b[0;34m(self, size)\u001b[0m\n\u001b[1;32m    154\u001b[0m             \u001b[0;32melse\u001b[0m\u001b[0;34m:\u001b[0m\u001b[0;34m\u001b[0m\u001b[0m\n\u001b[1;32m    155\u001b[0m                 \u001b[0;32mif\u001b[0m \u001b[0mready_to_read\u001b[0m \u001b[0;32mis\u001b[0m \u001b[0;32mnot\u001b[0m \u001b[0;32mNone\u001b[0m\u001b[0;34m:\u001b[0m\u001b[0;34m\u001b[0m\u001b[0m\n\u001b[0;32m--> 156\u001b[0;31m                     \u001b[0;32mraise\u001b[0m \u001b[0mProtocolError\u001b[0m\u001b[0;34m(\u001b[0m\u001b[0;34m\"Server closed connection\"\u001b[0m\u001b[0;34m)\u001b[0m\u001b[0;34m\u001b[0m\u001b[0m\n\u001b[0m\u001b[1;32m    157\u001b[0m             \u001b[0mremaining\u001b[0m \u001b[0;34m-=\u001b[0m \u001b[0mlen\u001b[0m\u001b[0;34m(\u001b[0m\u001b[0mb\u001b[0m\u001b[0;34m)\u001b[0m\u001b[0;34m\u001b[0m\u001b[0m\n\u001b[1;32m    158\u001b[0m             \u001b[0mself\u001b[0m\u001b[0;34m.\u001b[0m\u001b[0m_recv_buffer\u001b[0m \u001b[0;34m+=\u001b[0m \u001b[0mb\u001b[0m\u001b[0;34m\u001b[0m\u001b[0m\n",
      "\u001b[0;31mProtocolError\u001b[0m: Server closed connection"
     ]
    }
   ],
   "source": [
    "query_test = \"\"\"\n",
    "    LOAD CSV FROM {myfilepath} AS row\n",
    "    FIELDTERMINATOR '\\t'\n",
    "    return row[0], row[1], split(row[0], '-')[1], toInteger(row[3])\n",
    "    limit 10\n",
    "    ;\n",
    "    \"\"\"\n",
    "\n",
    "test = graph.data(query_test, myfilepath=str(fp))\n",
    "pd.DataFrame(test)"
   ]
  },
  {
   "cell_type": "code",
   "execution_count": null,
   "metadata": {
    "collapsed": true
   },
   "outputs": [],
   "source": [
    "# Let's load article-to-article links and 'other' referer types (all referers here are Wiki articles)\n",
    "# (it's faster to load nodes and relationships separately for large data files)\n",
    "# nodes\n",
    "query_nodes = \"\"\"\n",
    "    USING PERIODIC COMMIT\n",
    "    LOAD CSV FROM {myfilepath} AS row\n",
    "    FIELDTERMINATOR '\\t'\n",
    "    WITH row\n",
    "    FOREACH (_ IN CASE WHEN row[2] <> 'external' THEN [1] else [] end |\n",
    "        MERGE (n1:Article { title: row[0] })\n",
    "        MERGE (n2:Article { title: row[1] })\n",
    "    )\n",
    "    FOREACH (_ IN CASE WHEN row[2] = 'external' THEN [1] else [] end |\n",
    "        MERGE (n3:Article { title: row[1] })\n",
    "            ON CREATE SET\n",
    "                n3.external_source = split(row[0], '-')[1]\n",
    "                n3.external_traffic = toInteger(row[3])\n",
    "    )\n",
    "    ;\n",
    "    \"\"\"\n",
    "\n",
    "graph.run(query_nodes, myfilepath=str(fp))"
   ]
  },
  {
   "cell_type": "code",
   "execution_count": null,
   "metadata": {
    "collapsed": true
   },
   "outputs": [],
   "source": [
    "def import_wiki_to_neo(filename):\n",
    "    \n",
    "    # note: by default, neo4j only imports data from its own import subfolder or from a url,\n",
    "    # so make sure to place the cleaned data into the neo4j import folder.\n",
    "    fp = 'file:///' + filename\n",
    "    \n",
    "\n",
    "    \n",
    "    \n",
    "    \"\"\"\n",
    "    LOAD CSV FROM {url} AS row\n",
    "MATCH (o:Organization {name:row.org})\n",
    "FOREACH (_ IN case when row.type = 'Person' then [1] else [] end|\n",
    "   MERGE (p:Person {name:row.name})\n",
    "   CREATE (p)-[:WORKS_FOR]->(o)\n",
    ")\n",
    "FOREACH (_ IN case when row.type = 'Agency' then [1] else [] end|\n",
    "   MERGE (a:Agency {name:row.name})\n",
    "   CREATE (a)-[:WORKS_FOR]->(o)\n",
    ")\n",
    "    \"\"\"\n",
    "    \n",
    "    \n",
    "    graph.run(query_nodes_internal, myfilepath=str(fp))\n",
    "\n",
    "    # relationships - internal\n",
    "    query_relationships_internal = \"\"\"\n",
    "    USING PERIODIC COMMIT\n",
    "    LOAD CSV FROM {myfilepath} AS row\n",
    "    FIELDTERMINATOR '\\t'\n",
    "    WITH row\n",
    "    WHERE row[2] <> 'external'\n",
    "    MATCH (n1:Article { title: row[0] })\n",
    "    MATCH (n2:Article { title: row[1] })\n",
    "    MERGE (n1)-[r:REFERRED_TO]->(n2)\n",
    "        ON CREATE SET\n",
    "            r.type = row[2],\n",
    "            r.count = row[3]\n",
    "    ;\n",
    "    \"\"\"\n",
    "    graph.run(query_relationships_internal, myfilepath=str(fp))\n",
    "\n",
    "    # nodes - external\n",
    "    query_nodes_external = \"\"\"\n",
    "    USING PERIODIC COMMIT\n",
    "    LOAD CSV FROM {myfilepath} AS row\n",
    "    FIELDTERMINATOR '\\t'\n",
    "    WITH row\n",
    "    WHERE row[2] = 'external'\n",
    "    MERGE (n1:ExternalSource {source_type: row[0], language_code: {lang_code} })\n",
    "        ON CREATE SET\n",
    "            n1.language = {lang},\n",
    "            n1.description = CASE \n",
    "                WHEN row[0] = 'other-internal' THEN 'a page from any other Wikimedia project (not Wikipedia)'\n",
    "                WHEN row[0] = 'other-search' THEN 'an external search engine'\n",
    "                WHEN row[0] = 'other-external' THEN 'any other external site (not search engine)'\n",
    "                WHEN row[0] = 'other-empty' THEN 'an empty referer'\n",
    "                WHEN row[0] = 'other-other' THEN 'anything else (catch-all)'\n",
    "                ELSE '' END\n",
    "\n",
    "    MERGE (n2:Article {title: row[1], language_code: {lang_code} })\n",
    "        ON CREATE SET\n",
    "            n2.language = {lang}\n",
    "    ;\n",
    "    \"\"\"\n",
    "    graph.run(query_nodes_external, myfilepath=str(fp), lang=str(language), lang_code=str(language_code))\n",
    "\n",
    "    # relationships - external\n",
    "    query_relationships_external = \"\"\"\n",
    "    USING PERIODIC COMMIT\n",
    "    LOAD CSV FROM {myfilepath} AS row\n",
    "    FIELDTERMINATOR '\\t'\n",
    "    WITH row\n",
    "    WHERE row[2] = 'external'\n",
    "    MATCH (n1:ExternalSource {source_type: row[0], language_code: {lang_code} })\n",
    "    MATCH (n2:Article {title: row[1], language_code: {lang_code} })\n",
    "    MERGE (n1)-[r:REFERRED_TO]->(n2)\n",
    "        ON CREATE SET\n",
    "            r.type = row[2],\n",
    "            r.count = row[3]\n",
    "    ;\n",
    "    \"\"\"\n",
    "    graph.run(query_relationships_external, myfilepath=str(fp), lang=str(language), lang_code=str(language_code))"
   ]
  },
  {
   "cell_type": "code",
   "execution_count": null,
   "metadata": {
    "collapsed": true
   },
   "outputs": [],
   "source": []
  },
  {
   "cell_type": "code",
   "execution_count": null,
   "metadata": {
    "collapsed": true
   },
   "outputs": [],
   "source": []
  },
  {
   "cell_type": "code",
   "execution_count": null,
   "metadata": {
    "collapsed": true
   },
   "outputs": [],
   "source": []
  },
  {
   "cell_type": "code",
   "execution_count": null,
   "metadata": {
    "collapsed": true
   },
   "outputs": [],
   "source": []
  },
  {
   "cell_type": "code",
   "execution_count": null,
   "metadata": {
    "collapsed": true
   },
   "outputs": [],
   "source": []
  },
  {
   "cell_type": "code",
   "execution_count": 4,
   "metadata": {
    "collapsed": true
   },
   "outputs": [],
   "source": [
    "# Replace the false missing value NaNs with string \"NaN\"s\n",
    "df['prev'] = df['prev'].fillna('NaN')\n",
    "df['curr'] = df['curr'].fillna('NaN')"
   ]
  },
  {
   "cell_type": "code",
   "execution_count": 5,
   "metadata": {
    "collapsed": true
   },
   "outputs": [],
   "source": [
    "df.sort_values(\"n\", ascending=False, inplace=True)"
   ]
  },
  {
   "cell_type": "code",
   "execution_count": 6,
   "metadata": {
    "collapsed": false
   },
   "outputs": [
    {
     "data": {
      "text/html": [
       "<div>\n",
       "<style scoped>\n",
       "    .dataframe tbody tr th:only-of-type {\n",
       "        vertical-align: middle;\n",
       "    }\n",
       "\n",
       "    .dataframe tbody tr th {\n",
       "        vertical-align: top;\n",
       "    }\n",
       "\n",
       "    .dataframe thead th {\n",
       "        text-align: right;\n",
       "    }\n",
       "</style>\n",
       "<table border=\"1\" class=\"dataframe\">\n",
       "  <thead>\n",
       "    <tr style=\"text-align: right;\">\n",
       "      <th></th>\n",
       "      <th>prev</th>\n",
       "      <th>curr</th>\n",
       "      <th>type</th>\n",
       "      <th>n</th>\n",
       "    </tr>\n",
       "  </thead>\n",
       "  <tbody>\n",
       "    <tr>\n",
       "      <th>7908180</th>\n",
       "      <td>other-empty</td>\n",
       "      <td>Main_Page</td>\n",
       "      <td>external</td>\n",
       "      <td>492341152</td>\n",
       "    </tr>\n",
       "    <tr>\n",
       "      <th>772288</th>\n",
       "      <td>other-external</td>\n",
       "      <td>Hyphen-minus</td>\n",
       "      <td>external</td>\n",
       "      <td>17676430</td>\n",
       "    </tr>\n",
       "    <tr>\n",
       "      <th>765759</th>\n",
       "      <td>other-empty</td>\n",
       "      <td>Hyphen-minus</td>\n",
       "      <td>external</td>\n",
       "      <td>15498618</td>\n",
       "    </tr>\n",
       "    <tr>\n",
       "      <th>7831692</th>\n",
       "      <td>other-internal</td>\n",
       "      <td>Main_Page</td>\n",
       "      <td>external</td>\n",
       "      <td>8826536</td>\n",
       "    </tr>\n",
       "    <tr>\n",
       "      <th>21252458</th>\n",
       "      <td>other-search</td>\n",
       "      <td>George_H._W._Bush</td>\n",
       "      <td>external</td>\n",
       "      <td>4576854</td>\n",
       "    </tr>\n",
       "    <tr>\n",
       "      <th>3488262</th>\n",
       "      <td>other-empty</td>\n",
       "      <td>XHamster</td>\n",
       "      <td>external</td>\n",
       "      <td>4281194</td>\n",
       "    </tr>\n",
       "    <tr>\n",
       "      <th>23951757</th>\n",
       "      <td>other-search</td>\n",
       "      <td>Jason_Momoa</td>\n",
       "      <td>external</td>\n",
       "      <td>3538068</td>\n",
       "    </tr>\n",
       "    <tr>\n",
       "      <th>18403529</th>\n",
       "      <td>other-search</td>\n",
       "      <td>2.0_(film)</td>\n",
       "      <td>external</td>\n",
       "      <td>3475113</td>\n",
       "    </tr>\n",
       "    <tr>\n",
       "      <th>1830737</th>\n",
       "      <td>other-search</td>\n",
       "      <td>Bird_Box_(film)</td>\n",
       "      <td>external</td>\n",
       "      <td>3251996</td>\n",
       "    </tr>\n",
       "    <tr>\n",
       "      <th>7897786</th>\n",
       "      <td>other-search</td>\n",
       "      <td>Main_Page</td>\n",
       "      <td>external</td>\n",
       "      <td>3020671</td>\n",
       "    </tr>\n",
       "  </tbody>\n",
       "</table>\n",
       "</div>"
      ],
      "text/plain": [
       "                    prev               curr      type          n\n",
       "7908180      other-empty          Main_Page  external  492341152\n",
       "772288    other-external       Hyphen-minus  external   17676430\n",
       "765759       other-empty       Hyphen-minus  external   15498618\n",
       "7831692   other-internal          Main_Page  external    8826536\n",
       "21252458    other-search  George_H._W._Bush  external    4576854\n",
       "3488262      other-empty           XHamster  external    4281194\n",
       "23951757    other-search        Jason_Momoa  external    3538068\n",
       "18403529    other-search         2.0_(film)  external    3475113\n",
       "1830737     other-search    Bird_Box_(film)  external    3251996\n",
       "7897786     other-search          Main_Page  external    3020671"
      ]
     },
     "execution_count": 6,
     "metadata": {},
     "output_type": "execute_result"
    }
   ],
   "source": [
    "df.head(10)"
   ]
  },
  {
   "cell_type": "code",
   "execution_count": null,
   "metadata": {
    "collapsed": true
   },
   "outputs": [],
   "source": []
  }
 ],
 "metadata": {
  "anaconda-cloud": {},
  "kernelspec": {
   "display_name": "Python [default]",
   "language": "python",
   "name": "python3"
  },
  "language_info": {
   "codemirror_mode": {
    "name": "ipython",
    "version": 3
   },
   "file_extension": ".py",
   "mimetype": "text/x-python",
   "name": "python",
   "nbconvert_exporter": "python",
   "pygments_lexer": "ipython3",
   "version": "3.5.2"
  }
 },
 "nbformat": 4,
 "nbformat_minor": 2
}
