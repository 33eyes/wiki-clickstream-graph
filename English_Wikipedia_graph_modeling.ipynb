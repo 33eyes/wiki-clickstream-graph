{
 "cells": [
  {
   "cell_type": "markdown",
   "metadata": {},
   "source": [
    "# Exploring Wikipedia clickstream data: the English Wiki in December 2018    \n",
    "\n",
    "## Graph modeling"
   ]
  },
  {
   "cell_type": "markdown",
   "metadata": {},
   "source": [
    "### 1. Introduction  \n",
    "This notebook contains graph modeling steps for the English Wikipedia clickstream dataset for December 2018. It is a part of my project about the usage patterns of Wikipedia across language domains and over time.  \n"
   ]
  },
  {
   "cell_type": "markdown",
   "metadata": {},
   "source": [
    "### 2. Notebook setup  "
   ]
  },
  {
   "cell_type": "markdown",
   "metadata": {},
   "source": [
    "#### Imports"
   ]
  },
  {
   "cell_type": "code",
   "execution_count": 1,
   "metadata": {},
   "outputs": [],
   "source": [
    "import pandas as pd\n",
    "import numpy as np"
   ]
  },
  {
   "cell_type": "markdown",
   "metadata": {},
   "source": [
    "#### Settings"
   ]
  },
  {
   "cell_type": "code",
   "execution_count": 2,
   "metadata": {},
   "outputs": [],
   "source": [
    "# set up Pandas options\n",
    "pd.set_option('display.max_columns', 25)\n",
    "pd.set_option('display.max_rows', 100)\n",
    "pd.set_option('display.precision', 3)\n",
    "pd.options.display.float_format = '{:.2f}'.format"
   ]
  },
  {
   "cell_type": "markdown",
   "metadata": {},
   "source": [
    "#### Helper functions"
   ]
  },
  {
   "cell_type": "code",
   "execution_count": null,
   "metadata": {},
   "outputs": [],
   "source": []
  },
  {
   "cell_type": "markdown",
   "metadata": {},
   "source": [
    "#### Read in, clean and check the data"
   ]
  },
  {
   "cell_type": "code",
   "execution_count": 7,
   "metadata": {},
   "outputs": [],
   "source": [
    "# Get the cleaned tsv data onto AWS from my local machine\n"
   ]
  },
  {
   "cell_type": "code",
   "execution_count": 8,
   "metadata": {},
   "outputs": [],
   "source": [
    "# Print the head of the tsv file"
   ]
  },
  {
   "cell_type": "code",
   "execution_count": 3,
   "metadata": {},
   "outputs": [],
   "source": [
    "# Read the cleaned up EN clickstream tsv file into neo4j\n",
    "neo4j_data_folder = \"\"\n",
    "file_name = \"clickstream-enwiki-2018-12_clean.tsv\"\n",
    "filepath = neo4j_data_folder + file_name\n",
    "\n"
   ]
  },
  {
   "cell_type": "code",
   "execution_count": 4,
   "metadata": {},
   "outputs": [],
   "source": [
    "# Replace the false missing value NaNs with string \"NaN\"s\n",
    "df['prev'] = df['prev'].fillna('NaN')\n",
    "df['curr'] = df['curr'].fillna('NaN')"
   ]
  },
  {
   "cell_type": "code",
   "execution_count": 5,
   "metadata": {},
   "outputs": [],
   "source": [
    "df.sort_values(\"n\", ascending=False, inplace=True)"
   ]
  },
  {
   "cell_type": "code",
   "execution_count": 6,
   "metadata": {},
   "outputs": [
    {
     "data": {
      "text/html": [
       "<div>\n",
       "<style scoped>\n",
       "    .dataframe tbody tr th:only-of-type {\n",
       "        vertical-align: middle;\n",
       "    }\n",
       "\n",
       "    .dataframe tbody tr th {\n",
       "        vertical-align: top;\n",
       "    }\n",
       "\n",
       "    .dataframe thead th {\n",
       "        text-align: right;\n",
       "    }\n",
       "</style>\n",
       "<table border=\"1\" class=\"dataframe\">\n",
       "  <thead>\n",
       "    <tr style=\"text-align: right;\">\n",
       "      <th></th>\n",
       "      <th>prev</th>\n",
       "      <th>curr</th>\n",
       "      <th>type</th>\n",
       "      <th>n</th>\n",
       "    </tr>\n",
       "  </thead>\n",
       "  <tbody>\n",
       "    <tr>\n",
       "      <th>7908180</th>\n",
       "      <td>other-empty</td>\n",
       "      <td>Main_Page</td>\n",
       "      <td>external</td>\n",
       "      <td>492341152</td>\n",
       "    </tr>\n",
       "    <tr>\n",
       "      <th>772288</th>\n",
       "      <td>other-external</td>\n",
       "      <td>Hyphen-minus</td>\n",
       "      <td>external</td>\n",
       "      <td>17676430</td>\n",
       "    </tr>\n",
       "    <tr>\n",
       "      <th>765759</th>\n",
       "      <td>other-empty</td>\n",
       "      <td>Hyphen-minus</td>\n",
       "      <td>external</td>\n",
       "      <td>15498618</td>\n",
       "    </tr>\n",
       "    <tr>\n",
       "      <th>7831692</th>\n",
       "      <td>other-internal</td>\n",
       "      <td>Main_Page</td>\n",
       "      <td>external</td>\n",
       "      <td>8826536</td>\n",
       "    </tr>\n",
       "    <tr>\n",
       "      <th>21252458</th>\n",
       "      <td>other-search</td>\n",
       "      <td>George_H._W._Bush</td>\n",
       "      <td>external</td>\n",
       "      <td>4576854</td>\n",
       "    </tr>\n",
       "    <tr>\n",
       "      <th>3488262</th>\n",
       "      <td>other-empty</td>\n",
       "      <td>XHamster</td>\n",
       "      <td>external</td>\n",
       "      <td>4281194</td>\n",
       "    </tr>\n",
       "    <tr>\n",
       "      <th>23951757</th>\n",
       "      <td>other-search</td>\n",
       "      <td>Jason_Momoa</td>\n",
       "      <td>external</td>\n",
       "      <td>3538068</td>\n",
       "    </tr>\n",
       "    <tr>\n",
       "      <th>18403529</th>\n",
       "      <td>other-search</td>\n",
       "      <td>2.0_(film)</td>\n",
       "      <td>external</td>\n",
       "      <td>3475113</td>\n",
       "    </tr>\n",
       "    <tr>\n",
       "      <th>1830737</th>\n",
       "      <td>other-search</td>\n",
       "      <td>Bird_Box_(film)</td>\n",
       "      <td>external</td>\n",
       "      <td>3251996</td>\n",
       "    </tr>\n",
       "    <tr>\n",
       "      <th>7897786</th>\n",
       "      <td>other-search</td>\n",
       "      <td>Main_Page</td>\n",
       "      <td>external</td>\n",
       "      <td>3020671</td>\n",
       "    </tr>\n",
       "  </tbody>\n",
       "</table>\n",
       "</div>"
      ],
      "text/plain": [
       "                    prev               curr      type          n\n",
       "7908180      other-empty          Main_Page  external  492341152\n",
       "772288    other-external       Hyphen-minus  external   17676430\n",
       "765759       other-empty       Hyphen-minus  external   15498618\n",
       "7831692   other-internal          Main_Page  external    8826536\n",
       "21252458    other-search  George_H._W._Bush  external    4576854\n",
       "3488262      other-empty           XHamster  external    4281194\n",
       "23951757    other-search        Jason_Momoa  external    3538068\n",
       "18403529    other-search         2.0_(film)  external    3475113\n",
       "1830737     other-search    Bird_Box_(film)  external    3251996\n",
       "7897786     other-search          Main_Page  external    3020671"
      ]
     },
     "execution_count": 6,
     "metadata": {},
     "output_type": "execute_result"
    }
   ],
   "source": [
    "df.head(10)"
   ]
  },
  {
   "cell_type": "code",
   "execution_count": null,
   "metadata": {},
   "outputs": [],
   "source": []
  }
 ],
 "metadata": {
  "kernelspec": {
   "display_name": "Python 3",
   "language": "python",
   "name": "python3"
  },
  "language_info": {
   "codemirror_mode": {
    "name": "ipython",
    "version": 3
   },
   "file_extension": ".py",
   "mimetype": "text/x-python",
   "name": "python",
   "nbconvert_exporter": "python",
   "pygments_lexer": "ipython3",
   "version": "3.7.2"
  }
 },
 "nbformat": 4,
 "nbformat_minor": 2
}
